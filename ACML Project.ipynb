{
 "cells": [
  {
   "cell_type": "code",
   "execution_count": 1,
   "id": "f4cebee9-bc82-48c3-a480-1c865b8580ce",
   "metadata": {},
   "outputs": [],
   "source": [
    "import warnings\n",
    "warnings.filterwarnings('ignore')\n",
    "import pandas as pd\n",
    "import numpy as np\n",
    "import matplotlib.pyplot as plt\n",
    "%matplotlib inline\n",
    "import seaborn as sns\n",
    "import math\n",
    "from sklearn.ensemble import RandomForestClassifier\n",
    "from sklearn.linear_model import LogisticRegression,SGDClassifier,Perceptron\n",
    "from sklearn import tree\n",
    "#from sklearn.linear_model import Perceptron\n",
    "#from sklearn.linear_model import SGDClassifier\n",
    "from sklearn.model_selection import cross_val_score,GridSearchCV\n",
    "from sklearn.metrics import accuracy_score, classification_report,confusion_matrix,ConfusionMatrixDisplay\n",
    "from sklearn.preprocessing import StandardScaler"
   ]
  },
  {
   "cell_type": "code",
   "execution_count": 2,
   "id": "4d83e576-cf20-48b0-8ecf-0d54e73f28b9",
   "metadata": {},
   "outputs": [
    {
     "data": {
      "text/html": [
       "<div>\n",
       "<style scoped>\n",
       "    .dataframe tbody tr th:only-of-type {\n",
       "        vertical-align: middle;\n",
       "    }\n",
       "\n",
       "    .dataframe tbody tr th {\n",
       "        vertical-align: top;\n",
       "    }\n",
       "\n",
       "    .dataframe thead th {\n",
       "        text-align: right;\n",
       "    }\n",
       "</style>\n",
       "<table border=\"1\" class=\"dataframe\">\n",
       "  <thead>\n",
       "    <tr style=\"text-align: right;\">\n",
       "      <th></th>\n",
       "      <th>PassengerId</th>\n",
       "      <th>Survived</th>\n",
       "      <th>Pclass</th>\n",
       "      <th>Name</th>\n",
       "      <th>Sex</th>\n",
       "      <th>Age</th>\n",
       "      <th>SibSp</th>\n",
       "      <th>Parch</th>\n",
       "      <th>Ticket</th>\n",
       "      <th>Fare</th>\n",
       "      <th>Cabin</th>\n",
       "      <th>Embarked</th>\n",
       "    </tr>\n",
       "  </thead>\n",
       "  <tbody>\n",
       "    <tr>\n",
       "      <th>0</th>\n",
       "      <td>1</td>\n",
       "      <td>0</td>\n",
       "      <td>3</td>\n",
       "      <td>Braund, Mr. Owen Harris</td>\n",
       "      <td>male</td>\n",
       "      <td>22.0</td>\n",
       "      <td>1</td>\n",
       "      <td>0</td>\n",
       "      <td>A/5 21171</td>\n",
       "      <td>7.2500</td>\n",
       "      <td>NaN</td>\n",
       "      <td>S</td>\n",
       "    </tr>\n",
       "    <tr>\n",
       "      <th>1</th>\n",
       "      <td>2</td>\n",
       "      <td>1</td>\n",
       "      <td>1</td>\n",
       "      <td>Cumings, Mrs. John Bradley (Florence Briggs Th...</td>\n",
       "      <td>female</td>\n",
       "      <td>38.0</td>\n",
       "      <td>1</td>\n",
       "      <td>0</td>\n",
       "      <td>PC 17599</td>\n",
       "      <td>71.2833</td>\n",
       "      <td>C85</td>\n",
       "      <td>C</td>\n",
       "    </tr>\n",
       "    <tr>\n",
       "      <th>2</th>\n",
       "      <td>3</td>\n",
       "      <td>1</td>\n",
       "      <td>3</td>\n",
       "      <td>Heikkinen, Miss. Laina</td>\n",
       "      <td>female</td>\n",
       "      <td>26.0</td>\n",
       "      <td>0</td>\n",
       "      <td>0</td>\n",
       "      <td>STON/O2. 3101282</td>\n",
       "      <td>7.9250</td>\n",
       "      <td>NaN</td>\n",
       "      <td>S</td>\n",
       "    </tr>\n",
       "    <tr>\n",
       "      <th>3</th>\n",
       "      <td>4</td>\n",
       "      <td>1</td>\n",
       "      <td>1</td>\n",
       "      <td>Futrelle, Mrs. Jacques Heath (Lily May Peel)</td>\n",
       "      <td>female</td>\n",
       "      <td>35.0</td>\n",
       "      <td>1</td>\n",
       "      <td>0</td>\n",
       "      <td>113803</td>\n",
       "      <td>53.1000</td>\n",
       "      <td>C123</td>\n",
       "      <td>S</td>\n",
       "    </tr>\n",
       "    <tr>\n",
       "      <th>4</th>\n",
       "      <td>5</td>\n",
       "      <td>0</td>\n",
       "      <td>3</td>\n",
       "      <td>Allen, Mr. William Henry</td>\n",
       "      <td>male</td>\n",
       "      <td>35.0</td>\n",
       "      <td>0</td>\n",
       "      <td>0</td>\n",
       "      <td>373450</td>\n",
       "      <td>8.0500</td>\n",
       "      <td>NaN</td>\n",
       "      <td>S</td>\n",
       "    </tr>\n",
       "    <tr>\n",
       "      <th>5</th>\n",
       "      <td>6</td>\n",
       "      <td>0</td>\n",
       "      <td>3</td>\n",
       "      <td>Moran, Mr. James</td>\n",
       "      <td>male</td>\n",
       "      <td>NaN</td>\n",
       "      <td>0</td>\n",
       "      <td>0</td>\n",
       "      <td>330877</td>\n",
       "      <td>8.4583</td>\n",
       "      <td>NaN</td>\n",
       "      <td>Q</td>\n",
       "    </tr>\n",
       "    <tr>\n",
       "      <th>6</th>\n",
       "      <td>7</td>\n",
       "      <td>0</td>\n",
       "      <td>1</td>\n",
       "      <td>McCarthy, Mr. Timothy J</td>\n",
       "      <td>male</td>\n",
       "      <td>54.0</td>\n",
       "      <td>0</td>\n",
       "      <td>0</td>\n",
       "      <td>17463</td>\n",
       "      <td>51.8625</td>\n",
       "      <td>E46</td>\n",
       "      <td>S</td>\n",
       "    </tr>\n",
       "    <tr>\n",
       "      <th>7</th>\n",
       "      <td>8</td>\n",
       "      <td>0</td>\n",
       "      <td>3</td>\n",
       "      <td>Palsson, Master. Gosta Leonard</td>\n",
       "      <td>male</td>\n",
       "      <td>2.0</td>\n",
       "      <td>3</td>\n",
       "      <td>1</td>\n",
       "      <td>349909</td>\n",
       "      <td>21.0750</td>\n",
       "      <td>NaN</td>\n",
       "      <td>S</td>\n",
       "    </tr>\n",
       "    <tr>\n",
       "      <th>8</th>\n",
       "      <td>9</td>\n",
       "      <td>1</td>\n",
       "      <td>3</td>\n",
       "      <td>Johnson, Mrs. Oscar W (Elisabeth Vilhelmina Berg)</td>\n",
       "      <td>female</td>\n",
       "      <td>27.0</td>\n",
       "      <td>0</td>\n",
       "      <td>2</td>\n",
       "      <td>347742</td>\n",
       "      <td>11.1333</td>\n",
       "      <td>NaN</td>\n",
       "      <td>S</td>\n",
       "    </tr>\n",
       "    <tr>\n",
       "      <th>9</th>\n",
       "      <td>10</td>\n",
       "      <td>1</td>\n",
       "      <td>2</td>\n",
       "      <td>Nasser, Mrs. Nicholas (Adele Achem)</td>\n",
       "      <td>female</td>\n",
       "      <td>14.0</td>\n",
       "      <td>1</td>\n",
       "      <td>0</td>\n",
       "      <td>237736</td>\n",
       "      <td>30.0708</td>\n",
       "      <td>NaN</td>\n",
       "      <td>C</td>\n",
       "    </tr>\n",
       "  </tbody>\n",
       "</table>\n",
       "</div>"
      ],
      "text/plain": [
       "   PassengerId  Survived  Pclass  \\\n",
       "0            1         0       3   \n",
       "1            2         1       1   \n",
       "2            3         1       3   \n",
       "3            4         1       1   \n",
       "4            5         0       3   \n",
       "5            6         0       3   \n",
       "6            7         0       1   \n",
       "7            8         0       3   \n",
       "8            9         1       3   \n",
       "9           10         1       2   \n",
       "\n",
       "                                                Name     Sex   Age  SibSp  \\\n",
       "0                            Braund, Mr. Owen Harris    male  22.0      1   \n",
       "1  Cumings, Mrs. John Bradley (Florence Briggs Th...  female  38.0      1   \n",
       "2                             Heikkinen, Miss. Laina  female  26.0      0   \n",
       "3       Futrelle, Mrs. Jacques Heath (Lily May Peel)  female  35.0      1   \n",
       "4                           Allen, Mr. William Henry    male  35.0      0   \n",
       "5                                   Moran, Mr. James    male   NaN      0   \n",
       "6                            McCarthy, Mr. Timothy J    male  54.0      0   \n",
       "7                     Palsson, Master. Gosta Leonard    male   2.0      3   \n",
       "8  Johnson, Mrs. Oscar W (Elisabeth Vilhelmina Berg)  female  27.0      0   \n",
       "9                Nasser, Mrs. Nicholas (Adele Achem)  female  14.0      1   \n",
       "\n",
       "   Parch            Ticket     Fare Cabin Embarked  \n",
       "0      0         A/5 21171   7.2500   NaN        S  \n",
       "1      0          PC 17599  71.2833   C85        C  \n",
       "2      0  STON/O2. 3101282   7.9250   NaN        S  \n",
       "3      0            113803  53.1000  C123        S  \n",
       "4      0            373450   8.0500   NaN        S  \n",
       "5      0            330877   8.4583   NaN        Q  \n",
       "6      0             17463  51.8625   E46        S  \n",
       "7      1            349909  21.0750   NaN        S  \n",
       "8      2            347742  11.1333   NaN        S  \n",
       "9      0            237736  30.0708   NaN        C  "
      ]
     },
     "execution_count": 2,
     "metadata": {},
     "output_type": "execute_result"
    }
   ],
   "source": [
    "#Use data from train.csv for training and testing datasets\n",
    "#test.csv doesn't contain ground-truth labels so we wouldn't be able to determine testing accuracy from it\n",
    "dataset = pd.read_csv('train.csv')\n",
    "dataset.head(10)"
   ]
  },
  {
   "cell_type": "code",
   "execution_count": 3,
   "id": "a6819a4f-5908-4a42-b767-58db1e831db8",
   "metadata": {},
   "outputs": [
    {
     "name": "stdout",
     "output_type": "stream",
     "text": [
      "(891, 12)\n"
     ]
    },
    {
     "data": {
      "text/html": [
       "<div>\n",
       "<style scoped>\n",
       "    .dataframe tbody tr th:only-of-type {\n",
       "        vertical-align: middle;\n",
       "    }\n",
       "\n",
       "    .dataframe tbody tr th {\n",
       "        vertical-align: top;\n",
       "    }\n",
       "\n",
       "    .dataframe thead th {\n",
       "        text-align: right;\n",
       "    }\n",
       "</style>\n",
       "<table border=\"1\" class=\"dataframe\">\n",
       "  <thead>\n",
       "    <tr style=\"text-align: right;\">\n",
       "      <th></th>\n",
       "      <th>PassengerId</th>\n",
       "      <th>Survived</th>\n",
       "      <th>Pclass</th>\n",
       "      <th>Name</th>\n",
       "      <th>Sex</th>\n",
       "      <th>Age</th>\n",
       "      <th>SibSp</th>\n",
       "      <th>Parch</th>\n",
       "      <th>Ticket</th>\n",
       "      <th>Fare</th>\n",
       "      <th>Cabin</th>\n",
       "      <th>Embarked</th>\n",
       "    </tr>\n",
       "  </thead>\n",
       "  <tbody>\n",
       "    <tr>\n",
       "      <th>0</th>\n",
       "      <td>1</td>\n",
       "      <td>0</td>\n",
       "      <td>3</td>\n",
       "      <td>Braund, Mr. Owen Harris</td>\n",
       "      <td>male</td>\n",
       "      <td>22.0</td>\n",
       "      <td>1</td>\n",
       "      <td>0</td>\n",
       "      <td>A/5 21171</td>\n",
       "      <td>7.2500</td>\n",
       "      <td>NaN</td>\n",
       "      <td>S</td>\n",
       "    </tr>\n",
       "    <tr>\n",
       "      <th>1</th>\n",
       "      <td>2</td>\n",
       "      <td>1</td>\n",
       "      <td>1</td>\n",
       "      <td>Cumings, Mrs. John Bradley (Florence Briggs Th...</td>\n",
       "      <td>female</td>\n",
       "      <td>38.0</td>\n",
       "      <td>1</td>\n",
       "      <td>0</td>\n",
       "      <td>PC 17599</td>\n",
       "      <td>71.2833</td>\n",
       "      <td>C85</td>\n",
       "      <td>C</td>\n",
       "    </tr>\n",
       "    <tr>\n",
       "      <th>2</th>\n",
       "      <td>3</td>\n",
       "      <td>1</td>\n",
       "      <td>3</td>\n",
       "      <td>Heikkinen, Miss. Laina</td>\n",
       "      <td>female</td>\n",
       "      <td>26.0</td>\n",
       "      <td>0</td>\n",
       "      <td>0</td>\n",
       "      <td>STON/O2. 3101282</td>\n",
       "      <td>7.9250</td>\n",
       "      <td>NaN</td>\n",
       "      <td>S</td>\n",
       "    </tr>\n",
       "    <tr>\n",
       "      <th>3</th>\n",
       "      <td>4</td>\n",
       "      <td>1</td>\n",
       "      <td>1</td>\n",
       "      <td>Futrelle, Mrs. Jacques Heath (Lily May Peel)</td>\n",
       "      <td>female</td>\n",
       "      <td>35.0</td>\n",
       "      <td>1</td>\n",
       "      <td>0</td>\n",
       "      <td>113803</td>\n",
       "      <td>53.1000</td>\n",
       "      <td>C123</td>\n",
       "      <td>S</td>\n",
       "    </tr>\n",
       "    <tr>\n",
       "      <th>4</th>\n",
       "      <td>5</td>\n",
       "      <td>0</td>\n",
       "      <td>3</td>\n",
       "      <td>Allen, Mr. William Henry</td>\n",
       "      <td>male</td>\n",
       "      <td>35.0</td>\n",
       "      <td>0</td>\n",
       "      <td>0</td>\n",
       "      <td>373450</td>\n",
       "      <td>8.0500</td>\n",
       "      <td>NaN</td>\n",
       "      <td>S</td>\n",
       "    </tr>\n",
       "  </tbody>\n",
       "</table>\n",
       "</div>"
      ],
      "text/plain": [
       "   PassengerId  Survived  Pclass  \\\n",
       "0            1         0       3   \n",
       "1            2         1       1   \n",
       "2            3         1       3   \n",
       "3            4         1       1   \n",
       "4            5         0       3   \n",
       "\n",
       "                                                Name     Sex   Age  SibSp  \\\n",
       "0                            Braund, Mr. Owen Harris    male  22.0      1   \n",
       "1  Cumings, Mrs. John Bradley (Florence Briggs Th...  female  38.0      1   \n",
       "2                             Heikkinen, Miss. Laina  female  26.0      0   \n",
       "3       Futrelle, Mrs. Jacques Heath (Lily May Peel)  female  35.0      1   \n",
       "4                           Allen, Mr. William Henry    male  35.0      0   \n",
       "\n",
       "   Parch            Ticket     Fare Cabin Embarked  \n",
       "0      0         A/5 21171   7.2500   NaN        S  \n",
       "1      0          PC 17599  71.2833   C85        C  \n",
       "2      0  STON/O2. 3101282   7.9250   NaN        S  \n",
       "3      0            113803  53.1000  C123        S  \n",
       "4      0            373450   8.0500   NaN        S  "
      ]
     },
     "execution_count": 3,
     "metadata": {},
     "output_type": "execute_result"
    }
   ],
   "source": [
    "print(dataset.shape)\n",
    "dataset.head()"
   ]
  },
  {
   "cell_type": "code",
   "execution_count": 4,
   "id": "f892a4b1-08b5-4b64-b00c-34f9517a4b41",
   "metadata": {},
   "outputs": [
    {
     "data": {
      "text/plain": [
       "PassengerId      0\n",
       "Survived         0\n",
       "Pclass           0\n",
       "Name             0\n",
       "Sex              0\n",
       "Age            177\n",
       "SibSp            0\n",
       "Parch            0\n",
       "Ticket           0\n",
       "Fare             0\n",
       "Cabin          687\n",
       "Embarked         2\n",
       "dtype: int64"
      ]
     },
     "execution_count": 4,
     "metadata": {},
     "output_type": "execute_result"
    }
   ],
   "source": [
    "dataset.isnull().sum()"
   ]
  },
  {
   "cell_type": "code",
   "execution_count": 5,
   "id": "19fcaaff-6760-4424-a389-a05dff2dc924",
   "metadata": {},
   "outputs": [
    {
     "data": {
      "text/plain": [
       "PassengerId      0\n",
       "Survived         0\n",
       "Pclass           0\n",
       "Name             0\n",
       "Sex              0\n",
       "Age            177\n",
       "SibSp            0\n",
       "Parch            0\n",
       "Ticket           0\n",
       "Fare             0\n",
       "Cabin          687\n",
       "Embarked         2\n",
       "dtype: int64"
      ]
     },
     "execution_count": 5,
     "metadata": {},
     "output_type": "execute_result"
    }
   ],
   "source": [
    "dataset.isnull().sum()"
   ]
  },
  {
   "cell_type": "code",
   "execution_count": 6,
   "id": "5f616a3d-58fc-4c5b-877b-fb877604096a",
   "metadata": {},
   "outputs": [
    {
     "data": {
      "text/plain": [
       "PassengerId      int64\n",
       "Survived         int64\n",
       "Pclass           int64\n",
       "Name            object\n",
       "Sex             object\n",
       "Age            float64\n",
       "SibSp            int64\n",
       "Parch            int64\n",
       "Ticket          object\n",
       "Fare           float64\n",
       "Cabin           object\n",
       "Embarked        object\n",
       "dtype: object"
      ]
     },
     "execution_count": 6,
     "metadata": {},
     "output_type": "execute_result"
    }
   ],
   "source": [
    "dataset.dtypes"
   ]
  },
  {
   "cell_type": "code",
   "execution_count": 7,
   "id": "e492b5a5",
   "metadata": {},
   "outputs": [
    {
     "data": {
      "text/plain": [
       "<AxesSubplot:>"
      ]
     },
     "execution_count": 7,
     "metadata": {},
     "output_type": "execute_result"
    },
    {
     "data": {
      "image/png": "[encoded data removed]",
      "text/plain": [
       "<Figure size 432x288 with 2 Axes>"
      ]
     },
     "metadata": {
      "needs_background": "light"
     },
     "output_type": "display_data"
    }
   ],
   "source": [
    "sns.heatmap(dataset.corr(),annot=True)"
   ]
  },
  {
   "cell_type": "code",
   "execution_count": 8,
   "id": "e89d29f0-6b27-42e0-96c2-096420870ef9",
   "metadata": {},
   "outputs": [
    {
     "data": {
      "text/plain": [
       "<AxesSubplot:>"
      ]
     },
     "execution_count": 8,
     "metadata": {},
     "output_type": "execute_result"
    },
    {
     "data": {
      "image/png": "[encoded data removed]",
      "text/plain": [
       "<Figure size 432x288 with 2 Axes>"
      ]
     },
     "metadata": {
      "needs_background": "light"
     },
     "output_type": "display_data"
    }
   ],
   "source": [
    "sns.heatmap(dataset.corr(),annot=True)"
   ]
  },
  {
   "cell_type": "code",
   "execution_count": 9,
   "id": "18a5e96d-6dac-4e9e-86c2-174f1ef8547d",
   "metadata": {},
   "outputs": [
    {
     "data": {
      "image/png": "[encoded data removed]",
      "text/plain": [
       "<Figure size 1080x360 with 2 Axes>"
      ]
     },
     "metadata": {
      "needs_background": "light"
     },
     "output_type": "display_data"
    }
   ],
   "source": [
    "f,ax = plt.subplots(1,2,figsize=(15,5))\n",
    "f.suptitle('Who is likely to survive?')\n",
    "sns.countplot(x='Sex',hue='Survived',data=dataset,ax=ax[0])\n",
    "sns.countplot(x='Pclass',hue='Survived',data=dataset,ax=ax[1])\n",
    "plt.show()"
   ]
  },
  {
   "cell_type": "markdown",
   "id": "4d1a645f-eb38-413d-aaf7-93f472312e14",
   "metadata": {},
   "source": [
    "- The first plot shows that the female is more likely to survive than male.\n",
    "- The second plot shows that individuals in the first class are more likely to survive than other classes."
   ]
  },
  {
   "cell_type": "markdown",
   "id": "5fb66a8f-a6a6-4678-a6c6-e9d20dc27f40",
   "metadata": {},
   "source": [
    "## Filling in missing values"
   ]
  },
  {
   "cell_type": "markdown",
   "id": "e731271a-5f69-4dfa-a35b-559a60202fc2",
   "metadata": {},
   "source": [
    "### Cabin\n",
    "\n",
    "The deck was determined by the letter in the cabin. We will group the cabins based on the deck they are on. For all the missing values, we will fill in U for unknown."
   ]
  },
  {
   "cell_type": "code",
   "execution_count": 10,
   "id": "622990c9-c082-4c6a-a2b6-45d8d739d818",
   "metadata": {},
   "outputs": [
    {
     "name": "stdout",
     "output_type": "stream",
     "text": [
      "number of unique cabins: 147 and number of missing cabins: 687\n"
     ]
    }
   ],
   "source": [
    "print('number of unique cabins: '+str(dataset['Cabin'].nunique())+ ' and number of missing cabins: '+ str(dataset['Cabin'].isnull().sum()))"
   ]
  },
  {
   "cell_type": "code",
   "execution_count": 11,
   "id": "b877bd9e-8bfb-4fe2-b27b-4c835c4dc94b",
   "metadata": {},
   "outputs": [],
   "source": [
    "dataset['deck'] = dataset['Cabin'].apply(lambda x: x[0] if pd.notnull(x) else 'U')"
   ]
  },
  {
   "cell_type": "code",
   "execution_count": 12,
   "id": "2459a7eb-2e8b-41c9-9e35-91d6859d5019",
   "metadata": {},
   "outputs": [
    {
     "data": {
      "text/plain": [
       "Text(0.5, 1.0, 'Survival rates by deck')"
      ]
     },
     "execution_count": 12,
     "metadata": {},
     "output_type": "execute_result"
    },
    {
     "data": {
      "image/png": "[encoded data removed]",
      "text/plain": [
       "<Figure size 720x360 with 1 Axes>"
      ]
     },
     "metadata": {
      "needs_background": "light"
     },
     "output_type": "display_data"
    }
   ],
   "source": [
    "# then let's check our assumptions about the survival by deck\n",
    "dataset[['deck', 'Survived']].groupby('deck')['Survived'].mean().plot(kind='bar',figsize=(10,5))\n",
    "plt.title('Survival rates by deck')\n"
   ]
  },
  {
   "cell_type": "code",
   "execution_count": 13,
   "id": "848db6d3",
   "metadata": {},
   "outputs": [
    {
     "data": {
      "text/plain": [
       "U    687\n",
       "C     59\n",
       "B     47\n",
       "D     33\n",
       "E     32\n",
       "A     15\n",
       "F     13\n",
       "G      4\n",
       "T      1\n",
       "Name: deck, dtype: int64"
      ]
     },
     "execution_count": 13,
     "metadata": {},
     "output_type": "execute_result"
    }
   ],
   "source": [
    "dataset['deck'].value_counts()"
   ]
  },
  {
   "cell_type": "code",
   "execution_count": 14,
   "id": "a9fa954d",
   "metadata": {},
   "outputs": [],
   "source": [
    "dataset.loc[dataset['deck'] == 'T', 'deck'] = 'U'"
   ]
  },
  {
   "cell_type": "code",
   "execution_count": 15,
   "id": "6cf745d5",
   "metadata": {},
   "outputs": [
    {
     "data": {
      "text/html": [
       "<div>\n",
       "<style scoped>\n",
       "    .dataframe tbody tr th:only-of-type {\n",
       "        vertical-align: middle;\n",
       "    }\n",
       "\n",
       "    .dataframe tbody tr th {\n",
       "        vertical-align: top;\n",
       "    }\n",
       "\n",
       "    .dataframe thead th {\n",
       "        text-align: right;\n",
       "    }\n",
       "</style>\n",
       "<table border=\"1\" class=\"dataframe\">\n",
       "  <thead>\n",
       "    <tr style=\"text-align: right;\">\n",
       "      <th></th>\n",
       "      <th>PassengerId</th>\n",
       "      <th>Survived</th>\n",
       "      <th>Pclass</th>\n",
       "      <th>Name</th>\n",
       "      <th>Sex</th>\n",
       "      <th>Age</th>\n",
       "      <th>SibSp</th>\n",
       "      <th>Parch</th>\n",
       "      <th>Ticket</th>\n",
       "      <th>Fare</th>\n",
       "      <th>Cabin</th>\n",
       "      <th>Embarked</th>\n",
       "      <th>deck</th>\n",
       "    </tr>\n",
       "  </thead>\n",
       "  <tbody>\n",
       "    <tr>\n",
       "      <th>0</th>\n",
       "      <td>1</td>\n",
       "      <td>0</td>\n",
       "      <td>3</td>\n",
       "      <td>Braund, Mr. Owen Harris</td>\n",
       "      <td>male</td>\n",
       "      <td>22.0</td>\n",
       "      <td>1</td>\n",
       "      <td>0</td>\n",
       "      <td>A/5 21171</td>\n",
       "      <td>7.2500</td>\n",
       "      <td>NaN</td>\n",
       "      <td>S</td>\n",
       "      <td>U</td>\n",
       "    </tr>\n",
       "    <tr>\n",
       "      <th>1</th>\n",
       "      <td>2</td>\n",
       "      <td>1</td>\n",
       "      <td>1</td>\n",
       "      <td>Cumings, Mrs. John Bradley (Florence Briggs Th...</td>\n",
       "      <td>female</td>\n",
       "      <td>38.0</td>\n",
       "      <td>1</td>\n",
       "      <td>0</td>\n",
       "      <td>PC 17599</td>\n",
       "      <td>71.2833</td>\n",
       "      <td>C85</td>\n",
       "      <td>C</td>\n",
       "      <td>C</td>\n",
       "    </tr>\n",
       "    <tr>\n",
       "      <th>2</th>\n",
       "      <td>3</td>\n",
       "      <td>1</td>\n",
       "      <td>3</td>\n",
       "      <td>Heikkinen, Miss. Laina</td>\n",
       "      <td>female</td>\n",
       "      <td>26.0</td>\n",
       "      <td>0</td>\n",
       "      <td>0</td>\n",
       "      <td>STON/O2. 3101282</td>\n",
       "      <td>7.9250</td>\n",
       "      <td>NaN</td>\n",
       "      <td>S</td>\n",
       "      <td>U</td>\n",
       "    </tr>\n",
       "    <tr>\n",
       "      <th>3</th>\n",
       "      <td>4</td>\n",
       "      <td>1</td>\n",
       "      <td>1</td>\n",
       "      <td>Futrelle, Mrs. Jacques Heath (Lily May Peel)</td>\n",
       "      <td>female</td>\n",
       "      <td>35.0</td>\n",
       "      <td>1</td>\n",
       "      <td>0</td>\n",
       "      <td>113803</td>\n",
       "      <td>53.1000</td>\n",
       "      <td>C123</td>\n",
       "      <td>S</td>\n",
       "      <td>C</td>\n",
       "    </tr>\n",
       "    <tr>\n",
       "      <th>4</th>\n",
       "      <td>5</td>\n",
       "      <td>0</td>\n",
       "      <td>3</td>\n",
       "      <td>Allen, Mr. William Henry</td>\n",
       "      <td>male</td>\n",
       "      <td>35.0</td>\n",
       "      <td>0</td>\n",
       "      <td>0</td>\n",
       "      <td>373450</td>\n",
       "      <td>8.0500</td>\n",
       "      <td>NaN</td>\n",
       "      <td>S</td>\n",
       "      <td>U</td>\n",
       "    </tr>\n",
       "    <tr>\n",
       "      <th>...</th>\n",
       "      <td>...</td>\n",
       "      <td>...</td>\n",
       "      <td>...</td>\n",
       "      <td>...</td>\n",
       "      <td>...</td>\n",
       "      <td>...</td>\n",
       "      <td>...</td>\n",
       "      <td>...</td>\n",
       "      <td>...</td>\n",
       "      <td>...</td>\n",
       "      <td>...</td>\n",
       "      <td>...</td>\n",
       "      <td>...</td>\n",
       "    </tr>\n",
       "    <tr>\n",
       "      <th>886</th>\n",
       "      <td>887</td>\n",
       "      <td>0</td>\n",
       "      <td>2</td>\n",
       "      <td>Montvila, Rev. Juozas</td>\n",
       "      <td>male</td>\n",
       "      <td>27.0</td>\n",
       "      <td>0</td>\n",
       "      <td>0</td>\n",
       "      <td>211536</td>\n",
       "      <td>13.0000</td>\n",
       "      <td>NaN</td>\n",
       "      <td>S</td>\n",
       "      <td>U</td>\n",
       "    </tr>\n",
       "    <tr>\n",
       "      <th>887</th>\n",
       "      <td>888</td>\n",
       "      <td>1</td>\n",
       "      <td>1</td>\n",
       "      <td>Graham, Miss. Margaret Edith</td>\n",
       "      <td>female</td>\n",
       "      <td>19.0</td>\n",
       "      <td>0</td>\n",
       "      <td>0</td>\n",
       "      <td>112053</td>\n",
       "      <td>30.0000</td>\n",
       "      <td>B42</td>\n",
       "      <td>S</td>\n",
       "      <td>B</td>\n",
       "    </tr>\n",
       "    <tr>\n",
       "      <th>888</th>\n",
       "      <td>889</td>\n",
       "      <td>0</td>\n",
       "      <td>3</td>\n",
       "      <td>Johnston, Miss. Catherine Helen \"Carrie\"</td>\n",
       "      <td>female</td>\n",
       "      <td>NaN</td>\n",
       "      <td>1</td>\n",
       "      <td>2</td>\n",
       "      <td>W./C. 6607</td>\n",
       "      <td>23.4500</td>\n",
       "      <td>NaN</td>\n",
       "      <td>S</td>\n",
       "      <td>U</td>\n",
       "    </tr>\n",
       "    <tr>\n",
       "      <th>889</th>\n",
       "      <td>890</td>\n",
       "      <td>1</td>\n",
       "      <td>1</td>\n",
       "      <td>Behr, Mr. Karl Howell</td>\n",
       "      <td>male</td>\n",
       "      <td>26.0</td>\n",
       "      <td>0</td>\n",
       "      <td>0</td>\n",
       "      <td>111369</td>\n",
       "      <td>30.0000</td>\n",
       "      <td>C148</td>\n",
       "      <td>C</td>\n",
       "      <td>C</td>\n",
       "    </tr>\n",
       "    <tr>\n",
       "      <th>890</th>\n",
       "      <td>891</td>\n",
       "      <td>0</td>\n",
       "      <td>3</td>\n",
       "      <td>Dooley, Mr. Patrick</td>\n",
       "      <td>male</td>\n",
       "      <td>32.0</td>\n",
       "      <td>0</td>\n",
       "      <td>0</td>\n",
       "      <td>370376</td>\n",
       "      <td>7.7500</td>\n",
       "      <td>NaN</td>\n",
       "      <td>Q</td>\n",
       "      <td>U</td>\n",
       "    </tr>\n",
       "  </tbody>\n",
       "</table>\n",
       "<p>891 rows × 13 columns</p>\n",
       "</div>"
      ],
      "text/plain": [
       "     PassengerId  Survived  Pclass  \\\n",
       "0              1         0       3   \n",
       "1              2         1       1   \n",
       "2              3         1       3   \n",
       "3              4         1       1   \n",
       "4              5         0       3   \n",
       "..           ...       ...     ...   \n",
       "886          887         0       2   \n",
       "887          888         1       1   \n",
       "888          889         0       3   \n",
       "889          890         1       1   \n",
       "890          891         0       3   \n",
       "\n",
       "                                                  Name     Sex   Age  SibSp  \\\n",
       "0                              Braund, Mr. Owen Harris    male  22.0      1   \n",
       "1    Cumings, Mrs. John Bradley (Florence Briggs Th...  female  38.0      1   \n",
       "2                               Heikkinen, Miss. Laina  female  26.0      0   \n",
       "3         Futrelle, Mrs. Jacques Heath (Lily May Peel)  female  35.0      1   \n",
       "4                             Allen, Mr. William Henry    male  35.0      0   \n",
       "..                                                 ...     ...   ...    ...   \n",
       "886                              Montvila, Rev. Juozas    male  27.0      0   \n",
       "887                       Graham, Miss. Margaret Edith  female  19.0      0   \n",
       "888           Johnston, Miss. Catherine Helen \"Carrie\"  female   NaN      1   \n",
       "889                              Behr, Mr. Karl Howell    male  26.0      0   \n",
       "890                                Dooley, Mr. Patrick    male  32.0      0   \n",
       "\n",
       "     Parch            Ticket     Fare Cabin Embarked deck  \n",
       "0        0         A/5 21171   7.2500   NaN        S    U  \n",
       "1        0          PC 17599  71.2833   C85        C    C  \n",
       "2        0  STON/O2. 3101282   7.9250   NaN        S    U  \n",
       "3        0            113803  53.1000  C123        S    C  \n",
       "4        0            373450   8.0500   NaN        S    U  \n",
       "..     ...               ...      ...   ...      ...  ...  \n",
       "886      0            211536  13.0000   NaN        S    U  \n",
       "887      0            112053  30.0000   B42        S    B  \n",
       "888      2        W./C. 6607  23.4500   NaN        S    U  \n",
       "889      0            111369  30.0000  C148        C    C  \n",
       "890      0            370376   7.7500   NaN        Q    U  \n",
       "\n",
       "[891 rows x 13 columns]"
      ]
     },
     "execution_count": 15,
     "metadata": {},
     "output_type": "execute_result"
    }
   ],
   "source": [
    "dataset"
   ]
  },
  {
   "cell_type": "markdown",
   "id": "7f18f787-a214-4e20-914f-52d7a2156734",
   "metadata": {},
   "source": [
    "### Age\n",
    "\n",
    "- We are to check how age affects the survival rate.\n",
    "- Based on the heatmap, there is a correlation between age and Pclass.\n",
    "- We can also check if age makes a difference based on gender. \n"
   ]
  },
  {
   "cell_type": "code",
   "execution_count": 16,
   "id": "d194563e-6018-46b2-b193-41c071767fe8",
   "metadata": {},
   "outputs": [
    {
     "data": {
      "text/plain": [
       "<AxesSubplot:xlabel='Age', ylabel='Density'>"
      ]
     },
     "execution_count": 16,
     "metadata": {},
     "output_type": "execute_result"
    },
    {
     "data": {
      "image/png": "[encoded data removed]",
      "text/plain": [
       "<Figure size 1440x504 with 3 Axes>"
      ]
     },
     "metadata": {
      "needs_background": "light"
     },
     "output_type": "display_data"
    }
   ],
   "source": [
    "f,ax= plt.subplots(1,3,figsize=(20,7),sharey=True)\n",
    "sns.kdeplot(x='Age',data=dataset,hue='Survived',palette='bright',ax=ax[0])\n",
    "sns.kdeplot(x='Age',data=dataset,hue='Pclass',palette='bright',ax=ax[1])\n",
    "sns.kdeplot(x='Age',data=dataset,hue='Sex',palette='bright' ,ax=ax[2])\n",
    "\n"
   ]
  },
  {
   "cell_type": "markdown",
   "id": "147ffc44-76c6-4c46-aed6-d38b5925e69b",
   "metadata": {},
   "source": [
    "- The first plot shows that people between the ages 20 and 40 survived more than the rest.\n",
    "- The second plot shows that people in the first class are slightly older than the other classes.\n",
    "- The third plot shows that there are differences in age based on sex. We can say age is correlated to sex.\n",
    "\n",
    "With this said, we cannot use the overall mean/median to fill in all the missing values. We will take into account the sex and class of each individual, so using the mean/median per category might be better approach."
   ]
  },
  {
   "cell_type": "code",
   "execution_count": 17,
   "id": "a7714d72-c396-446d-a32b-a070184813b4",
   "metadata": {},
   "outputs": [
    {
     "name": "stdout",
     "output_type": "stream",
     "text": [
      "number of missing ages: 177\n"
     ]
    }
   ],
   "source": [
    "print('number of missing ages: '+str(dataset['Age'].isnull().sum()))"
   ]
  },
  {
   "cell_type": "code",
   "execution_count": 18,
   "id": "29f6de79",
   "metadata": {},
   "outputs": [
    {
     "data": {
      "text/plain": [
       "<AxesSubplot:xlabel='Pclass', ylabel='Age'>"
      ]
     },
     "execution_count": 18,
     "metadata": {},
     "output_type": "execute_result"
    },
    {
     "data": {
      "image/png": "[encoded data removed]",
      "text/plain": [
       "<Figure size 720x504 with 1 Axes>"
      ]
     },
     "metadata": {
      "needs_background": "light"
     },
     "output_type": "display_data"
    }
   ],
   "source": [
    "plt.figure(figsize=(10,7))\n",
    "sns.boxplot(x='Pclass',y='Age',hue='Sex',data=dataset)"
   ]
  },
  {
   "cell_type": "code",
   "execution_count": 19,
   "id": "ec24f5ca-68ca-4766-8cb8-5772b1274308",
   "metadata": {},
   "outputs": [],
   "source": [
    "#There is an age difference between the ages of difreent classes and sex within the dataset\n",
    "dataset['Age'] = dataset.groupby(['Sex','Pclass'])['Age'].apply(lambda x: x.fillna(x.median()))"
   ]
  },
  {
   "cell_type": "markdown",
   "id": "85c13954-3d00-4a8d-9846-e685a011c313",
   "metadata": {},
   "source": [
    "### Embarked"
   ]
  },
  {
   "cell_type": "code",
   "execution_count": 20,
   "id": "7453b572-6fdc-4ba6-b249-09b4ca90f2c9",
   "metadata": {},
   "outputs": [
    {
     "data": {
      "text/plain": [
       "<AxesSubplot:xlabel='Embarked', ylabel='count'>"
      ]
     },
     "execution_count": 20,
     "metadata": {},
     "output_type": "execute_result"
    },
    {
     "data": {
      "image/png": "[encoded data removed]",
      "text/plain": [
       "<Figure size 432x288 with 1 Axes>"
      ]
     },
     "metadata": {
      "needs_background": "light"
     },
     "output_type": "display_data"
    }
   ],
   "source": [
    "sns.countplot(x='Embarked',data=dataset)"
   ]
  },
  {
   "cell_type": "code",
   "execution_count": 21,
   "id": "e81d4543-cf16-4831-b44b-63ba79640687",
   "metadata": {},
   "outputs": [
    {
     "name": "stdout",
     "output_type": "stream",
     "text": [
      "The number of missing values for Embarked port: 2\n"
     ]
    },
    {
     "data": {
      "text/html": [
       "<div>\n",
       "<style scoped>\n",
       "    .dataframe tbody tr th:only-of-type {\n",
       "        vertical-align: middle;\n",
       "    }\n",
       "\n",
       "    .dataframe tbody tr th {\n",
       "        vertical-align: top;\n",
       "    }\n",
       "\n",
       "    .dataframe thead th {\n",
       "        text-align: right;\n",
       "    }\n",
       "</style>\n",
       "<table border=\"1\" class=\"dataframe\">\n",
       "  <thead>\n",
       "    <tr style=\"text-align: right;\">\n",
       "      <th></th>\n",
       "      <th>PassengerId</th>\n",
       "      <th>Survived</th>\n",
       "      <th>Pclass</th>\n",
       "      <th>Name</th>\n",
       "      <th>Sex</th>\n",
       "      <th>Age</th>\n",
       "      <th>SibSp</th>\n",
       "      <th>Parch</th>\n",
       "      <th>Ticket</th>\n",
       "      <th>Fare</th>\n",
       "      <th>Cabin</th>\n",
       "      <th>Embarked</th>\n",
       "      <th>deck</th>\n",
       "    </tr>\n",
       "  </thead>\n",
       "  <tbody>\n",
       "    <tr>\n",
       "      <th>61</th>\n",
       "      <td>62</td>\n",
       "      <td>1</td>\n",
       "      <td>1</td>\n",
       "      <td>Icard, Miss. Amelie</td>\n",
       "      <td>female</td>\n",
       "      <td>38.0</td>\n",
       "      <td>0</td>\n",
       "      <td>0</td>\n",
       "      <td>113572</td>\n",
       "      <td>80.0</td>\n",
       "      <td>B28</td>\n",
       "      <td>NaN</td>\n",
       "      <td>B</td>\n",
       "    </tr>\n",
       "    <tr>\n",
       "      <th>829</th>\n",
       "      <td>830</td>\n",
       "      <td>1</td>\n",
       "      <td>1</td>\n",
       "      <td>Stone, Mrs. George Nelson (Martha Evelyn)</td>\n",
       "      <td>female</td>\n",
       "      <td>62.0</td>\n",
       "      <td>0</td>\n",
       "      <td>0</td>\n",
       "      <td>113572</td>\n",
       "      <td>80.0</td>\n",
       "      <td>B28</td>\n",
       "      <td>NaN</td>\n",
       "      <td>B</td>\n",
       "    </tr>\n",
       "  </tbody>\n",
       "</table>\n",
       "</div>"
      ],
      "text/plain": [
       "     PassengerId  Survived  Pclass                                       Name  \\\n",
       "61            62         1       1                        Icard, Miss. Amelie   \n",
       "829          830         1       1  Stone, Mrs. George Nelson (Martha Evelyn)   \n",
       "\n",
       "        Sex   Age  SibSp  Parch  Ticket  Fare Cabin Embarked deck  \n",
       "61   female  38.0      0      0  113572  80.0   B28      NaN    B  \n",
       "829  female  62.0      0      0  113572  80.0   B28      NaN    B  "
      ]
     },
     "execution_count": 21,
     "metadata": {},
     "output_type": "execute_result"
    }
   ],
   "source": [
    "print('The number of missing values for Embarked port: '+str(dataset['Embarked'].isnull().sum()))\n",
    "dataset[dataset['Embarked'].isnull()]\n",
    "\n"
   ]
  },
  {
   "cell_type": "markdown",
   "id": "aa0e013a-d1ab-42c2-9369-63e37c93101a",
   "metadata": {},
   "source": [
    "The most common port is S (SouthHamptons). So we will use this port to fill in the missing ports."
   ]
  },
  {
   "cell_type": "code",
   "execution_count": 22,
   "id": "efbc687d-868a-4ac2-b4f0-721b507fa3d9",
   "metadata": {},
   "outputs": [],
   "source": [
    "dataset['Embarked']=dataset['Embarked'].fillna(value='S')"
   ]
  },
  {
   "cell_type": "markdown",
   "id": "49314106-44e9-455d-9186-cb8f58d529eb",
   "metadata": {},
   "source": [
    "### Fare\n",
    "\n",
    "We will fill in the missing fare value based on the class and port embarked."
   ]
  },
  {
   "cell_type": "code",
   "execution_count": 23,
   "id": "778b0976-f62e-4776-8051-af3c20b44ffd",
   "metadata": {},
   "outputs": [
    {
     "data": {
      "text/html": [
       "<div>\n",
       "<style scoped>\n",
       "    .dataframe tbody tr th:only-of-type {\n",
       "        vertical-align: middle;\n",
       "    }\n",
       "\n",
       "    .dataframe tbody tr th {\n",
       "        vertical-align: top;\n",
       "    }\n",
       "\n",
       "    .dataframe thead th {\n",
       "        text-align: right;\n",
       "    }\n",
       "</style>\n",
       "<table border=\"1\" class=\"dataframe\">\n",
       "  <thead>\n",
       "    <tr style=\"text-align: right;\">\n",
       "      <th></th>\n",
       "      <th>PassengerId</th>\n",
       "      <th>Survived</th>\n",
       "      <th>Pclass</th>\n",
       "      <th>Name</th>\n",
       "      <th>Sex</th>\n",
       "      <th>Age</th>\n",
       "      <th>SibSp</th>\n",
       "      <th>Parch</th>\n",
       "      <th>Ticket</th>\n",
       "      <th>Fare</th>\n",
       "      <th>Cabin</th>\n",
       "      <th>Embarked</th>\n",
       "      <th>deck</th>\n",
       "    </tr>\n",
       "  </thead>\n",
       "  <tbody>\n",
       "  </tbody>\n",
       "</table>\n",
       "</div>"
      ],
      "text/plain": [
       "Empty DataFrame\n",
       "Columns: [PassengerId, Survived, Pclass, Name, Sex, Age, SibSp, Parch, Ticket, Fare, Cabin, Embarked, deck]\n",
       "Index: []"
      ]
     },
     "execution_count": 23,
     "metadata": {},
     "output_type": "execute_result"
    }
   ],
   "source": [
    "dataset[dataset['Fare'].isnull()]"
   ]
  },
  {
   "cell_type": "code",
   "execution_count": 24,
   "id": "72f77477-b808-4003-819f-1e7210f4007e",
   "metadata": {},
   "outputs": [],
   "source": [
    "x = dataset[(dataset['Pclass']=='3')& (dataset['Embarked']=='S')]['Fare'].median()\n",
    "dataset['Fare']= dataset['Fare'].fillna(x)"
   ]
  },
  {
   "cell_type": "markdown",
   "id": "d1a813c3-1e02-4775-afac-1c27bc4e1f83",
   "metadata": {},
   "source": [
    "## Feature Engineering"
   ]
  },
  {
   "cell_type": "markdown",
   "id": "f39c5764-fe5f-4083-bf35-ac9818694c86",
   "metadata": {},
   "source": [
    "### Name"
   ]
  },
  {
   "cell_type": "markdown",
   "id": "27c0a8ae-d38b-4b2c-ad09-a33b5b30aebe",
   "metadata": {},
   "source": [
    "We can extract the title from the name feature and form categories based on the titles."
   ]
  },
  {
   "cell_type": "code",
   "execution_count": 25,
   "id": "d13e849e-0f5a-4f27-b8da-1aeb687d742f",
   "metadata": {},
   "outputs": [],
   "source": [
    "dataset['Title'] = dataset['Name'].apply(lambda x: x.split(',')[1].split('.')[0].strip())\n"
   ]
  },
  {
   "cell_type": "code",
   "execution_count": 26,
   "id": "16e5e96c-83cb-4ccb-8191-496a2b2a0376",
   "metadata": {},
   "outputs": [
    {
     "data": {
      "text/plain": [
       "<AxesSubplot:xlabel='Title', ylabel='count'>"
      ]
     },
     "execution_count": 26,
     "metadata": {},
     "output_type": "execute_result"
    },
    {
     "data": {
      "image/png": "[encoded data removed]",
      "text/plain": [
       "<Figure size 720x360 with 1 Axes>"
      ]
     },
     "metadata": {
      "needs_background": "light"
     },
     "output_type": "display_data"
    }
   ],
   "source": [
    "plt.figure(figsize=(10,5))\n",
    "sns.countplot(x='Title',data=dataset)\n",
    "\n"
   ]
  },
  {
   "cell_type": "code",
   "execution_count": 27,
   "id": "7dbbac18",
   "metadata": {},
   "outputs": [
    {
     "data": {
      "text/html": [
       "<div>\n",
       "<style scoped>\n",
       "    .dataframe tbody tr th:only-of-type {\n",
       "        vertical-align: middle;\n",
       "    }\n",
       "\n",
       "    .dataframe tbody tr th {\n",
       "        vertical-align: top;\n",
       "    }\n",
       "\n",
       "    .dataframe thead th {\n",
       "        text-align: right;\n",
       "    }\n",
       "</style>\n",
       "<table border=\"1\" class=\"dataframe\">\n",
       "  <thead>\n",
       "    <tr style=\"text-align: right;\">\n",
       "      <th></th>\n",
       "      <th>PassengerId</th>\n",
       "      <th>Survived</th>\n",
       "      <th>Pclass</th>\n",
       "      <th>Name</th>\n",
       "      <th>Sex</th>\n",
       "      <th>Age</th>\n",
       "      <th>SibSp</th>\n",
       "      <th>Parch</th>\n",
       "      <th>Ticket</th>\n",
       "      <th>Fare</th>\n",
       "      <th>Cabin</th>\n",
       "      <th>Embarked</th>\n",
       "      <th>deck</th>\n",
       "      <th>Title</th>\n",
       "    </tr>\n",
       "  </thead>\n",
       "  <tbody>\n",
       "    <tr>\n",
       "      <th>0</th>\n",
       "      <td>1</td>\n",
       "      <td>0</td>\n",
       "      <td>3</td>\n",
       "      <td>Braund, Mr. Owen Harris</td>\n",
       "      <td>male</td>\n",
       "      <td>22.0</td>\n",
       "      <td>1</td>\n",
       "      <td>0</td>\n",
       "      <td>A/5 21171</td>\n",
       "      <td>7.2500</td>\n",
       "      <td>NaN</td>\n",
       "      <td>S</td>\n",
       "      <td>U</td>\n",
       "      <td>Mr</td>\n",
       "    </tr>\n",
       "    <tr>\n",
       "      <th>1</th>\n",
       "      <td>2</td>\n",
       "      <td>1</td>\n",
       "      <td>1</td>\n",
       "      <td>Cumings, Mrs. John Bradley (Florence Briggs Th...</td>\n",
       "      <td>female</td>\n",
       "      <td>38.0</td>\n",
       "      <td>1</td>\n",
       "      <td>0</td>\n",
       "      <td>PC 17599</td>\n",
       "      <td>71.2833</td>\n",
       "      <td>C85</td>\n",
       "      <td>C</td>\n",
       "      <td>C</td>\n",
       "      <td>Mrs</td>\n",
       "    </tr>\n",
       "    <tr>\n",
       "      <th>2</th>\n",
       "      <td>3</td>\n",
       "      <td>1</td>\n",
       "      <td>3</td>\n",
       "      <td>Heikkinen, Miss. Laina</td>\n",
       "      <td>female</td>\n",
       "      <td>26.0</td>\n",
       "      <td>0</td>\n",
       "      <td>0</td>\n",
       "      <td>STON/O2. 3101282</td>\n",
       "      <td>7.9250</td>\n",
       "      <td>NaN</td>\n",
       "      <td>S</td>\n",
       "      <td>U</td>\n",
       "      <td>Miss</td>\n",
       "    </tr>\n",
       "    <tr>\n",
       "      <th>3</th>\n",
       "      <td>4</td>\n",
       "      <td>1</td>\n",
       "      <td>1</td>\n",
       "      <td>Futrelle, Mrs. Jacques Heath (Lily May Peel)</td>\n",
       "      <td>female</td>\n",
       "      <td>35.0</td>\n",
       "      <td>1</td>\n",
       "      <td>0</td>\n",
       "      <td>113803</td>\n",
       "      <td>53.1000</td>\n",
       "      <td>C123</td>\n",
       "      <td>S</td>\n",
       "      <td>C</td>\n",
       "      <td>Mrs</td>\n",
       "    </tr>\n",
       "    <tr>\n",
       "      <th>4</th>\n",
       "      <td>5</td>\n",
       "      <td>0</td>\n",
       "      <td>3</td>\n",
       "      <td>Allen, Mr. William Henry</td>\n",
       "      <td>male</td>\n",
       "      <td>35.0</td>\n",
       "      <td>0</td>\n",
       "      <td>0</td>\n",
       "      <td>373450</td>\n",
       "      <td>8.0500</td>\n",
       "      <td>NaN</td>\n",
       "      <td>S</td>\n",
       "      <td>U</td>\n",
       "      <td>Mr</td>\n",
       "    </tr>\n",
       "    <tr>\n",
       "      <th>...</th>\n",
       "      <td>...</td>\n",
       "      <td>...</td>\n",
       "      <td>...</td>\n",
       "      <td>...</td>\n",
       "      <td>...</td>\n",
       "      <td>...</td>\n",
       "      <td>...</td>\n",
       "      <td>...</td>\n",
       "      <td>...</td>\n",
       "      <td>...</td>\n",
       "      <td>...</td>\n",
       "      <td>...</td>\n",
       "      <td>...</td>\n",
       "      <td>...</td>\n",
       "    </tr>\n",
       "    <tr>\n",
       "      <th>886</th>\n",
       "      <td>887</td>\n",
       "      <td>0</td>\n",
       "      <td>2</td>\n",
       "      <td>Montvila, Rev. Juozas</td>\n",
       "      <td>male</td>\n",
       "      <td>27.0</td>\n",
       "      <td>0</td>\n",
       "      <td>0</td>\n",
       "      <td>211536</td>\n",
       "      <td>13.0000</td>\n",
       "      <td>NaN</td>\n",
       "      <td>S</td>\n",
       "      <td>U</td>\n",
       "      <td>Rev</td>\n",
       "    </tr>\n",
       "    <tr>\n",
       "      <th>887</th>\n",
       "      <td>888</td>\n",
       "      <td>1</td>\n",
       "      <td>1</td>\n",
       "      <td>Graham, Miss. Margaret Edith</td>\n",
       "      <td>female</td>\n",
       "      <td>19.0</td>\n",
       "      <td>0</td>\n",
       "      <td>0</td>\n",
       "      <td>112053</td>\n",
       "      <td>30.0000</td>\n",
       "      <td>B42</td>\n",
       "      <td>S</td>\n",
       "      <td>B</td>\n",
       "      <td>Miss</td>\n",
       "    </tr>\n",
       "    <tr>\n",
       "      <th>888</th>\n",
       "      <td>889</td>\n",
       "      <td>0</td>\n",
       "      <td>3</td>\n",
       "      <td>Johnston, Miss. Catherine Helen \"Carrie\"</td>\n",
       "      <td>female</td>\n",
       "      <td>21.5</td>\n",
       "      <td>1</td>\n",
       "      <td>2</td>\n",
       "      <td>W./C. 6607</td>\n",
       "      <td>23.4500</td>\n",
       "      <td>NaN</td>\n",
       "      <td>S</td>\n",
       "      <td>U</td>\n",
       "      <td>Miss</td>\n",
       "    </tr>\n",
       "    <tr>\n",
       "      <th>889</th>\n",
       "      <td>890</td>\n",
       "      <td>1</td>\n",
       "      <td>1</td>\n",
       "      <td>Behr, Mr. Karl Howell</td>\n",
       "      <td>male</td>\n",
       "      <td>26.0</td>\n",
       "      <td>0</td>\n",
       "      <td>0</td>\n",
       "      <td>111369</td>\n",
       "      <td>30.0000</td>\n",
       "      <td>C148</td>\n",
       "      <td>C</td>\n",
       "      <td>C</td>\n",
       "      <td>Mr</td>\n",
       "    </tr>\n",
       "    <tr>\n",
       "      <th>890</th>\n",
       "      <td>891</td>\n",
       "      <td>0</td>\n",
       "      <td>3</td>\n",
       "      <td>Dooley, Mr. Patrick</td>\n",
       "      <td>male</td>\n",
       "      <td>32.0</td>\n",
       "      <td>0</td>\n",
       "      <td>0</td>\n",
       "      <td>370376</td>\n",
       "      <td>7.7500</td>\n",
       "      <td>NaN</td>\n",
       "      <td>Q</td>\n",
       "      <td>U</td>\n",
       "      <td>Mr</td>\n",
       "    </tr>\n",
       "  </tbody>\n",
       "</table>\n",
       "<p>891 rows × 14 columns</p>\n",
       "</div>"
      ],
      "text/plain": [
       "     PassengerId  Survived  Pclass  \\\n",
       "0              1         0       3   \n",
       "1              2         1       1   \n",
       "2              3         1       3   \n",
       "3              4         1       1   \n",
       "4              5         0       3   \n",
       "..           ...       ...     ...   \n",
       "886          887         0       2   \n",
       "887          888         1       1   \n",
       "888          889         0       3   \n",
       "889          890         1       1   \n",
       "890          891         0       3   \n",
       "\n",
       "                                                  Name     Sex   Age  SibSp  \\\n",
       "0                              Braund, Mr. Owen Harris    male  22.0      1   \n",
       "1    Cumings, Mrs. John Bradley (Florence Briggs Th...  female  38.0      1   \n",
       "2                               Heikkinen, Miss. Laina  female  26.0      0   \n",
       "3         Futrelle, Mrs. Jacques Heath (Lily May Peel)  female  35.0      1   \n",
       "4                             Allen, Mr. William Henry    male  35.0      0   \n",
       "..                                                 ...     ...   ...    ...   \n",
       "886                              Montvila, Rev. Juozas    male  27.0      0   \n",
       "887                       Graham, Miss. Margaret Edith  female  19.0      0   \n",
       "888           Johnston, Miss. Catherine Helen \"Carrie\"  female  21.5      1   \n",
       "889                              Behr, Mr. Karl Howell    male  26.0      0   \n",
       "890                                Dooley, Mr. Patrick    male  32.0      0   \n",
       "\n",
       "     Parch            Ticket     Fare Cabin Embarked deck Title  \n",
       "0        0         A/5 21171   7.2500   NaN        S    U    Mr  \n",
       "1        0          PC 17599  71.2833   C85        C    C   Mrs  \n",
       "2        0  STON/O2. 3101282   7.9250   NaN        S    U  Miss  \n",
       "3        0            113803  53.1000  C123        S    C   Mrs  \n",
       "4        0            373450   8.0500   NaN        S    U    Mr  \n",
       "..     ...               ...      ...   ...      ...  ...   ...  \n",
       "886      0            211536  13.0000   NaN        S    U   Rev  \n",
       "887      0            112053  30.0000   B42        S    B  Miss  \n",
       "888      2        W./C. 6607  23.4500   NaN        S    U  Miss  \n",
       "889      0            111369  30.0000  C148        C    C    Mr  \n",
       "890      0            370376   7.7500   NaN        Q    U    Mr  \n",
       "\n",
       "[891 rows x 14 columns]"
      ]
     },
     "execution_count": 27,
     "metadata": {},
     "output_type": "execute_result"
    }
   ],
   "source": [
    "dataset"
   ]
  },
  {
   "cell_type": "markdown",
   "id": "debac1ac-f8ec-40ed-a5c7-7cd379bab1d3",
   "metadata": {},
   "source": [
    "Some titles have few values, so we have grouped them as Other."
   ]
  },
  {
   "cell_type": "code",
   "execution_count": 28,
   "id": "15bf3143-ac7d-4b5d-9a31-511ffcee8f33",
   "metadata": {},
   "outputs": [],
   "source": [
    "dataset['Title'] = np.where(dataset['Title'].isin(['Mr', 'Mrs', 'Master', 'Miss']), dataset['Title'], 'Other')"
   ]
  },
  {
   "cell_type": "code",
   "execution_count": 29,
   "id": "462a9558",
   "metadata": {},
   "outputs": [
    {
     "data": {
      "text/html": [
       "<div>\n",
       "<style scoped>\n",
       "    .dataframe tbody tr th:only-of-type {\n",
       "        vertical-align: middle;\n",
       "    }\n",
       "\n",
       "    .dataframe tbody tr th {\n",
       "        vertical-align: top;\n",
       "    }\n",
       "\n",
       "    .dataframe thead th {\n",
       "        text-align: right;\n",
       "    }\n",
       "</style>\n",
       "<table border=\"1\" class=\"dataframe\">\n",
       "  <thead>\n",
       "    <tr style=\"text-align: right;\">\n",
       "      <th></th>\n",
       "      <th>PassengerId</th>\n",
       "      <th>Survived</th>\n",
       "      <th>Pclass</th>\n",
       "      <th>Name</th>\n",
       "      <th>Sex</th>\n",
       "      <th>Age</th>\n",
       "      <th>SibSp</th>\n",
       "      <th>Parch</th>\n",
       "      <th>Ticket</th>\n",
       "      <th>Fare</th>\n",
       "      <th>Cabin</th>\n",
       "      <th>Embarked</th>\n",
       "      <th>deck</th>\n",
       "      <th>Title</th>\n",
       "    </tr>\n",
       "  </thead>\n",
       "  <tbody>\n",
       "    <tr>\n",
       "      <th>0</th>\n",
       "      <td>1</td>\n",
       "      <td>0</td>\n",
       "      <td>3</td>\n",
       "      <td>Braund, Mr. Owen Harris</td>\n",
       "      <td>male</td>\n",
       "      <td>22.0</td>\n",
       "      <td>1</td>\n",
       "      <td>0</td>\n",
       "      <td>A/5 21171</td>\n",
       "      <td>7.2500</td>\n",
       "      <td>NaN</td>\n",
       "      <td>S</td>\n",
       "      <td>U</td>\n",
       "      <td>Mr</td>\n",
       "    </tr>\n",
       "    <tr>\n",
       "      <th>1</th>\n",
       "      <td>2</td>\n",
       "      <td>1</td>\n",
       "      <td>1</td>\n",
       "      <td>Cumings, Mrs. John Bradley (Florence Briggs Th...</td>\n",
       "      <td>female</td>\n",
       "      <td>38.0</td>\n",
       "      <td>1</td>\n",
       "      <td>0</td>\n",
       "      <td>PC 17599</td>\n",
       "      <td>71.2833</td>\n",
       "      <td>C85</td>\n",
       "      <td>C</td>\n",
       "      <td>C</td>\n",
       "      <td>Mrs</td>\n",
       "    </tr>\n",
       "    <tr>\n",
       "      <th>2</th>\n",
       "      <td>3</td>\n",
       "      <td>1</td>\n",
       "      <td>3</td>\n",
       "      <td>Heikkinen, Miss. Laina</td>\n",
       "      <td>female</td>\n",
       "      <td>26.0</td>\n",
       "      <td>0</td>\n",
       "      <td>0</td>\n",
       "      <td>STON/O2. 3101282</td>\n",
       "      <td>7.9250</td>\n",
       "      <td>NaN</td>\n",
       "      <td>S</td>\n",
       "      <td>U</td>\n",
       "      <td>Miss</td>\n",
       "    </tr>\n",
       "    <tr>\n",
       "      <th>3</th>\n",
       "      <td>4</td>\n",
       "      <td>1</td>\n",
       "      <td>1</td>\n",
       "      <td>Futrelle, Mrs. Jacques Heath (Lily May Peel)</td>\n",
       "      <td>female</td>\n",
       "      <td>35.0</td>\n",
       "      <td>1</td>\n",
       "      <td>0</td>\n",
       "      <td>113803</td>\n",
       "      <td>53.1000</td>\n",
       "      <td>C123</td>\n",
       "      <td>S</td>\n",
       "      <td>C</td>\n",
       "      <td>Mrs</td>\n",
       "    </tr>\n",
       "    <tr>\n",
       "      <th>4</th>\n",
       "      <td>5</td>\n",
       "      <td>0</td>\n",
       "      <td>3</td>\n",
       "      <td>Allen, Mr. William Henry</td>\n",
       "      <td>male</td>\n",
       "      <td>35.0</td>\n",
       "      <td>0</td>\n",
       "      <td>0</td>\n",
       "      <td>373450</td>\n",
       "      <td>8.0500</td>\n",
       "      <td>NaN</td>\n",
       "      <td>S</td>\n",
       "      <td>U</td>\n",
       "      <td>Mr</td>\n",
       "    </tr>\n",
       "    <tr>\n",
       "      <th>...</th>\n",
       "      <td>...</td>\n",
       "      <td>...</td>\n",
       "      <td>...</td>\n",
       "      <td>...</td>\n",
       "      <td>...</td>\n",
       "      <td>...</td>\n",
       "      <td>...</td>\n",
       "      <td>...</td>\n",
       "      <td>...</td>\n",
       "      <td>...</td>\n",
       "      <td>...</td>\n",
       "      <td>...</td>\n",
       "      <td>...</td>\n",
       "      <td>...</td>\n",
       "    </tr>\n",
       "    <tr>\n",
       "      <th>886</th>\n",
       "      <td>887</td>\n",
       "      <td>0</td>\n",
       "      <td>2</td>\n",
       "      <td>Montvila, Rev. Juozas</td>\n",
       "      <td>male</td>\n",
       "      <td>27.0</td>\n",
       "      <td>0</td>\n",
       "      <td>0</td>\n",
       "      <td>211536</td>\n",
       "      <td>13.0000</td>\n",
       "      <td>NaN</td>\n",
       "      <td>S</td>\n",
       "      <td>U</td>\n",
       "      <td>Other</td>\n",
       "    </tr>\n",
       "    <tr>\n",
       "      <th>887</th>\n",
       "      <td>888</td>\n",
       "      <td>1</td>\n",
       "      <td>1</td>\n",
       "      <td>Graham, Miss. Margaret Edith</td>\n",
       "      <td>female</td>\n",
       "      <td>19.0</td>\n",
       "      <td>0</td>\n",
       "      <td>0</td>\n",
       "      <td>112053</td>\n",
       "      <td>30.0000</td>\n",
       "      <td>B42</td>\n",
       "      <td>S</td>\n",
       "      <td>B</td>\n",
       "      <td>Miss</td>\n",
       "    </tr>\n",
       "    <tr>\n",
       "      <th>888</th>\n",
       "      <td>889</td>\n",
       "      <td>0</td>\n",
       "      <td>3</td>\n",
       "      <td>Johnston, Miss. Catherine Helen \"Carrie\"</td>\n",
       "      <td>female</td>\n",
       "      <td>21.5</td>\n",
       "      <td>1</td>\n",
       "      <td>2</td>\n",
       "      <td>W./C. 6607</td>\n",
       "      <td>23.4500</td>\n",
       "      <td>NaN</td>\n",
       "      <td>S</td>\n",
       "      <td>U</td>\n",
       "      <td>Miss</td>\n",
       "    </tr>\n",
       "    <tr>\n",
       "      <th>889</th>\n",
       "      <td>890</td>\n",
       "      <td>1</td>\n",
       "      <td>1</td>\n",
       "      <td>Behr, Mr. Karl Howell</td>\n",
       "      <td>male</td>\n",
       "      <td>26.0</td>\n",
       "      <td>0</td>\n",
       "      <td>0</td>\n",
       "      <td>111369</td>\n",
       "      <td>30.0000</td>\n",
       "      <td>C148</td>\n",
       "      <td>C</td>\n",
       "      <td>C</td>\n",
       "      <td>Mr</td>\n",
       "    </tr>\n",
       "    <tr>\n",
       "      <th>890</th>\n",
       "      <td>891</td>\n",
       "      <td>0</td>\n",
       "      <td>3</td>\n",
       "      <td>Dooley, Mr. Patrick</td>\n",
       "      <td>male</td>\n",
       "      <td>32.0</td>\n",
       "      <td>0</td>\n",
       "      <td>0</td>\n",
       "      <td>370376</td>\n",
       "      <td>7.7500</td>\n",
       "      <td>NaN</td>\n",
       "      <td>Q</td>\n",
       "      <td>U</td>\n",
       "      <td>Mr</td>\n",
       "    </tr>\n",
       "  </tbody>\n",
       "</table>\n",
       "<p>891 rows × 14 columns</p>\n",
       "</div>"
      ],
      "text/plain": [
       "     PassengerId  Survived  Pclass  \\\n",
       "0              1         0       3   \n",
       "1              2         1       1   \n",
       "2              3         1       3   \n",
       "3              4         1       1   \n",
       "4              5         0       3   \n",
       "..           ...       ...     ...   \n",
       "886          887         0       2   \n",
       "887          888         1       1   \n",
       "888          889         0       3   \n",
       "889          890         1       1   \n",
       "890          891         0       3   \n",
       "\n",
       "                                                  Name     Sex   Age  SibSp  \\\n",
       "0                              Braund, Mr. Owen Harris    male  22.0      1   \n",
       "1    Cumings, Mrs. John Bradley (Florence Briggs Th...  female  38.0      1   \n",
       "2                               Heikkinen, Miss. Laina  female  26.0      0   \n",
       "3         Futrelle, Mrs. Jacques Heath (Lily May Peel)  female  35.0      1   \n",
       "4                             Allen, Mr. William Henry    male  35.0      0   \n",
       "..                                                 ...     ...   ...    ...   \n",
       "886                              Montvila, Rev. Juozas    male  27.0      0   \n",
       "887                       Graham, Miss. Margaret Edith  female  19.0      0   \n",
       "888           Johnston, Miss. Catherine Helen \"Carrie\"  female  21.5      1   \n",
       "889                              Behr, Mr. Karl Howell    male  26.0      0   \n",
       "890                                Dooley, Mr. Patrick    male  32.0      0   \n",
       "\n",
       "     Parch            Ticket     Fare Cabin Embarked deck  Title  \n",
       "0        0         A/5 21171   7.2500   NaN        S    U     Mr  \n",
       "1        0          PC 17599  71.2833   C85        C    C    Mrs  \n",
       "2        0  STON/O2. 3101282   7.9250   NaN        S    U   Miss  \n",
       "3        0            113803  53.1000  C123        S    C    Mrs  \n",
       "4        0            373450   8.0500   NaN        S    U     Mr  \n",
       "..     ...               ...      ...   ...      ...  ...    ...  \n",
       "886      0            211536  13.0000   NaN        S    U  Other  \n",
       "887      0            112053  30.0000   B42        S    B   Miss  \n",
       "888      2        W./C. 6607  23.4500   NaN        S    U   Miss  \n",
       "889      0            111369  30.0000  C148        C    C     Mr  \n",
       "890      0            370376   7.7500   NaN        Q    U     Mr  \n",
       "\n",
       "[891 rows x 14 columns]"
      ]
     },
     "execution_count": 29,
     "metadata": {},
     "output_type": "execute_result"
    }
   ],
   "source": [
    "dataset"
   ]
  },
  {
   "cell_type": "code",
   "execution_count": 30,
   "id": "c26b2567-c0da-49a6-9f08-3a03c61d5637",
   "metadata": {},
   "outputs": [
    {
     "data": {
      "text/plain": [
       "<AxesSubplot:xlabel='Title', ylabel='count'>"
      ]
     },
     "execution_count": 30,
     "metadata": {},
     "output_type": "execute_result"
    },
    {
     "data": {
      "image/png": "[encoded data removed]",
      "text/plain": [
       "<Figure size 720x360 with 1 Axes>"
      ]
     },
     "metadata": {
      "needs_background": "light"
     },
     "output_type": "display_data"
    }
   ],
   "source": [
    "plt.figure(figsize=(10,5))\n",
    "sns.countplot(x='Title',data=dataset,hue='Survived')\n",
    "\n"
   ]
  },
  {
   "cell_type": "markdown",
   "id": "5dd60a10-eb16-4b5c-ab84-da7a7ecfcafd",
   "metadata": {},
   "source": [
    "### Ticket\n",
    "\n",
    "Some tickects contain letters and numerical values.The plan is to remove all the letters form the string, then group the tickets based on the first leading digit.\n"
   ]
  },
  {
   "cell_type": "code",
   "execution_count": 31,
   "id": "d7978cca-1816-43a5-8c44-e07b785da361",
   "metadata": {},
   "outputs": [
    {
     "data": {
      "text/html": [
       "<div>\n",
       "<style scoped>\n",
       "    .dataframe tbody tr th:only-of-type {\n",
       "        vertical-align: middle;\n",
       "    }\n",
       "\n",
       "    .dataframe tbody tr th {\n",
       "        vertical-align: top;\n",
       "    }\n",
       "\n",
       "    .dataframe thead th {\n",
       "        text-align: right;\n",
       "    }\n",
       "</style>\n",
       "<table border=\"1\" class=\"dataframe\">\n",
       "  <thead>\n",
       "    <tr style=\"text-align: right;\">\n",
       "      <th></th>\n",
       "      <th>PassengerId</th>\n",
       "      <th>Survived</th>\n",
       "      <th>Pclass</th>\n",
       "      <th>Name</th>\n",
       "      <th>Sex</th>\n",
       "      <th>Age</th>\n",
       "      <th>SibSp</th>\n",
       "      <th>Parch</th>\n",
       "      <th>Fare</th>\n",
       "      <th>Cabin</th>\n",
       "      <th>Embarked</th>\n",
       "      <th>deck</th>\n",
       "      <th>Title</th>\n",
       "      <th>Ticket_LeadingDigit</th>\n",
       "    </tr>\n",
       "  </thead>\n",
       "  <tbody>\n",
       "    <tr>\n",
       "      <th>0</th>\n",
       "      <td>1</td>\n",
       "      <td>0</td>\n",
       "      <td>3</td>\n",
       "      <td>Braund, Mr. Owen Harris</td>\n",
       "      <td>male</td>\n",
       "      <td>22.0</td>\n",
       "      <td>1</td>\n",
       "      <td>0</td>\n",
       "      <td>7.25</td>\n",
       "      <td>NaN</td>\n",
       "      <td>S</td>\n",
       "      <td>U</td>\n",
       "      <td>Mr</td>\n",
       "      <td>2</td>\n",
       "    </tr>\n",
       "  </tbody>\n",
       "</table>\n",
       "</div>"
      ],
      "text/plain": [
       "   PassengerId  Survived  Pclass                     Name   Sex   Age  SibSp  \\\n",
       "0            1         0       3  Braund, Mr. Owen Harris  male  22.0      1   \n",
       "\n",
       "   Parch  Fare Cabin Embarked deck Title  Ticket_LeadingDigit  \n",
       "0      0  7.25   NaN        S    U    Mr                    2  "
      ]
     },
     "execution_count": 31,
     "metadata": {},
     "output_type": "execute_result"
    }
   ],
   "source": [
    "#check if there a letters or not\n",
    "def prefix(ticket):\n",
    "    \n",
    "    check = ticket.split(' ')[0][0]\n",
    "    if check.isalpha():\n",
    "        return ticket.split(' ')[0]\n",
    "    else:\n",
    "        return 'No prefix'\n",
    "\n",
    "def ticket_features(df):\n",
    "    \n",
    "    df['Ticket'] = df['Ticket'].replace('LINE','LINE 0')\n",
    "    df['Ticket'] = df['Ticket'].apply(lambda x: x.replace('.','').replace('/','').lower())\n",
    "    df['Prefix'] = df['Ticket'].apply(lambda x: prefix(x))\n",
    "    df['TNumeric'] = df['Ticket'].apply(lambda x: int(x.split(' ')[-1]))\n",
    "    df['TNlen'] = df['TNumeric'].apply(lambda x : len(str(x)))\n",
    "    df['Ticket_LeadingDigit'] = df['TNumeric'].apply(lambda x : int(str(x)[0]))\n",
    "    df['TGroup'] = df['TNumeric'].apply(lambda x: str(x//10))\n",
    "\n",
    "    df = df.drop(columns=['Ticket','TNumeric','Prefix','TNlen','TGroup'])\n",
    "\n",
    "    return df\n",
    "\n",
    "dataset = ticket_features(dataset)\n",
    "dataset.head(1)\n",
    "\n"
   ]
  },
  {
   "cell_type": "code",
   "execution_count": 32,
   "id": "c871046d",
   "metadata": {},
   "outputs": [
    {
     "data": {
      "text/plain": [
       "array(['U', 'C', 'E', 'G', 'D', 'A', 'B', 'F'], dtype=object)"
      ]
     },
     "execution_count": 32,
     "metadata": {},
     "output_type": "execute_result"
    }
   ],
   "source": [
    "dataset['deck'].unique()"
   ]
  },
  {
   "cell_type": "code",
   "execution_count": 33,
   "id": "c70bf57c",
   "metadata": {},
   "outputs": [
    {
     "data": {
      "text/plain": [
       "PassengerId              int64\n",
       "Survived                 int64\n",
       "Pclass                   int64\n",
       "Name                    object\n",
       "Sex                     object\n",
       "Age                    float64\n",
       "SibSp                    int64\n",
       "Parch                    int64\n",
       "Fare                   float64\n",
       "Cabin                   object\n",
       "Embarked                object\n",
       "deck                    object\n",
       "Title                   object\n",
       "Ticket_LeadingDigit      int64\n",
       "dtype: object"
      ]
     },
     "execution_count": 33,
     "metadata": {},
     "output_type": "execute_result"
    }
   ],
   "source": [
    "#Datatypes after preprocessing\n",
    "dataset.dtypes"
   ]
  },
  {
   "cell_type": "markdown",
   "id": "cbce8c41-c796-451a-9076-d16378aac6fe",
   "metadata": {},
   "source": [
    "### Encoding Categorical features"
   ]
  },
  {
   "cell_type": "code",
   "execution_count": 34,
   "id": "aff3673a",
   "metadata": {},
   "outputs": [],
   "source": [
    "# encoding sex column\n",
    "dataset.replace({'Sex':{'male':0,'female':1}}, inplace=True)\n",
    "\n",
    " # encoding 'embarked' column\n",
    "dataset.replace({'Embarked':{'C':0,'S':1, 'Q':2}}, inplace=True)\n",
    "\n",
    "#encoding title column\n",
    "dataset.replace({'Title':{'Mr':0,'Mrs':1, 'Master':2, 'Miss':3, 'Other':5}}, inplace=True)\n",
    "\n",
    "deck = pd.get_dummies(dataset['deck'],prefix='Cabin')\n",
    "dataset = dataset.drop(columns= ['Cabin', 'Name', 'deck'], axis=1)\n",
    "dataset= pd.concat([dataset,deck],axis=1)\n"
   ]
  },
  {
   "cell_type": "code",
   "execution_count": 35,
   "id": "574a5d74",
   "metadata": {},
   "outputs": [
    {
     "data": {
      "image/png": "[encoded data removed]",
      "text/plain": [
       "<Figure size 432x288 with 1 Axes>"
      ]
     },
     "metadata": {},
     "output_type": "display_data"
    }
   ],
   "source": [
    "num_survived = sum(dataset['Survived'] == 1)\n",
    "num_not_survived = sum(dataset['Survived'] == 0)\n",
    "\n",
    "labels = [\"Survived\", \"Didn't survive\"]\n",
    "sizes = [num_survived, num_not_survived]\n",
    "\n",
    "# Plot\n",
    "plt.pie(sizes, labels=labels, autopct='%1.1f%%',  startangle=120)\n",
    "plt.axis('equal')\n",
    "plt.suptitle(\"Distribution of original dataset with respect to the class label\", y=1, fontsize=18)\n",
    "plt.title(\"This pie chart shows how many people from the initial dataset survive the titanic, and how many do not.\")\n",
    "plt.tight_layout()\n",
    "plt.show()"
   ]
  },
  {
   "cell_type": "code",
   "execution_count": 36,
   "id": "66053d5f",
   "metadata": {},
   "outputs": [],
   "source": [
    "#Need to minimise False Negatives"
   ]
  },
  {
   "cell_type": "markdown",
   "id": "01dd1c0b",
   "metadata": {},
   "source": [
    "The results above show that we are interested in minimising our false negatives. "
   ]
  },
  {
   "cell_type": "markdown",
   "id": "8d6039d4",
   "metadata": {},
   "source": [
    "### Splitting the data"
   ]
  },
  {
   "cell_type": "markdown",
   "id": "79fa98f0",
   "metadata": {},
   "source": [
    "#### Splitting into testing and training set"
   ]
  },
  {
   "cell_type": "code",
   "execution_count": 37,
   "id": "004301d5",
   "metadata": {},
   "outputs": [],
   "source": [
    "#Update\n",
    "#I had to split the training file because the test file doesn't have any ground-truth labels so we can't find testing accuracy from it\n",
    "from sklearn.model_selection import train_test_split\n",
    "train,test = train_test_split(dataset, test_size=0.2)"
   ]
  },
  {
   "cell_type": "markdown",
   "id": "ce66b072",
   "metadata": {},
   "source": [
    "#### Splitting into input features and class label"
   ]
  },
  {
   "cell_type": "code",
   "execution_count": 38,
   "id": "e442061f",
   "metadata": {},
   "outputs": [],
   "source": [
    "y_train = train['Survived']\n",
    "x_train = train.drop(['Survived', 'PassengerId'], axis=1)\n",
    "\n",
    "y_test = test['Survived']\n",
    "x_test = test.drop(['Survived', 'PassengerId'], axis=1)"
   ]
  },
  {
   "cell_type": "code",
   "execution_count": 39,
   "id": "c406fc29",
   "metadata": {},
   "outputs": [],
   "source": [
    "# std_scaler = StandardScaler()\n",
    "# x_train = std_scaler.fit_transform(x_train)\n",
    "# x_test=std_scaler.fit_transform(x_test)"
   ]
  },
  {
   "cell_type": "code",
   "execution_count": 40,
   "id": "40abc9f6-a7b4-46e5-aed3-ac475c3c5587",
   "metadata": {},
   "outputs": [
    {
     "name": "stdout",
     "output_type": "stream",
     "text": [
      "Input Features:\n",
      "Pclass, Sex, Age, SibSp, Parch, Fare, Embarked, Title, Ticket_LeadingDigit, Cabin_A, Cabin_B, Cabin_C, Cabin_D, Cabin_E, Cabin_F, Cabin_G, Cabin_U\n",
      "\n",
      "Output Feature: Survived\n"
     ]
    }
   ],
   "source": [
    "#Print Input Features (Column Names)\n",
    "train_columns = \"\"\n",
    "for i in range(0, len(x_train.columns)):\n",
    "    train_columns += x_train.columns[i]\n",
    "    if i != len(x_train.columns)-1:\n",
    "        train_columns += \", \"\n",
    "\n",
    "print(f\"Input Features:\\n{train_columns}\\n\")\n",
    "\n",
    "#Print Output Feature (Column Name)\n",
    "#There's only one output feature\n",
    "print(f\"Output Feature: Survived\")"
   ]
  },
  {
   "cell_type": "markdown",
   "id": "31afbf63",
   "metadata": {},
   "source": [
    "Convert Dataframe to Matrix"
   ]
  },
  {
   "cell_type": "code",
   "execution_count": 41,
   "id": "ae82255b",
   "metadata": {},
   "outputs": [],
   "source": [
    "#Training Set\n",
    "x_train = x_train.to_numpy()\n",
    "y_train = y_train.to_numpy()\n",
    "\n",
    "#x_train = np.insert(x_train, 0, 1, axis=1) #insert a first column of 1's as x0 \n",
    "#print(x_train)"
   ]
  },
  {
   "cell_type": "code",
   "execution_count": 42,
   "id": "927f8eb7",
   "metadata": {},
   "outputs": [],
   "source": [
    "#Testing Set\n",
    "x_test = x_test.to_numpy()\n",
    "y_test = y_test.to_numpy()\n",
    "\n",
    "#x_test = np.insert(x_test, 0, 1, axis=1) #insert a first column of 1's as x0 \n",
    "#print(x_test)"
   ]
  },
  {
   "cell_type": "code",
   "execution_count": null,
   "id": "4bf8dd6b",
   "metadata": {},
   "outputs": [],
   "source": []
  },
  {
   "cell_type": "code",
   "execution_count": 43,
   "id": "dc5d509c",
   "metadata": {},
   "outputs": [],
   "source": [
    "# #Pick 10 learning rates\n",
    "# learning_rates = [0.0000005 * i for i in range(10)]\n",
    "\n",
    "# #Lists to store training and testing accuracies for each learning rate\n",
    "# training_accuracy_list = []\n",
    "# testing_accuracy_list = [] \n",
    "\n",
    "# #For each learning rate\n",
    "# for i in range(0,len(learning_rates)):\n",
    "#     print(f\"Learning Rate: {learning_rates[i]}\")\n",
    "#     training_accuracy, testing_accuracy = Logistic_Regression(0.5, learning_rates[i],0.00005)\n",
    "#     training_accuracy_list.append(training_accuracy)\n",
    "#     testing_accuracy_list.append(testing_accuracy)\n",
    "    \n",
    "#     logreg = LogisticRegression(tol=0.005, C=1, max_iter= 1000)\n",
    "#     logreg.fit(x_train, y_train)\n",
    "#     y_pred = logreg.predict(x_test)"
   ]
  },
  {
   "cell_type": "markdown",
   "id": "ac771a6f",
   "metadata": {},
   "source": [
    "## Stochastic Gradient Descent (Logistic Regression with Gradient Descent)"
   ]
  },
  {
   "cell_type": "markdown",
   "id": "39a07908",
   "metadata": {},
   "source": [
    "This is essentially Logistic Regression using Gradient Descent as the optimisation technique for the problem. "
   ]
  },
  {
   "cell_type": "code",
   "execution_count": 44,
   "id": "80df3249",
   "metadata": {},
   "outputs": [
    {
     "name": "stdout",
     "output_type": "stream",
     "text": [
      "Stochastic Gradient Descent Metrics:\n",
      "\n",
      "Training Accuracy: 0.7584269662921348\n",
      "Testing Accuracy: 0.776536312849162\n",
      "Precision: 0.6703296703296703\n",
      "Recall: 0.8591549295774648\n",
      "F1 Score: 0.7530864197530862\n",
      "Matthew's Correlation Coefficient: 0.5689013702491006\n"
     ]
    }
   ],
   "source": [
    "from sklearn.linear_model import SGDClassifier\n",
    "from sklearn.metrics import precision_score, recall_score, f1_score, matthews_corrcoef\n",
    "\n",
    "#Perform Fit\n",
    "#Set random state to fixed value to keep random distribution of initial weights consistent for multiple fits \n",
    "stochGD = SGDClassifier(max_iter=1000, tol=1e-3,random_state=3)\n",
    "stochGD = stochGD.fit(x_train, y_train) #coef_init not working\n",
    "\n",
    "#Metrics\n",
    "print(\"Stochastic Gradient Descent Metrics:\\n\")\n",
    "print(f\"Training Accuracy: {stochGD.score(x_train,y_train)}\")\n",
    "print(f\"Testing Accuracy: {stochGD.score(x_test,y_test)}\")\n",
    "print(f\"Precision: {precision_score(y_test, stochGD.predict(x_test),average='binary')}\")\n",
    "print(f\"Recall: {recall_score(y_test, stochGD.predict(x_test),average='binary')}\")\n",
    "print(f\"F1 Score: {f1_score(y_test, stochGD.predict(x_test),average='binary')}\")\n",
    "print(f\"Matthew's Correlation Coefficient: {matthews_corrcoef(y_test, stochGD.predict(x_test))}\")\n"
   ]
  },
  {
   "cell_type": "code",
   "execution_count": 45,
   "id": "975ccd28",
   "metadata": {},
   "outputs": [
    {
     "name": "stdout",
     "output_type": "stream",
     "text": [
      "Stochastic Gradient Descent Metrics:\n",
      "\n",
      "Training Accuracy: 0.7584269662921348\n",
      "Testing Accuracy: 0.776536312849162\n",
      "Precision: 0.6703296703296703\n",
      "Recall: 0.8591549295774648\n",
      "F1 Score: 0.7530864197530862\n",
      "Matthew's Correlation Coefficient: 0.5689013702491006\n"
     ]
    }
   ],
   "source": [
    "stochGD = stochGD.fit(x_train, y_train) #coef_init not working\n",
    "#Metrics\n",
    "print(\"Stochastic Gradient Descent Metrics:\\n\")\n",
    "print(f\"Training Accuracy: {stochGD.score(x_train,y_train)}\")\n",
    "print(f\"Testing Accuracy: {stochGD.score(x_test,y_test)}\")\n",
    "print(f\"Precision: {precision_score(y_test, stochGD.predict(x_test),average='binary')}\")\n",
    "print(f\"Recall: {recall_score(y_test, stochGD.predict(x_test),average='binary')}\")\n",
    "print(f\"F1 Score: {f1_score(y_test, stochGD.predict(x_test),average='binary')}\")\n",
    "print(f\"Matthew's Correlation Coefficient: {matthews_corrcoef(y_test, stochGD.predict(x_test))}\")"
   ]
  },
  {
   "cell_type": "code",
   "execution_count": 46,
   "id": "6308a359",
   "metadata": {},
   "outputs": [
    {
     "name": "stdout",
     "output_type": "stream",
     "text": [
      "Confusion Matrix\n"
     ]
    },
    {
     "data": {
      "text/plain": [
       "<sklearn.metrics._plot.confusion_matrix.ConfusionMatrixDisplay at 0x251fe38dc40>"
      ]
     },
     "execution_count": 46,
     "metadata": {},
     "output_type": "execute_result"
    },
    {
     "data": {
      "image/png": "[encoded data removed]",
      "text/plain": [
       "<Figure size 432x288 with 2 Axes>"
      ]
     },
     "metadata": {
      "needs_background": "light"
     },
     "output_type": "display_data"
    }
   ],
   "source": [
    "print(\"Confusion Matrix\")\n",
    "c_matrix = confusion_matrix(y_test, stochGD.predict(x_test))\n",
    "d=ConfusionMatrixDisplay(c_matrix)\n",
    "d.plot() "
   ]
  },
  {
   "cell_type": "code",
   "execution_count": 47,
   "id": "2f7a709d",
   "metadata": {},
   "outputs": [],
   "source": [
    "# #hyper parameter optimisation\n",
    "# stochGD=SGDClassifier()\n",
    "# param_grid = {\n",
    "#     \"loss\" : [\"hinge\", \"log_loss\", \"modified_huber\", \"perceptron\", \"squared_hinge\"],\n",
    "#     \"alpha\" : [0.0001, 0.001, 0.01, 0.1],\n",
    "#     'eta0': [0.00001, 0.0001, 0.001, 0.01, 0.1, 1],\n",
    "#     \"penalty\" : [\"l2\", \"l1\", \"elasticnet\", \"none\"],\n",
    "#     'max_iter': [5000]\n",
    "\n",
    "# }\n",
    "              \n",
    "# clf_sgd = GridSearchCV(stochGD, param_grid = param_grid, cv = 4, verbose = True, n_jobs = -1)\n",
    "# best_clf_sgd = clf_sgd.fit(x_train,y_train)\n",
    "# print('Best Score: ' + str(np.round(best_clf_sgd.best_score_*100,2))+'%')\n",
    "# print('Best Parameters: ' + str(best_clf_sgd.best_params_))\n",
    "# print('Accuracy of Stochastic Gradient Descent Classifier In Test-set :'+str(np.round(best_clf_sgd.score(x_test,y_test)*100,2))+'%')"
   ]
  },
  {
   "cell_type": "markdown",
   "id": "319bb8a3",
   "metadata": {},
   "source": [
    "## Optimisation Techniques"
   ]
  },
  {
   "cell_type": "markdown",
   "id": "5bedbef2",
   "metadata": {},
   "source": [
    "### Feature Scaling"
   ]
  },
  {
   "cell_type": "code",
   "execution_count": 48,
   "id": "4620dc5e",
   "metadata": {},
   "outputs": [
    {
     "data": {
      "text/plain": [
       "array([[0.5       , 0.        , 0.26848249, ..., 0.        , 0.        ,\n",
       "        1.        ],\n",
       "       [0.        , 0.        , 0.61089494, ..., 0.        , 0.        ,\n",
       "        1.        ],\n",
       "       [1.        , 0.        , 0.3618677 , ..., 0.        , 0.        ,\n",
       "        1.        ],\n",
       "       ...,\n",
       "       [1.        , 0.        , 0.03501946, ..., 0.        , 0.        ,\n",
       "        1.        ],\n",
       "       [0.5       , 0.        , 0.3463035 , ..., 0.        , 0.        ,\n",
       "        1.        ],\n",
       "       [0.5       , 0.        , 0.28404669, ..., 0.        , 0.        ,\n",
       "        1.        ]])"
      ]
     },
     "execution_count": 48,
     "metadata": {},
     "output_type": "execute_result"
    }
   ],
   "source": [
    "from sklearn import preprocessing\n",
    "\n",
    "min_max_scaler = preprocessing.MinMaxScaler()\n",
    "x_train_scaled = min_max_scaler.fit_transform(x_train)\n",
    "x_test_scaled = min_max_scaler.fit_transform(x_test)\n",
    "#x_test_scaled"
   ]
  },
  {
   "cell_type": "code",
   "execution_count": 49,
   "id": "bcfd0466",
   "metadata": {},
   "outputs": [
    {
     "name": "stdout",
     "output_type": "stream",
     "text": [
      "Stochastic Gradient Descent Metrics:\n",
      "\n",
      "Training Accuracy: 0.7443820224719101\n",
      "Testing Accuracy: 0.7541899441340782\n",
      "Precision: 1.0\n",
      "Recall: 0.38028169014084506\n",
      "F1 Score: 0.5510204081632654\n",
      "Matthew's Correlation Coefficient: 0.5198077993431504\n"
     ]
    }
   ],
   "source": [
    "#Perform Fit\n",
    "#Set random state to fixed value to keep random distribution of initial weights consistent for multiple fits \n",
    "stochGD = SGDClassifier(max_iter=1000, tol=1e-3,random_state=3)\n",
    "stochGD = stochGD.fit(x_train_scaled, y_train)\n",
    "\n",
    "#Metrics\n",
    "print(\"Stochastic Gradient Descent Metrics:\\n\")\n",
    "print(f\"Training Accuracy: {stochGD.score(x_train_scaled,y_train)}\")\n",
    "print(f\"Testing Accuracy: {stochGD.score(x_test_scaled,y_test)}\")\n",
    "print(f\"Precision: {precision_score(y_test, stochGD.predict(x_test_scaled),average='binary')}\")\n",
    "print(f\"Recall: {recall_score(y_test, stochGD.predict(x_test_scaled),average='binary')}\")\n",
    "print(f\"F1 Score: {f1_score(y_test, stochGD.predict(x_test_scaled),average='binary')}\")\n",
    "print(f\"Matthew's Correlation Coefficient: {matthews_corrcoef(y_test, stochGD.predict(x_test_scaled))}\")"
   ]
  },
  {
   "cell_type": "code",
   "execution_count": 50,
   "id": "9c8f05a9",
   "metadata": {},
   "outputs": [
    {
     "name": "stdout",
     "output_type": "stream",
     "text": [
      "Confusion Matrix\n"
     ]
    },
    {
     "data": {
      "text/plain": [
       "<sklearn.metrics._plot.confusion_matrix.ConfusionMatrixDisplay at 0x251fe43bdc0>"
      ]
     },
     "execution_count": 50,
     "metadata": {},
     "output_type": "execute_result"
    },
    {
     "data": {
      "image/png": "[encoded data removed]",
      "text/plain": [
       "<Figure size 432x288 with 2 Axes>"
      ]
     },
     "metadata": {
      "needs_background": "light"
     },
     "output_type": "display_data"
    }
   ],
   "source": [
    "print(\"Confusion Matrix\")\n",
    "c_matrix = confusion_matrix(y_test, stochGD.predict(x_test_scaled))\n",
    "d=ConfusionMatrixDisplay(c_matrix)\n",
    "d.plot() "
   ]
  },
  {
   "cell_type": "markdown",
   "id": "cac4120b",
   "metadata": {},
   "source": [
    "### Feature Standardisation"
   ]
  },
  {
   "cell_type": "code",
   "execution_count": 85,
   "id": "8d888440",
   "metadata": {},
   "outputs": [],
   "source": [
    "# fig, ax = plt.subplots(figsize=(12, 4))\n",
    "\n",
    "std_scaler = StandardScaler()\n",
    "x_train_std = std_scaler.fit_transform(x_train)\n",
    "x_test_std =std_scaler.fit_transform(x_test)\n",
    "\n",
    "# ax.scatter(x_train[:,0], y_train)\n",
    "# ax.scatter(x_train[:,1], y_train)\n",
    "# ax.scatter(x_train[:,2], y_train)\n",
    "# ax.scatter(x_train[:,3], y_train)\n",
    "# ax.scatter(x_train[:,4], y_train)"
   ]
  },
  {
   "cell_type": "code",
   "execution_count": 86,
   "id": "7fbdf020",
   "metadata": {},
   "outputs": [
    {
     "name": "stdout",
     "output_type": "stream",
     "text": [
      "Stochastic Gradient Descent Metrics:\n",
      "\n",
      "Training Accuracy: 0.7808988764044944\n",
      "Testing Accuracy: 0.7821229050279329\n",
      "Precision: 0.7352941176470589\n",
      "Recall: 0.704225352112676\n",
      "F1 Score: 0.7194244604316546\n",
      "Matthew's Correlation Coefficient: 0.5418149568417242\n"
     ]
    }
   ],
   "source": [
    "#Perform Fit\n",
    "#Set random state to fixed value to keep random distribution of initial weights consistent for multiple fits \n",
    "stochGD = SGDClassifier(max_iter=1000, tol=1e-3,random_state=3)\n",
    "stochGD = stochGD.fit(x_train_std, y_train)\n",
    "\n",
    "#Metrics\n",
    "print(\"Stochastic Gradient Descent Metrics:\\n\")\n",
    "print(f\"Training Accuracy: {stochGD.score(x_train_std,y_train)}\")\n",
    "print(f\"Testing Accuracy: {stochGD.score(x_test_std,y_test)}\")\n",
    "print(f\"Precision: {precision_score(y_test, stochGD.predict(x_test_std),average='binary')}\")\n",
    "print(f\"Recall: {recall_score(y_test, stochGD.predict(x_test_std),average='binary')}\")\n",
    "print(f\"F1 Score: {f1_score(y_test, stochGD.predict(x_test_std),average='binary')}\")\n",
    "print(f\"Matthew's Correlation Coefficient: {matthews_corrcoef(y_test, stochGD.predict(x_test_std))}\")"
   ]
  },
  {
   "cell_type": "code",
   "execution_count": 87,
   "id": "63570651",
   "metadata": {},
   "outputs": [
    {
     "name": "stdout",
     "output_type": "stream",
     "text": [
      "Confusion Matrix\n"
     ]
    },
    {
     "data": {
      "text/plain": [
       "<sklearn.metrics._plot.confusion_matrix.ConfusionMatrixDisplay at 0x251ffa59eb0>"
      ]
     },
     "execution_count": 87,
     "metadata": {},
     "output_type": "execute_result"
    },
    {
     "data": {
      "image/png": "[encoded data removed]",
      "text/plain": [
       "<Figure size 432x288 with 2 Axes>"
      ]
     },
     "metadata": {
      "needs_background": "light"
     },
     "output_type": "display_data"
    }
   ],
   "source": [
    "print(\"Confusion Matrix\")\n",
    "c_matrix = confusion_matrix(y_test, stochGD.predict(x_test_std))\n",
    "d=ConfusionMatrixDisplay(c_matrix)\n",
    "d.plot() "
   ]
  },
  {
   "cell_type": "markdown",
   "id": "ef53cbb6",
   "metadata": {},
   "source": [
    "### Optimising Recall (minimising false negatives)"
   ]
  },
  {
   "cell_type": "code",
   "execution_count": 54,
   "id": "dfece45b",
   "metadata": {},
   "outputs": [
    {
     "name": "stdout",
     "output_type": "stream",
     "text": [
      "Initial Recall: 0.8591549295774648\n",
      "Initial Training Accuracy: 0.7584269662921348\n",
      "Initial Testing Accuracy: 0.776536312849162\n",
      "Confusion Matrix\n",
      "\n",
      "Updated Recall: 0.8591549295774648\n",
      "Updated Training Accuracy: 0.8339483394833949\n",
      "Updated Testing Accuracy: 0.8591549295774648\n"
     ]
    },
    {
     "data": {
      "image/png": "[encoded data removed]",
      "text/plain": [
       "<Figure size 432x288 with 2 Axes>"
      ]
     },
     "metadata": {
      "needs_background": "light"
     },
     "output_type": "display_data"
    }
   ],
   "source": [
    "from sklearn.model_selection import GridSearchCV \n",
    "\n",
    "\n",
    "#Perform Fit\n",
    "#Set random state to fixed value to keep random distribution of initial weights consistent for multiple fits \n",
    "stochGD = SGDClassifier(max_iter=1000, tol=1e-3,random_state=3)\n",
    "stochGD = stochGD.fit(x_train, y_train)\n",
    "print(f\"Initial Recall: {recall_score(y_test, stochGD.predict(x_test),average='binary')}\")\n",
    "print(f\"Initial Training Accuracy: {stochGD.score(x_train,y_train)}\")\n",
    "print(f\"Initial Testing Accuracy: {stochGD.score(x_test,y_test)}\")\n",
    "\n",
    "print(\"Confusion Matrix\")\n",
    "c_matrix = confusion_matrix(y_test, stochGD.predict(x_test))\n",
    "d=ConfusionMatrixDisplay(c_matrix)\n",
    "#d.ax_.set_title(\"confusion_matrix\")\n",
    "d.plot() \n",
    "\n",
    "print()\n",
    "param_grid = {\n",
    "#     'n_estimators': [10,200],\n",
    "#     'max_features': ['auto','sqrt','log2',0.5],\n",
    "}\n",
    "\n",
    "gs = GridSearchCV(stochGD, param_grid=param_grid, scoring = 'recall',n_jobs= -1,cv=10)\n",
    "gs = gs.fit(x_train,y_train)\n",
    "\n",
    "print(f\"Updated Recall: {recall_score(y_test, gs.best_estimator_.predict(x_test),average='binary')}\")\n",
    "print(f\"Updated Training Accuracy: {gs.score(x_train,y_train)}\")\n",
    "print(f\"Updated Testing Accuracy: {gs.score(x_test,y_test)}\")\n"
   ]
  },
  {
   "cell_type": "code",
   "execution_count": 98,
   "id": "14cca9a6",
   "metadata": {},
   "outputs": [],
   "source": [
    "#Apply Feature Standardisation\n",
    "std_scaler = StandardScaler()\n",
    "x_train = std_scaler.fit_transform(x_train)\n",
    "x_test = std_scaler.fit_transform(x_test)"
   ]
  },
  {
   "cell_type": "code",
   "execution_count": 117,
   "id": "126aaff0",
   "metadata": {},
   "outputs": [
    {
     "name": "stdout",
     "output_type": "stream",
     "text": [
      "hello\n",
      "0.0\n"
     ]
    }
   ],
   "source": [
    "import time\n",
    "\n",
    "start = time.time()\n",
    "print(\"hello\")\n",
    "end = time.time()\n",
    "print(end - start)"
   ]
  },
  {
   "cell_type": "markdown",
   "id": "895e7ace",
   "metadata": {},
   "source": [
    "### Optimising Model Parameters"
   ]
  },
  {
   "cell_type": "markdown",
   "id": "e6f5f64c",
   "metadata": {},
   "source": [
    "#### Learning Rate"
   ]
  },
  {
   "cell_type": "code",
   "execution_count": 134,
   "id": "8fcdeaef",
   "metadata": {},
   "outputs": [
    {
     "name": "stdout",
     "output_type": "stream",
     "text": [
      "Search Time is: 23.4132239818573s\n",
      "Updated Recall: 0.6901408450704225\n",
      "Updated Training Accuracy: 0.8202247191011236\n",
      "Updated Testing Accuracy: 0.8044692737430168\n",
      "\n",
      "====== Results from Grid Search ======\n",
      "\n",
      " The best estimator across ALL searched params:\n",
      " SGDClassifier(alpha=0.1, eta0=0.1, loss='modified_huber', max_iter=5000,\n",
      "              random_state=3)\n",
      "\n",
      " The best score across ALL searched params:\n",
      " 0.7201058201058201\n",
      "\n",
      " The best parameters across ALL searched params:\n",
      " {'alpha': 0.1, 'eta0': 0.1, 'loss': 'modified_huber', 'max_iter': 5000, 'penalty': 'l2'}\n"
     ]
    }
   ],
   "source": [
    "#Perform Fit\n",
    "#Set random state to fixed value to keep random distribution of initial weights consistent for multiple fits \n",
    "stochGD = SGDClassifier(max_iter=1000, tol=1e-3,random_state=3)\n",
    "stochGD = stochGD.fit(x_train, y_train)\n",
    "\n",
    "param_grid = {\n",
    "     \"loss\" : [\"hinge\",  \"modified_huber\", \"perceptron\", \"squared_hinge\"],\n",
    "    \"alpha\" : [0.1 * i for i in range(1,10+1)],\n",
    "     'eta0': [0.1 * i for i in range(1,10+1)],\n",
    "    \"penalty\" : [\"l2\", \"l1\", \"elasticnet\", \"none\"],\n",
    "    'max_iter': [5000]\n",
    "}\n",
    "\n",
    "start_time = time.time()\n",
    "gs = GridSearchCV(stochGD, param_grid=param_grid, n_jobs= -1,cv=10,scoring='recall')\n",
    "gs = gs.fit(x_train,y_train)\n",
    "end_time = time.time()\n",
    "\n",
    "print(f\"Search Time is: {end_time-start_time}s\")\n",
    "\n",
    "stochGD = gs.best_estimator_\n",
    "print(f\"Updated Recall: {recall_score(y_test, stochGD.predict(x_test),average='binary')}\")\n",
    "print(f\"Updated Training Accuracy: {stochGD.score(x_train,y_train)}\")\n",
    "print(f\"Updated Testing Accuracy: {stochGD.score(x_test,y_test)}\\n\")\n",
    "\n",
    "print(\"====== Results from Grid Search ======\" )\n",
    "print(\"\\n The best estimator across ALL searched params:\\n\",gs.best_estimator_)\n",
    "print(\"\\n The best score across ALL searched params:\\n\",gs.best_score_)\n",
    "print(\"\\n The best parameters across ALL searched params:\\n\",gs.best_params_)"
   ]
  },
  {
   "cell_type": "code",
   "execution_count": 136,
   "id": "d628000b",
   "metadata": {},
   "outputs": [
    {
     "name": "stdout",
     "output_type": "stream",
     "text": [
      "Search Time is: 25.05844759941101s\n",
      "Updated Recall: 0.49295774647887325\n",
      "Updated Training Accuracy: 0.7710674157303371\n",
      "Updated Testing Accuracy: 0.7877094972067039\n",
      "\n",
      "====== Results from Grid Search ======\n",
      "\n",
      " The best estimator across ALL searched params:\n",
      " SGDClassifier(alpha=1.0, eta0=0.1, max_iter=5000, random_state=3)\n",
      "\n",
      " The best score across ALL searched params:\n",
      " 0.8156553521484872\n",
      "\n",
      " The best parameters across ALL searched params:\n",
      " {'alpha': 1.0, 'eta0': 0.1, 'loss': 'hinge', 'max_iter': 5000, 'penalty': 'l2'}\n"
     ]
    }
   ],
   "source": [
    "start_time = time.time()\n",
    "gs = GridSearchCV(stochGD, param_grid=param_grid, n_jobs= -1,cv=10,scoring='precision')\n",
    "gs = gs.fit(x_train,y_train)\n",
    "end_time = time.time()\n",
    "\n",
    "print(f\"Search Time is: {end_time-start_time}s\")\n",
    "\n",
    "stochGD = gs.best_estimator_\n",
    "print(f\"Updated Recall: {recall_score(y_test, stochGD.predict(x_test),average='binary')}\")\n",
    "print(f\"Updated Training Accuracy: {stochGD.score(x_train,y_train)}\")\n",
    "print(f\"Updated Testing Accuracy: {stochGD.score(x_test,y_test)}\\n\")\n",
    "\n",
    "print(\"====== Results from Grid Search ======\" )\n",
    "print(\"\\n The best estimator across ALL searched params:\\n\",gs.best_estimator_)\n",
    "print(\"\\n The best score across ALL searched params:\\n\",gs.best_score_)\n",
    "print(\"\\n The best parameters across ALL searched params:\\n\",gs.best_params_)"
   ]
  },
  {
   "cell_type": "code",
   "execution_count": 137,
   "id": "1ce97285",
   "metadata": {},
   "outputs": [
    {
     "name": "stdout",
     "output_type": "stream",
     "text": [
      "Search Time is: 23.400326013565063s\n",
      "Updated Recall: 0.704225352112676\n",
      "Updated Training Accuracy: 0.824438202247191\n",
      "Updated Testing Accuracy: 0.8156424581005587\n",
      "\n",
      "====== Results from Grid Search ======\n",
      "\n",
      " The best estimator across ALL searched params:\n",
      " SGDClassifier(alpha=0.30000000000000004, eta0=0.1, loss='squared_hinge',\n",
      "              max_iter=5000, random_state=3)\n",
      "\n",
      " The best score across ALL searched params:\n",
      " 0.733730062887654\n",
      "\n",
      " The best parameters across ALL searched params:\n",
      " {'alpha': 0.30000000000000004, 'eta0': 0.1, 'loss': 'squared_hinge', 'max_iter': 5000, 'penalty': 'l2'}\n"
     ]
    }
   ],
   "source": [
    "start_time = time.time()\n",
    "gs = GridSearchCV(stochGD, param_grid=param_grid, n_jobs= -1,cv=10,scoring='f1')\n",
    "gs = gs.fit(x_train,y_train)\n",
    "end_time = time.time()\n",
    "\n",
    "print(f\"Search Time is: {end_time-start_time}s\")\n",
    "\n",
    "stochGD = gs.best_estimator_\n",
    "print(f\"Updated Recall: {recall_score(y_test, stochGD.predict(x_test),average='binary')}\")\n",
    "print(f\"Updated Training Accuracy: {stochGD.score(x_train,y_train)}\")\n",
    "print(f\"Updated Testing Accuracy: {stochGD.score(x_test,y_test)}\\n\")\n",
    "\n",
    "print(\"====== Results from Grid Search ======\" )\n",
    "print(\"\\n The best estimator across ALL searched params:\\n\",gs.best_estimator_)\n",
    "print(\"\\n The best score across ALL searched params:\\n\",gs.best_score_)\n",
    "print(\"\\n The best parameters across ALL searched params:\\n\",gs.best_params_)"
   ]
  },
  {
   "cell_type": "code",
   "execution_count": 138,
   "id": "79bc69c2",
   "metadata": {},
   "outputs": [
    {
     "name": "stdout",
     "output_type": "stream",
     "text": [
      "Search Time is: 21.84722661972046s\n",
      "Updated Recall: 0.704225352112676\n",
      "Updated Training Accuracy: 0.824438202247191\n",
      "Updated Testing Accuracy: 0.8156424581005587\n",
      "\n",
      "====== Results from Grid Search ======\n",
      "\n",
      " The best estimator across ALL searched params:\n",
      " SGDClassifier(alpha=0.30000000000000004, eta0=0.1, loss='squared_hinge',\n",
      "              max_iter=5000, random_state=3)\n",
      "\n",
      " The best score across ALL searched params:\n",
      " 0.8050078247261346\n",
      "\n",
      " The best parameters across ALL searched params:\n",
      " {'alpha': 0.30000000000000004, 'eta0': 0.1, 'loss': 'squared_hinge', 'max_iter': 5000, 'penalty': 'l2'}\n"
     ]
    }
   ],
   "source": [
    "start_time = time.time()\n",
    "gs = GridSearchCV(stochGD, param_grid=param_grid, n_jobs= -1,cv=10,scoring='accuracy')\n",
    "gs = gs.fit(x_train,y_train)\n",
    "end_time = time.time()\n",
    "\n",
    "print(f\"Search Time is: {end_time-start_time}s\")\n",
    "\n",
    "stochGD = gs.best_estimator_\n",
    "print(f\"Updated Recall: {recall_score(y_test, stochGD.predict(x_test),average='binary')}\")\n",
    "print(f\"Updated Training Accuracy: {stochGD.score(x_train,y_train)}\")\n",
    "print(f\"Updated Testing Accuracy: {stochGD.score(x_test,y_test)}\\n\")\n",
    "\n",
    "print(\"====== Results from Grid Search ======\" )\n",
    "print(\"\\n The best estimator across ALL searched params:\\n\",gs.best_estimator_)\n",
    "print(\"\\n The best score across ALL searched params:\\n\",gs.best_score_)\n",
    "print(\"\\n The best parameters across ALL searched params:\\n\",gs.best_params_)"
   ]
  },
  {
   "cell_type": "code",
   "execution_count": 140,
   "id": "5d4b2f3c",
   "metadata": {},
   "outputs": [],
   "source": [
    "#gs.get_params()"
   ]
  },
  {
   "cell_type": "code",
   "execution_count": 141,
   "id": "c053553b",
   "metadata": {},
   "outputs": [],
   "source": [
    "#[0.00001 * i for i in range(100000+1)][-1]"
   ]
  },
  {
   "cell_type": "code",
   "execution_count": 142,
   "id": "6d0f6313",
   "metadata": {},
   "outputs": [],
   "source": [
    "#[0.001 * i for i in range(1,1000+1)]"
   ]
  },
  {
   "cell_type": "markdown",
   "id": "55081bf6",
   "metadata": {},
   "source": [
    "## Logistic Regression "
   ]
  },
  {
   "cell_type": "markdown",
   "id": "1e832c4a",
   "metadata": {},
   "source": [
    "Note, this is Logistic Regression implemented in sklearn. The default optimisation technique used here is the 'lbfgs solver' which is the Limited-memory Broyden–Fletcher–Goldfarb–Shanno technique."
   ]
  },
  {
   "cell_type": "code",
   "execution_count": 55,
   "id": "c8d789db",
   "metadata": {},
   "outputs": [
    {
     "name": "stdout",
     "output_type": "stream",
     "text": [
      "Logistic Regression Metrics:\n",
      "\n",
      "Training Accuracy: 0.8286516853932584\n",
      "Testing Accuracy: 0.8044692737430168\n",
      "Precision: 0.7727272727272727\n",
      "Recall: 0.7183098591549296\n",
      "F1 Score: 0.7445255474452555\n",
      "Matthew's Correlation Coefficient: 0.5875219161842259\n"
     ]
    }
   ],
   "source": [
    "from sklearn.linear_model import LogisticRegression\n",
    "\n",
    "\n",
    "logreg = LogisticRegression(tol=0.005, C=1, max_iter= 1000)\n",
    "logreg.fit(x_train, y_train)\n",
    "y_pred = logreg.predict(x_test)\n",
    "#print(getAccuracy(y_test, y_pred))\n",
    "\n",
    "print(\"Logistic Regression Metrics:\\n\")\n",
    "print(f\"Training Accuracy: {logreg.score(x_train,y_train)}\")\n",
    "print(f\"Testing Accuracy: {logreg.score(x_test,y_test)}\")\n",
    "print(f\"Precision: {precision_score(y_test, logreg.predict(x_test),average='binary')}\")\n",
    "print(f\"Recall: {recall_score(y_test, logreg.predict(x_test),average='binary')}\")\n",
    "print(f\"F1 Score: {f1_score(y_test, logreg.predict(x_test),average='binary')}\")\n",
    "print(f\"Matthew's Correlation Coefficient: {matthews_corrcoef(y_test, logreg.predict(x_test))}\")"
   ]
  },
  {
   "cell_type": "code",
   "execution_count": 56,
   "id": "e22f168f",
   "metadata": {},
   "outputs": [
    {
     "name": "stdout",
     "output_type": "stream",
     "text": [
      "Confusion Matrix\n"
     ]
    },
    {
     "data": {
      "text/plain": [
       "<sklearn.metrics._plot.confusion_matrix.ConfusionMatrixDisplay at 0x251ff7b1fd0>"
      ]
     },
     "execution_count": 56,
     "metadata": {},
     "output_type": "execute_result"
    },
    {
     "data": {
      "image/png": "[encoded data removed]",
      "text/plain": [
       "<Figure size 432x288 with 2 Axes>"
      ]
     },
     "metadata": {
      "needs_background": "light"
     },
     "output_type": "display_data"
    }
   ],
   "source": [
    "print('Confusion Matrix')\n",
    "c_matrix = confusion_matrix(y_test, logreg.predict(x_test))\n",
    "d=ConfusionMatrixDisplay(c_matrix)\n",
    "d.plot()"
   ]
  },
  {
   "cell_type": "code",
   "execution_count": 57,
   "id": "a2cd54e1",
   "metadata": {},
   "outputs": [
    {
     "name": "stdout",
     "output_type": "stream",
     "text": [
      "Fitting 4 folds for each of 176 candidates, totalling 704 fits\n",
      "Best Accuracy: 80.76%\n",
      "Best Parameters: {'C': 517947.4679231202, 'max_iter': 100, 'penalty': 'l2', 'solver': 'liblinear'}\n",
      "Accuracy of Logistic Regression In Test-set :80.45%\n"
     ]
    }
   ],
   "source": [
    "#optimization of Logistic Regression hyperparameters\n",
    "#logreg = LogisticRegression()\n",
    "param_grid = {'max_iter' : [100,200,2000,5000],\n",
    "              'penalty' : ['l1', 'l2'],\n",
    "              'C' : np.logspace(-4, 8, 22),\n",
    "              'solver' : ['liblinear']}\n",
    "\n",
    "clf_lr = GridSearchCV(logreg, param_grid = param_grid, cv = 4, verbose = True, n_jobs = -1)\n",
    "best_clf_lr = clf_lr.fit(x_train,y_train)\n",
    "print('Best Accuracy: ' + str(np.round(best_clf_lr.best_score_*100,2))+'%')\n",
    "print('Best Parameters: ' + str(best_clf_lr.best_params_))\n",
    "print('Accuracy of Logistic Regression In Test-set :'+str(np.round(best_clf_lr.score(x_test,y_test)*100,2))+'%')"
   ]
  },
  {
   "cell_type": "code",
   "execution_count": null,
   "id": "c4bed7bb",
   "metadata": {},
   "outputs": [],
   "source": []
  },
  {
   "cell_type": "code",
   "execution_count": 58,
   "id": "8afe2782",
   "metadata": {},
   "outputs": [
    {
     "name": "stdout",
     "output_type": "stream",
     "text": [
      "Confusion Matrix\n"
     ]
    },
    {
     "data": {
      "text/plain": [
       "<sklearn.metrics._plot.confusion_matrix.ConfusionMatrixDisplay at 0x251ff836970>"
      ]
     },
     "execution_count": 58,
     "metadata": {},
     "output_type": "execute_result"
    },
    {
     "data": {
      "image/png": "[encoded data removed]",
      "text/plain": [
       "<Figure size 432x288 with 2 Axes>"
      ]
     },
     "metadata": {
      "needs_background": "light"
     },
     "output_type": "display_data"
    }
   ],
   "source": [
    "from sklearn.metrics import confusion_matrix, plot_confusion_matrix, ConfusionMatrixDisplay\n",
    "from IPython.display import display\n",
    "\n",
    "c_matrix = confusion_matrix(y_test, logreg.predict(x_test))\n",
    "\n",
    "# print(\"Confusion Matrix:\")\n",
    "# print(c_matrix)\n",
    "# print()\n",
    "\n",
    "# TP = c_matrix[0][0]\n",
    "# FP = c_matrix[0][1]\n",
    "# FN = c_matrix[1][0]\n",
    "# TN = c_matrix[1][1]\n",
    "\n",
    "# print(f\"True Positives: {TP}, False Positives: {FP}\")\n",
    "# print(f\"True Negatives: {TN}, False Negatives: {FN}\")\n",
    "# print()\n",
    "\n",
    "# precision = TP/(TP+FP)\n",
    "# recall = TP/(TP+FN)\n",
    "# print(f\"Precision: {precision}\")\n",
    "# print(f\"Recall: {recall}\")\n",
    "\n",
    "\n",
    "\n",
    "\n",
    "\n",
    "print(\"Confusion Matrix\")\n",
    "plot_confusion_matrix(logreg, x_test, y_test) \n",
    "\n"
   ]
  },
  {
   "cell_type": "markdown",
   "id": "ca03e8c1",
   "metadata": {},
   "source": [
    "## Decision Tree"
   ]
  },
  {
   "cell_type": "code",
   "execution_count": 59,
   "id": "c7d4bc23",
   "metadata": {},
   "outputs": [
    {
     "name": "stdout",
     "output_type": "stream",
     "text": [
      "Decision Trees Metrics:\n",
      "\n",
      "Training Accuracy: 0.9901685393258427\n",
      "Testing Accuracy: 0.7877094972067039\n",
      "Precision: 0.72\n",
      "Recall: 0.7605633802816901\n",
      "F1 Score: 0.7397260273972602\n",
      "Matthew's Correlation Coefficient: 0.5613082589795484\n"
     ]
    }
   ],
   "source": [
    "from sklearn import tree\n",
    "dec_tree = tree.DecisionTreeClassifier()\n",
    "dec_tree = dec_tree.fit(x_train, y_train)\n",
    "#tree.plot_tree(dec_tree)\n",
    "print(\"Decision Trees Metrics:\\n\")\n",
    "print(f\"Training Accuracy: {dec_tree.score(x_train,y_train)}\")\n",
    "print(f\"Testing Accuracy: {dec_tree.score(x_test,y_test)}\")\n",
    "print(f\"Precision: {precision_score(y_test, dec_tree.predict(x_test),average='binary')}\")\n",
    "print(f\"Recall: {recall_score(y_test, dec_tree.predict(x_test),average='binary')}\")\n",
    "print(f\"F1 Score: {f1_score(y_test, dec_tree.predict(x_test),average='binary')}\")\n",
    "print(f\"Matthew's Correlation Coefficient: {matthews_corrcoef(y_test, dec_tree.predict(x_test))}\")"
   ]
  },
  {
   "cell_type": "code",
   "execution_count": 60,
   "id": "f0de7fad",
   "metadata": {},
   "outputs": [
    {
     "name": "stdout",
     "output_type": "stream",
     "text": [
      "Confusion Matrix\n"
     ]
    },
    {
     "data": {
      "text/plain": [
       "<sklearn.metrics._plot.confusion_matrix.ConfusionMatrixDisplay at 0x251fe578f10>"
      ]
     },
     "execution_count": 60,
     "metadata": {},
     "output_type": "execute_result"
    },
    {
     "data": {
      "image/png": "[encoded data removed]",
      "text/plain": [
       "<Figure size 432x288 with 2 Axes>"
      ]
     },
     "metadata": {
      "needs_background": "light"
     },
     "output_type": "display_data"
    }
   ],
   "source": [
    "print(\"Confusion Matrix\")\n",
    "plot_confusion_matrix(dec_tree, x_test, y_test) "
   ]
  },
  {
   "cell_type": "markdown",
   "id": "70eed06d",
   "metadata": {},
   "source": [
    "## Perceptron"
   ]
  },
  {
   "cell_type": "code",
   "execution_count": 61,
   "id": "94c0ee0e",
   "metadata": {},
   "outputs": [
    {
     "name": "stdout",
     "output_type": "stream",
     "text": [
      "Perceptron Metrics:\n",
      "\n",
      "Training Accuracy: 0.7176966292134831\n",
      "Testing Accuracy: 0.7541899441340782\n",
      "Precision: 0.6588235294117647\n",
      "Recall: 0.7887323943661971\n",
      "F1 Score: 0.717948717948718\n",
      "Matthew's Correlation Coefficient: 0.5096236741028191\n"
     ]
    }
   ],
   "source": [
    "from sklearn.linear_model import Perceptron\n",
    "\n",
    "percep = Perceptron(tol=1e-3, random_state=0)\n",
    "percep.fit(x_train, y_train)\n",
    "\n",
    "print(\"Perceptron Metrics:\\n\")\n",
    "print(f\"Training Accuracy: {percep.score(x_train,y_train)}\")\n",
    "print(f\"Testing Accuracy: {percep.score(x_test,y_test)}\")\n",
    "print(f\"Precision: {precision_score(y_test, percep.predict(x_test),average='binary')}\")\n",
    "print(f\"Recall: {recall_score(y_test, percep.predict(x_test),average='binary')}\")\n",
    "print(f\"F1 Score: {f1_score(y_test, percep.predict(x_test),average='binary')}\")\n",
    "print(f\"Matthew's Correlation Coefficient: {matthews_corrcoef(y_test, percep.predict(x_test))}\")"
   ]
  },
  {
   "cell_type": "code",
   "execution_count": 62,
   "id": "781fba9e",
   "metadata": {},
   "outputs": [
    {
     "name": "stdout",
     "output_type": "stream",
     "text": [
      "Confusion Matrix\n"
     ]
    },
    {
     "data": {
      "text/plain": [
       "<sklearn.metrics._plot.confusion_matrix.ConfusionMatrixDisplay at 0x251fe5787c0>"
      ]
     },
     "execution_count": 62,
     "metadata": {},
     "output_type": "execute_result"
    },
    {
     "data": {
      "image/png": "[encoded data removed]",
      "text/plain": [
       "<Figure size 432x288 with 2 Axes>"
      ]
     },
     "metadata": {
      "needs_background": "light"
     },
     "output_type": "display_data"
    }
   ],
   "source": [
    "print(\"Confusion Matrix\")\n",
    "plot_confusion_matrix(percep, x_test, y_test) "
   ]
  },
  {
   "cell_type": "markdown",
   "id": "480fc071",
   "metadata": {},
   "source": [
    "# IGNORE FROM HERE"
   ]
  },
  {
   "cell_type": "code",
   "execution_count": 63,
   "id": "2af477a0",
   "metadata": {},
   "outputs": [],
   "source": [
    "# from sklearn.datasets import make_classification\n",
    "# from sklearn.model_selection import train_test_split\n",
    "# from sklearn.linear_model import LogisticRegression\n",
    "# from sklearn.metrics import roc_curve , roc_auc_score , \\\n",
    "# precision_recall_curve , auc\n",
    "# import seaborn as sns\n",
    "# % matplotlib inline\n",
    "# % config InlineBackend.figure_format = ' svg '\n",
    "\n",
    "# X , y = make_classification(n_samples = 10000, n_classes = 2, weights [ 0.95,0.05 ] , random_state = 42)\n",
    "# X_train , X_test , y_train , y_test = train_test_split( x , y , test_size = 0.2 , random_state = 2 )\n",
    "# model = LogisticRegression( ) .fit ( X_train , y_train )"
   ]
  },
  {
   "cell_type": "code",
   "execution_count": 64,
   "id": "ef2792c8",
   "metadata": {},
   "outputs": [],
   "source": [
    "# from sklearn.metrics import roc_curve , roc_auc_score, precision_recall_curve , auc\n",
    "# import seaborn as sns\n",
    "\n",
    "# #ROC Curve\n",
    "# fpr, tpr, thresholds = roc_curve (y_test, logreg.predict(x_test))\n",
    "# sns.lineplot ([ 0 , 1 ] , [ 0 , 1 ] , linestyle = '--' )\n",
    "# plt = sns.lineplot(fpr, tpr, marker = '.')\n",
    "# auc_score = roc_auc_score (y_test , logreg.predict(x_test))\n",
    "# print('AUC: %.3f ' % auc_score )"
   ]
  },
  {
   "cell_type": "code",
   "execution_count": 65,
   "id": "2c420422",
   "metadata": {},
   "outputs": [],
   "source": [
    "# #Precision/Recall Curve\n",
    "# precision, recall, thresholds = precision_recall_curve(y_test,logreg.predict(x_test) )\n",
    "# pr_auc_score = auc(recall,precision)\n",
    "# sns.lineplot ([ 0 , 1 ] , [ 0 , 1 ] , linestyle = '--' )\n",
    "# plt = sns.lineplot(recall, precision, marker = '.')\n",
    "# print('AUC: %.3f ' % pr_auc_score )"
   ]
  },
  {
   "cell_type": "code",
   "execution_count": 66,
   "id": "d7174676",
   "metadata": {},
   "outputs": [],
   "source": [
    "# print('\\n\\n\\n\\n\\n\\n')\n",
    "# print('Old Code Below')"
   ]
  },
  {
   "cell_type": "markdown",
   "id": "f8afaccb",
   "metadata": {},
   "source": [
    "Initialise B: set of training parameters"
   ]
  },
  {
   "cell_type": "code",
   "execution_count": 67,
   "id": "85d1e552",
   "metadata": {},
   "outputs": [],
   "source": [
    "# B = np.random.normal(size = x_train.shape[1]) #x_train.shape[1] = number of features including x0\n",
    "# print(B)"
   ]
  },
  {
   "cell_type": "markdown",
   "id": "202cf11a",
   "metadata": {},
   "source": [
    "Sigmoid function"
   ]
  },
  {
   "cell_type": "code",
   "execution_count": 68,
   "id": "6f29ae11",
   "metadata": {},
   "outputs": [],
   "source": [
    "# def sigmoid(x):\n",
    "#     if x > 700:      #avoid math overflow error\n",
    "#         sig = 1.0\n",
    "\n",
    "#     elif x <= -700: #avoid math overflow error\n",
    "#         sig = 0\n",
    "\n",
    "#     else:\n",
    "#         sig = 1 / (1 + math.exp(-x))\n",
    "        \n",
    "#     return sig"
   ]
  },
  {
   "cell_type": "markdown",
   "id": "c33094d8",
   "metadata": {},
   "source": [
    "get H_x from function below"
   ]
  },
  {
   "cell_type": "code",
   "execution_count": 69,
   "id": "7e02ba89",
   "metadata": {},
   "outputs": [],
   "source": [
    "# def g_z(X, B):\n",
    "#     Y = []\n",
    "#     for i in range(X.shape[0]):\n",
    "#         z = np.dot(X[i], B) #multiply B times X\n",
    "#         Y.append(sigmoid(z))\n",
    "    \n",
    "#     return np.asarray(Y) #convert list to array"
   ]
  },
  {
   "cell_type": "markdown",
   "id": "ca6e2a0b",
   "metadata": {},
   "source": [
    "Error Function"
   ]
  },
  {
   "cell_type": "code",
   "execution_count": 70,
   "id": "ce6208e1",
   "metadata": {},
   "outputs": [],
   "source": [
    "# def J_B(true_y, pred_y, B, regPara):\n",
    "#     epsilon = 1e-5 # to prevent 0 values in log\n",
    "\n",
    "#     a  = (true_y * np.log(pred_y + epsilon)) + ((1-true_y) * np.log((1 - pred_y) +epsilon))\n",
    "#     b = regPara * (np.sum(np.square(B[1:]))) \n",
    "#     return (-1 * np.sum(a)) + b"
   ]
  },
  {
   "cell_type": "markdown",
   "id": "cc0950dc",
   "metadata": {},
   "source": [
    "Get Prediction Function"
   ]
  },
  {
   "cell_type": "code",
   "execution_count": 71,
   "id": "adde8e42",
   "metadata": {},
   "outputs": [],
   "source": [
    "# def getPredictions(H_x):\n",
    "#     Y = []\n",
    "#     for i in range(H_x.size):\n",
    "#         if(H_x[i] >= 0.5):\n",
    "#             Y.append(1)\n",
    "#         else:\n",
    "#             Y.append(0)\n",
    "#     return np.asarray(Y)"
   ]
  },
  {
   "cell_type": "markdown",
   "id": "85a346bf",
   "metadata": {},
   "source": [
    "Get Accuracy function"
   ]
  },
  {
   "cell_type": "code",
   "execution_count": 72,
   "id": "4b2310c9",
   "metadata": {},
   "outputs": [],
   "source": [
    "# def getAccuracy(y_true, y_pred):\n",
    "#     sum = 0\n",
    "#     for i in range(y_true.size):\n",
    "#         if y_true[i] == y_pred[i]:\n",
    "#             sum = sum + 1\n",
    "            \n",
    "#     return np.round(sum/y_true.size,4)"
   ]
  },
  {
   "cell_type": "markdown",
   "id": "8b8e3a4c",
   "metadata": {},
   "source": [
    "Gradient Descent with regularization Function"
   ]
  },
  {
   "cell_type": "code",
   "execution_count": 73,
   "id": "badfec2d",
   "metadata": {},
   "outputs": [],
   "source": [
    "#  #Y(actual values),X(features), B(training parameters), reg_para(regularisation parameter), l_rate(learning rate), epsilon(stop GD when norm < epsilon)\n",
    "# def Grad_Desc(Y, X, B, reg_para, l_rate, epsilon):\n",
    "#     norm = epsilon + 1\n",
    "#     H_x = g_z(X, B)\n",
    "#     B_old = B.copy()\n",
    "#     while norm > epsilon:\n",
    "#         for i in range(B.size):\n",
    "#             if i == 0: # no regularization\n",
    "#                 B[i] = B[i] - (l_rate * np.sum(H_x - Y))\n",
    "#             else:\n",
    "#                 B[i] = B[i] - (l_rate * (np.sum((H_x - Y) * X[:,i]) - (reg_para * B[i] / X.shape[0])))\n",
    "#         norm = np.linalg.norm(np.subtract(B,B_old), 2)\n",
    "#         H_x = g_z(X, B)\n",
    "#         B_old = B.copy()\n",
    "        \n",
    "#     return B"
   ]
  },
  {
   "cell_type": "code",
   "execution_count": 74,
   "id": "b86c2e14",
   "metadata": {},
   "outputs": [],
   "source": [
    "# print(\"Original Parameters\")\n",
    "# print(B)\n",
    "\n",
    "# h_x = g_z(x_train, B)\n",
    "# print(\"Original Error: \" + str(J_B(y_train, h_x, B, regPara=0.5)) )\n",
    "\n",
    "# print(\"Accuracy: \" + str(getAccuracy(y_train, getPredictions(h_x)) * 100) + \"%\")"
   ]
  },
  {
   "cell_type": "markdown",
   "id": "6d1a4413",
   "metadata": {},
   "source": [
    "Perform Gradient Descent"
   ]
  },
  {
   "cell_type": "code",
   "execution_count": 75,
   "id": "154096bd",
   "metadata": {},
   "outputs": [],
   "source": [
    "# print(np.shape(x_test))\n",
    "# print(np.shape(x_train))\n",
    "# print(x_train[0])\n",
    "# print(x_test[0])"
   ]
  },
  {
   "cell_type": "code",
   "execution_count": 76,
   "id": "a6c2b59d",
   "metadata": {},
   "outputs": [],
   "source": [
    "# import time\n",
    "\n",
    "# def Logistic_Regression(new_reg_para,new_l_rate,new_epsilon):\n",
    "#     start_time = time.time()\n",
    "#     B_new = Grad_Desc(y_train, x_train, B.copy(), reg_para=new_reg_para, l_rate=new_l_rate, epsilon=new_epsilon)\n",
    "#     #print(\"New Parameters\")\n",
    "#     #print(B_new)\n",
    "\n",
    "#     h_x_new = g_z(x_train, B_new)\n",
    "#     print(\"Error after Gradient Descent: \" + str(J_B(y_train, h_x_new, B_new, regPara=new_reg_para)) )\n",
    "#     end_time = time.time()\n",
    "    \n",
    "#     y_pred = getPredictions(h_x_new)\n",
    "#     training_accuracy = getAccuracy(y_train, y_pred)\n",
    "#     #print(f\"Learning Rate: {new_l_rate}\")\n",
    "#     print(f\"Time taken to train model: {end_time-start_time}s\")\n",
    "#     print(\"Training Accuracy: \" + str(training_accuracy*100) + \" %\")\n",
    "    \n",
    "#     #Testing Data shape not the same as Training Data\n",
    "#     #Testing Accuracy\n",
    "#     h_x_testing = g_z(x_test,B_new)\n",
    "#     y_pred_test = getPredictions(h_x_testing)\n",
    "#     testing_accuracy = getAccuracy(y_test, y_pred_test)\n",
    "#     print(\"Testing Accuracy: \" + str(testing_accuracy*100) + \" %\\n\\n\")\n",
    "#     #testing_accuracy = training_accuracy # Delete this when testing data is fixed\n",
    "    \n",
    "#     return training_accuracy, testing_accuracy"
   ]
  },
  {
   "cell_type": "code",
   "execution_count": 77,
   "id": "49b2bbbc",
   "metadata": {},
   "outputs": [],
   "source": [
    "# #Logistic Regression with Regression\n",
    "# training_accuracy, testing_accuracy = Logistic_Regression(0.5,0.000005,0.00005)"
   ]
  },
  {
   "cell_type": "code",
   "execution_count": 78,
   "id": "aa1cd095",
   "metadata": {},
   "outputs": [],
   "source": [
    "# #Investigate Effect of Different Learning Rates\n",
    "\n",
    "# #Pick 10 learning rates\n",
    "# learning_rates = [0.0000005 * i for i in range(10)]\n",
    "\n",
    "# #Lists to store training and testing accuracies for each learning rate\n",
    "# training_accuracy_list = []\n",
    "# testing_accuracy_list = [] \n",
    "\n",
    "# #For each learning rate\n",
    "# for i in range(0,len(learning_rates)):\n",
    "#     print(f\"Learning Rate: {learning_rates[i]}\")\n",
    "#     training_accuracy, testing_accuracy = Logistic_Regression(0.5, learning_rates[i],0.00005)\n",
    "#     training_accuracy_list.append(training_accuracy)\n",
    "#     testing_accuracy_list.append(testing_accuracy)\n"
   ]
  },
  {
   "cell_type": "code",
   "execution_count": 79,
   "id": "2b9459d3",
   "metadata": {},
   "outputs": [],
   "source": [
    "# #Plot Training Accuracy\n",
    "# plt.plot(learning_rates, training_accuracy_list, label=\"Training Accuracy\")\n",
    "\n",
    "# #Plot Testing Accuracy\n",
    "# plt.plot(learning_rates, testing_accuracy_list, label=\"Testing Accuracy\")\n",
    "    \n",
    "# plt.xlabel('Learning Rates')\n",
    "# plt.ylabel('Accuracy')\n",
    "\n",
    "# plt.legend()\n",
    "\n",
    "# plt.title('Effect of Different Learning Rates on Accuracy')\n",
    "# plt.show()"
   ]
  },
  {
   "cell_type": "code",
   "execution_count": 80,
   "id": "0b8e150f",
   "metadata": {},
   "outputs": [],
   "source": [
    "# #Investigate Effect of Different Regularisation Parameters\n",
    "\n",
    "# #Pick 5 regularisation parameters\n",
    "# reg_params = [0.1 * i for i in range(5)]\n",
    "# print(reg_params)\n",
    "\n",
    "# #Lists to store training and testing accuracies for each learning rate\n",
    "# training_accuracy_list = []\n",
    "# testing_accuracy_list = [] \n",
    "\n",
    "# #For each Regularisation Parameter\n",
    "# for i in range(0,len(reg_params)):\n",
    "#     print(f\"Regularisation Parameter: {reg_params[i]}\")\n",
    "#     training_accuracy, testing_accuracy = Logistic_Regression(reg_params[i], 0.000005,0.00005)\n",
    "#     training_accuracy_list.append(training_accuracy)\n",
    "#     testing_accuracy_list.append(testing_accuracy)"
   ]
  },
  {
   "cell_type": "code",
   "execution_count": 81,
   "id": "a33cc5d6",
   "metadata": {},
   "outputs": [],
   "source": [
    "# #Plot Training Accuracy\n",
    "# plt.plot(reg_params, training_accuracy_list, label=\"Training Accuracy\")\n",
    "\n",
    "# #Plot Testing Accuracy\n",
    "# plt.plot(reg_params, testing_accuracy_list, label=\"Testing Accuracy\")\n",
    "    \n",
    "# plt.xlabel('Regularisation Parameters')\n",
    "# plt.ylabel('Accuracy')\n",
    "\n",
    "# plt.legend()\n",
    "\n",
    "# plt.title('Effect of Different Regularisation Parameters on Accuracy')\n",
    "# plt.show()"
   ]
  },
  {
   "cell_type": "code",
   "execution_count": 82,
   "id": "b6b79963",
   "metadata": {},
   "outputs": [],
   "source": [
    "# #Investigate Effect of Different Epsilon Parameters\n",
    "\n",
    "# #Pick 5 epsilon parameters\n",
    "# epsilon_params = [0.00001 * i for i in range(5)]\n",
    "# print(epsilon_params)\n",
    "\n",
    "# #Lists to store training and testing accuracies for each learning rate\n",
    "# training_accuracy_list = []\n",
    "# testing_accuracy_list = [] \n",
    "\n",
    "# #For each Regularisation Parameter\n",
    "# for i in range(0,len(epsilon_params)):\n",
    "#     print(f\"Epsilon Parameter: {epsilon_params[i]}\")\n",
    "#     training_accuracy, testing_accuracy = Logistic_Regression(epsilon_params[i], 0.000005,0.00005)\n",
    "#     training_accuracy_list.append(training_accuracy)\n",
    "#     testing_accuracy_list.append(testing_accuracy)"
   ]
  },
  {
   "cell_type": "code",
   "execution_count": 83,
   "id": "74f67b29",
   "metadata": {},
   "outputs": [],
   "source": [
    "# #Plot Training Accuracy\n",
    "# plt.plot(epsilon_params, training_accuracy_list, label=\"Training Accuracy\")\n",
    "\n",
    "# #Plot Testing Accuracy\n",
    "# plt.plot(epsilon_params, testing_accuracy_list, label=\"Testing Accuracy\")\n",
    "    \n",
    "# plt.xlabel('Epsilon Parameters')\n",
    "# plt.ylabel('Accuracy')\n",
    "\n",
    "# plt.legend()\n",
    "\n",
    "# plt.title('Effect of Different Epsilon Parameters on Accuracy')\n",
    "# plt.show()"
   ]
  }
 ],
 "metadata": {
  "interpreter": {
   "hash": "8cc8c771acdc9ec3b6292c565489e70e793dc6f9263ab8c2b10339369a9b22c2"
  },
  "kernelspec": {
   "display_name": "Python 3 (ipykernel)",
   "language": "python",
   "name": "python3"
  },
  "language_info": {
   "codemirror_mode": {
    "name": "ipython",
    "version": 3
   },
   "file_extension": ".py",
   "mimetype": "text/x-python",
   "name": "python",
   "nbconvert_exporter": "python",
   "pygments_lexer": "ipython3",
   "version": "3.9.7"
  }
 },
 "nbformat": 4,
 "nbformat_minor": 5
}
