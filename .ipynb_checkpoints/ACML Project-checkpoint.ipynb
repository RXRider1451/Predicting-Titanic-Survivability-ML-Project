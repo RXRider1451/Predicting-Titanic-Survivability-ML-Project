{
 "cells": [
  {
   "cell_type": "code",
   "execution_count": 605,
   "id": "f4cebee9-bc82-48c3-a480-1c865b8580ce",
   "metadata": {},
   "outputs": [],
   "source": [
    "import pandas as pd\n",
    "import numpy as np\n",
    "import matplotlib.pyplot as plt\n",
    "%matplotlib inline\n",
    "import seaborn as sns\n",
    "import math"
   ]
  },
  {
   "cell_type": "code",
   "execution_count": 606,
   "id": "4d83e576-cf20-48b0-8ecf-0d54e73f28b9",
   "metadata": {},
   "outputs": [
    {
     "data": {
      "text/html": [
       "<div>\n",
       "<style scoped>\n",
       "    .dataframe tbody tr th:only-of-type {\n",
       "        vertical-align: middle;\n",
       "    }\n",
       "\n",
       "    .dataframe tbody tr th {\n",
       "        vertical-align: top;\n",
       "    }\n",
       "\n",
       "    .dataframe thead th {\n",
       "        text-align: right;\n",
       "    }\n",
       "</style>\n",
       "<table border=\"1\" class=\"dataframe\">\n",
       "  <thead>\n",
       "    <tr style=\"text-align: right;\">\n",
       "      <th></th>\n",
       "      <th>PassengerId</th>\n",
       "      <th>Survived</th>\n",
       "      <th>Pclass</th>\n",
       "      <th>Name</th>\n",
       "      <th>Sex</th>\n",
       "      <th>Age</th>\n",
       "      <th>SibSp</th>\n",
       "      <th>Parch</th>\n",
       "      <th>Ticket</th>\n",
       "      <th>Fare</th>\n",
       "      <th>Cabin</th>\n",
       "      <th>Embarked</th>\n",
       "    </tr>\n",
       "  </thead>\n",
       "  <tbody>\n",
       "    <tr>\n",
       "      <th>0</th>\n",
       "      <td>1</td>\n",
       "      <td>0</td>\n",
       "      <td>3</td>\n",
       "      <td>Braund, Mr. Owen Harris</td>\n",
       "      <td>male</td>\n",
       "      <td>22.0</td>\n",
       "      <td>1</td>\n",
       "      <td>0</td>\n",
       "      <td>A/5 21171</td>\n",
       "      <td>7.2500</td>\n",
       "      <td>NaN</td>\n",
       "      <td>S</td>\n",
       "    </tr>\n",
       "    <tr>\n",
       "      <th>1</th>\n",
       "      <td>2</td>\n",
       "      <td>1</td>\n",
       "      <td>1</td>\n",
       "      <td>Cumings, Mrs. John Bradley (Florence Briggs Th...</td>\n",
       "      <td>female</td>\n",
       "      <td>38.0</td>\n",
       "      <td>1</td>\n",
       "      <td>0</td>\n",
       "      <td>PC 17599</td>\n",
       "      <td>71.2833</td>\n",
       "      <td>C85</td>\n",
       "      <td>C</td>\n",
       "    </tr>\n",
       "    <tr>\n",
       "      <th>2</th>\n",
       "      <td>3</td>\n",
       "      <td>1</td>\n",
       "      <td>3</td>\n",
       "      <td>Heikkinen, Miss. Laina</td>\n",
       "      <td>female</td>\n",
       "      <td>26.0</td>\n",
       "      <td>0</td>\n",
       "      <td>0</td>\n",
       "      <td>STON/O2. 3101282</td>\n",
       "      <td>7.9250</td>\n",
       "      <td>NaN</td>\n",
       "      <td>S</td>\n",
       "    </tr>\n",
       "    <tr>\n",
       "      <th>3</th>\n",
       "      <td>4</td>\n",
       "      <td>1</td>\n",
       "      <td>1</td>\n",
       "      <td>Futrelle, Mrs. Jacques Heath (Lily May Peel)</td>\n",
       "      <td>female</td>\n",
       "      <td>35.0</td>\n",
       "      <td>1</td>\n",
       "      <td>0</td>\n",
       "      <td>113803</td>\n",
       "      <td>53.1000</td>\n",
       "      <td>C123</td>\n",
       "      <td>S</td>\n",
       "    </tr>\n",
       "    <tr>\n",
       "      <th>4</th>\n",
       "      <td>5</td>\n",
       "      <td>0</td>\n",
       "      <td>3</td>\n",
       "      <td>Allen, Mr. William Henry</td>\n",
       "      <td>male</td>\n",
       "      <td>35.0</td>\n",
       "      <td>0</td>\n",
       "      <td>0</td>\n",
       "      <td>373450</td>\n",
       "      <td>8.0500</td>\n",
       "      <td>NaN</td>\n",
       "      <td>S</td>\n",
       "    </tr>\n",
       "    <tr>\n",
       "      <th>5</th>\n",
       "      <td>6</td>\n",
       "      <td>0</td>\n",
       "      <td>3</td>\n",
       "      <td>Moran, Mr. James</td>\n",
       "      <td>male</td>\n",
       "      <td>NaN</td>\n",
       "      <td>0</td>\n",
       "      <td>0</td>\n",
       "      <td>330877</td>\n",
       "      <td>8.4583</td>\n",
       "      <td>NaN</td>\n",
       "      <td>Q</td>\n",
       "    </tr>\n",
       "    <tr>\n",
       "      <th>6</th>\n",
       "      <td>7</td>\n",
       "      <td>0</td>\n",
       "      <td>1</td>\n",
       "      <td>McCarthy, Mr. Timothy J</td>\n",
       "      <td>male</td>\n",
       "      <td>54.0</td>\n",
       "      <td>0</td>\n",
       "      <td>0</td>\n",
       "      <td>17463</td>\n",
       "      <td>51.8625</td>\n",
       "      <td>E46</td>\n",
       "      <td>S</td>\n",
       "    </tr>\n",
       "    <tr>\n",
       "      <th>7</th>\n",
       "      <td>8</td>\n",
       "      <td>0</td>\n",
       "      <td>3</td>\n",
       "      <td>Palsson, Master. Gosta Leonard</td>\n",
       "      <td>male</td>\n",
       "      <td>2.0</td>\n",
       "      <td>3</td>\n",
       "      <td>1</td>\n",
       "      <td>349909</td>\n",
       "      <td>21.0750</td>\n",
       "      <td>NaN</td>\n",
       "      <td>S</td>\n",
       "    </tr>\n",
       "    <tr>\n",
       "      <th>8</th>\n",
       "      <td>9</td>\n",
       "      <td>1</td>\n",
       "      <td>3</td>\n",
       "      <td>Johnson, Mrs. Oscar W (Elisabeth Vilhelmina Berg)</td>\n",
       "      <td>female</td>\n",
       "      <td>27.0</td>\n",
       "      <td>0</td>\n",
       "      <td>2</td>\n",
       "      <td>347742</td>\n",
       "      <td>11.1333</td>\n",
       "      <td>NaN</td>\n",
       "      <td>S</td>\n",
       "    </tr>\n",
       "    <tr>\n",
       "      <th>9</th>\n",
       "      <td>10</td>\n",
       "      <td>1</td>\n",
       "      <td>2</td>\n",
       "      <td>Nasser, Mrs. Nicholas (Adele Achem)</td>\n",
       "      <td>female</td>\n",
       "      <td>14.0</td>\n",
       "      <td>1</td>\n",
       "      <td>0</td>\n",
       "      <td>237736</td>\n",
       "      <td>30.0708</td>\n",
       "      <td>NaN</td>\n",
       "      <td>C</td>\n",
       "    </tr>\n",
       "  </tbody>\n",
       "</table>\n",
       "</div>"
      ],
      "text/plain": [
       "   PassengerId  Survived  Pclass  \\\n",
       "0            1         0       3   \n",
       "1            2         1       1   \n",
       "2            3         1       3   \n",
       "3            4         1       1   \n",
       "4            5         0       3   \n",
       "5            6         0       3   \n",
       "6            7         0       1   \n",
       "7            8         0       3   \n",
       "8            9         1       3   \n",
       "9           10         1       2   \n",
       "\n",
       "                                                Name     Sex   Age  SibSp  \\\n",
       "0                            Braund, Mr. Owen Harris    male  22.0      1   \n",
       "1  Cumings, Mrs. John Bradley (Florence Briggs Th...  female  38.0      1   \n",
       "2                             Heikkinen, Miss. Laina  female  26.0      0   \n",
       "3       Futrelle, Mrs. Jacques Heath (Lily May Peel)  female  35.0      1   \n",
       "4                           Allen, Mr. William Henry    male  35.0      0   \n",
       "5                                   Moran, Mr. James    male   NaN      0   \n",
       "6                            McCarthy, Mr. Timothy J    male  54.0      0   \n",
       "7                     Palsson, Master. Gosta Leonard    male   2.0      3   \n",
       "8  Johnson, Mrs. Oscar W (Elisabeth Vilhelmina Berg)  female  27.0      0   \n",
       "9                Nasser, Mrs. Nicholas (Adele Achem)  female  14.0      1   \n",
       "\n",
       "   Parch            Ticket     Fare Cabin Embarked  \n",
       "0      0         A/5 21171   7.2500   NaN        S  \n",
       "1      0          PC 17599  71.2833   C85        C  \n",
       "2      0  STON/O2. 3101282   7.9250   NaN        S  \n",
       "3      0            113803  53.1000  C123        S  \n",
       "4      0            373450   8.0500   NaN        S  \n",
       "5      0            330877   8.4583   NaN        Q  \n",
       "6      0             17463  51.8625   E46        S  \n",
       "7      1            349909  21.0750   NaN        S  \n",
       "8      2            347742  11.1333   NaN        S  \n",
       "9      0            237736  30.0708   NaN        C  "
      ]
     },
     "execution_count": 606,
     "metadata": {},
     "output_type": "execute_result"
    }
   ],
   "source": [
    "#Use data from train.csv for training and testing datasets\n",
    "#test.csv doesn't contain ground-truth labels so we wouldn't be able to determine testing accuracy from it\n",
    "dataset = pd.read_csv('train.csv')\n",
    "dataset.head(10)"
   ]
  },
  {
   "cell_type": "code",
   "execution_count": 607,
   "id": "a6819a4f-5908-4a42-b767-58db1e831db8",
   "metadata": {},
   "outputs": [
    {
     "name": "stdout",
     "output_type": "stream",
     "text": [
      "(891, 12)\n"
     ]
    },
    {
     "data": {
      "text/html": [
       "<div>\n",
       "<style scoped>\n",
       "    .dataframe tbody tr th:only-of-type {\n",
       "        vertical-align: middle;\n",
       "    }\n",
       "\n",
       "    .dataframe tbody tr th {\n",
       "        vertical-align: top;\n",
       "    }\n",
       "\n",
       "    .dataframe thead th {\n",
       "        text-align: right;\n",
       "    }\n",
       "</style>\n",
       "<table border=\"1\" class=\"dataframe\">\n",
       "  <thead>\n",
       "    <tr style=\"text-align: right;\">\n",
       "      <th></th>\n",
       "      <th>PassengerId</th>\n",
       "      <th>Survived</th>\n",
       "      <th>Pclass</th>\n",
       "      <th>Name</th>\n",
       "      <th>Sex</th>\n",
       "      <th>Age</th>\n",
       "      <th>SibSp</th>\n",
       "      <th>Parch</th>\n",
       "      <th>Ticket</th>\n",
       "      <th>Fare</th>\n",
       "      <th>Cabin</th>\n",
       "      <th>Embarked</th>\n",
       "    </tr>\n",
       "  </thead>\n",
       "  <tbody>\n",
       "    <tr>\n",
       "      <th>0</th>\n",
       "      <td>1</td>\n",
       "      <td>0</td>\n",
       "      <td>3</td>\n",
       "      <td>Braund, Mr. Owen Harris</td>\n",
       "      <td>male</td>\n",
       "      <td>22.0</td>\n",
       "      <td>1</td>\n",
       "      <td>0</td>\n",
       "      <td>A/5 21171</td>\n",
       "      <td>7.2500</td>\n",
       "      <td>NaN</td>\n",
       "      <td>S</td>\n",
       "    </tr>\n",
       "    <tr>\n",
       "      <th>1</th>\n",
       "      <td>2</td>\n",
       "      <td>1</td>\n",
       "      <td>1</td>\n",
       "      <td>Cumings, Mrs. John Bradley (Florence Briggs Th...</td>\n",
       "      <td>female</td>\n",
       "      <td>38.0</td>\n",
       "      <td>1</td>\n",
       "      <td>0</td>\n",
       "      <td>PC 17599</td>\n",
       "      <td>71.2833</td>\n",
       "      <td>C85</td>\n",
       "      <td>C</td>\n",
       "    </tr>\n",
       "    <tr>\n",
       "      <th>2</th>\n",
       "      <td>3</td>\n",
       "      <td>1</td>\n",
       "      <td>3</td>\n",
       "      <td>Heikkinen, Miss. Laina</td>\n",
       "      <td>female</td>\n",
       "      <td>26.0</td>\n",
       "      <td>0</td>\n",
       "      <td>0</td>\n",
       "      <td>STON/O2. 3101282</td>\n",
       "      <td>7.9250</td>\n",
       "      <td>NaN</td>\n",
       "      <td>S</td>\n",
       "    </tr>\n",
       "    <tr>\n",
       "      <th>3</th>\n",
       "      <td>4</td>\n",
       "      <td>1</td>\n",
       "      <td>1</td>\n",
       "      <td>Futrelle, Mrs. Jacques Heath (Lily May Peel)</td>\n",
       "      <td>female</td>\n",
       "      <td>35.0</td>\n",
       "      <td>1</td>\n",
       "      <td>0</td>\n",
       "      <td>113803</td>\n",
       "      <td>53.1000</td>\n",
       "      <td>C123</td>\n",
       "      <td>S</td>\n",
       "    </tr>\n",
       "    <tr>\n",
       "      <th>4</th>\n",
       "      <td>5</td>\n",
       "      <td>0</td>\n",
       "      <td>3</td>\n",
       "      <td>Allen, Mr. William Henry</td>\n",
       "      <td>male</td>\n",
       "      <td>35.0</td>\n",
       "      <td>0</td>\n",
       "      <td>0</td>\n",
       "      <td>373450</td>\n",
       "      <td>8.0500</td>\n",
       "      <td>NaN</td>\n",
       "      <td>S</td>\n",
       "    </tr>\n",
       "  </tbody>\n",
       "</table>\n",
       "</div>"
      ],
      "text/plain": [
       "   PassengerId  Survived  Pclass  \\\n",
       "0            1         0       3   \n",
       "1            2         1       1   \n",
       "2            3         1       3   \n",
       "3            4         1       1   \n",
       "4            5         0       3   \n",
       "\n",
       "                                                Name     Sex   Age  SibSp  \\\n",
       "0                            Braund, Mr. Owen Harris    male  22.0      1   \n",
       "1  Cumings, Mrs. John Bradley (Florence Briggs Th...  female  38.0      1   \n",
       "2                             Heikkinen, Miss. Laina  female  26.0      0   \n",
       "3       Futrelle, Mrs. Jacques Heath (Lily May Peel)  female  35.0      1   \n",
       "4                           Allen, Mr. William Henry    male  35.0      0   \n",
       "\n",
       "   Parch            Ticket     Fare Cabin Embarked  \n",
       "0      0         A/5 21171   7.2500   NaN        S  \n",
       "1      0          PC 17599  71.2833   C85        C  \n",
       "2      0  STON/O2. 3101282   7.9250   NaN        S  \n",
       "3      0            113803  53.1000  C123        S  \n",
       "4      0            373450   8.0500   NaN        S  "
      ]
     },
     "execution_count": 607,
     "metadata": {},
     "output_type": "execute_result"
    }
   ],
   "source": [
    "print(dataset.shape)\n",
    "dataset.head()"
   ]
  },
  {
   "cell_type": "code",
   "execution_count": 608,
   "id": "f892a4b1-08b5-4b64-b00c-34f9517a4b41",
   "metadata": {},
   "outputs": [
    {
     "data": {
      "text/plain": [
       "PassengerId      0\n",
       "Survived         0\n",
       "Pclass           0\n",
       "Name             0\n",
       "Sex              0\n",
       "Age            177\n",
       "SibSp            0\n",
       "Parch            0\n",
       "Ticket           0\n",
       "Fare             0\n",
       "Cabin          687\n",
       "Embarked         2\n",
       "dtype: int64"
      ]
     },
     "execution_count": 608,
     "metadata": {},
     "output_type": "execute_result"
    }
   ],
   "source": [
    "dataset.isnull().sum()"
   ]
  },
  {
   "cell_type": "code",
   "execution_count": 609,
   "id": "19fcaaff-6760-4424-a389-a05dff2dc924",
   "metadata": {},
   "outputs": [
    {
     "data": {
      "text/plain": [
       "PassengerId      0\n",
       "Survived         0\n",
       "Pclass           0\n",
       "Name             0\n",
       "Sex              0\n",
       "Age            177\n",
       "SibSp            0\n",
       "Parch            0\n",
       "Ticket           0\n",
       "Fare             0\n",
       "Cabin          687\n",
       "Embarked         2\n",
       "dtype: int64"
      ]
     },
     "execution_count": 609,
     "metadata": {},
     "output_type": "execute_result"
    }
   ],
   "source": [
    "dataset.isnull().sum()"
   ]
  },
  {
   "cell_type": "code",
   "execution_count": 610,
   "id": "5f616a3d-58fc-4c5b-877b-fb877604096a",
   "metadata": {},
   "outputs": [
    {
     "data": {
      "text/plain": [
       "PassengerId      int64\n",
       "Survived         int64\n",
       "Pclass           int64\n",
       "Name            object\n",
       "Sex             object\n",
       "Age            float64\n",
       "SibSp            int64\n",
       "Parch            int64\n",
       "Ticket          object\n",
       "Fare           float64\n",
       "Cabin           object\n",
       "Embarked        object\n",
       "dtype: object"
      ]
     },
     "execution_count": 610,
     "metadata": {},
     "output_type": "execute_result"
    }
   ],
   "source": [
    "dataset.dtypes"
   ]
  },
  {
   "cell_type": "code",
   "execution_count": 611,
   "id": "e492b5a5",
   "metadata": {},
   "outputs": [
    {
     "data": {
      "text/plain": [
       "<AxesSubplot:>"
      ]
     },
     "execution_count": 611,
     "metadata": {},
     "output_type": "execute_result"
    },
    {
     "data": {
      "image/png": "[encoded data removed]",
      "text/plain": [
       "<Figure size 432x288 with 2 Axes>"
      ]
     },
     "metadata": {
      "needs_background": "light"
     },
     "output_type": "display_data"
    }
   ],
   "source": [
    "sns.heatmap(dataset.corr(),annot=True)"
   ]
  },
  {
   "cell_type": "code",
   "execution_count": 612,
   "id": "e89d29f0-6b27-42e0-96c2-096420870ef9",
   "metadata": {},
   "outputs": [
    {
     "data": {
      "text/plain": [
       "<AxesSubplot:>"
      ]
     },
     "execution_count": 612,
     "metadata": {},
     "output_type": "execute_result"
    },
    {
     "data": {
      "image/png": "[encoded data removed]",
      "text/plain": [
       "<Figure size 432x288 with 2 Axes>"
      ]
     },
     "metadata": {
      "needs_background": "light"
     },
     "output_type": "display_data"
    }
   ],
   "source": [
    "sns.heatmap(dataset.corr(),annot=True)"
   ]
  },
  {
   "cell_type": "code",
   "execution_count": 613,
   "id": "18a5e96d-6dac-4e9e-86c2-174f1ef8547d",
   "metadata": {},
   "outputs": [
    {
     "data": {
      "image/png": "[encoded data removed]",
      "text/plain": [
       "<Figure size 1080x360 with 2 Axes>"
      ]
     },
     "metadata": {
      "needs_background": "light"
     },
     "output_type": "display_data"
    }
   ],
   "source": [
    "f,ax = plt.subplots(1,2,figsize=(15,5))\n",
    "f.suptitle('Who is likely to survive?')\n",
    "sns.countplot(x='Sex',hue='Survived',data=dataset,ax=ax[0])\n",
    "sns.countplot(x='Pclass',hue='Survived',data=dataset,ax=ax[1])\n",
    "plt.show()"
   ]
  },
  {
   "cell_type": "markdown",
   "id": "4d1a645f-eb38-413d-aaf7-93f472312e14",
   "metadata": {},
   "source": [
    "- The first plot shows that the female is more likely to survive than male.\n",
    "- The second plot shows that individuals in the first class are more likely to survive than other classes."
   ]
  },
  {
   "cell_type": "markdown",
   "id": "5fb66a8f-a6a6-4678-a6c6-e9d20dc27f40",
   "metadata": {},
   "source": [
    "## Filling in missing values"
   ]
  },
  {
   "cell_type": "markdown",
   "id": "e731271a-5f69-4dfa-a35b-559a60202fc2",
   "metadata": {},
   "source": [
    "### Cabin\n",
    "\n",
    "The deck was determined by the letter in the cabin. We will group the cabins based on the deck they are on. For all the missing values, we will fill in U for unknown."
   ]
  },
  {
   "cell_type": "code",
   "execution_count": 614,
   "id": "622990c9-c082-4c6a-a2b6-45d8d739d818",
   "metadata": {},
   "outputs": [
    {
     "name": "stdout",
     "output_type": "stream",
     "text": [
      "number of unique cabins: 147 and number of missing cabins: 687\n"
     ]
    }
   ],
   "source": [
    "print('number of unique cabins: '+str(dataset['Cabin'].nunique())+ ' and number of missing cabins: '+ str(dataset['Cabin'].isnull().sum()))"
   ]
  },
  {
   "cell_type": "code",
   "execution_count": 615,
   "id": "b877bd9e-8bfb-4fe2-b27b-4c835c4dc94b",
   "metadata": {},
   "outputs": [],
   "source": [
    "dataset['deck'] = dataset['Cabin'].apply(lambda x: x[0] if pd.notnull(x) else 'U')"
   ]
  },
  {
   "cell_type": "code",
   "execution_count": 616,
   "id": "2459a7eb-2e8b-41c9-9e35-91d6859d5019",
   "metadata": {},
   "outputs": [
    {
     "data": {
      "text/plain": [
       "Text(0.5, 1.0, 'Survival rates by deck')"
      ]
     },
     "execution_count": 616,
     "metadata": {},
     "output_type": "execute_result"
    },
    {
     "data": {
      "image/png": "[encoded data removed]",
      "text/plain": [
       "<Figure size 720x360 with 1 Axes>"
      ]
     },
     "metadata": {
      "needs_background": "light"
     },
     "output_type": "display_data"
    }
   ],
   "source": [
    "# then let's check our assumptions about the survival by deck\n",
    "dataset[['deck', 'Survived']].groupby('deck')['Survived'].mean().plot(kind='bar',figsize=(10,5))\n",
    "plt.title('Survival rates by deck')\n"
   ]
  },
  {
   "cell_type": "code",
   "execution_count": 617,
   "id": "6cf745d5",
   "metadata": {},
   "outputs": [
    {
     "data": {
      "text/html": [
       "<div>\n",
       "<style scoped>\n",
       "    .dataframe tbody tr th:only-of-type {\n",
       "        vertical-align: middle;\n",
       "    }\n",
       "\n",
       "    .dataframe tbody tr th {\n",
       "        vertical-align: top;\n",
       "    }\n",
       "\n",
       "    .dataframe thead th {\n",
       "        text-align: right;\n",
       "    }\n",
       "</style>\n",
       "<table border=\"1\" class=\"dataframe\">\n",
       "  <thead>\n",
       "    <tr style=\"text-align: right;\">\n",
       "      <th></th>\n",
       "      <th>PassengerId</th>\n",
       "      <th>Survived</th>\n",
       "      <th>Pclass</th>\n",
       "      <th>Name</th>\n",
       "      <th>Sex</th>\n",
       "      <th>Age</th>\n",
       "      <th>SibSp</th>\n",
       "      <th>Parch</th>\n",
       "      <th>Ticket</th>\n",
       "      <th>Fare</th>\n",
       "      <th>Cabin</th>\n",
       "      <th>Embarked</th>\n",
       "      <th>deck</th>\n",
       "    </tr>\n",
       "  </thead>\n",
       "  <tbody>\n",
       "    <tr>\n",
       "      <th>0</th>\n",
       "      <td>1</td>\n",
       "      <td>0</td>\n",
       "      <td>3</td>\n",
       "      <td>Braund, Mr. Owen Harris</td>\n",
       "      <td>male</td>\n",
       "      <td>22.0</td>\n",
       "      <td>1</td>\n",
       "      <td>0</td>\n",
       "      <td>A/5 21171</td>\n",
       "      <td>7.2500</td>\n",
       "      <td>NaN</td>\n",
       "      <td>S</td>\n",
       "      <td>U</td>\n",
       "    </tr>\n",
       "    <tr>\n",
       "      <th>1</th>\n",
       "      <td>2</td>\n",
       "      <td>1</td>\n",
       "      <td>1</td>\n",
       "      <td>Cumings, Mrs. John Bradley (Florence Briggs Th...</td>\n",
       "      <td>female</td>\n",
       "      <td>38.0</td>\n",
       "      <td>1</td>\n",
       "      <td>0</td>\n",
       "      <td>PC 17599</td>\n",
       "      <td>71.2833</td>\n",
       "      <td>C85</td>\n",
       "      <td>C</td>\n",
       "      <td>C</td>\n",
       "    </tr>\n",
       "    <tr>\n",
       "      <th>2</th>\n",
       "      <td>3</td>\n",
       "      <td>1</td>\n",
       "      <td>3</td>\n",
       "      <td>Heikkinen, Miss. Laina</td>\n",
       "      <td>female</td>\n",
       "      <td>26.0</td>\n",
       "      <td>0</td>\n",
       "      <td>0</td>\n",
       "      <td>STON/O2. 3101282</td>\n",
       "      <td>7.9250</td>\n",
       "      <td>NaN</td>\n",
       "      <td>S</td>\n",
       "      <td>U</td>\n",
       "    </tr>\n",
       "    <tr>\n",
       "      <th>3</th>\n",
       "      <td>4</td>\n",
       "      <td>1</td>\n",
       "      <td>1</td>\n",
       "      <td>Futrelle, Mrs. Jacques Heath (Lily May Peel)</td>\n",
       "      <td>female</td>\n",
       "      <td>35.0</td>\n",
       "      <td>1</td>\n",
       "      <td>0</td>\n",
       "      <td>113803</td>\n",
       "      <td>53.1000</td>\n",
       "      <td>C123</td>\n",
       "      <td>S</td>\n",
       "      <td>C</td>\n",
       "    </tr>\n",
       "    <tr>\n",
       "      <th>4</th>\n",
       "      <td>5</td>\n",
       "      <td>0</td>\n",
       "      <td>3</td>\n",
       "      <td>Allen, Mr. William Henry</td>\n",
       "      <td>male</td>\n",
       "      <td>35.0</td>\n",
       "      <td>0</td>\n",
       "      <td>0</td>\n",
       "      <td>373450</td>\n",
       "      <td>8.0500</td>\n",
       "      <td>NaN</td>\n",
       "      <td>S</td>\n",
       "      <td>U</td>\n",
       "    </tr>\n",
       "    <tr>\n",
       "      <th>...</th>\n",
       "      <td>...</td>\n",
       "      <td>...</td>\n",
       "      <td>...</td>\n",
       "      <td>...</td>\n",
       "      <td>...</td>\n",
       "      <td>...</td>\n",
       "      <td>...</td>\n",
       "      <td>...</td>\n",
       "      <td>...</td>\n",
       "      <td>...</td>\n",
       "      <td>...</td>\n",
       "      <td>...</td>\n",
       "      <td>...</td>\n",
       "    </tr>\n",
       "    <tr>\n",
       "      <th>886</th>\n",
       "      <td>887</td>\n",
       "      <td>0</td>\n",
       "      <td>2</td>\n",
       "      <td>Montvila, Rev. Juozas</td>\n",
       "      <td>male</td>\n",
       "      <td>27.0</td>\n",
       "      <td>0</td>\n",
       "      <td>0</td>\n",
       "      <td>211536</td>\n",
       "      <td>13.0000</td>\n",
       "      <td>NaN</td>\n",
       "      <td>S</td>\n",
       "      <td>U</td>\n",
       "    </tr>\n",
       "    <tr>\n",
       "      <th>887</th>\n",
       "      <td>888</td>\n",
       "      <td>1</td>\n",
       "      <td>1</td>\n",
       "      <td>Graham, Miss. Margaret Edith</td>\n",
       "      <td>female</td>\n",
       "      <td>19.0</td>\n",
       "      <td>0</td>\n",
       "      <td>0</td>\n",
       "      <td>112053</td>\n",
       "      <td>30.0000</td>\n",
       "      <td>B42</td>\n",
       "      <td>S</td>\n",
       "      <td>B</td>\n",
       "    </tr>\n",
       "    <tr>\n",
       "      <th>888</th>\n",
       "      <td>889</td>\n",
       "      <td>0</td>\n",
       "      <td>3</td>\n",
       "      <td>Johnston, Miss. Catherine Helen \"Carrie\"</td>\n",
       "      <td>female</td>\n",
       "      <td>NaN</td>\n",
       "      <td>1</td>\n",
       "      <td>2</td>\n",
       "      <td>W./C. 6607</td>\n",
       "      <td>23.4500</td>\n",
       "      <td>NaN</td>\n",
       "      <td>S</td>\n",
       "      <td>U</td>\n",
       "    </tr>\n",
       "    <tr>\n",
       "      <th>889</th>\n",
       "      <td>890</td>\n",
       "      <td>1</td>\n",
       "      <td>1</td>\n",
       "      <td>Behr, Mr. Karl Howell</td>\n",
       "      <td>male</td>\n",
       "      <td>26.0</td>\n",
       "      <td>0</td>\n",
       "      <td>0</td>\n",
       "      <td>111369</td>\n",
       "      <td>30.0000</td>\n",
       "      <td>C148</td>\n",
       "      <td>C</td>\n",
       "      <td>C</td>\n",
       "    </tr>\n",
       "    <tr>\n",
       "      <th>890</th>\n",
       "      <td>891</td>\n",
       "      <td>0</td>\n",
       "      <td>3</td>\n",
       "      <td>Dooley, Mr. Patrick</td>\n",
       "      <td>male</td>\n",
       "      <td>32.0</td>\n",
       "      <td>0</td>\n",
       "      <td>0</td>\n",
       "      <td>370376</td>\n",
       "      <td>7.7500</td>\n",
       "      <td>NaN</td>\n",
       "      <td>Q</td>\n",
       "      <td>U</td>\n",
       "    </tr>\n",
       "  </tbody>\n",
       "</table>\n",
       "<p>891 rows × 13 columns</p>\n",
       "</div>"
      ],
      "text/plain": [
       "     PassengerId  Survived  Pclass  \\\n",
       "0              1         0       3   \n",
       "1              2         1       1   \n",
       "2              3         1       3   \n",
       "3              4         1       1   \n",
       "4              5         0       3   \n",
       "..           ...       ...     ...   \n",
       "886          887         0       2   \n",
       "887          888         1       1   \n",
       "888          889         0       3   \n",
       "889          890         1       1   \n",
       "890          891         0       3   \n",
       "\n",
       "                                                  Name     Sex   Age  SibSp  \\\n",
       "0                              Braund, Mr. Owen Harris    male  22.0      1   \n",
       "1    Cumings, Mrs. John Bradley (Florence Briggs Th...  female  38.0      1   \n",
       "2                               Heikkinen, Miss. Laina  female  26.0      0   \n",
       "3         Futrelle, Mrs. Jacques Heath (Lily May Peel)  female  35.0      1   \n",
       "4                             Allen, Mr. William Henry    male  35.0      0   \n",
       "..                                                 ...     ...   ...    ...   \n",
       "886                              Montvila, Rev. Juozas    male  27.0      0   \n",
       "887                       Graham, Miss. Margaret Edith  female  19.0      0   \n",
       "888           Johnston, Miss. Catherine Helen \"Carrie\"  female   NaN      1   \n",
       "889                              Behr, Mr. Karl Howell    male  26.0      0   \n",
       "890                                Dooley, Mr. Patrick    male  32.0      0   \n",
       "\n",
       "     Parch            Ticket     Fare Cabin Embarked deck  \n",
       "0        0         A/5 21171   7.2500   NaN        S    U  \n",
       "1        0          PC 17599  71.2833   C85        C    C  \n",
       "2        0  STON/O2. 3101282   7.9250   NaN        S    U  \n",
       "3        0            113803  53.1000  C123        S    C  \n",
       "4        0            373450   8.0500   NaN        S    U  \n",
       "..     ...               ...      ...   ...      ...  ...  \n",
       "886      0            211536  13.0000   NaN        S    U  \n",
       "887      0            112053  30.0000   B42        S    B  \n",
       "888      2        W./C. 6607  23.4500   NaN        S    U  \n",
       "889      0            111369  30.0000  C148        C    C  \n",
       "890      0            370376   7.7500   NaN        Q    U  \n",
       "\n",
       "[891 rows x 13 columns]"
      ]
     },
     "execution_count": 617,
     "metadata": {},
     "output_type": "execute_result"
    }
   ],
   "source": [
    "dataset"
   ]
  },
  {
   "cell_type": "markdown",
   "id": "7f18f787-a214-4e20-914f-52d7a2156734",
   "metadata": {},
   "source": [
    "### Age\n",
    "\n",
    "- We are to check how age affects the survival rate.\n",
    "- Based on the heatmap, there is a correlation between age and Pclass.\n",
    "- We can also check if age makes a difference based on gender. \n"
   ]
  },
  {
   "cell_type": "code",
   "execution_count": 618,
   "id": "d194563e-6018-46b2-b193-41c071767fe8",
   "metadata": {},
   "outputs": [
    {
     "data": {
      "text/plain": [
       "<AxesSubplot:xlabel='Age', ylabel='Density'>"
      ]
     },
     "execution_count": 618,
     "metadata": {},
     "output_type": "execute_result"
    },
    {
     "data": {
      "image/png": "[encoded data removed]",
      "text/plain": [
       "<Figure size 1440x504 with 3 Axes>"
      ]
     },
     "metadata": {
      "needs_background": "light"
     },
     "output_type": "display_data"
    }
   ],
   "source": [
    "f,ax= plt.subplots(1,3,figsize=(20,7),sharey=True)\n",
    "sns.kdeplot(x='Age',data=dataset,hue='Survived',palette='bright',ax=ax[0])\n",
    "sns.kdeplot(x='Age',data=dataset,hue='Pclass',palette='bright',ax=ax[1])\n",
    "sns.kdeplot(x='Age',data=dataset,hue='Sex',palette='bright' ,ax=ax[2])\n",
    "\n"
   ]
  },
  {
   "cell_type": "markdown",
   "id": "147ffc44-76c6-4c46-aed6-d38b5925e69b",
   "metadata": {},
   "source": [
    "- The first plot shows that people between the ages 20 and 40 survived more than the rest.\n",
    "- The second plot shows that people in the first class are slightly older than the other classes.\n",
    "- The third plot shows that there are differences in age based on sex. We can say age is correlated to sex.\n",
    "\n",
    "With this said, we cannot use the overall mean/median to fill in all the missing values. We will take into account the sex and class of each individual, so using the mean/median per category might be better approach."
   ]
  },
  {
   "cell_type": "code",
   "execution_count": 619,
   "id": "a7714d72-c396-446d-a32b-a070184813b4",
   "metadata": {},
   "outputs": [
    {
     "name": "stdout",
     "output_type": "stream",
     "text": [
      "number of missing ages: 177\n"
     ]
    }
   ],
   "source": [
    "print('number of missing ages: '+str(dataset['Age'].isnull().sum()))"
   ]
  },
  {
   "cell_type": "code",
   "execution_count": 620,
   "id": "29f6de79",
   "metadata": {},
   "outputs": [
    {
     "data": {
      "text/plain": [
       "<AxesSubplot:xlabel='Pclass', ylabel='Age'>"
      ]
     },
     "execution_count": 620,
     "metadata": {},
     "output_type": "execute_result"
    },
    {
     "data": {
      "image/png": "[encoded data removed]",
      "text/plain": [
       "<Figure size 720x504 with 1 Axes>"
      ]
     },
     "metadata": {
      "needs_background": "light"
     },
     "output_type": "display_data"
    }
   ],
   "source": [
    "plt.figure(figsize=(10,7))\n",
    "sns.boxplot(x='Pclass',y='Age',hue='Sex',data=dataset)"
   ]
  },
  {
   "cell_type": "code",
   "execution_count": 621,
   "id": "ec24f5ca-68ca-4766-8cb8-5772b1274308",
   "metadata": {},
   "outputs": [],
   "source": [
    "#There is an age difference between the ages of difreent classes and sex within the dataset\n",
    "dataset['Age'] = dataset.groupby(['Sex','Pclass'])['Age'].apply(lambda x: x.fillna(x.median()))"
   ]
  },
  {
   "cell_type": "markdown",
   "id": "85c13954-3d00-4a8d-9846-e685a011c313",
   "metadata": {},
   "source": [
    "### Embarked"
   ]
  },
  {
   "cell_type": "code",
   "execution_count": 622,
   "id": "7453b572-6fdc-4ba6-b249-09b4ca90f2c9",
   "metadata": {},
   "outputs": [
    {
     "data": {
      "text/plain": [
       "<AxesSubplot:xlabel='Embarked', ylabel='count'>"
      ]
     },
     "execution_count": 622,
     "metadata": {},
     "output_type": "execute_result"
    },
    {
     "data": {
      "image/png": "[encoded data removed]",
      "text/plain": [
       "<Figure size 432x288 with 1 Axes>"
      ]
     },
     "metadata": {
      "needs_background": "light"
     },
     "output_type": "display_data"
    }
   ],
   "source": [
    "sns.countplot(x='Embarked',data=dataset)"
   ]
  },
  {
   "cell_type": "code",
   "execution_count": 623,
   "id": "e81d4543-cf16-4831-b44b-63ba79640687",
   "metadata": {},
   "outputs": [
    {
     "name": "stdout",
     "output_type": "stream",
     "text": [
      "The number of missing values for Embarked port: 0\n"
     ]
    },
    {
     "data": {
      "text/html": [
       "<div>\n",
       "<style scoped>\n",
       "    .dataframe tbody tr th:only-of-type {\n",
       "        vertical-align: middle;\n",
       "    }\n",
       "\n",
       "    .dataframe tbody tr th {\n",
       "        vertical-align: top;\n",
       "    }\n",
       "\n",
       "    .dataframe thead th {\n",
       "        text-align: right;\n",
       "    }\n",
       "</style>\n",
       "<table border=\"1\" class=\"dataframe\">\n",
       "  <thead>\n",
       "    <tr style=\"text-align: right;\">\n",
       "      <th></th>\n",
       "      <th>PassengerId</th>\n",
       "      <th>Survived</th>\n",
       "      <th>Pclass</th>\n",
       "      <th>Name</th>\n",
       "      <th>Sex</th>\n",
       "      <th>Age</th>\n",
       "      <th>SibSp</th>\n",
       "      <th>Parch</th>\n",
       "      <th>Ticket</th>\n",
       "      <th>Fare</th>\n",
       "      <th>Cabin</th>\n",
       "      <th>Embarked</th>\n",
       "      <th>deck</th>\n",
       "    </tr>\n",
       "  </thead>\n",
       "  <tbody>\n",
       "    <tr>\n",
       "      <th>61</th>\n",
       "      <td>62</td>\n",
       "      <td>1</td>\n",
       "      <td>1</td>\n",
       "      <td>Icard, Miss. Amelie</td>\n",
       "      <td>female</td>\n",
       "      <td>38.0</td>\n",
       "      <td>0</td>\n",
       "      <td>0</td>\n",
       "      <td>113572</td>\n",
       "      <td>80.0</td>\n",
       "      <td>B28</td>\n",
       "      <td>NaN</td>\n",
       "      <td>B</td>\n",
       "    </tr>\n",
       "    <tr>\n",
       "      <th>829</th>\n",
       "      <td>830</td>\n",
       "      <td>1</td>\n",
       "      <td>1</td>\n",
       "      <td>Stone, Mrs. George Nelson (Martha Evelyn)</td>\n",
       "      <td>female</td>\n",
       "      <td>62.0</td>\n",
       "      <td>0</td>\n",
       "      <td>0</td>\n",
       "      <td>113572</td>\n",
       "      <td>80.0</td>\n",
       "      <td>B28</td>\n",
       "      <td>NaN</td>\n",
       "      <td>B</td>\n",
       "    </tr>\n",
       "  </tbody>\n",
       "</table>\n",
       "</div>"
      ],
      "text/plain": [
       "     PassengerId  Survived  Pclass                                       Name  \\\n",
       "61            62         1       1                        Icard, Miss. Amelie   \n",
       "829          830         1       1  Stone, Mrs. George Nelson (Martha Evelyn)   \n",
       "\n",
       "        Sex   Age  SibSp  Parch  Ticket  Fare Cabin Embarked deck  \n",
       "61   female  38.0      0      0  113572  80.0   B28      NaN    B  \n",
       "829  female  62.0      0      0  113572  80.0   B28      NaN    B  "
      ]
     },
     "execution_count": 623,
     "metadata": {},
     "output_type": "execute_result"
    }
   ],
   "source": [
    "print('The number of missing values for Embarked port: '+str(train['Embarked'].isnull().sum()))\n",
    "dataset[dataset['Embarked'].isnull()]\n",
    "\n"
   ]
  },
  {
   "cell_type": "markdown",
   "id": "aa0e013a-d1ab-42c2-9369-63e37c93101a",
   "metadata": {},
   "source": [
    "The most common port is S (SouthHamptons). So we will use this port to fill in the missing ports."
   ]
  },
  {
   "cell_type": "code",
   "execution_count": 624,
   "id": "efbc687d-868a-4ac2-b4f0-721b507fa3d9",
   "metadata": {},
   "outputs": [],
   "source": [
    "dataset['Embarked']=dataset['Embarked'].fillna(value='S')"
   ]
  },
  {
   "cell_type": "markdown",
   "id": "49314106-44e9-455d-9186-cb8f58d529eb",
   "metadata": {},
   "source": [
    "### Fare\n",
    "\n",
    "We will fill in the missing fare value based on the class and port embarked."
   ]
  },
  {
   "cell_type": "code",
   "execution_count": 625,
   "id": "778b0976-f62e-4776-8051-af3c20b44ffd",
   "metadata": {},
   "outputs": [
    {
     "data": {
      "text/html": [
       "<div>\n",
       "<style scoped>\n",
       "    .dataframe tbody tr th:only-of-type {\n",
       "        vertical-align: middle;\n",
       "    }\n",
       "\n",
       "    .dataframe tbody tr th {\n",
       "        vertical-align: top;\n",
       "    }\n",
       "\n",
       "    .dataframe thead th {\n",
       "        text-align: right;\n",
       "    }\n",
       "</style>\n",
       "<table border=\"1\" class=\"dataframe\">\n",
       "  <thead>\n",
       "    <tr style=\"text-align: right;\">\n",
       "      <th></th>\n",
       "      <th>PassengerId</th>\n",
       "      <th>Survived</th>\n",
       "      <th>Pclass</th>\n",
       "      <th>Name</th>\n",
       "      <th>Sex</th>\n",
       "      <th>Age</th>\n",
       "      <th>SibSp</th>\n",
       "      <th>Parch</th>\n",
       "      <th>Ticket</th>\n",
       "      <th>Fare</th>\n",
       "      <th>Cabin</th>\n",
       "      <th>Embarked</th>\n",
       "      <th>deck</th>\n",
       "    </tr>\n",
       "  </thead>\n",
       "  <tbody>\n",
       "  </tbody>\n",
       "</table>\n",
       "</div>"
      ],
      "text/plain": [
       "Empty DataFrame\n",
       "Columns: [PassengerId, Survived, Pclass, Name, Sex, Age, SibSp, Parch, Ticket, Fare, Cabin, Embarked, deck]\n",
       "Index: []"
      ]
     },
     "execution_count": 625,
     "metadata": {},
     "output_type": "execute_result"
    }
   ],
   "source": [
    "dataset[dataset['Fare'].isnull()]"
   ]
  },
  {
   "cell_type": "code",
   "execution_count": 626,
   "id": "72f77477-b808-4003-819f-1e7210f4007e",
   "metadata": {},
   "outputs": [],
   "source": [
    "x = dataset[(dataset['Pclass']=='3')& (dataset['Embarked']=='S')]['Fare'].median()\n",
    "dataset['Fare']= dataset['Fare'].fillna(x)"
   ]
  },
  {
   "cell_type": "markdown",
   "id": "d1a813c3-1e02-4775-afac-1c27bc4e1f83",
   "metadata": {},
   "source": [
    "## Feature Engineering"
   ]
  },
  {
   "cell_type": "markdown",
   "id": "f39c5764-fe5f-4083-bf35-ac9818694c86",
   "metadata": {},
   "source": [
    "### Name"
   ]
  },
  {
   "cell_type": "markdown",
   "id": "27c0a8ae-d38b-4b2c-ad09-a33b5b30aebe",
   "metadata": {},
   "source": [
    "We can extract the title from the name feature and form categories based on the titles."
   ]
  },
  {
   "cell_type": "code",
   "execution_count": 627,
   "id": "d13e849e-0f5a-4f27-b8da-1aeb687d742f",
   "metadata": {},
   "outputs": [],
   "source": [
    "dataset['Title'] = dataset['Name'].apply(lambda x: x.split(',')[1].split('.')[0].strip())\n"
   ]
  },
  {
   "cell_type": "code",
   "execution_count": 628,
   "id": "16e5e96c-83cb-4ccb-8191-496a2b2a0376",
   "metadata": {},
   "outputs": [
    {
     "data": {
      "text/plain": [
       "<AxesSubplot:xlabel='Title', ylabel='count'>"
      ]
     },
     "execution_count": 628,
     "metadata": {},
     "output_type": "execute_result"
    },
    {
     "data": {
      "image/png": "[encoded data removed]",
      "text/plain": [
       "<Figure size 720x360 with 1 Axes>"
      ]
     },
     "metadata": {
      "needs_background": "light"
     },
     "output_type": "display_data"
    }
   ],
   "source": [
    "plt.figure(figsize=(10,5))\n",
    "sns.countplot(x='Title',data=dataset)\n",
    "\n"
   ]
  },
  {
   "cell_type": "code",
   "execution_count": 629,
   "id": "7dbbac18",
   "metadata": {},
   "outputs": [
    {
     "data": {
      "text/html": [
       "<div>\n",
       "<style scoped>\n",
       "    .dataframe tbody tr th:only-of-type {\n",
       "        vertical-align: middle;\n",
       "    }\n",
       "\n",
       "    .dataframe tbody tr th {\n",
       "        vertical-align: top;\n",
       "    }\n",
       "\n",
       "    .dataframe thead th {\n",
       "        text-align: right;\n",
       "    }\n",
       "</style>\n",
       "<table border=\"1\" class=\"dataframe\">\n",
       "  <thead>\n",
       "    <tr style=\"text-align: right;\">\n",
       "      <th></th>\n",
       "      <th>PassengerId</th>\n",
       "      <th>Survived</th>\n",
       "      <th>Pclass</th>\n",
       "      <th>Name</th>\n",
       "      <th>Sex</th>\n",
       "      <th>Age</th>\n",
       "      <th>SibSp</th>\n",
       "      <th>Parch</th>\n",
       "      <th>Ticket</th>\n",
       "      <th>Fare</th>\n",
       "      <th>Cabin</th>\n",
       "      <th>Embarked</th>\n",
       "      <th>deck</th>\n",
       "      <th>Title</th>\n",
       "    </tr>\n",
       "  </thead>\n",
       "  <tbody>\n",
       "    <tr>\n",
       "      <th>0</th>\n",
       "      <td>1</td>\n",
       "      <td>0</td>\n",
       "      <td>3</td>\n",
       "      <td>Braund, Mr. Owen Harris</td>\n",
       "      <td>male</td>\n",
       "      <td>22.0</td>\n",
       "      <td>1</td>\n",
       "      <td>0</td>\n",
       "      <td>A/5 21171</td>\n",
       "      <td>7.2500</td>\n",
       "      <td>NaN</td>\n",
       "      <td>S</td>\n",
       "      <td>U</td>\n",
       "      <td>Mr</td>\n",
       "    </tr>\n",
       "    <tr>\n",
       "      <th>1</th>\n",
       "      <td>2</td>\n",
       "      <td>1</td>\n",
       "      <td>1</td>\n",
       "      <td>Cumings, Mrs. John Bradley (Florence Briggs Th...</td>\n",
       "      <td>female</td>\n",
       "      <td>38.0</td>\n",
       "      <td>1</td>\n",
       "      <td>0</td>\n",
       "      <td>PC 17599</td>\n",
       "      <td>71.2833</td>\n",
       "      <td>C85</td>\n",
       "      <td>C</td>\n",
       "      <td>C</td>\n",
       "      <td>Mrs</td>\n",
       "    </tr>\n",
       "    <tr>\n",
       "      <th>2</th>\n",
       "      <td>3</td>\n",
       "      <td>1</td>\n",
       "      <td>3</td>\n",
       "      <td>Heikkinen, Miss. Laina</td>\n",
       "      <td>female</td>\n",
       "      <td>26.0</td>\n",
       "      <td>0</td>\n",
       "      <td>0</td>\n",
       "      <td>STON/O2. 3101282</td>\n",
       "      <td>7.9250</td>\n",
       "      <td>NaN</td>\n",
       "      <td>S</td>\n",
       "      <td>U</td>\n",
       "      <td>Miss</td>\n",
       "    </tr>\n",
       "    <tr>\n",
       "      <th>3</th>\n",
       "      <td>4</td>\n",
       "      <td>1</td>\n",
       "      <td>1</td>\n",
       "      <td>Futrelle, Mrs. Jacques Heath (Lily May Peel)</td>\n",
       "      <td>female</td>\n",
       "      <td>35.0</td>\n",
       "      <td>1</td>\n",
       "      <td>0</td>\n",
       "      <td>113803</td>\n",
       "      <td>53.1000</td>\n",
       "      <td>C123</td>\n",
       "      <td>S</td>\n",
       "      <td>C</td>\n",
       "      <td>Mrs</td>\n",
       "    </tr>\n",
       "    <tr>\n",
       "      <th>4</th>\n",
       "      <td>5</td>\n",
       "      <td>0</td>\n",
       "      <td>3</td>\n",
       "      <td>Allen, Mr. William Henry</td>\n",
       "      <td>male</td>\n",
       "      <td>35.0</td>\n",
       "      <td>0</td>\n",
       "      <td>0</td>\n",
       "      <td>373450</td>\n",
       "      <td>8.0500</td>\n",
       "      <td>NaN</td>\n",
       "      <td>S</td>\n",
       "      <td>U</td>\n",
       "      <td>Mr</td>\n",
       "    </tr>\n",
       "    <tr>\n",
       "      <th>...</th>\n",
       "      <td>...</td>\n",
       "      <td>...</td>\n",
       "      <td>...</td>\n",
       "      <td>...</td>\n",
       "      <td>...</td>\n",
       "      <td>...</td>\n",
       "      <td>...</td>\n",
       "      <td>...</td>\n",
       "      <td>...</td>\n",
       "      <td>...</td>\n",
       "      <td>...</td>\n",
       "      <td>...</td>\n",
       "      <td>...</td>\n",
       "      <td>...</td>\n",
       "    </tr>\n",
       "    <tr>\n",
       "      <th>886</th>\n",
       "      <td>887</td>\n",
       "      <td>0</td>\n",
       "      <td>2</td>\n",
       "      <td>Montvila, Rev. Juozas</td>\n",
       "      <td>male</td>\n",
       "      <td>27.0</td>\n",
       "      <td>0</td>\n",
       "      <td>0</td>\n",
       "      <td>211536</td>\n",
       "      <td>13.0000</td>\n",
       "      <td>NaN</td>\n",
       "      <td>S</td>\n",
       "      <td>U</td>\n",
       "      <td>Rev</td>\n",
       "    </tr>\n",
       "    <tr>\n",
       "      <th>887</th>\n",
       "      <td>888</td>\n",
       "      <td>1</td>\n",
       "      <td>1</td>\n",
       "      <td>Graham, Miss. Margaret Edith</td>\n",
       "      <td>female</td>\n",
       "      <td>19.0</td>\n",
       "      <td>0</td>\n",
       "      <td>0</td>\n",
       "      <td>112053</td>\n",
       "      <td>30.0000</td>\n",
       "      <td>B42</td>\n",
       "      <td>S</td>\n",
       "      <td>B</td>\n",
       "      <td>Miss</td>\n",
       "    </tr>\n",
       "    <tr>\n",
       "      <th>888</th>\n",
       "      <td>889</td>\n",
       "      <td>0</td>\n",
       "      <td>3</td>\n",
       "      <td>Johnston, Miss. Catherine Helen \"Carrie\"</td>\n",
       "      <td>female</td>\n",
       "      <td>21.5</td>\n",
       "      <td>1</td>\n",
       "      <td>2</td>\n",
       "      <td>W./C. 6607</td>\n",
       "      <td>23.4500</td>\n",
       "      <td>NaN</td>\n",
       "      <td>S</td>\n",
       "      <td>U</td>\n",
       "      <td>Miss</td>\n",
       "    </tr>\n",
       "    <tr>\n",
       "      <th>889</th>\n",
       "      <td>890</td>\n",
       "      <td>1</td>\n",
       "      <td>1</td>\n",
       "      <td>Behr, Mr. Karl Howell</td>\n",
       "      <td>male</td>\n",
       "      <td>26.0</td>\n",
       "      <td>0</td>\n",
       "      <td>0</td>\n",
       "      <td>111369</td>\n",
       "      <td>30.0000</td>\n",
       "      <td>C148</td>\n",
       "      <td>C</td>\n",
       "      <td>C</td>\n",
       "      <td>Mr</td>\n",
       "    </tr>\n",
       "    <tr>\n",
       "      <th>890</th>\n",
       "      <td>891</td>\n",
       "      <td>0</td>\n",
       "      <td>3</td>\n",
       "      <td>Dooley, Mr. Patrick</td>\n",
       "      <td>male</td>\n",
       "      <td>32.0</td>\n",
       "      <td>0</td>\n",
       "      <td>0</td>\n",
       "      <td>370376</td>\n",
       "      <td>7.7500</td>\n",
       "      <td>NaN</td>\n",
       "      <td>Q</td>\n",
       "      <td>U</td>\n",
       "      <td>Mr</td>\n",
       "    </tr>\n",
       "  </tbody>\n",
       "</table>\n",
       "<p>891 rows × 14 columns</p>\n",
       "</div>"
      ],
      "text/plain": [
       "     PassengerId  Survived  Pclass  \\\n",
       "0              1         0       3   \n",
       "1              2         1       1   \n",
       "2              3         1       3   \n",
       "3              4         1       1   \n",
       "4              5         0       3   \n",
       "..           ...       ...     ...   \n",
       "886          887         0       2   \n",
       "887          888         1       1   \n",
       "888          889         0       3   \n",
       "889          890         1       1   \n",
       "890          891         0       3   \n",
       "\n",
       "                                                  Name     Sex   Age  SibSp  \\\n",
       "0                              Braund, Mr. Owen Harris    male  22.0      1   \n",
       "1    Cumings, Mrs. John Bradley (Florence Briggs Th...  female  38.0      1   \n",
       "2                               Heikkinen, Miss. Laina  female  26.0      0   \n",
       "3         Futrelle, Mrs. Jacques Heath (Lily May Peel)  female  35.0      1   \n",
       "4                             Allen, Mr. William Henry    male  35.0      0   \n",
       "..                                                 ...     ...   ...    ...   \n",
       "886                              Montvila, Rev. Juozas    male  27.0      0   \n",
       "887                       Graham, Miss. Margaret Edith  female  19.0      0   \n",
       "888           Johnston, Miss. Catherine Helen \"Carrie\"  female  21.5      1   \n",
       "889                              Behr, Mr. Karl Howell    male  26.0      0   \n",
       "890                                Dooley, Mr. Patrick    male  32.0      0   \n",
       "\n",
       "     Parch            Ticket     Fare Cabin Embarked deck Title  \n",
       "0        0         A/5 21171   7.2500   NaN        S    U    Mr  \n",
       "1        0          PC 17599  71.2833   C85        C    C   Mrs  \n",
       "2        0  STON/O2. 3101282   7.9250   NaN        S    U  Miss  \n",
       "3        0            113803  53.1000  C123        S    C   Mrs  \n",
       "4        0            373450   8.0500   NaN        S    U    Mr  \n",
       "..     ...               ...      ...   ...      ...  ...   ...  \n",
       "886      0            211536  13.0000   NaN        S    U   Rev  \n",
       "887      0            112053  30.0000   B42        S    B  Miss  \n",
       "888      2        W./C. 6607  23.4500   NaN        S    U  Miss  \n",
       "889      0            111369  30.0000  C148        C    C    Mr  \n",
       "890      0            370376   7.7500   NaN        Q    U    Mr  \n",
       "\n",
       "[891 rows x 14 columns]"
      ]
     },
     "execution_count": 629,
     "metadata": {},
     "output_type": "execute_result"
    }
   ],
   "source": [
    "dataset"
   ]
  },
  {
   "cell_type": "markdown",
   "id": "debac1ac-f8ec-40ed-a5c7-7cd379bab1d3",
   "metadata": {},
   "source": [
    "Some titles have few values, so we have grouped them as Other."
   ]
  },
  {
   "cell_type": "code",
   "execution_count": 630,
   "id": "15bf3143-ac7d-4b5d-9a31-511ffcee8f33",
   "metadata": {},
   "outputs": [],
   "source": [
    "dataset['Title'] = np.where(dataset['Title'].isin(['Mr', 'Mrs', 'Master', 'Miss']), dataset['Title'], 'Other')"
   ]
  },
  {
   "cell_type": "code",
   "execution_count": 631,
   "id": "462a9558",
   "metadata": {},
   "outputs": [
    {
     "data": {
      "text/html": [
       "<div>\n",
       "<style scoped>\n",
       "    .dataframe tbody tr th:only-of-type {\n",
       "        vertical-align: middle;\n",
       "    }\n",
       "\n",
       "    .dataframe tbody tr th {\n",
       "        vertical-align: top;\n",
       "    }\n",
       "\n",
       "    .dataframe thead th {\n",
       "        text-align: right;\n",
       "    }\n",
       "</style>\n",
       "<table border=\"1\" class=\"dataframe\">\n",
       "  <thead>\n",
       "    <tr style=\"text-align: right;\">\n",
       "      <th></th>\n",
       "      <th>PassengerId</th>\n",
       "      <th>Survived</th>\n",
       "      <th>Pclass</th>\n",
       "      <th>Name</th>\n",
       "      <th>Sex</th>\n",
       "      <th>Age</th>\n",
       "      <th>SibSp</th>\n",
       "      <th>Parch</th>\n",
       "      <th>Ticket</th>\n",
       "      <th>Fare</th>\n",
       "      <th>Cabin</th>\n",
       "      <th>Embarked</th>\n",
       "      <th>deck</th>\n",
       "      <th>Title</th>\n",
       "    </tr>\n",
       "  </thead>\n",
       "  <tbody>\n",
       "    <tr>\n",
       "      <th>0</th>\n",
       "      <td>1</td>\n",
       "      <td>0</td>\n",
       "      <td>3</td>\n",
       "      <td>Braund, Mr. Owen Harris</td>\n",
       "      <td>male</td>\n",
       "      <td>22.0</td>\n",
       "      <td>1</td>\n",
       "      <td>0</td>\n",
       "      <td>A/5 21171</td>\n",
       "      <td>7.2500</td>\n",
       "      <td>NaN</td>\n",
       "      <td>S</td>\n",
       "      <td>U</td>\n",
       "      <td>Mr</td>\n",
       "    </tr>\n",
       "    <tr>\n",
       "      <th>1</th>\n",
       "      <td>2</td>\n",
       "      <td>1</td>\n",
       "      <td>1</td>\n",
       "      <td>Cumings, Mrs. John Bradley (Florence Briggs Th...</td>\n",
       "      <td>female</td>\n",
       "      <td>38.0</td>\n",
       "      <td>1</td>\n",
       "      <td>0</td>\n",
       "      <td>PC 17599</td>\n",
       "      <td>71.2833</td>\n",
       "      <td>C85</td>\n",
       "      <td>C</td>\n",
       "      <td>C</td>\n",
       "      <td>Mrs</td>\n",
       "    </tr>\n",
       "    <tr>\n",
       "      <th>2</th>\n",
       "      <td>3</td>\n",
       "      <td>1</td>\n",
       "      <td>3</td>\n",
       "      <td>Heikkinen, Miss. Laina</td>\n",
       "      <td>female</td>\n",
       "      <td>26.0</td>\n",
       "      <td>0</td>\n",
       "      <td>0</td>\n",
       "      <td>STON/O2. 3101282</td>\n",
       "      <td>7.9250</td>\n",
       "      <td>NaN</td>\n",
       "      <td>S</td>\n",
       "      <td>U</td>\n",
       "      <td>Miss</td>\n",
       "    </tr>\n",
       "    <tr>\n",
       "      <th>3</th>\n",
       "      <td>4</td>\n",
       "      <td>1</td>\n",
       "      <td>1</td>\n",
       "      <td>Futrelle, Mrs. Jacques Heath (Lily May Peel)</td>\n",
       "      <td>female</td>\n",
       "      <td>35.0</td>\n",
       "      <td>1</td>\n",
       "      <td>0</td>\n",
       "      <td>113803</td>\n",
       "      <td>53.1000</td>\n",
       "      <td>C123</td>\n",
       "      <td>S</td>\n",
       "      <td>C</td>\n",
       "      <td>Mrs</td>\n",
       "    </tr>\n",
       "    <tr>\n",
       "      <th>4</th>\n",
       "      <td>5</td>\n",
       "      <td>0</td>\n",
       "      <td>3</td>\n",
       "      <td>Allen, Mr. William Henry</td>\n",
       "      <td>male</td>\n",
       "      <td>35.0</td>\n",
       "      <td>0</td>\n",
       "      <td>0</td>\n",
       "      <td>373450</td>\n",
       "      <td>8.0500</td>\n",
       "      <td>NaN</td>\n",
       "      <td>S</td>\n",
       "      <td>U</td>\n",
       "      <td>Mr</td>\n",
       "    </tr>\n",
       "    <tr>\n",
       "      <th>...</th>\n",
       "      <td>...</td>\n",
       "      <td>...</td>\n",
       "      <td>...</td>\n",
       "      <td>...</td>\n",
       "      <td>...</td>\n",
       "      <td>...</td>\n",
       "      <td>...</td>\n",
       "      <td>...</td>\n",
       "      <td>...</td>\n",
       "      <td>...</td>\n",
       "      <td>...</td>\n",
       "      <td>...</td>\n",
       "      <td>...</td>\n",
       "      <td>...</td>\n",
       "    </tr>\n",
       "    <tr>\n",
       "      <th>886</th>\n",
       "      <td>887</td>\n",
       "      <td>0</td>\n",
       "      <td>2</td>\n",
       "      <td>Montvila, Rev. Juozas</td>\n",
       "      <td>male</td>\n",
       "      <td>27.0</td>\n",
       "      <td>0</td>\n",
       "      <td>0</td>\n",
       "      <td>211536</td>\n",
       "      <td>13.0000</td>\n",
       "      <td>NaN</td>\n",
       "      <td>S</td>\n",
       "      <td>U</td>\n",
       "      <td>Other</td>\n",
       "    </tr>\n",
       "    <tr>\n",
       "      <th>887</th>\n",
       "      <td>888</td>\n",
       "      <td>1</td>\n",
       "      <td>1</td>\n",
       "      <td>Graham, Miss. Margaret Edith</td>\n",
       "      <td>female</td>\n",
       "      <td>19.0</td>\n",
       "      <td>0</td>\n",
       "      <td>0</td>\n",
       "      <td>112053</td>\n",
       "      <td>30.0000</td>\n",
       "      <td>B42</td>\n",
       "      <td>S</td>\n",
       "      <td>B</td>\n",
       "      <td>Miss</td>\n",
       "    </tr>\n",
       "    <tr>\n",
       "      <th>888</th>\n",
       "      <td>889</td>\n",
       "      <td>0</td>\n",
       "      <td>3</td>\n",
       "      <td>Johnston, Miss. Catherine Helen \"Carrie\"</td>\n",
       "      <td>female</td>\n",
       "      <td>21.5</td>\n",
       "      <td>1</td>\n",
       "      <td>2</td>\n",
       "      <td>W./C. 6607</td>\n",
       "      <td>23.4500</td>\n",
       "      <td>NaN</td>\n",
       "      <td>S</td>\n",
       "      <td>U</td>\n",
       "      <td>Miss</td>\n",
       "    </tr>\n",
       "    <tr>\n",
       "      <th>889</th>\n",
       "      <td>890</td>\n",
       "      <td>1</td>\n",
       "      <td>1</td>\n",
       "      <td>Behr, Mr. Karl Howell</td>\n",
       "      <td>male</td>\n",
       "      <td>26.0</td>\n",
       "      <td>0</td>\n",
       "      <td>0</td>\n",
       "      <td>111369</td>\n",
       "      <td>30.0000</td>\n",
       "      <td>C148</td>\n",
       "      <td>C</td>\n",
       "      <td>C</td>\n",
       "      <td>Mr</td>\n",
       "    </tr>\n",
       "    <tr>\n",
       "      <th>890</th>\n",
       "      <td>891</td>\n",
       "      <td>0</td>\n",
       "      <td>3</td>\n",
       "      <td>Dooley, Mr. Patrick</td>\n",
       "      <td>male</td>\n",
       "      <td>32.0</td>\n",
       "      <td>0</td>\n",
       "      <td>0</td>\n",
       "      <td>370376</td>\n",
       "      <td>7.7500</td>\n",
       "      <td>NaN</td>\n",
       "      <td>Q</td>\n",
       "      <td>U</td>\n",
       "      <td>Mr</td>\n",
       "    </tr>\n",
       "  </tbody>\n",
       "</table>\n",
       "<p>891 rows × 14 columns</p>\n",
       "</div>"
      ],
      "text/plain": [
       "     PassengerId  Survived  Pclass  \\\n",
       "0              1         0       3   \n",
       "1              2         1       1   \n",
       "2              3         1       3   \n",
       "3              4         1       1   \n",
       "4              5         0       3   \n",
       "..           ...       ...     ...   \n",
       "886          887         0       2   \n",
       "887          888         1       1   \n",
       "888          889         0       3   \n",
       "889          890         1       1   \n",
       "890          891         0       3   \n",
       "\n",
       "                                                  Name     Sex   Age  SibSp  \\\n",
       "0                              Braund, Mr. Owen Harris    male  22.0      1   \n",
       "1    Cumings, Mrs. John Bradley (Florence Briggs Th...  female  38.0      1   \n",
       "2                               Heikkinen, Miss. Laina  female  26.0      0   \n",
       "3         Futrelle, Mrs. Jacques Heath (Lily May Peel)  female  35.0      1   \n",
       "4                             Allen, Mr. William Henry    male  35.0      0   \n",
       "..                                                 ...     ...   ...    ...   \n",
       "886                              Montvila, Rev. Juozas    male  27.0      0   \n",
       "887                       Graham, Miss. Margaret Edith  female  19.0      0   \n",
       "888           Johnston, Miss. Catherine Helen \"Carrie\"  female  21.5      1   \n",
       "889                              Behr, Mr. Karl Howell    male  26.0      0   \n",
       "890                                Dooley, Mr. Patrick    male  32.0      0   \n",
       "\n",
       "     Parch            Ticket     Fare Cabin Embarked deck  Title  \n",
       "0        0         A/5 21171   7.2500   NaN        S    U     Mr  \n",
       "1        0          PC 17599  71.2833   C85        C    C    Mrs  \n",
       "2        0  STON/O2. 3101282   7.9250   NaN        S    U   Miss  \n",
       "3        0            113803  53.1000  C123        S    C    Mrs  \n",
       "4        0            373450   8.0500   NaN        S    U     Mr  \n",
       "..     ...               ...      ...   ...      ...  ...    ...  \n",
       "886      0            211536  13.0000   NaN        S    U  Other  \n",
       "887      0            112053  30.0000   B42        S    B   Miss  \n",
       "888      2        W./C. 6607  23.4500   NaN        S    U   Miss  \n",
       "889      0            111369  30.0000  C148        C    C     Mr  \n",
       "890      0            370376   7.7500   NaN        Q    U     Mr  \n",
       "\n",
       "[891 rows x 14 columns]"
      ]
     },
     "execution_count": 631,
     "metadata": {},
     "output_type": "execute_result"
    }
   ],
   "source": [
    "dataset"
   ]
  },
  {
   "cell_type": "code",
   "execution_count": 632,
   "id": "c26b2567-c0da-49a6-9f08-3a03c61d5637",
   "metadata": {},
   "outputs": [
    {
     "data": {
      "text/plain": [
       "<AxesSubplot:xlabel='Title', ylabel='count'>"
      ]
     },
     "execution_count": 632,
     "metadata": {},
     "output_type": "execute_result"
    },
    {
     "data": {
      "image/png": "[encoded data removed]",
      "text/plain": [
       "<Figure size 720x360 with 1 Axes>"
      ]
     },
     "metadata": {
      "needs_background": "light"
     },
     "output_type": "display_data"
    }
   ],
   "source": [
    "plt.figure(figsize=(10,5))\n",
    "sns.countplot(x='Title',data=dataset,hue='Survived')\n",
    "\n"
   ]
  },
  {
   "cell_type": "markdown",
   "id": "5dd60a10-eb16-4b5c-ab84-da7a7ecfcafd",
   "metadata": {},
   "source": [
    "### Ticket\n",
    "\n",
    "Some tickects contain letters and numerical values.The plan is to remove all the letters form the string, then group the tickets based on the first leading digit.\n"
   ]
  },
  {
   "cell_type": "code",
   "execution_count": 633,
   "id": "d7978cca-1816-43a5-8c44-e07b785da361",
   "metadata": {},
   "outputs": [
    {
     "data": {
      "text/html": [
       "<div>\n",
       "<style scoped>\n",
       "    .dataframe tbody tr th:only-of-type {\n",
       "        vertical-align: middle;\n",
       "    }\n",
       "\n",
       "    .dataframe tbody tr th {\n",
       "        vertical-align: top;\n",
       "    }\n",
       "\n",
       "    .dataframe thead th {\n",
       "        text-align: right;\n",
       "    }\n",
       "</style>\n",
       "<table border=\"1\" class=\"dataframe\">\n",
       "  <thead>\n",
       "    <tr style=\"text-align: right;\">\n",
       "      <th></th>\n",
       "      <th>PassengerId</th>\n",
       "      <th>Survived</th>\n",
       "      <th>Pclass</th>\n",
       "      <th>Name</th>\n",
       "      <th>Sex</th>\n",
       "      <th>Age</th>\n",
       "      <th>SibSp</th>\n",
       "      <th>Parch</th>\n",
       "      <th>Fare</th>\n",
       "      <th>Cabin</th>\n",
       "      <th>Embarked</th>\n",
       "      <th>deck</th>\n",
       "      <th>Title</th>\n",
       "      <th>Ticket_LeadingDigit</th>\n",
       "    </tr>\n",
       "  </thead>\n",
       "  <tbody>\n",
       "    <tr>\n",
       "      <th>0</th>\n",
       "      <td>1</td>\n",
       "      <td>0</td>\n",
       "      <td>3</td>\n",
       "      <td>Braund, Mr. Owen Harris</td>\n",
       "      <td>male</td>\n",
       "      <td>22.0</td>\n",
       "      <td>1</td>\n",
       "      <td>0</td>\n",
       "      <td>7.25</td>\n",
       "      <td>NaN</td>\n",
       "      <td>S</td>\n",
       "      <td>U</td>\n",
       "      <td>Mr</td>\n",
       "      <td>2</td>\n",
       "    </tr>\n",
       "  </tbody>\n",
       "</table>\n",
       "</div>"
      ],
      "text/plain": [
       "   PassengerId  Survived  Pclass                     Name   Sex   Age  SibSp  \\\n",
       "0            1         0       3  Braund, Mr. Owen Harris  male  22.0      1   \n",
       "\n",
       "   Parch  Fare Cabin Embarked deck Title  Ticket_LeadingDigit  \n",
       "0      0  7.25   NaN        S    U    Mr                    2  "
      ]
     },
     "execution_count": 633,
     "metadata": {},
     "output_type": "execute_result"
    }
   ],
   "source": [
    "#check if there a letters or not\n",
    "def prefix(ticket):\n",
    "    \n",
    "    check = ticket.split(' ')[0][0]\n",
    "    if check.isalpha():\n",
    "        return ticket.split(' ')[0]\n",
    "    else:\n",
    "        return 'No prefix'\n",
    "\n",
    "def ticket_features(df):\n",
    "    \n",
    "    df['Ticket'] = df['Ticket'].replace('LINE','LINE 0')\n",
    "    df['Ticket'] = df['Ticket'].apply(lambda x: x.replace('.','').replace('/','').lower())\n",
    "    df['Prefix'] = df['Ticket'].apply(lambda x: prefix(x))\n",
    "    df['TNumeric'] = df['Ticket'].apply(lambda x: int(x.split(' ')[-1]))\n",
    "    df['TNlen'] = df['TNumeric'].apply(lambda x : len(str(x)))\n",
    "    df['Ticket_LeadingDigit'] = df['TNumeric'].apply(lambda x : int(str(x)[0]))\n",
    "    df['TGroup'] = df['TNumeric'].apply(lambda x: str(x//10))\n",
    "\n",
    "    df = df.drop(columns=['Ticket','TNumeric','Prefix','TNlen','TGroup'])\n",
    "\n",
    "    return df\n",
    "\n",
    "dataset = ticket_features(dataset)\n",
    "dataset.head(1)\n",
    "\n"
   ]
  },
  {
   "cell_type": "code",
   "execution_count": null,
   "id": "904975c3",
   "metadata": {},
   "outputs": [],
   "source": []
  },
  {
   "cell_type": "code",
   "execution_count": 634,
   "id": "c871046d",
   "metadata": {},
   "outputs": [
    {
     "data": {
      "text/plain": [
       "array(['U', 'C', 'E', 'G', 'D', 'A', 'B', 'F', 'T'], dtype=object)"
      ]
     },
     "execution_count": 634,
     "metadata": {},
     "output_type": "execute_result"
    }
   ],
   "source": [
    "dataset['deck'].unique()\n",
    "\n"
   ]
  },
  {
   "cell_type": "markdown",
   "id": "cbce8c41-c796-451a-9076-d16378aac6fe",
   "metadata": {},
   "source": [
    "### Encoding Categorical features"
   ]
  },
  {
   "cell_type": "code",
   "execution_count": 635,
   "id": "aff3673a",
   "metadata": {},
   "outputs": [],
   "source": [
    "# encoding sex column\n",
    "dataset.replace({'Sex':{'male':0,'female':1}}, inplace=True)\n",
    "\n",
    " # encoding 'embarked' column\n",
    "dataset.replace({'Embarked':{'C':0,'S':1, 'Q':2}}, inplace=True)\n",
    "\n",
    "#encoding title column\n",
    "dataset.replace({'Title':{'Mr':0,'Mrs':1, 'Master':2, 'Miss':3, 'Other':5}}, inplace=True)\n",
    "\n",
    "deck = pd.get_dummies(dataset['deck'],prefix='Cabin')\n",
    "dataset = dataset.drop(columns= ['Cabin', 'Name', 'deck'], axis=1)\n",
    "dataset= pd.concat([dataset,deck],axis=1)\n"
   ]
  },
  {
   "cell_type": "code",
   "execution_count": 636,
   "id": "004301d5",
   "metadata": {},
   "outputs": [],
   "source": [
    "#Update\n",
    "#I had to split the training file because the test file doesn't have any ground-truth labels so we can't find testing accuracy from it\n",
    "#from sklearn.model_selection import train_test_split\n",
    "#file = pd.read_csv('train.csv')\n",
    "train, test = train_test_split(dataset, test_size=0.2)"
   ]
  },
  {
   "cell_type": "code",
   "execution_count": 637,
   "id": "e442061f",
   "metadata": {},
   "outputs": [],
   "source": [
    "y_train = train['Survived']\n",
    "x_train = train.drop(['Survived', 'PassengerId'], axis=1)\n",
    "\n",
    "y_test = test['Survived']\n",
    "x_test = test.drop(['Survived', 'PassengerId'], axis=1)"
   ]
  },
  {
   "cell_type": "code",
   "execution_count": 638,
   "id": "9b34f07b-9648-4803-abbb-19ebc1dbcc5e",
   "metadata": {},
   "outputs": [],
   "source": [
    "# sex = pd.get_dummies(train['Sex'])\n",
    "# embarked = pd.get_dummies(train['Embarked'])\n",
    "# deck = pd.get_dummies(train['deck'],prefix='Cabin')\n",
    "# title=pd.get_dummies(train['Title'])\n",
    "# train= pd.concat([train,sex,title,deck,embarked],axis=1)\n",
    "\n",
    "# #do for test\n",
    "# sex1 = pd.get_dummies(test['Sex'])\n",
    "# embarked1 = pd.get_dummies(test['Embarked'])\n",
    "# deck1 = pd.get_dummies(test['deck'],prefix='Cabin')\n",
    "# title1 = pd.get_dummies(test['Title'])\n",
    "# test= pd.concat([test,sex1,title1,deck1,embarked1],axis=1)\n",
    "# pd.set_option('display.max_columns',None)\n",
    "# test.head(1)"
   ]
  },
  {
   "cell_type": "code",
   "execution_count": 639,
   "id": "40abc9f6-a7b4-46e5-aed3-ac475c3c5587",
   "metadata": {},
   "outputs": [
    {
     "data": {
      "text/plain": [
       "PassengerId              int64\n",
       "Survived                 int64\n",
       "Pclass                   int64\n",
       "Sex                      int64\n",
       "Age                    float64\n",
       "SibSp                    int64\n",
       "Parch                    int64\n",
       "Fare                   float64\n",
       "Embarked                 int64\n",
       "Title                    int64\n",
       "Ticket_LeadingDigit      int64\n",
       "Cabin_A                  uint8\n",
       "Cabin_B                  uint8\n",
       "Cabin_C                  uint8\n",
       "Cabin_D                  uint8\n",
       "Cabin_E                  uint8\n",
       "Cabin_F                  uint8\n",
       "Cabin_G                  uint8\n",
       "Cabin_T                  uint8\n",
       "Cabin_U                  uint8\n",
       "dtype: object"
      ]
     },
     "execution_count": 639,
     "metadata": {},
     "output_type": "execute_result"
    }
   ],
   "source": [
    "train.dtypes"
   ]
  },
  {
   "cell_type": "code",
   "execution_count": 640,
   "id": "b464564f",
   "metadata": {},
   "outputs": [
    {
     "data": {
      "text/html": [
       "<div>\n",
       "<style scoped>\n",
       "    .dataframe tbody tr th:only-of-type {\n",
       "        vertical-align: middle;\n",
       "    }\n",
       "\n",
       "    .dataframe tbody tr th {\n",
       "        vertical-align: top;\n",
       "    }\n",
       "\n",
       "    .dataframe thead th {\n",
       "        text-align: right;\n",
       "    }\n",
       "</style>\n",
       "<table border=\"1\" class=\"dataframe\">\n",
       "  <thead>\n",
       "    <tr style=\"text-align: right;\">\n",
       "      <th></th>\n",
       "      <th>Pclass</th>\n",
       "      <th>Sex</th>\n",
       "      <th>Age</th>\n",
       "      <th>SibSp</th>\n",
       "      <th>Parch</th>\n",
       "      <th>Fare</th>\n",
       "      <th>Embarked</th>\n",
       "      <th>Title</th>\n",
       "      <th>Ticket_LeadingDigit</th>\n",
       "      <th>Cabin_A</th>\n",
       "      <th>Cabin_B</th>\n",
       "      <th>Cabin_C</th>\n",
       "      <th>Cabin_D</th>\n",
       "      <th>Cabin_E</th>\n",
       "      <th>Cabin_F</th>\n",
       "      <th>Cabin_G</th>\n",
       "      <th>Cabin_T</th>\n",
       "      <th>Cabin_U</th>\n",
       "    </tr>\n",
       "  </thead>\n",
       "  <tbody>\n",
       "    <tr>\n",
       "      <th>157</th>\n",
       "      <td>3</td>\n",
       "      <td>0</td>\n",
       "      <td>30.0</td>\n",
       "      <td>0</td>\n",
       "      <td>0</td>\n",
       "      <td>8.0500</td>\n",
       "      <td>1</td>\n",
       "      <td>0</td>\n",
       "      <td>3</td>\n",
       "      <td>0</td>\n",
       "      <td>0</td>\n",
       "      <td>0</td>\n",
       "      <td>0</td>\n",
       "      <td>0</td>\n",
       "      <td>0</td>\n",
       "      <td>0</td>\n",
       "      <td>0</td>\n",
       "      <td>1</td>\n",
       "    </tr>\n",
       "    <tr>\n",
       "      <th>711</th>\n",
       "      <td>1</td>\n",
       "      <td>0</td>\n",
       "      <td>40.0</td>\n",
       "      <td>0</td>\n",
       "      <td>0</td>\n",
       "      <td>26.5500</td>\n",
       "      <td>1</td>\n",
       "      <td>0</td>\n",
       "      <td>1</td>\n",
       "      <td>0</td>\n",
       "      <td>0</td>\n",
       "      <td>1</td>\n",
       "      <td>0</td>\n",
       "      <td>0</td>\n",
       "      <td>0</td>\n",
       "      <td>0</td>\n",
       "      <td>0</td>\n",
       "      <td>0</td>\n",
       "    </tr>\n",
       "    <tr>\n",
       "      <th>309</th>\n",
       "      <td>1</td>\n",
       "      <td>1</td>\n",
       "      <td>30.0</td>\n",
       "      <td>0</td>\n",
       "      <td>0</td>\n",
       "      <td>56.9292</td>\n",
       "      <td>0</td>\n",
       "      <td>3</td>\n",
       "      <td>1</td>\n",
       "      <td>0</td>\n",
       "      <td>0</td>\n",
       "      <td>0</td>\n",
       "      <td>0</td>\n",
       "      <td>1</td>\n",
       "      <td>0</td>\n",
       "      <td>0</td>\n",
       "      <td>0</td>\n",
       "      <td>0</td>\n",
       "    </tr>\n",
       "    <tr>\n",
       "      <th>559</th>\n",
       "      <td>3</td>\n",
       "      <td>1</td>\n",
       "      <td>36.0</td>\n",
       "      <td>1</td>\n",
       "      <td>0</td>\n",
       "      <td>17.4000</td>\n",
       "      <td>1</td>\n",
       "      <td>1</td>\n",
       "      <td>3</td>\n",
       "      <td>0</td>\n",
       "      <td>0</td>\n",
       "      <td>0</td>\n",
       "      <td>0</td>\n",
       "      <td>0</td>\n",
       "      <td>0</td>\n",
       "      <td>0</td>\n",
       "      <td>0</td>\n",
       "      <td>1</td>\n",
       "    </tr>\n",
       "    <tr>\n",
       "      <th>506</th>\n",
       "      <td>2</td>\n",
       "      <td>1</td>\n",
       "      <td>33.0</td>\n",
       "      <td>0</td>\n",
       "      <td>2</td>\n",
       "      <td>26.0000</td>\n",
       "      <td>1</td>\n",
       "      <td>1</td>\n",
       "      <td>2</td>\n",
       "      <td>0</td>\n",
       "      <td>0</td>\n",
       "      <td>0</td>\n",
       "      <td>0</td>\n",
       "      <td>0</td>\n",
       "      <td>0</td>\n",
       "      <td>0</td>\n",
       "      <td>0</td>\n",
       "      <td>1</td>\n",
       "    </tr>\n",
       "    <tr>\n",
       "      <th>...</th>\n",
       "      <td>...</td>\n",
       "      <td>...</td>\n",
       "      <td>...</td>\n",
       "      <td>...</td>\n",
       "      <td>...</td>\n",
       "      <td>...</td>\n",
       "      <td>...</td>\n",
       "      <td>...</td>\n",
       "      <td>...</td>\n",
       "      <td>...</td>\n",
       "      <td>...</td>\n",
       "      <td>...</td>\n",
       "      <td>...</td>\n",
       "      <td>...</td>\n",
       "      <td>...</td>\n",
       "      <td>...</td>\n",
       "      <td>...</td>\n",
       "      <td>...</td>\n",
       "    </tr>\n",
       "    <tr>\n",
       "      <th>615</th>\n",
       "      <td>2</td>\n",
       "      <td>1</td>\n",
       "      <td>24.0</td>\n",
       "      <td>1</td>\n",
       "      <td>2</td>\n",
       "      <td>65.0000</td>\n",
       "      <td>1</td>\n",
       "      <td>3</td>\n",
       "      <td>2</td>\n",
       "      <td>0</td>\n",
       "      <td>0</td>\n",
       "      <td>0</td>\n",
       "      <td>0</td>\n",
       "      <td>0</td>\n",
       "      <td>0</td>\n",
       "      <td>0</td>\n",
       "      <td>0</td>\n",
       "      <td>1</td>\n",
       "    </tr>\n",
       "    <tr>\n",
       "      <th>721</th>\n",
       "      <td>3</td>\n",
       "      <td>0</td>\n",
       "      <td>17.0</td>\n",
       "      <td>1</td>\n",
       "      <td>0</td>\n",
       "      <td>7.0542</td>\n",
       "      <td>1</td>\n",
       "      <td>0</td>\n",
       "      <td>3</td>\n",
       "      <td>0</td>\n",
       "      <td>0</td>\n",
       "      <td>0</td>\n",
       "      <td>0</td>\n",
       "      <td>0</td>\n",
       "      <td>0</td>\n",
       "      <td>0</td>\n",
       "      <td>0</td>\n",
       "      <td>1</td>\n",
       "    </tr>\n",
       "    <tr>\n",
       "      <th>232</th>\n",
       "      <td>2</td>\n",
       "      <td>0</td>\n",
       "      <td>59.0</td>\n",
       "      <td>0</td>\n",
       "      <td>0</td>\n",
       "      <td>13.5000</td>\n",
       "      <td>1</td>\n",
       "      <td>0</td>\n",
       "      <td>2</td>\n",
       "      <td>0</td>\n",
       "      <td>0</td>\n",
       "      <td>0</td>\n",
       "      <td>0</td>\n",
       "      <td>0</td>\n",
       "      <td>0</td>\n",
       "      <td>0</td>\n",
       "      <td>0</td>\n",
       "      <td>1</td>\n",
       "    </tr>\n",
       "    <tr>\n",
       "      <th>226</th>\n",
       "      <td>2</td>\n",
       "      <td>0</td>\n",
       "      <td>19.0</td>\n",
       "      <td>0</td>\n",
       "      <td>0</td>\n",
       "      <td>10.5000</td>\n",
       "      <td>1</td>\n",
       "      <td>0</td>\n",
       "      <td>7</td>\n",
       "      <td>0</td>\n",
       "      <td>0</td>\n",
       "      <td>0</td>\n",
       "      <td>0</td>\n",
       "      <td>0</td>\n",
       "      <td>0</td>\n",
       "      <td>0</td>\n",
       "      <td>0</td>\n",
       "      <td>1</td>\n",
       "    </tr>\n",
       "    <tr>\n",
       "      <th>255</th>\n",
       "      <td>3</td>\n",
       "      <td>1</td>\n",
       "      <td>29.0</td>\n",
       "      <td>0</td>\n",
       "      <td>2</td>\n",
       "      <td>15.2458</td>\n",
       "      <td>0</td>\n",
       "      <td>1</td>\n",
       "      <td>2</td>\n",
       "      <td>0</td>\n",
       "      <td>0</td>\n",
       "      <td>0</td>\n",
       "      <td>0</td>\n",
       "      <td>0</td>\n",
       "      <td>0</td>\n",
       "      <td>0</td>\n",
       "      <td>0</td>\n",
       "      <td>1</td>\n",
       "    </tr>\n",
       "  </tbody>\n",
       "</table>\n",
       "<p>712 rows × 18 columns</p>\n",
       "</div>"
      ],
      "text/plain": [
       "     Pclass  Sex   Age  SibSp  Parch     Fare  Embarked  Title  \\\n",
       "157       3    0  30.0      0      0   8.0500         1      0   \n",
       "711       1    0  40.0      0      0  26.5500         1      0   \n",
       "309       1    1  30.0      0      0  56.9292         0      3   \n",
       "559       3    1  36.0      1      0  17.4000         1      1   \n",
       "506       2    1  33.0      0      2  26.0000         1      1   \n",
       "..      ...  ...   ...    ...    ...      ...       ...    ...   \n",
       "615       2    1  24.0      1      2  65.0000         1      3   \n",
       "721       3    0  17.0      1      0   7.0542         1      0   \n",
       "232       2    0  59.0      0      0  13.5000         1      0   \n",
       "226       2    0  19.0      0      0  10.5000         1      0   \n",
       "255       3    1  29.0      0      2  15.2458         0      1   \n",
       "\n",
       "     Ticket_LeadingDigit  Cabin_A  Cabin_B  Cabin_C  Cabin_D  Cabin_E  \\\n",
       "157                    3        0        0        0        0        0   \n",
       "711                    1        0        0        1        0        0   \n",
       "309                    1        0        0        0        0        1   \n",
       "559                    3        0        0        0        0        0   \n",
       "506                    2        0        0        0        0        0   \n",
       "..                   ...      ...      ...      ...      ...      ...   \n",
       "615                    2        0        0        0        0        0   \n",
       "721                    3        0        0        0        0        0   \n",
       "232                    2        0        0        0        0        0   \n",
       "226                    7        0        0        0        0        0   \n",
       "255                    2        0        0        0        0        0   \n",
       "\n",
       "     Cabin_F  Cabin_G  Cabin_T  Cabin_U  \n",
       "157        0        0        0        1  \n",
       "711        0        0        0        0  \n",
       "309        0        0        0        0  \n",
       "559        0        0        0        1  \n",
       "506        0        0        0        1  \n",
       "..       ...      ...      ...      ...  \n",
       "615        0        0        0        1  \n",
       "721        0        0        0        1  \n",
       "232        0        0        0        1  \n",
       "226        0        0        0        1  \n",
       "255        0        0        0        1  \n",
       "\n",
       "[712 rows x 18 columns]"
      ]
     },
     "execution_count": 640,
     "metadata": {},
     "output_type": "execute_result"
    }
   ],
   "source": [
    "x_train"
   ]
  },
  {
   "cell_type": "markdown",
   "id": "31afbf63",
   "metadata": {},
   "source": [
    "Convert Dataframe to Matrix"
   ]
  },
  {
   "cell_type": "code",
   "execution_count": 641,
   "id": "ae82255b",
   "metadata": {},
   "outputs": [
    {
     "name": "stdout",
     "output_type": "stream",
     "text": [
      "[[1. 3. 0. ... 0. 0. 1.]\n",
      " [1. 1. 0. ... 0. 0. 0.]\n",
      " [1. 1. 1. ... 0. 0. 0.]\n",
      " ...\n",
      " [1. 2. 0. ... 0. 0. 1.]\n",
      " [1. 2. 0. ... 0. 0. 1.]\n",
      " [1. 3. 1. ... 0. 0. 1.]]\n"
     ]
    }
   ],
   "source": [
    "#Training Set\n",
    "x_train = x_train.to_numpy()\n",
    "y_train = y_train.to_numpy()\n",
    "\n",
    "x_train = np.insert(x_train, 0, 1, axis=1) #insert a first column of 1's as x0 \n",
    "print(x_train)"
   ]
  },
  {
   "cell_type": "code",
   "execution_count": 642,
   "id": "927f8eb7",
   "metadata": {},
   "outputs": [
    {
     "name": "stdout",
     "output_type": "stream",
     "text": [
      "[[1. 1. 0. ... 0. 0. 1.]\n",
      " [1. 2. 0. ... 0. 0. 1.]\n",
      " [1. 3. 0. ... 0. 0. 1.]\n",
      " ...\n",
      " [1. 3. 0. ... 0. 0. 1.]\n",
      " [1. 1. 1. ... 0. 0. 0.]\n",
      " [1. 3. 0. ... 0. 0. 1.]]\n"
     ]
    }
   ],
   "source": [
    "#Testing Set\n",
    "x_test = x_test.to_numpy()\n",
    "y_test = y_test.to_numpy()\n",
    "\n",
    "x_test = np.insert(x_test, 0, 1, axis=1) #insert a first column of 1's as x0 \n",
    "print(x_test)"
   ]
  },
  {
   "cell_type": "markdown",
   "id": "f8afaccb",
   "metadata": {},
   "source": [
    "Initialise B: set of training parameters"
   ]
  },
  {
   "cell_type": "code",
   "execution_count": 643,
   "id": "85d1e552",
   "metadata": {},
   "outputs": [
    {
     "name": "stdout",
     "output_type": "stream",
     "text": [
      "[-1.1756522  -1.41562789 -1.33744836 -0.13345793  0.15150282  3.61949073\n",
      " -2.2120005   0.79271501 -0.74318325  0.74352563 -0.07810281  0.31972745\n",
      "  0.81363116 -0.45681801 -1.9813441  -0.80361478 -0.38973656  1.42078361\n",
      " -1.19189711]\n"
     ]
    }
   ],
   "source": [
    "B = np.random.normal(size = x_train.shape[1]) #x_train.shape[1] = number of features including x0\n",
    "print(B)"
   ]
  },
  {
   "cell_type": "markdown",
   "id": "202cf11a",
   "metadata": {},
   "source": [
    "Sigmoid function"
   ]
  },
  {
   "cell_type": "code",
   "execution_count": 644,
   "id": "6f29ae11",
   "metadata": {},
   "outputs": [],
   "source": [
    "def sigmoid(x):\n",
    "    if x > 700:      #avoid math overflow error\n",
    "        sig = 1.0\n",
    "\n",
    "    elif x <= -700: #avoid math overflow error\n",
    "        sig = 0\n",
    "\n",
    "    else:\n",
    "        sig = 1 / (1 + math.exp(-x))\n",
    "        \n",
    "    return sig"
   ]
  },
  {
   "cell_type": "markdown",
   "id": "c33094d8",
   "metadata": {},
   "source": [
    "get H_x from function below"
   ]
  },
  {
   "cell_type": "code",
   "execution_count": 645,
   "id": "7e02ba89",
   "metadata": {},
   "outputs": [],
   "source": [
    "def g_z(X, B):\n",
    "    Y = []\n",
    "    for i in range(X.shape[0]):\n",
    "        z = np.dot(X[i], B) #multiply B times X\n",
    "        Y.append(sigmoid(z))\n",
    "    \n",
    "    return np.asarray(Y) #convert list to array"
   ]
  },
  {
   "cell_type": "markdown",
   "id": "ca6e2a0b",
   "metadata": {},
   "source": [
    "Error Function"
   ]
  },
  {
   "cell_type": "code",
   "execution_count": 646,
   "id": "ce6208e1",
   "metadata": {},
   "outputs": [],
   "source": [
    "def J_B(true_y, pred_y, B, regPara):\n",
    "    epsilon = 1e-5 # to prevent 0 values in log\n",
    "\n",
    "    a  = (true_y * np.log(pred_y + epsilon)) + ((1-true_y) * np.log((1 - pred_y) +epsilon))\n",
    "    b = regPara * (np.sum(np.square(B[1:]))) \n",
    "    return (-1 * np.sum(a)) + b"
   ]
  },
  {
   "cell_type": "markdown",
   "id": "cc0950dc",
   "metadata": {},
   "source": [
    "Get Prediction Function"
   ]
  },
  {
   "cell_type": "code",
   "execution_count": 647,
   "id": "adde8e42",
   "metadata": {},
   "outputs": [],
   "source": [
    "def getPredictions(H_x):\n",
    "    Y = []\n",
    "    for i in range(H_x.size):\n",
    "        if(H_x[i] >= 0.5):\n",
    "            Y.append(1)\n",
    "        else:\n",
    "            Y.append(0)\n",
    "    return np.asarray(Y)"
   ]
  },
  {
   "cell_type": "markdown",
   "id": "85a346bf",
   "metadata": {},
   "source": [
    "Get Accuracy function"
   ]
  },
  {
   "cell_type": "code",
   "execution_count": 648,
   "id": "4b2310c9",
   "metadata": {},
   "outputs": [],
   "source": [
    "def getAccuracy(y_true, y_pred):\n",
    "    sum = 0\n",
    "    for i in range(y_true.size):\n",
    "        if y_true[i] == y_pred[i]:\n",
    "            sum = sum + 1\n",
    "            \n",
    "    return np.round(sum/y_true.size,4)"
   ]
  },
  {
   "cell_type": "markdown",
   "id": "8b8e3a4c",
   "metadata": {},
   "source": [
    "Gradient Descent with regularization Function"
   ]
  },
  {
   "cell_type": "code",
   "execution_count": 649,
   "id": "badfec2d",
   "metadata": {},
   "outputs": [],
   "source": [
    " #Y(actual values),X(features), B(training parameters), reg_para(regularisation parameter), l_rate(learning rate), epsilon(stop GD when norm < epsilon)\n",
    "def Grad_Desc(Y, X, B, reg_para, l_rate, epsilon):\n",
    "    norm = epsilon + 1\n",
    "    H_x = g_z(X, B)\n",
    "    B_old = B.copy()\n",
    "    while norm > epsilon:\n",
    "        for i in range(B.size):\n",
    "            if i == 0: # no regularization\n",
    "                B[i] = B[i] - (l_rate * np.sum(H_x - Y))\n",
    "            else:\n",
    "                B[i] = B[i] - (l_rate * (np.sum((H_x - Y) * X[:,i]) - (reg_para * B[i] / X.shape[0])))\n",
    "        norm = np.linalg.norm(np.subtract(B,B_old), 2)\n",
    "        H_x = g_z(X, B)\n",
    "        B_old = B.copy()\n",
    "        \n",
    "    return B"
   ]
  },
  {
   "cell_type": "code",
   "execution_count": 650,
   "id": "b86c2e14",
   "metadata": {},
   "outputs": [
    {
     "name": "stdout",
     "output_type": "stream",
     "text": [
      "Original Parameters\n",
      "[-1.1756522  -1.41562789 -1.33744836 -0.13345793  0.15150282  3.61949073\n",
      " -2.2120005   0.79271501 -0.74318325  0.74352563 -0.07810281  0.31972745\n",
      "  0.81363116 -0.45681801 -1.9813441  -0.80361478 -0.38973656  1.42078361\n",
      " -1.19189711]\n",
      "Original Error: 3168.4499806523622\n",
      "Accuracy: 61.519999999999996%\n"
     ]
    }
   ],
   "source": [
    "print(\"Original Parameters\")\n",
    "print(B)\n",
    "\n",
    "h_x = g_z(x_train, B)\n",
    "print(\"Original Error: \" + str(J_B(y_train, h_x, B, regPara=0.5)) )\n",
    "\n",
    "print(\"Accuracy: \" + str(getAccuracy(y_train, getPredictions(h_x)) * 100) + \"%\")"
   ]
  },
  {
   "cell_type": "markdown",
   "id": "6d1a4413",
   "metadata": {},
   "source": [
    "Perform Gradient Descent"
   ]
  },
  {
   "cell_type": "code",
   "execution_count": 651,
   "id": "b60ae548",
   "metadata": {},
   "outputs": [
    {
     "name": "stdout",
     "output_type": "stream",
     "text": [
      "[[1. 1. 0. ... 0. 0. 1.]\n",
      " [1. 2. 0. ... 0. 0. 1.]\n",
      " [1. 3. 0. ... 0. 0. 1.]\n",
      " ...\n",
      " [1. 3. 0. ... 0. 0. 1.]\n",
      " [1. 1. 1. ... 0. 0. 0.]\n",
      " [1. 3. 0. ... 0. 0. 1.]]\n"
     ]
    }
   ],
   "source": [
    "#Testing Data\n",
    "y_test = test['Survived']\n",
    "x_test = test.drop(['Survived', 'PassengerId'], axis=1)\n",
    "\n",
    "y_test = y_test.to_numpy()\n",
    "x_test = x_test.to_numpy()\n",
    "\n",
    "\n",
    "x_test = np.insert(x_test, 0, 1, axis=1) #insert a first column of 1's as x0 \n",
    "print(x_test)"
   ]
  },
  {
   "cell_type": "code",
   "execution_count": 652,
   "id": "154096bd",
   "metadata": {},
   "outputs": [
    {
     "name": "stdout",
     "output_type": "stream",
     "text": [
      "(179, 19)\n",
      "(712, 19)\n",
      "[ 1.    3.    0.   30.    0.    0.    8.05  1.    0.    3.    0.    0.\n",
      "  0.    0.    0.    0.    0.    0.    1.  ]\n",
      "[ 1.    1.    0.   60.    0.    0.   26.55  1.    5.    1.    0.    0.\n",
      "  0.    0.    0.    0.    0.    0.    1.  ]\n"
     ]
    }
   ],
   "source": [
    "print(np.shape(x_test))\n",
    "print(np.shape(x_train))\n",
    "print(x_train[0])\n",
    "print(x_test[0])"
   ]
  },
  {
   "cell_type": "code",
   "execution_count": 653,
   "id": "a6c2b59d",
   "metadata": {},
   "outputs": [],
   "source": [
    "import time\n",
    "\n",
    "def Logistic_Regression(new_reg_para,new_l_rate,new_epsilon):\n",
    "    start_time = time.time()\n",
    "    B_new = Grad_Desc(y_train, x_train, B.copy(), reg_para=new_reg_para, l_rate=new_l_rate, epsilon=new_epsilon)\n",
    "    #print(\"New Parameters\")\n",
    "    #print(B_new)\n",
    "\n",
    "    h_x_new = g_z(x_train, B_new)\n",
    "    print(\"Error after Gradient Descent: \" + str(J_B(y_train, h_x_new, B_new, regPara=new_reg_para)) )\n",
    "    end_time = time.time()\n",
    "    \n",
    "    y_pred = getPredictions(h_x_new)\n",
    "    training_accuracy = getAccuracy(y_train, y_pred)\n",
    "    #print(f\"Learning Rate: {new_l_rate}\")\n",
    "    print(f\"Time taken to train model: {end_time-start_time}s\")\n",
    "    print(\"Training Accuracy: \" + str(training_accuracy*100) + \" %\")\n",
    "    \n",
    "    #Testing Data shape not the same as Training Data\n",
    "    #Testing Accuracy\n",
    "    h_x_testing = g_z(x_test,B_new)\n",
    "    y_pred_test = getPredictions(h_x_testing)\n",
    "    testing_accuracy = getAccuracy(y_test, y_pred_test)\n",
    "    print(\"Testing Accuracy: \" + str(testing_accuracy*100) + \" %\\n\\n\")\n",
    "    #testing_accuracy = training_accuracy # Delete this when testing data is fixed\n",
    "    \n",
    "    return training_accuracy, testing_accuracy"
   ]
  },
  {
   "cell_type": "code",
   "execution_count": 654,
   "id": "49b2bbbc",
   "metadata": {},
   "outputs": [
    {
     "name": "stdout",
     "output_type": "stream",
     "text": [
      "Error after Gradient Descent: 328.73828375891253\n",
      "Time taken to train model: 38.25068664550781s\n",
      "Training Accuracy: 79.63 %\n",
      "Testing Accuracy: 82.67999999999999 %\n",
      "\n",
      "\n"
     ]
    }
   ],
   "source": [
    "#Logistic Regression with Regression\n",
    "training_accuracy, testing_accuracy = Logistic_Regression(0.5,0.000005,0.00005)"
   ]
  },
  {
   "cell_type": "code",
   "execution_count": 655,
   "id": "aa1cd095",
   "metadata": {},
   "outputs": [
    {
     "name": "stdout",
     "output_type": "stream",
     "text": [
      "Learning Rate: 0.0\n",
      "Error after Gradient Descent: 3168.4499806523622\n",
      "Time taken to train model: 0.0044596195220947266s\n",
      "Training Accuracy: 61.519999999999996 %\n",
      "Testing Accuracy: 62.01 %\n",
      "\n",
      "\n",
      "Learning Rate: 5e-07\n",
      "Error after Gradient Descent: 527.6657231591893\n",
      "Time taken to train model: 39.298702239990234s\n",
      "Training Accuracy: 71.49 %\n",
      "Testing Accuracy: 70.95 %\n",
      "\n",
      "\n",
      "Learning Rate: 1e-06\n",
      "Error after Gradient Descent: 393.43535372169794\n",
      "Time taken to train model: 46.91630506515503s\n",
      "Training Accuracy: 73.88 %\n",
      "Testing Accuracy: 74.3 %\n",
      "\n",
      "\n",
      "Learning Rate: 1.5e-06\n",
      "Error after Gradient Descent: 366.12293688317055\n",
      "Time taken to train model: 43.514379262924194s\n",
      "Training Accuracy: 74.44 %\n",
      "Testing Accuracy: 72.63 %\n",
      "\n",
      "\n",
      "Learning Rate: 2e-06\n",
      "Error after Gradient Descent: 351.82469357453215\n",
      "Time taken to train model: 42.7380166053772s\n",
      "Training Accuracy: 75.98 %\n",
      "Testing Accuracy: 75.42 %\n",
      "\n",
      "\n",
      "Learning Rate: 2.4999999999999998e-06\n",
      "Error after Gradient Descent: 343.56757934597385\n",
      "Time taken to train model: 41.91629385948181s\n",
      "Training Accuracy: 78.09 %\n",
      "Testing Accuracy: 79.89 %\n",
      "\n",
      "\n",
      "Learning Rate: 3e-06\n",
      "Error after Gradient Descent: 338.446447720067\n",
      "Time taken to train model: 40.713796615600586s\n",
      "Training Accuracy: 78.23 %\n",
      "Testing Accuracy: 79.33 %\n",
      "\n",
      "\n",
      "Learning Rate: 3.5e-06\n",
      "Error after Gradient Descent: 334.9514590378627\n",
      "Time taken to train model: 40.36596608161926s\n",
      "Training Accuracy: 79.49000000000001 %\n",
      "Testing Accuracy: 81.56 %\n",
      "\n",
      "\n",
      "Learning Rate: 4e-06\n",
      "Error after Gradient Descent: 332.3756573373227\n",
      "Time taken to train model: 39.50752568244934s\n",
      "Training Accuracy: 79.35 %\n",
      "Testing Accuracy: 83.24000000000001 %\n",
      "\n",
      "\n",
      "Learning Rate: 4.5e-06\n",
      "Error after Gradient Descent: 330.3675647735424\n",
      "Time taken to train model: 39.79768633842468s\n",
      "Training Accuracy: 79.78 %\n",
      "Testing Accuracy: 82.67999999999999 %\n",
      "\n",
      "\n"
     ]
    }
   ],
   "source": [
    "#Investigate Effect of Different Learning Rates\n",
    "\n",
    "#Pick 10 learning rates\n",
    "learning_rates = [0.0000005 * i for i in range(10)]\n",
    "\n",
    "#Lists to store training and testing accuracies for each learning rate\n",
    "training_accuracy_list = []\n",
    "testing_accuracy_list = [] \n",
    "\n",
    "#For each learning rate\n",
    "for i in range(0,len(learning_rates)):\n",
    "    print(f\"Learning Rate: {learning_rates[i]}\")\n",
    "    training_accuracy, testing_accuracy = Logistic_Regression(0.5, learning_rates[i],0.00005)\n",
    "    training_accuracy_list.append(training_accuracy)\n",
    "    testing_accuracy_list.append(testing_accuracy)\n"
   ]
  },
  {
   "cell_type": "code",
   "execution_count": 656,
   "id": "2b9459d3",
   "metadata": {},
   "outputs": [
    {
     "data": {
      "image/png": "[encoded data removed]",
      "text/plain": [
       "<Figure size 432x288 with 1 Axes>"
      ]
     },
     "metadata": {
      "needs_background": "light"
     },
     "output_type": "display_data"
    }
   ],
   "source": [
    "#Plot Training Accuracy\n",
    "plt.plot(learning_rates, training_accuracy_list, label=\"Training Accuracy\")\n",
    "\n",
    "#Plot Testing Accuracy\n",
    "plt.plot(learning_rates, testing_accuracy_list, label=\"Testing Accuracy\")\n",
    "    \n",
    "plt.xlabel('Learning Rates')\n",
    "plt.ylabel('Accuracy')\n",
    "\n",
    "plt.legend()\n",
    "\n",
    "plt.title('Effect of Different Learning Rates on Accuracy')\n",
    "plt.show()"
   ]
  },
  {
   "cell_type": "code",
   "execution_count": 657,
   "id": "0b8e150f",
   "metadata": {},
   "outputs": [
    {
     "name": "stdout",
     "output_type": "stream",
     "text": [
      "[0.0, 0.1, 0.2, 0.30000000000000004, 0.4]\n",
      "Regularisation Parameter: 0.0\n",
      "Error after Gradient Descent: 324.6118096363553\n",
      "Time taken to train model: 39.502535820007324s\n",
      "Training Accuracy: 79.63 %\n",
      "Testing Accuracy: 82.67999999999999 %\n",
      "\n",
      "\n",
      "Regularisation Parameter: 0.1\n",
      "Error after Gradient Descent: 325.4370148363279\n",
      "Time taken to train model: 38.399457931518555s\n",
      "Training Accuracy: 79.63 %\n",
      "Testing Accuracy: 82.67999999999999 %\n",
      "\n",
      "\n",
      "Regularisation Parameter: 0.2\n",
      "Error after Gradient Descent: 326.2622648457515\n",
      "Time taken to train model: 39.516953468322754s\n",
      "Training Accuracy: 79.63 %\n",
      "Testing Accuracy: 82.67999999999999 %\n",
      "\n",
      "\n",
      "Regularisation Parameter: 0.30000000000000004\n",
      "Error after Gradient Descent: 327.08755966744445\n",
      "Time taken to train model: 38.91544532775879s\n",
      "Training Accuracy: 79.63 %\n",
      "Testing Accuracy: 82.67999999999999 %\n",
      "\n",
      "\n",
      "Regularisation Parameter: 0.4\n",
      "Error after Gradient Descent: 327.91289930422516\n",
      "Time taken to train model: 38.9797797203064s\n",
      "Training Accuracy: 79.63 %\n",
      "Testing Accuracy: 82.67999999999999 %\n",
      "\n",
      "\n"
     ]
    }
   ],
   "source": [
    "#Investigate Effect of Different Regularisation Parameters\n",
    "\n",
    "#Pick 5 regularisation parameters\n",
    "reg_params = [0.1 * i for i in range(5)]\n",
    "print(reg_params)\n",
    "\n",
    "#Lists to store training and testing accuracies for each learning rate\n",
    "training_accuracy_list = []\n",
    "testing_accuracy_list = [] \n",
    "\n",
    "#For each Regularisation Parameter\n",
    "for i in range(0,len(reg_params)):\n",
    "    print(f\"Regularisation Parameter: {reg_params[i]}\")\n",
    "    training_accuracy, testing_accuracy = Logistic_Regression(reg_params[i], 0.000005,0.00005)\n",
    "    training_accuracy_list.append(training_accuracy)\n",
    "    testing_accuracy_list.append(testing_accuracy)"
   ]
  },
  {
   "cell_type": "code",
   "execution_count": 658,
   "id": "a33cc5d6",
   "metadata": {},
   "outputs": [
    {
     "data": {
      "image/png": "[encoded data removed]",
      "text/plain": [
       "<Figure size 432x288 with 1 Axes>"
      ]
     },
     "metadata": {
      "needs_background": "light"
     },
     "output_type": "display_data"
    }
   ],
   "source": [
    "#Plot Training Accuracy\n",
    "plt.plot(reg_params, training_accuracy_list, label=\"Training Accuracy\")\n",
    "\n",
    "#Plot Testing Accuracy\n",
    "plt.plot(reg_params, testing_accuracy_list, label=\"Testing Accuracy\")\n",
    "    \n",
    "plt.xlabel('Regularisation Parameters')\n",
    "plt.ylabel('Accuracy')\n",
    "\n",
    "plt.legend()\n",
    "\n",
    "plt.title('Effect of Different Regularisation Parameters on Accuracy')\n",
    "plt.show()"
   ]
  },
  {
   "cell_type": "code",
   "execution_count": 659,
   "id": "b6b79963",
   "metadata": {},
   "outputs": [
    {
     "name": "stdout",
     "output_type": "stream",
     "text": [
      "[0.0, 1e-05, 2e-05, 3.0000000000000004e-05, 4e-05]\n",
      "Epsilon Parameter: 0.0\n",
      "Error after Gradient Descent: 324.6118096363553\n",
      "Time taken to train model: 38.8993661403656s\n",
      "Training Accuracy: 79.63 %\n",
      "Testing Accuracy: 82.67999999999999 %\n",
      "\n",
      "\n",
      "Epsilon Parameter: 1e-05\n",
      "Error after Gradient Descent: 324.6118921546352\n",
      "Time taken to train model: 38.83940935134888s\n",
      "Training Accuracy: 79.63 %\n",
      "Testing Accuracy: 82.67999999999999 %\n",
      "\n",
      "\n",
      "Epsilon Parameter: 2e-05\n",
      "Error after Gradient Descent: 324.61197467291555\n",
      "Time taken to train model: 38.811633348464966s\n",
      "Training Accuracy: 79.63 %\n",
      "Testing Accuracy: 82.67999999999999 %\n",
      "\n",
      "\n",
      "Epsilon Parameter: 3.0000000000000004e-05\n",
      "Error after Gradient Descent: 324.61205719119624\n",
      "Time taken to train model: 38.508079528808594s\n",
      "Training Accuracy: 79.63 %\n",
      "Testing Accuracy: 82.67999999999999 %\n",
      "\n",
      "\n",
      "Epsilon Parameter: 4e-05\n",
      "Error after Gradient Descent: 324.61213970947745\n",
      "Time taken to train model: 38.47137498855591s\n",
      "Training Accuracy: 79.63 %\n",
      "Testing Accuracy: 82.67999999999999 %\n",
      "\n",
      "\n"
     ]
    }
   ],
   "source": [
    "#Investigate Effect of Different Epsilon Parameters\n",
    "\n",
    "#Pick 5 epsilon parameters\n",
    "epsilon_params = [0.00001 * i for i in range(5)]\n",
    "print(epsilon_params)\n",
    "\n",
    "#Lists to store training and testing accuracies for each learning rate\n",
    "training_accuracy_list = []\n",
    "testing_accuracy_list = [] \n",
    "\n",
    "#For each Regularisation Parameter\n",
    "for i in range(0,len(epsilon_params)):\n",
    "    print(f\"Epsilon Parameter: {epsilon_params[i]}\")\n",
    "    training_accuracy, testing_accuracy = Logistic_Regression(epsilon_params[i], 0.000005,0.00005)\n",
    "    training_accuracy_list.append(training_accuracy)\n",
    "    testing_accuracy_list.append(testing_accuracy)"
   ]
  },
  {
   "cell_type": "code",
   "execution_count": 660,
   "id": "74f67b29",
   "metadata": {},
   "outputs": [
    {
     "data": {
      "image/png": "[encoded data removed]",
      "text/plain": [
       "<Figure size 432x288 with 1 Axes>"
      ]
     },
     "metadata": {
      "needs_background": "light"
     },
     "output_type": "display_data"
    }
   ],
   "source": [
    "#Plot Training Accuracy\n",
    "plt.plot(epsilon_params, training_accuracy_list, label=\"Training Accuracy\")\n",
    "\n",
    "#Plot Testing Accuracy\n",
    "plt.plot(epsilon_params, testing_accuracy_list, label=\"Testing Accuracy\")\n",
    "    \n",
    "plt.xlabel('Epsilon Parameters')\n",
    "plt.ylabel('Accuracy')\n",
    "\n",
    "plt.legend()\n",
    "\n",
    "plt.title('Effect of Different Epsilon Parameters on Accuracy')\n",
    "plt.show()"
   ]
  }
 ],
 "metadata": {
  "interpreter": {
   "hash": "8cc8c771acdc9ec3b6292c565489e70e793dc6f9263ab8c2b10339369a9b22c2"
  },
  "kernelspec": {
   "display_name": "Python 3 (ipykernel)",
   "language": "python",
   "name": "python3"
  },
  "language_info": {
   "codemirror_mode": {
    "name": "ipython",
    "version": 3
   },
   "file_extension": ".py",
   "mimetype": "text/x-python",
   "name": "python",
   "nbconvert_exporter": "python",
   "pygments_lexer": "ipython3",
   "version": "3.9.7"
  }
 },
 "nbformat": 4,
 "nbformat_minor": 5
}
