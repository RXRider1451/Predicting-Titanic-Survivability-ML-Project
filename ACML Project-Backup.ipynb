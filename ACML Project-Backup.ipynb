{
 "cells": [
  {
   "cell_type": "code",
   "execution_count": 259,
   "id": "f4cebee9-bc82-48c3-a480-1c865b8580ce",
   "metadata": {},
   "outputs": [],
   "source": [
    "import pandas as pd\n",
    "import numpy as np\n",
    "import matplotlib.pyplot as plt\n",
    "%matplotlib inline\n",
    "import seaborn as sns\n",
    "import math\n",
    "from sklearn.ensemble import RandomForestClassifier\n",
    "from sklearn.linear_model import LogisticRegression,SGDClassifier,Perceptron\n",
    "from sklearn import tree\n",
    "#from sklearn.linear_model import Perceptron\n",
    "#from sklearn.linear_model import SGDClassifier\n",
    "from sklearn.model_selection import cross_val_score,GridSearchCV\n",
    "from sklearn.metrics import accuracy_score, classification_report\n",
    "from sklearn.preprocessing import StandardScaler"
   ]
  },
  {
   "cell_type": "code",
   "execution_count": 180,
   "id": "4d83e576-cf20-48b0-8ecf-0d54e73f28b9",
   "metadata": {},
   "outputs": [],
   "source": [
    "\n",
    "#Original\n",
    "train = pd.read_csv('train.csv')\n",
    "test = pd.read_csv('test.csv')\n",
    "#print(train.shape)\n",
    "#train.head(10)\n",
    "\n",
    "#Update\n",
    "#I had to split the training file because the test file doesn't have any ground-truth labels so we can't find testing accuracy from it\n",
    "#from sklearn.model_selection import train_test_split\n",
    "#file = pd.read_csv('train.csv')\n",
    "#train, test = train_test_split(file, test_size=0.2)\n"
   ]
  },
  {
   "cell_type": "code",
   "execution_count": 181,
   "id": "a6819a4f-5908-4a42-b767-58db1e831db8",
   "metadata": {},
   "outputs": [
    {
     "name": "stdout",
     "output_type": "stream",
     "text": [
      "(891, 12)\n"
     ]
    },
    {
     "data": {
      "text/html": [
       "<div>\n",
       "<style scoped>\n",
       "    .dataframe tbody tr th:only-of-type {\n",
       "        vertical-align: middle;\n",
       "    }\n",
       "\n",
       "    .dataframe tbody tr th {\n",
       "        vertical-align: top;\n",
       "    }\n",
       "\n",
       "    .dataframe thead th {\n",
       "        text-align: right;\n",
       "    }\n",
       "</style>\n",
       "<table border=\"1\" class=\"dataframe\">\n",
       "  <thead>\n",
       "    <tr style=\"text-align: right;\">\n",
       "      <th></th>\n",
       "      <th>PassengerId</th>\n",
       "      <th>Survived</th>\n",
       "      <th>Pclass</th>\n",
       "      <th>Name</th>\n",
       "      <th>Sex</th>\n",
       "      <th>Age</th>\n",
       "      <th>SibSp</th>\n",
       "      <th>Parch</th>\n",
       "      <th>Ticket</th>\n",
       "      <th>Fare</th>\n",
       "      <th>Cabin</th>\n",
       "      <th>Embarked</th>\n",
       "    </tr>\n",
       "  </thead>\n",
       "  <tbody>\n",
       "    <tr>\n",
       "      <th>0</th>\n",
       "      <td>1</td>\n",
       "      <td>0</td>\n",
       "      <td>3</td>\n",
       "      <td>Braund, Mr. Owen Harris</td>\n",
       "      <td>male</td>\n",
       "      <td>22.0</td>\n",
       "      <td>1</td>\n",
       "      <td>0</td>\n",
       "      <td>A/5 21171</td>\n",
       "      <td>7.2500</td>\n",
       "      <td>NaN</td>\n",
       "      <td>S</td>\n",
       "    </tr>\n",
       "    <tr>\n",
       "      <th>1</th>\n",
       "      <td>2</td>\n",
       "      <td>1</td>\n",
       "      <td>1</td>\n",
       "      <td>Cumings, Mrs. John Bradley (Florence Briggs Th...</td>\n",
       "      <td>female</td>\n",
       "      <td>38.0</td>\n",
       "      <td>1</td>\n",
       "      <td>0</td>\n",
       "      <td>PC 17599</td>\n",
       "      <td>71.2833</td>\n",
       "      <td>C85</td>\n",
       "      <td>C</td>\n",
       "    </tr>\n",
       "    <tr>\n",
       "      <th>2</th>\n",
       "      <td>3</td>\n",
       "      <td>1</td>\n",
       "      <td>3</td>\n",
       "      <td>Heikkinen, Miss. Laina</td>\n",
       "      <td>female</td>\n",
       "      <td>26.0</td>\n",
       "      <td>0</td>\n",
       "      <td>0</td>\n",
       "      <td>STON/O2. 3101282</td>\n",
       "      <td>7.9250</td>\n",
       "      <td>NaN</td>\n",
       "      <td>S</td>\n",
       "    </tr>\n",
       "    <tr>\n",
       "      <th>3</th>\n",
       "      <td>4</td>\n",
       "      <td>1</td>\n",
       "      <td>1</td>\n",
       "      <td>Futrelle, Mrs. Jacques Heath (Lily May Peel)</td>\n",
       "      <td>female</td>\n",
       "      <td>35.0</td>\n",
       "      <td>1</td>\n",
       "      <td>0</td>\n",
       "      <td>113803</td>\n",
       "      <td>53.1000</td>\n",
       "      <td>C123</td>\n",
       "      <td>S</td>\n",
       "    </tr>\n",
       "    <tr>\n",
       "      <th>4</th>\n",
       "      <td>5</td>\n",
       "      <td>0</td>\n",
       "      <td>3</td>\n",
       "      <td>Allen, Mr. William Henry</td>\n",
       "      <td>male</td>\n",
       "      <td>35.0</td>\n",
       "      <td>0</td>\n",
       "      <td>0</td>\n",
       "      <td>373450</td>\n",
       "      <td>8.0500</td>\n",
       "      <td>NaN</td>\n",
       "      <td>S</td>\n",
       "    </tr>\n",
       "  </tbody>\n",
       "</table>\n",
       "</div>"
      ],
      "text/plain": [
       "   PassengerId  Survived  Pclass  \\\n",
       "0            1         0       3   \n",
       "1            2         1       1   \n",
       "2            3         1       3   \n",
       "3            4         1       1   \n",
       "4            5         0       3   \n",
       "\n",
       "                                                Name     Sex   Age  SibSp  \\\n",
       "0                            Braund, Mr. Owen Harris    male  22.0      1   \n",
       "1  Cumings, Mrs. John Bradley (Florence Briggs Th...  female  38.0      1   \n",
       "2                             Heikkinen, Miss. Laina  female  26.0      0   \n",
       "3       Futrelle, Mrs. Jacques Heath (Lily May Peel)  female  35.0      1   \n",
       "4                           Allen, Mr. William Henry    male  35.0      0   \n",
       "\n",
       "   Parch            Ticket     Fare Cabin Embarked  \n",
       "0      0         A/5 21171   7.2500   NaN        S  \n",
       "1      0          PC 17599  71.2833   C85        C  \n",
       "2      0  STON/O2. 3101282   7.9250   NaN        S  \n",
       "3      0            113803  53.1000  C123        S  \n",
       "4      0            373450   8.0500   NaN        S  "
      ]
     },
     "execution_count": 181,
     "metadata": {},
     "output_type": "execute_result"
    }
   ],
   "source": [
    "print(train.shape)\n",
    "train.head()"
   ]
  },
  {
   "cell_type": "code",
   "execution_count": 182,
   "id": "21a1b495-5fe4-4234-a6e9-22bbb02339b8",
   "metadata": {},
   "outputs": [
    {
     "name": "stdout",
     "output_type": "stream",
     "text": [
      "(418, 12)\n"
     ]
    },
    {
     "data": {
      "text/html": [
       "<div>\n",
       "<style scoped>\n",
       "    .dataframe tbody tr th:only-of-type {\n",
       "        vertical-align: middle;\n",
       "    }\n",
       "\n",
       "    .dataframe tbody tr th {\n",
       "        vertical-align: top;\n",
       "    }\n",
       "\n",
       "    .dataframe thead th {\n",
       "        text-align: right;\n",
       "    }\n",
       "</style>\n",
       "<table border=\"1\" class=\"dataframe\">\n",
       "  <thead>\n",
       "    <tr style=\"text-align: right;\">\n",
       "      <th></th>\n",
       "      <th>PassengerId</th>\n",
       "      <th>Survived</th>\n",
       "      <th>Pclass</th>\n",
       "      <th>Name</th>\n",
       "      <th>Sex</th>\n",
       "      <th>Age</th>\n",
       "      <th>SibSp</th>\n",
       "      <th>Parch</th>\n",
       "      <th>Ticket</th>\n",
       "      <th>Fare</th>\n",
       "      <th>Cabin</th>\n",
       "      <th>Embarked</th>\n",
       "    </tr>\n",
       "  </thead>\n",
       "  <tbody>\n",
       "    <tr>\n",
       "      <th>0</th>\n",
       "      <td>892</td>\n",
       "      <td>0</td>\n",
       "      <td>3</td>\n",
       "      <td>Kelly, Mr. James</td>\n",
       "      <td>male</td>\n",
       "      <td>34.5</td>\n",
       "      <td>0</td>\n",
       "      <td>0</td>\n",
       "      <td>330911</td>\n",
       "      <td>7.8292</td>\n",
       "      <td>NaN</td>\n",
       "      <td>Q</td>\n",
       "    </tr>\n",
       "    <tr>\n",
       "      <th>1</th>\n",
       "      <td>893</td>\n",
       "      <td>0</td>\n",
       "      <td>3</td>\n",
       "      <td>Wilkes, Mrs. James (Ellen Needs)</td>\n",
       "      <td>female</td>\n",
       "      <td>47.0</td>\n",
       "      <td>1</td>\n",
       "      <td>0</td>\n",
       "      <td>363272</td>\n",
       "      <td>7.0000</td>\n",
       "      <td>NaN</td>\n",
       "      <td>S</td>\n",
       "    </tr>\n",
       "    <tr>\n",
       "      <th>2</th>\n",
       "      <td>894</td>\n",
       "      <td>0</td>\n",
       "      <td>2</td>\n",
       "      <td>Myles, Mr. Thomas Francis</td>\n",
       "      <td>male</td>\n",
       "      <td>62.0</td>\n",
       "      <td>0</td>\n",
       "      <td>0</td>\n",
       "      <td>240276</td>\n",
       "      <td>9.6875</td>\n",
       "      <td>NaN</td>\n",
       "      <td>Q</td>\n",
       "    </tr>\n",
       "    <tr>\n",
       "      <th>3</th>\n",
       "      <td>895</td>\n",
       "      <td>0</td>\n",
       "      <td>3</td>\n",
       "      <td>Wirz, Mr. Albert</td>\n",
       "      <td>male</td>\n",
       "      <td>27.0</td>\n",
       "      <td>0</td>\n",
       "      <td>0</td>\n",
       "      <td>315154</td>\n",
       "      <td>8.6625</td>\n",
       "      <td>NaN</td>\n",
       "      <td>S</td>\n",
       "    </tr>\n",
       "    <tr>\n",
       "      <th>4</th>\n",
       "      <td>896</td>\n",
       "      <td>0</td>\n",
       "      <td>3</td>\n",
       "      <td>Hirvonen, Mrs. Alexander (Helga E Lindqvist)</td>\n",
       "      <td>female</td>\n",
       "      <td>22.0</td>\n",
       "      <td>1</td>\n",
       "      <td>1</td>\n",
       "      <td>3101298</td>\n",
       "      <td>12.2875</td>\n",
       "      <td>NaN</td>\n",
       "      <td>S</td>\n",
       "    </tr>\n",
       "  </tbody>\n",
       "</table>\n",
       "</div>"
      ],
      "text/plain": [
       "   PassengerId  Survived  Pclass  \\\n",
       "0          892         0       3   \n",
       "1          893         0       3   \n",
       "2          894         0       2   \n",
       "3          895         0       3   \n",
       "4          896         0       3   \n",
       "\n",
       "                                           Name     Sex   Age  SibSp  Parch  \\\n",
       "0                              Kelly, Mr. James    male  34.5      0      0   \n",
       "1              Wilkes, Mrs. James (Ellen Needs)  female  47.0      1      0   \n",
       "2                     Myles, Mr. Thomas Francis    male  62.0      0      0   \n",
       "3                              Wirz, Mr. Albert    male  27.0      0      0   \n",
       "4  Hirvonen, Mrs. Alexander (Helga E Lindqvist)  female  22.0      1      1   \n",
       "\n",
       "    Ticket     Fare Cabin Embarked  \n",
       "0   330911   7.8292   NaN        Q  \n",
       "1   363272   7.0000   NaN        S  \n",
       "2   240276   9.6875   NaN        Q  \n",
       "3   315154   8.6625   NaN        S  \n",
       "4  3101298  12.2875   NaN        S  "
      ]
     },
     "execution_count": 182,
     "metadata": {},
     "output_type": "execute_result"
    }
   ],
   "source": [
    "test.insert(1,'Survived',0)\n",
    "print(test.shape)\n",
    "test.head()"
   ]
  },
  {
   "cell_type": "code",
   "execution_count": 183,
   "id": "f892a4b1-08b5-4b64-b00c-34f9517a4b41",
   "metadata": {},
   "outputs": [
    {
     "data": {
      "text/plain": [
       "PassengerId      0\n",
       "Survived         0\n",
       "Pclass           0\n",
       "Name             0\n",
       "Sex              0\n",
       "Age            177\n",
       "SibSp            0\n",
       "Parch            0\n",
       "Ticket           0\n",
       "Fare             0\n",
       "Cabin          687\n",
       "Embarked         2\n",
       "dtype: int64"
      ]
     },
     "execution_count": 183,
     "metadata": {},
     "output_type": "execute_result"
    }
   ],
   "source": [
    "train.isnull().sum()"
   ]
  },
  {
   "cell_type": "code",
   "execution_count": 184,
   "id": "19fcaaff-6760-4424-a389-a05dff2dc924",
   "metadata": {},
   "outputs": [
    {
     "data": {
      "text/plain": [
       "PassengerId      0\n",
       "Survived         0\n",
       "Pclass           0\n",
       "Name             0\n",
       "Sex              0\n",
       "Age             86\n",
       "SibSp            0\n",
       "Parch            0\n",
       "Ticket           0\n",
       "Fare             1\n",
       "Cabin          327\n",
       "Embarked         0\n",
       "dtype: int64"
      ]
     },
     "execution_count": 184,
     "metadata": {},
     "output_type": "execute_result"
    }
   ],
   "source": [
    "test.isnull().sum()"
   ]
  },
  {
   "cell_type": "code",
   "execution_count": 185,
   "id": "5f616a3d-58fc-4c5b-877b-fb877604096a",
   "metadata": {},
   "outputs": [
    {
     "data": {
      "text/plain": [
       "PassengerId      int64\n",
       "Survived         int64\n",
       "Pclass           int64\n",
       "Name            object\n",
       "Sex             object\n",
       "Age            float64\n",
       "SibSp            int64\n",
       "Parch            int64\n",
       "Ticket          object\n",
       "Fare           float64\n",
       "Cabin           object\n",
       "Embarked        object\n",
       "dtype: object"
      ]
     },
     "execution_count": 185,
     "metadata": {},
     "output_type": "execute_result"
    }
   ],
   "source": [
    "train.dtypes"
   ]
  },
  {
   "cell_type": "code",
   "execution_count": 186,
   "id": "e492b5a5",
   "metadata": {},
   "outputs": [
    {
     "data": {
      "text/plain": [
       "<AxesSubplot:>"
      ]
     },
     "execution_count": 186,
     "metadata": {},
     "output_type": "execute_result"
    },
    {
     "data": {
      "image/png": "[encoded data removed]",
      "text/plain": [
       "<Figure size 432x288 with 2 Axes>"
      ]
     },
     "metadata": {
      "needs_background": "light"
     },
     "output_type": "display_data"
    }
   ],
   "source": [
    "sns.heatmap(train.corr(),annot=True)"
   ]
  },
  {
   "cell_type": "code",
   "execution_count": 187,
   "id": "18a5e96d-6dac-4e9e-86c2-174f1ef8547d",
   "metadata": {},
   "outputs": [
    {
     "data": {
      "image/png": "[encoded data removed]",
      "text/plain": [
       "<Figure size 1080x360 with 2 Axes>"
      ]
     },
     "metadata": {
      "needs_background": "light"
     },
     "output_type": "display_data"
    }
   ],
   "source": [
    "f,ax = plt.subplots(1,2,figsize=(15,5))\n",
    "f.suptitle('Who is likely to survive?')\n",
    "sns.countplot(x='Sex',hue='Survived',data=train,ax=ax[0])\n",
    "sns.countplot(x='Pclass',hue='Survived',data=train,ax=ax[1])\n",
    "plt.show()"
   ]
  },
  {
   "cell_type": "markdown",
   "id": "4d1a645f-eb38-413d-aaf7-93f472312e14",
   "metadata": {},
   "source": [
    "- The first plot shows that the female is more likely to survive than male.\n",
    "- The second plot shows that individuals in the first class are more likely to survive than other classes."
   ]
  },
  {
   "cell_type": "markdown",
   "id": "5fb66a8f-a6a6-4678-a6c6-e9d20dc27f40",
   "metadata": {},
   "source": [
    "## Filling in missing values"
   ]
  },
  {
   "cell_type": "markdown",
   "id": "e731271a-5f69-4dfa-a35b-559a60202fc2",
   "metadata": {},
   "source": [
    "### Cabin\n",
    "\n",
    "The deck was determined by the letter in the cabin. We will group the cabins based on the deck they are on. For all the missing values, we will fill in U for unknown."
   ]
  },
  {
   "cell_type": "code",
   "execution_count": 188,
   "id": "622990c9-c082-4c6a-a2b6-45d8d739d818",
   "metadata": {},
   "outputs": [
    {
     "name": "stdout",
     "output_type": "stream",
     "text": [
      "number of unique cabins: 147 and number of missing cabins: 687\n"
     ]
    }
   ],
   "source": [
    "print('number of unique cabins: '+str(train['Cabin'].nunique())+ ' and number of missing cabins: '+ str(train['Cabin'].isnull().sum()))"
   ]
  },
  {
   "cell_type": "code",
   "execution_count": 189,
   "id": "b877bd9e-8bfb-4fe2-b27b-4c835c4dc94b",
   "metadata": {},
   "outputs": [],
   "source": [
    "train['deck'] = train['Cabin'].apply(lambda x: x[0] if pd.notnull(x) else 'U')\n",
    "# we want to get this for the test set for later too\n",
    "test['deck'] = test['Cabin'].apply(lambda x: x[0] if pd.notnull(x) else 'U')\n"
   ]
  },
  {
   "cell_type": "code",
   "execution_count": 190,
   "id": "2459a7eb-2e8b-41c9-9e35-91d6859d5019",
   "metadata": {},
   "outputs": [
    {
     "data": {
      "text/plain": [
       "Text(0.5, 1.0, 'Survival rates by deck')"
      ]
     },
     "execution_count": 190,
     "metadata": {},
     "output_type": "execute_result"
    },
    {
     "data": {
      "image/png": "[encoded data removed]",
      "text/plain": [
       "<Figure size 720x360 with 1 Axes>"
      ]
     },
     "metadata": {
      "needs_background": "light"
     },
     "output_type": "display_data"
    }
   ],
   "source": [
    "# then let's check our assumptions about the survival by deck\n",
    "train[['deck', 'Survived']].groupby('deck')['Survived'].mean().plot(kind='bar',figsize=(10,5))\n",
    "plt.title('Survival rates by deck')\n"
   ]
  },
  {
   "cell_type": "code",
   "execution_count": 191,
   "id": "038452ad-e6e6-4500-9529-224db807f2dd",
   "metadata": {},
   "outputs": [
    {
     "data": {
      "text/plain": [
       "U    687\n",
       "C     59\n",
       "B     47\n",
       "D     33\n",
       "E     32\n",
       "A     15\n",
       "F     13\n",
       "G      4\n",
       "T      1\n",
       "Name: deck, dtype: int64"
      ]
     },
     "execution_count": 191,
     "metadata": {},
     "output_type": "execute_result"
    }
   ],
   "source": [
    "train['deck'].value_counts()"
   ]
  },
  {
   "cell_type": "markdown",
   "id": "85c28276-53c6-4382-8d81-5b003d557e0b",
   "metadata": {},
   "source": [
    "We will add deck T to deck U as there is only 1 value in deck T."
   ]
  },
  {
   "cell_type": "code",
   "execution_count": 192,
   "id": "982a869d-7b9f-4748-8da3-bc2392203a5e",
   "metadata": {},
   "outputs": [],
   "source": [
    "train.loc[train['deck'] == 'T', 'deck'] = 'U'"
   ]
  },
  {
   "cell_type": "code",
   "execution_count": 193,
   "id": "6cf745d5",
   "metadata": {},
   "outputs": [
    {
     "data": {
      "text/html": [
       "<div>\n",
       "<style scoped>\n",
       "    .dataframe tbody tr th:only-of-type {\n",
       "        vertical-align: middle;\n",
       "    }\n",
       "\n",
       "    .dataframe tbody tr th {\n",
       "        vertical-align: top;\n",
       "    }\n",
       "\n",
       "    .dataframe thead th {\n",
       "        text-align: right;\n",
       "    }\n",
       "</style>\n",
       "<table border=\"1\" class=\"dataframe\">\n",
       "  <thead>\n",
       "    <tr style=\"text-align: right;\">\n",
       "      <th></th>\n",
       "      <th>PassengerId</th>\n",
       "      <th>Survived</th>\n",
       "      <th>Pclass</th>\n",
       "      <th>Name</th>\n",
       "      <th>Sex</th>\n",
       "      <th>Age</th>\n",
       "      <th>SibSp</th>\n",
       "      <th>Parch</th>\n",
       "      <th>Ticket</th>\n",
       "      <th>Fare</th>\n",
       "      <th>Cabin</th>\n",
       "      <th>Embarked</th>\n",
       "      <th>deck</th>\n",
       "    </tr>\n",
       "  </thead>\n",
       "  <tbody>\n",
       "    <tr>\n",
       "      <th>0</th>\n",
       "      <td>1</td>\n",
       "      <td>0</td>\n",
       "      <td>3</td>\n",
       "      <td>Braund, Mr. Owen Harris</td>\n",
       "      <td>male</td>\n",
       "      <td>22.0</td>\n",
       "      <td>1</td>\n",
       "      <td>0</td>\n",
       "      <td>A/5 21171</td>\n",
       "      <td>7.2500</td>\n",
       "      <td>NaN</td>\n",
       "      <td>S</td>\n",
       "      <td>U</td>\n",
       "    </tr>\n",
       "    <tr>\n",
       "      <th>1</th>\n",
       "      <td>2</td>\n",
       "      <td>1</td>\n",
       "      <td>1</td>\n",
       "      <td>Cumings, Mrs. John Bradley (Florence Briggs Th...</td>\n",
       "      <td>female</td>\n",
       "      <td>38.0</td>\n",
       "      <td>1</td>\n",
       "      <td>0</td>\n",
       "      <td>PC 17599</td>\n",
       "      <td>71.2833</td>\n",
       "      <td>C85</td>\n",
       "      <td>C</td>\n",
       "      <td>C</td>\n",
       "    </tr>\n",
       "    <tr>\n",
       "      <th>2</th>\n",
       "      <td>3</td>\n",
       "      <td>1</td>\n",
       "      <td>3</td>\n",
       "      <td>Heikkinen, Miss. Laina</td>\n",
       "      <td>female</td>\n",
       "      <td>26.0</td>\n",
       "      <td>0</td>\n",
       "      <td>0</td>\n",
       "      <td>STON/O2. 3101282</td>\n",
       "      <td>7.9250</td>\n",
       "      <td>NaN</td>\n",
       "      <td>S</td>\n",
       "      <td>U</td>\n",
       "    </tr>\n",
       "    <tr>\n",
       "      <th>3</th>\n",
       "      <td>4</td>\n",
       "      <td>1</td>\n",
       "      <td>1</td>\n",
       "      <td>Futrelle, Mrs. Jacques Heath (Lily May Peel)</td>\n",
       "      <td>female</td>\n",
       "      <td>35.0</td>\n",
       "      <td>1</td>\n",
       "      <td>0</td>\n",
       "      <td>113803</td>\n",
       "      <td>53.1000</td>\n",
       "      <td>C123</td>\n",
       "      <td>S</td>\n",
       "      <td>C</td>\n",
       "    </tr>\n",
       "    <tr>\n",
       "      <th>4</th>\n",
       "      <td>5</td>\n",
       "      <td>0</td>\n",
       "      <td>3</td>\n",
       "      <td>Allen, Mr. William Henry</td>\n",
       "      <td>male</td>\n",
       "      <td>35.0</td>\n",
       "      <td>0</td>\n",
       "      <td>0</td>\n",
       "      <td>373450</td>\n",
       "      <td>8.0500</td>\n",
       "      <td>NaN</td>\n",
       "      <td>S</td>\n",
       "      <td>U</td>\n",
       "    </tr>\n",
       "    <tr>\n",
       "      <th>...</th>\n",
       "      <td>...</td>\n",
       "      <td>...</td>\n",
       "      <td>...</td>\n",
       "      <td>...</td>\n",
       "      <td>...</td>\n",
       "      <td>...</td>\n",
       "      <td>...</td>\n",
       "      <td>...</td>\n",
       "      <td>...</td>\n",
       "      <td>...</td>\n",
       "      <td>...</td>\n",
       "      <td>...</td>\n",
       "      <td>...</td>\n",
       "    </tr>\n",
       "    <tr>\n",
       "      <th>886</th>\n",
       "      <td>887</td>\n",
       "      <td>0</td>\n",
       "      <td>2</td>\n",
       "      <td>Montvila, Rev. Juozas</td>\n",
       "      <td>male</td>\n",
       "      <td>27.0</td>\n",
       "      <td>0</td>\n",
       "      <td>0</td>\n",
       "      <td>211536</td>\n",
       "      <td>13.0000</td>\n",
       "      <td>NaN</td>\n",
       "      <td>S</td>\n",
       "      <td>U</td>\n",
       "    </tr>\n",
       "    <tr>\n",
       "      <th>887</th>\n",
       "      <td>888</td>\n",
       "      <td>1</td>\n",
       "      <td>1</td>\n",
       "      <td>Graham, Miss. Margaret Edith</td>\n",
       "      <td>female</td>\n",
       "      <td>19.0</td>\n",
       "      <td>0</td>\n",
       "      <td>0</td>\n",
       "      <td>112053</td>\n",
       "      <td>30.0000</td>\n",
       "      <td>B42</td>\n",
       "      <td>S</td>\n",
       "      <td>B</td>\n",
       "    </tr>\n",
       "    <tr>\n",
       "      <th>888</th>\n",
       "      <td>889</td>\n",
       "      <td>0</td>\n",
       "      <td>3</td>\n",
       "      <td>Johnston, Miss. Catherine Helen \"Carrie\"</td>\n",
       "      <td>female</td>\n",
       "      <td>NaN</td>\n",
       "      <td>1</td>\n",
       "      <td>2</td>\n",
       "      <td>W./C. 6607</td>\n",
       "      <td>23.4500</td>\n",
       "      <td>NaN</td>\n",
       "      <td>S</td>\n",
       "      <td>U</td>\n",
       "    </tr>\n",
       "    <tr>\n",
       "      <th>889</th>\n",
       "      <td>890</td>\n",
       "      <td>1</td>\n",
       "      <td>1</td>\n",
       "      <td>Behr, Mr. Karl Howell</td>\n",
       "      <td>male</td>\n",
       "      <td>26.0</td>\n",
       "      <td>0</td>\n",
       "      <td>0</td>\n",
       "      <td>111369</td>\n",
       "      <td>30.0000</td>\n",
       "      <td>C148</td>\n",
       "      <td>C</td>\n",
       "      <td>C</td>\n",
       "    </tr>\n",
       "    <tr>\n",
       "      <th>890</th>\n",
       "      <td>891</td>\n",
       "      <td>0</td>\n",
       "      <td>3</td>\n",
       "      <td>Dooley, Mr. Patrick</td>\n",
       "      <td>male</td>\n",
       "      <td>32.0</td>\n",
       "      <td>0</td>\n",
       "      <td>0</td>\n",
       "      <td>370376</td>\n",
       "      <td>7.7500</td>\n",
       "      <td>NaN</td>\n",
       "      <td>Q</td>\n",
       "      <td>U</td>\n",
       "    </tr>\n",
       "  </tbody>\n",
       "</table>\n",
       "<p>891 rows × 13 columns</p>\n",
       "</div>"
      ],
      "text/plain": [
       "     PassengerId  Survived  Pclass  \\\n",
       "0              1         0       3   \n",
       "1              2         1       1   \n",
       "2              3         1       3   \n",
       "3              4         1       1   \n",
       "4              5         0       3   \n",
       "..           ...       ...     ...   \n",
       "886          887         0       2   \n",
       "887          888         1       1   \n",
       "888          889         0       3   \n",
       "889          890         1       1   \n",
       "890          891         0       3   \n",
       "\n",
       "                                                  Name     Sex   Age  SibSp  \\\n",
       "0                              Braund, Mr. Owen Harris    male  22.0      1   \n",
       "1    Cumings, Mrs. John Bradley (Florence Briggs Th...  female  38.0      1   \n",
       "2                               Heikkinen, Miss. Laina  female  26.0      0   \n",
       "3         Futrelle, Mrs. Jacques Heath (Lily May Peel)  female  35.0      1   \n",
       "4                             Allen, Mr. William Henry    male  35.0      0   \n",
       "..                                                 ...     ...   ...    ...   \n",
       "886                              Montvila, Rev. Juozas    male  27.0      0   \n",
       "887                       Graham, Miss. Margaret Edith  female  19.0      0   \n",
       "888           Johnston, Miss. Catherine Helen \"Carrie\"  female   NaN      1   \n",
       "889                              Behr, Mr. Karl Howell    male  26.0      0   \n",
       "890                                Dooley, Mr. Patrick    male  32.0      0   \n",
       "\n",
       "     Parch            Ticket     Fare Cabin Embarked deck  \n",
       "0        0         A/5 21171   7.2500   NaN        S    U  \n",
       "1        0          PC 17599  71.2833   C85        C    C  \n",
       "2        0  STON/O2. 3101282   7.9250   NaN        S    U  \n",
       "3        0            113803  53.1000  C123        S    C  \n",
       "4        0            373450   8.0500   NaN        S    U  \n",
       "..     ...               ...      ...   ...      ...  ...  \n",
       "886      0            211536  13.0000   NaN        S    U  \n",
       "887      0            112053  30.0000   B42        S    B  \n",
       "888      2        W./C. 6607  23.4500   NaN        S    U  \n",
       "889      0            111369  30.0000  C148        C    C  \n",
       "890      0            370376   7.7500   NaN        Q    U  \n",
       "\n",
       "[891 rows x 13 columns]"
      ]
     },
     "execution_count": 193,
     "metadata": {},
     "output_type": "execute_result"
    }
   ],
   "source": [
    "train"
   ]
  },
  {
   "cell_type": "markdown",
   "id": "7f18f787-a214-4e20-914f-52d7a2156734",
   "metadata": {},
   "source": [
    "### Age\n",
    "\n",
    "- We are to check how age affects the survival rate.\n",
    "- Based on the heatmap, there is a correlation between age and Pclass.\n",
    "- We can also check if age makes a difference based on gender. \n"
   ]
  },
  {
   "cell_type": "code",
   "execution_count": 194,
   "id": "d194563e-6018-46b2-b193-41c071767fe8",
   "metadata": {},
   "outputs": [
    {
     "data": {
      "text/plain": [
       "<AxesSubplot:xlabel='Age', ylabel='Density'>"
      ]
     },
     "execution_count": 194,
     "metadata": {},
     "output_type": "execute_result"
    },
    {
     "data": {
      "image/png": "[encoded data removed]",
      "text/plain": [
       "<Figure size 1440x504 with 3 Axes>"
      ]
     },
     "metadata": {
      "needs_background": "light"
     },
     "output_type": "display_data"
    }
   ],
   "source": [
    "f,ax= plt.subplots(1,3,figsize=(20,7),sharey=True)\n",
    "sns.kdeplot(x='Age',data=train,hue='Survived',palette='bright',ax=ax[0])\n",
    "sns.kdeplot(x='Age',data=train,hue='Pclass',palette='bright',ax=ax[1])\n",
    "sns.kdeplot(x='Age',data=train,hue='Sex',palette='bright' ,ax=ax[2])\n",
    "\n"
   ]
  },
  {
   "cell_type": "markdown",
   "id": "147ffc44-76c6-4c46-aed6-d38b5925e69b",
   "metadata": {},
   "source": [
    "- The first plot shows that people between the ages 20 and 40 survived more than the rest.\n",
    "- The second plot shows that people in the first class are slightly older than the other classes.\n",
    "- The third plot shows that there are differences in age based on sex. We can say age is correlated to sex.\n",
    "\n",
    "With this said, we cannot use the overall mean/median to fill in all the missing values. We will take into account the sex and class of each individual, so using the mean/median per category might be better approach."
   ]
  },
  {
   "cell_type": "code",
   "execution_count": 195,
   "id": "a7714d72-c396-446d-a32b-a070184813b4",
   "metadata": {},
   "outputs": [
    {
     "name": "stdout",
     "output_type": "stream",
     "text": [
      "number of missing ages: 177\n"
     ]
    }
   ],
   "source": [
    "print('number of missing ages: '+str(train['Age'].isnull().sum()))"
   ]
  },
  {
   "cell_type": "code",
   "execution_count": 196,
   "id": "29f6de79",
   "metadata": {},
   "outputs": [
    {
     "data": {
      "text/plain": [
       "<AxesSubplot:xlabel='Pclass', ylabel='Age'>"
      ]
     },
     "execution_count": 196,
     "metadata": {},
     "output_type": "execute_result"
    },
    {
     "data": {
      "image/png": "[encoded data removed]",
      "text/plain": [
       "<Figure size 720x504 with 1 Axes>"
      ]
     },
     "metadata": {
      "needs_background": "light"
     },
     "output_type": "display_data"
    }
   ],
   "source": [
    "plt.figure(figsize=(10,7))\n",
    "sns.boxplot(x='Pclass',y='Age',hue='Sex',data=train)"
   ]
  },
  {
   "cell_type": "code",
   "execution_count": 197,
   "id": "ec24f5ca-68ca-4766-8cb8-5772b1274308",
   "metadata": {},
   "outputs": [],
   "source": [
    "#There is an age difference between the ages of difreent classes and sex within the dataset\n",
    "train['Age'] = train.groupby(['Sex','Pclass'])['Age'].apply(lambda x: x.fillna(x.median()))\n",
    "\n",
    "#get this for the test data too\n",
    "test['Age'] = test.groupby(['Sex','Pclass'])['Age'].apply(lambda x: x.fillna(x.median()))\n",
    "\n"
   ]
  },
  {
   "cell_type": "markdown",
   "id": "85c13954-3d00-4a8d-9846-e685a011c313",
   "metadata": {},
   "source": [
    "### Embarked"
   ]
  },
  {
   "cell_type": "code",
   "execution_count": 198,
   "id": "7453b572-6fdc-4ba6-b249-09b4ca90f2c9",
   "metadata": {},
   "outputs": [
    {
     "data": {
      "text/plain": [
       "<AxesSubplot:xlabel='Embarked', ylabel='count'>"
      ]
     },
     "execution_count": 198,
     "metadata": {},
     "output_type": "execute_result"
    },
    {
     "data": {
      "image/png": "[encoded data removed]",
      "text/plain": [
       "<Figure size 432x288 with 1 Axes>"
      ]
     },
     "metadata": {
      "needs_background": "light"
     },
     "output_type": "display_data"
    }
   ],
   "source": [
    "sns.countplot(x='Embarked',data=train)"
   ]
  },
  {
   "cell_type": "code",
   "execution_count": 199,
   "id": "e81d4543-cf16-4831-b44b-63ba79640687",
   "metadata": {},
   "outputs": [
    {
     "name": "stdout",
     "output_type": "stream",
     "text": [
      "The number of missing values for Embarked port: 2\n"
     ]
    },
    {
     "data": {
      "text/html": [
       "<div>\n",
       "<style scoped>\n",
       "    .dataframe tbody tr th:only-of-type {\n",
       "        vertical-align: middle;\n",
       "    }\n",
       "\n",
       "    .dataframe tbody tr th {\n",
       "        vertical-align: top;\n",
       "    }\n",
       "\n",
       "    .dataframe thead th {\n",
       "        text-align: right;\n",
       "    }\n",
       "</style>\n",
       "<table border=\"1\" class=\"dataframe\">\n",
       "  <thead>\n",
       "    <tr style=\"text-align: right;\">\n",
       "      <th></th>\n",
       "      <th>PassengerId</th>\n",
       "      <th>Survived</th>\n",
       "      <th>Pclass</th>\n",
       "      <th>Name</th>\n",
       "      <th>Sex</th>\n",
       "      <th>Age</th>\n",
       "      <th>SibSp</th>\n",
       "      <th>Parch</th>\n",
       "      <th>Ticket</th>\n",
       "      <th>Fare</th>\n",
       "      <th>Cabin</th>\n",
       "      <th>Embarked</th>\n",
       "      <th>deck</th>\n",
       "    </tr>\n",
       "  </thead>\n",
       "  <tbody>\n",
       "    <tr>\n",
       "      <th>61</th>\n",
       "      <td>62</td>\n",
       "      <td>1</td>\n",
       "      <td>1</td>\n",
       "      <td>Icard, Miss. Amelie</td>\n",
       "      <td>female</td>\n",
       "      <td>38.0</td>\n",
       "      <td>0</td>\n",
       "      <td>0</td>\n",
       "      <td>113572</td>\n",
       "      <td>80.0</td>\n",
       "      <td>B28</td>\n",
       "      <td>NaN</td>\n",
       "      <td>B</td>\n",
       "    </tr>\n",
       "    <tr>\n",
       "      <th>829</th>\n",
       "      <td>830</td>\n",
       "      <td>1</td>\n",
       "      <td>1</td>\n",
       "      <td>Stone, Mrs. George Nelson (Martha Evelyn)</td>\n",
       "      <td>female</td>\n",
       "      <td>62.0</td>\n",
       "      <td>0</td>\n",
       "      <td>0</td>\n",
       "      <td>113572</td>\n",
       "      <td>80.0</td>\n",
       "      <td>B28</td>\n",
       "      <td>NaN</td>\n",
       "      <td>B</td>\n",
       "    </tr>\n",
       "  </tbody>\n",
       "</table>\n",
       "</div>"
      ],
      "text/plain": [
       "     PassengerId  Survived  Pclass                                       Name  \\\n",
       "61            62         1       1                        Icard, Miss. Amelie   \n",
       "829          830         1       1  Stone, Mrs. George Nelson (Martha Evelyn)   \n",
       "\n",
       "        Sex   Age  SibSp  Parch  Ticket  Fare Cabin Embarked deck  \n",
       "61   female  38.0      0      0  113572  80.0   B28      NaN    B  \n",
       "829  female  62.0      0      0  113572  80.0   B28      NaN    B  "
      ]
     },
     "execution_count": 199,
     "metadata": {},
     "output_type": "execute_result"
    }
   ],
   "source": [
    "print('The number of missing values for Embarked port: '+str(train['Embarked'].isnull().sum()))\n",
    "train[train['Embarked'].isnull()]\n",
    "\n"
   ]
  },
  {
   "cell_type": "markdown",
   "id": "aa0e013a-d1ab-42c2-9369-63e37c93101a",
   "metadata": {},
   "source": [
    "The most common port is S (SouthHamptons). So we will use this port to fill in the missing ports."
   ]
  },
  {
   "cell_type": "code",
   "execution_count": 200,
   "id": "efbc687d-868a-4ac2-b4f0-721b507fa3d9",
   "metadata": {},
   "outputs": [],
   "source": [
    "train['Embarked']=train['Embarked'].fillna(value='S')\n",
    "\n"
   ]
  },
  {
   "cell_type": "markdown",
   "id": "49314106-44e9-455d-9186-cb8f58d529eb",
   "metadata": {},
   "source": [
    "### Fare\n",
    "\n",
    "We will fill in the missing fare value based on the class and port embarked."
   ]
  },
  {
   "cell_type": "code",
   "execution_count": 201,
   "id": "778b0976-f62e-4776-8051-af3c20b44ffd",
   "metadata": {},
   "outputs": [
    {
     "data": {
      "text/html": [
       "<div>\n",
       "<style scoped>\n",
       "    .dataframe tbody tr th:only-of-type {\n",
       "        vertical-align: middle;\n",
       "    }\n",
       "\n",
       "    .dataframe tbody tr th {\n",
       "        vertical-align: top;\n",
       "    }\n",
       "\n",
       "    .dataframe thead th {\n",
       "        text-align: right;\n",
       "    }\n",
       "</style>\n",
       "<table border=\"1\" class=\"dataframe\">\n",
       "  <thead>\n",
       "    <tr style=\"text-align: right;\">\n",
       "      <th></th>\n",
       "      <th>PassengerId</th>\n",
       "      <th>Survived</th>\n",
       "      <th>Pclass</th>\n",
       "      <th>Name</th>\n",
       "      <th>Sex</th>\n",
       "      <th>Age</th>\n",
       "      <th>SibSp</th>\n",
       "      <th>Parch</th>\n",
       "      <th>Ticket</th>\n",
       "      <th>Fare</th>\n",
       "      <th>Cabin</th>\n",
       "      <th>Embarked</th>\n",
       "      <th>deck</th>\n",
       "    </tr>\n",
       "  </thead>\n",
       "  <tbody>\n",
       "    <tr>\n",
       "      <th>152</th>\n",
       "      <td>1044</td>\n",
       "      <td>0</td>\n",
       "      <td>3</td>\n",
       "      <td>Storey, Mr. Thomas</td>\n",
       "      <td>male</td>\n",
       "      <td>60.5</td>\n",
       "      <td>0</td>\n",
       "      <td>0</td>\n",
       "      <td>3701</td>\n",
       "      <td>NaN</td>\n",
       "      <td>NaN</td>\n",
       "      <td>S</td>\n",
       "      <td>U</td>\n",
       "    </tr>\n",
       "  </tbody>\n",
       "</table>\n",
       "</div>"
      ],
      "text/plain": [
       "     PassengerId  Survived  Pclass                Name   Sex   Age  SibSp  \\\n",
       "152         1044         0       3  Storey, Mr. Thomas  male  60.5      0   \n",
       "\n",
       "     Parch Ticket  Fare Cabin Embarked deck  \n",
       "152      0   3701   NaN   NaN        S    U  "
      ]
     },
     "execution_count": 201,
     "metadata": {},
     "output_type": "execute_result"
    }
   ],
   "source": [
    "test[test['Fare'].isnull()]\n",
    "\n"
   ]
  },
  {
   "cell_type": "code",
   "execution_count": 202,
   "id": "72f77477-b808-4003-819f-1e7210f4007e",
   "metadata": {},
   "outputs": [],
   "source": [
    "x = test[(test['Pclass']=='3')& (test['Embarked']=='S')]['Fare'].median()\n",
    "test['Fare']= test['Fare'].fillna(x)\n",
    "\n"
   ]
  },
  {
   "cell_type": "markdown",
   "id": "d1a813c3-1e02-4775-afac-1c27bc4e1f83",
   "metadata": {},
   "source": [
    "## Feature Engineering"
   ]
  },
  {
   "cell_type": "markdown",
   "id": "f39c5764-fe5f-4083-bf35-ac9818694c86",
   "metadata": {},
   "source": [
    "### Name"
   ]
  },
  {
   "cell_type": "markdown",
   "id": "27c0a8ae-d38b-4b2c-ad09-a33b5b30aebe",
   "metadata": {},
   "source": [
    "We can extract the title from the name feature and form categories based on the titles."
   ]
  },
  {
   "cell_type": "code",
   "execution_count": 203,
   "id": "d13e849e-0f5a-4f27-b8da-1aeb687d742f",
   "metadata": {},
   "outputs": [],
   "source": [
    "train['Title'] = train['Name'].apply(lambda x: x.split(',')[1].split('.')[0].strip())\n",
    "\n",
    "# do the same for test\n",
    "test['Title'] = test['Name'].apply(lambda x: x.split(',')[1].split('.')[0].strip())\n",
    "\n"
   ]
  },
  {
   "cell_type": "code",
   "execution_count": 204,
   "id": "16e5e96c-83cb-4ccb-8191-496a2b2a0376",
   "metadata": {},
   "outputs": [
    {
     "data": {
      "text/plain": [
       "<AxesSubplot:xlabel='Title', ylabel='count'>"
      ]
     },
     "execution_count": 204,
     "metadata": {},
     "output_type": "execute_result"
    },
    {
     "data": {
      "image/png": "[encoded data removed]",
      "text/plain": [
       "<Figure size 720x360 with 1 Axes>"
      ]
     },
     "metadata": {
      "needs_background": "light"
     },
     "output_type": "display_data"
    }
   ],
   "source": [
    "plt.figure(figsize=(10,5))\n",
    "sns.countplot(x='Title',data=train)\n",
    "\n"
   ]
  },
  {
   "cell_type": "code",
   "execution_count": 205,
   "id": "7dbbac18",
   "metadata": {},
   "outputs": [
    {
     "data": {
      "text/html": [
       "<div>\n",
       "<style scoped>\n",
       "    .dataframe tbody tr th:only-of-type {\n",
       "        vertical-align: middle;\n",
       "    }\n",
       "\n",
       "    .dataframe tbody tr th {\n",
       "        vertical-align: top;\n",
       "    }\n",
       "\n",
       "    .dataframe thead th {\n",
       "        text-align: right;\n",
       "    }\n",
       "</style>\n",
       "<table border=\"1\" class=\"dataframe\">\n",
       "  <thead>\n",
       "    <tr style=\"text-align: right;\">\n",
       "      <th></th>\n",
       "      <th>PassengerId</th>\n",
       "      <th>Survived</th>\n",
       "      <th>Pclass</th>\n",
       "      <th>Name</th>\n",
       "      <th>Sex</th>\n",
       "      <th>Age</th>\n",
       "      <th>SibSp</th>\n",
       "      <th>Parch</th>\n",
       "      <th>Ticket</th>\n",
       "      <th>Fare</th>\n",
       "      <th>Cabin</th>\n",
       "      <th>Embarked</th>\n",
       "      <th>deck</th>\n",
       "      <th>Title</th>\n",
       "    </tr>\n",
       "  </thead>\n",
       "  <tbody>\n",
       "    <tr>\n",
       "      <th>0</th>\n",
       "      <td>1</td>\n",
       "      <td>0</td>\n",
       "      <td>3</td>\n",
       "      <td>Braund, Mr. Owen Harris</td>\n",
       "      <td>male</td>\n",
       "      <td>22.0</td>\n",
       "      <td>1</td>\n",
       "      <td>0</td>\n",
       "      <td>A/5 21171</td>\n",
       "      <td>7.2500</td>\n",
       "      <td>NaN</td>\n",
       "      <td>S</td>\n",
       "      <td>U</td>\n",
       "      <td>Mr</td>\n",
       "    </tr>\n",
       "    <tr>\n",
       "      <th>1</th>\n",
       "      <td>2</td>\n",
       "      <td>1</td>\n",
       "      <td>1</td>\n",
       "      <td>Cumings, Mrs. John Bradley (Florence Briggs Th...</td>\n",
       "      <td>female</td>\n",
       "      <td>38.0</td>\n",
       "      <td>1</td>\n",
       "      <td>0</td>\n",
       "      <td>PC 17599</td>\n",
       "      <td>71.2833</td>\n",
       "      <td>C85</td>\n",
       "      <td>C</td>\n",
       "      <td>C</td>\n",
       "      <td>Mrs</td>\n",
       "    </tr>\n",
       "    <tr>\n",
       "      <th>2</th>\n",
       "      <td>3</td>\n",
       "      <td>1</td>\n",
       "      <td>3</td>\n",
       "      <td>Heikkinen, Miss. Laina</td>\n",
       "      <td>female</td>\n",
       "      <td>26.0</td>\n",
       "      <td>0</td>\n",
       "      <td>0</td>\n",
       "      <td>STON/O2. 3101282</td>\n",
       "      <td>7.9250</td>\n",
       "      <td>NaN</td>\n",
       "      <td>S</td>\n",
       "      <td>U</td>\n",
       "      <td>Miss</td>\n",
       "    </tr>\n",
       "    <tr>\n",
       "      <th>3</th>\n",
       "      <td>4</td>\n",
       "      <td>1</td>\n",
       "      <td>1</td>\n",
       "      <td>Futrelle, Mrs. Jacques Heath (Lily May Peel)</td>\n",
       "      <td>female</td>\n",
       "      <td>35.0</td>\n",
       "      <td>1</td>\n",
       "      <td>0</td>\n",
       "      <td>113803</td>\n",
       "      <td>53.1000</td>\n",
       "      <td>C123</td>\n",
       "      <td>S</td>\n",
       "      <td>C</td>\n",
       "      <td>Mrs</td>\n",
       "    </tr>\n",
       "    <tr>\n",
       "      <th>4</th>\n",
       "      <td>5</td>\n",
       "      <td>0</td>\n",
       "      <td>3</td>\n",
       "      <td>Allen, Mr. William Henry</td>\n",
       "      <td>male</td>\n",
       "      <td>35.0</td>\n",
       "      <td>0</td>\n",
       "      <td>0</td>\n",
       "      <td>373450</td>\n",
       "      <td>8.0500</td>\n",
       "      <td>NaN</td>\n",
       "      <td>S</td>\n",
       "      <td>U</td>\n",
       "      <td>Mr</td>\n",
       "    </tr>\n",
       "    <tr>\n",
       "      <th>...</th>\n",
       "      <td>...</td>\n",
       "      <td>...</td>\n",
       "      <td>...</td>\n",
       "      <td>...</td>\n",
       "      <td>...</td>\n",
       "      <td>...</td>\n",
       "      <td>...</td>\n",
       "      <td>...</td>\n",
       "      <td>...</td>\n",
       "      <td>...</td>\n",
       "      <td>...</td>\n",
       "      <td>...</td>\n",
       "      <td>...</td>\n",
       "      <td>...</td>\n",
       "    </tr>\n",
       "    <tr>\n",
       "      <th>886</th>\n",
       "      <td>887</td>\n",
       "      <td>0</td>\n",
       "      <td>2</td>\n",
       "      <td>Montvila, Rev. Juozas</td>\n",
       "      <td>male</td>\n",
       "      <td>27.0</td>\n",
       "      <td>0</td>\n",
       "      <td>0</td>\n",
       "      <td>211536</td>\n",
       "      <td>13.0000</td>\n",
       "      <td>NaN</td>\n",
       "      <td>S</td>\n",
       "      <td>U</td>\n",
       "      <td>Rev</td>\n",
       "    </tr>\n",
       "    <tr>\n",
       "      <th>887</th>\n",
       "      <td>888</td>\n",
       "      <td>1</td>\n",
       "      <td>1</td>\n",
       "      <td>Graham, Miss. Margaret Edith</td>\n",
       "      <td>female</td>\n",
       "      <td>19.0</td>\n",
       "      <td>0</td>\n",
       "      <td>0</td>\n",
       "      <td>112053</td>\n",
       "      <td>30.0000</td>\n",
       "      <td>B42</td>\n",
       "      <td>S</td>\n",
       "      <td>B</td>\n",
       "      <td>Miss</td>\n",
       "    </tr>\n",
       "    <tr>\n",
       "      <th>888</th>\n",
       "      <td>889</td>\n",
       "      <td>0</td>\n",
       "      <td>3</td>\n",
       "      <td>Johnston, Miss. Catherine Helen \"Carrie\"</td>\n",
       "      <td>female</td>\n",
       "      <td>21.5</td>\n",
       "      <td>1</td>\n",
       "      <td>2</td>\n",
       "      <td>W./C. 6607</td>\n",
       "      <td>23.4500</td>\n",
       "      <td>NaN</td>\n",
       "      <td>S</td>\n",
       "      <td>U</td>\n",
       "      <td>Miss</td>\n",
       "    </tr>\n",
       "    <tr>\n",
       "      <th>889</th>\n",
       "      <td>890</td>\n",
       "      <td>1</td>\n",
       "      <td>1</td>\n",
       "      <td>Behr, Mr. Karl Howell</td>\n",
       "      <td>male</td>\n",
       "      <td>26.0</td>\n",
       "      <td>0</td>\n",
       "      <td>0</td>\n",
       "      <td>111369</td>\n",
       "      <td>30.0000</td>\n",
       "      <td>C148</td>\n",
       "      <td>C</td>\n",
       "      <td>C</td>\n",
       "      <td>Mr</td>\n",
       "    </tr>\n",
       "    <tr>\n",
       "      <th>890</th>\n",
       "      <td>891</td>\n",
       "      <td>0</td>\n",
       "      <td>3</td>\n",
       "      <td>Dooley, Mr. Patrick</td>\n",
       "      <td>male</td>\n",
       "      <td>32.0</td>\n",
       "      <td>0</td>\n",
       "      <td>0</td>\n",
       "      <td>370376</td>\n",
       "      <td>7.7500</td>\n",
       "      <td>NaN</td>\n",
       "      <td>Q</td>\n",
       "      <td>U</td>\n",
       "      <td>Mr</td>\n",
       "    </tr>\n",
       "  </tbody>\n",
       "</table>\n",
       "<p>891 rows × 14 columns</p>\n",
       "</div>"
      ],
      "text/plain": [
       "     PassengerId  Survived  Pclass  \\\n",
       "0              1         0       3   \n",
       "1              2         1       1   \n",
       "2              3         1       3   \n",
       "3              4         1       1   \n",
       "4              5         0       3   \n",
       "..           ...       ...     ...   \n",
       "886          887         0       2   \n",
       "887          888         1       1   \n",
       "888          889         0       3   \n",
       "889          890         1       1   \n",
       "890          891         0       3   \n",
       "\n",
       "                                                  Name     Sex   Age  SibSp  \\\n",
       "0                              Braund, Mr. Owen Harris    male  22.0      1   \n",
       "1    Cumings, Mrs. John Bradley (Florence Briggs Th...  female  38.0      1   \n",
       "2                               Heikkinen, Miss. Laina  female  26.0      0   \n",
       "3         Futrelle, Mrs. Jacques Heath (Lily May Peel)  female  35.0      1   \n",
       "4                             Allen, Mr. William Henry    male  35.0      0   \n",
       "..                                                 ...     ...   ...    ...   \n",
       "886                              Montvila, Rev. Juozas    male  27.0      0   \n",
       "887                       Graham, Miss. Margaret Edith  female  19.0      0   \n",
       "888           Johnston, Miss. Catherine Helen \"Carrie\"  female  21.5      1   \n",
       "889                              Behr, Mr. Karl Howell    male  26.0      0   \n",
       "890                                Dooley, Mr. Patrick    male  32.0      0   \n",
       "\n",
       "     Parch            Ticket     Fare Cabin Embarked deck Title  \n",
       "0        0         A/5 21171   7.2500   NaN        S    U    Mr  \n",
       "1        0          PC 17599  71.2833   C85        C    C   Mrs  \n",
       "2        0  STON/O2. 3101282   7.9250   NaN        S    U  Miss  \n",
       "3        0            113803  53.1000  C123        S    C   Mrs  \n",
       "4        0            373450   8.0500   NaN        S    U    Mr  \n",
       "..     ...               ...      ...   ...      ...  ...   ...  \n",
       "886      0            211536  13.0000   NaN        S    U   Rev  \n",
       "887      0            112053  30.0000   B42        S    B  Miss  \n",
       "888      2        W./C. 6607  23.4500   NaN        S    U  Miss  \n",
       "889      0            111369  30.0000  C148        C    C    Mr  \n",
       "890      0            370376   7.7500   NaN        Q    U    Mr  \n",
       "\n",
       "[891 rows x 14 columns]"
      ]
     },
     "execution_count": 205,
     "metadata": {},
     "output_type": "execute_result"
    }
   ],
   "source": [
    "train"
   ]
  },
  {
   "cell_type": "markdown",
   "id": "debac1ac-f8ec-40ed-a5c7-7cd379bab1d3",
   "metadata": {},
   "source": [
    "Some titles have few values, so we have grouped them as Other."
   ]
  },
  {
   "cell_type": "code",
   "execution_count": 206,
   "id": "15bf3143-ac7d-4b5d-9a31-511ffcee8f33",
   "metadata": {},
   "outputs": [],
   "source": [
    "train['Title'] = np.where(train['Title'].isin(['Mr', 'Mrs', 'Master', 'Miss']), train['Title'], 'Other')\n",
    "\n",
    "#do the same for test\n",
    "test['Title'] = np.where(test['Title'].isin(['Mr', 'Mrs', 'Master', 'Miss']), test['Title'], 'Other')\n",
    "\n"
   ]
  },
  {
   "cell_type": "code",
   "execution_count": 207,
   "id": "462a9558",
   "metadata": {},
   "outputs": [
    {
     "data": {
      "text/html": [
       "<div>\n",
       "<style scoped>\n",
       "    .dataframe tbody tr th:only-of-type {\n",
       "        vertical-align: middle;\n",
       "    }\n",
       "\n",
       "    .dataframe tbody tr th {\n",
       "        vertical-align: top;\n",
       "    }\n",
       "\n",
       "    .dataframe thead th {\n",
       "        text-align: right;\n",
       "    }\n",
       "</style>\n",
       "<table border=\"1\" class=\"dataframe\">\n",
       "  <thead>\n",
       "    <tr style=\"text-align: right;\">\n",
       "      <th></th>\n",
       "      <th>PassengerId</th>\n",
       "      <th>Survived</th>\n",
       "      <th>Pclass</th>\n",
       "      <th>Name</th>\n",
       "      <th>Sex</th>\n",
       "      <th>Age</th>\n",
       "      <th>SibSp</th>\n",
       "      <th>Parch</th>\n",
       "      <th>Ticket</th>\n",
       "      <th>Fare</th>\n",
       "      <th>Cabin</th>\n",
       "      <th>Embarked</th>\n",
       "      <th>deck</th>\n",
       "      <th>Title</th>\n",
       "    </tr>\n",
       "  </thead>\n",
       "  <tbody>\n",
       "    <tr>\n",
       "      <th>0</th>\n",
       "      <td>1</td>\n",
       "      <td>0</td>\n",
       "      <td>3</td>\n",
       "      <td>Braund, Mr. Owen Harris</td>\n",
       "      <td>male</td>\n",
       "      <td>22.0</td>\n",
       "      <td>1</td>\n",
       "      <td>0</td>\n",
       "      <td>A/5 21171</td>\n",
       "      <td>7.2500</td>\n",
       "      <td>NaN</td>\n",
       "      <td>S</td>\n",
       "      <td>U</td>\n",
       "      <td>Mr</td>\n",
       "    </tr>\n",
       "    <tr>\n",
       "      <th>1</th>\n",
       "      <td>2</td>\n",
       "      <td>1</td>\n",
       "      <td>1</td>\n",
       "      <td>Cumings, Mrs. John Bradley (Florence Briggs Th...</td>\n",
       "      <td>female</td>\n",
       "      <td>38.0</td>\n",
       "      <td>1</td>\n",
       "      <td>0</td>\n",
       "      <td>PC 17599</td>\n",
       "      <td>71.2833</td>\n",
       "      <td>C85</td>\n",
       "      <td>C</td>\n",
       "      <td>C</td>\n",
       "      <td>Mrs</td>\n",
       "    </tr>\n",
       "    <tr>\n",
       "      <th>2</th>\n",
       "      <td>3</td>\n",
       "      <td>1</td>\n",
       "      <td>3</td>\n",
       "      <td>Heikkinen, Miss. Laina</td>\n",
       "      <td>female</td>\n",
       "      <td>26.0</td>\n",
       "      <td>0</td>\n",
       "      <td>0</td>\n",
       "      <td>STON/O2. 3101282</td>\n",
       "      <td>7.9250</td>\n",
       "      <td>NaN</td>\n",
       "      <td>S</td>\n",
       "      <td>U</td>\n",
       "      <td>Miss</td>\n",
       "    </tr>\n",
       "    <tr>\n",
       "      <th>3</th>\n",
       "      <td>4</td>\n",
       "      <td>1</td>\n",
       "      <td>1</td>\n",
       "      <td>Futrelle, Mrs. Jacques Heath (Lily May Peel)</td>\n",
       "      <td>female</td>\n",
       "      <td>35.0</td>\n",
       "      <td>1</td>\n",
       "      <td>0</td>\n",
       "      <td>113803</td>\n",
       "      <td>53.1000</td>\n",
       "      <td>C123</td>\n",
       "      <td>S</td>\n",
       "      <td>C</td>\n",
       "      <td>Mrs</td>\n",
       "    </tr>\n",
       "    <tr>\n",
       "      <th>4</th>\n",
       "      <td>5</td>\n",
       "      <td>0</td>\n",
       "      <td>3</td>\n",
       "      <td>Allen, Mr. William Henry</td>\n",
       "      <td>male</td>\n",
       "      <td>35.0</td>\n",
       "      <td>0</td>\n",
       "      <td>0</td>\n",
       "      <td>373450</td>\n",
       "      <td>8.0500</td>\n",
       "      <td>NaN</td>\n",
       "      <td>S</td>\n",
       "      <td>U</td>\n",
       "      <td>Mr</td>\n",
       "    </tr>\n",
       "    <tr>\n",
       "      <th>...</th>\n",
       "      <td>...</td>\n",
       "      <td>...</td>\n",
       "      <td>...</td>\n",
       "      <td>...</td>\n",
       "      <td>...</td>\n",
       "      <td>...</td>\n",
       "      <td>...</td>\n",
       "      <td>...</td>\n",
       "      <td>...</td>\n",
       "      <td>...</td>\n",
       "      <td>...</td>\n",
       "      <td>...</td>\n",
       "      <td>...</td>\n",
       "      <td>...</td>\n",
       "    </tr>\n",
       "    <tr>\n",
       "      <th>886</th>\n",
       "      <td>887</td>\n",
       "      <td>0</td>\n",
       "      <td>2</td>\n",
       "      <td>Montvila, Rev. Juozas</td>\n",
       "      <td>male</td>\n",
       "      <td>27.0</td>\n",
       "      <td>0</td>\n",
       "      <td>0</td>\n",
       "      <td>211536</td>\n",
       "      <td>13.0000</td>\n",
       "      <td>NaN</td>\n",
       "      <td>S</td>\n",
       "      <td>U</td>\n",
       "      <td>Other</td>\n",
       "    </tr>\n",
       "    <tr>\n",
       "      <th>887</th>\n",
       "      <td>888</td>\n",
       "      <td>1</td>\n",
       "      <td>1</td>\n",
       "      <td>Graham, Miss. Margaret Edith</td>\n",
       "      <td>female</td>\n",
       "      <td>19.0</td>\n",
       "      <td>0</td>\n",
       "      <td>0</td>\n",
       "      <td>112053</td>\n",
       "      <td>30.0000</td>\n",
       "      <td>B42</td>\n",
       "      <td>S</td>\n",
       "      <td>B</td>\n",
       "      <td>Miss</td>\n",
       "    </tr>\n",
       "    <tr>\n",
       "      <th>888</th>\n",
       "      <td>889</td>\n",
       "      <td>0</td>\n",
       "      <td>3</td>\n",
       "      <td>Johnston, Miss. Catherine Helen \"Carrie\"</td>\n",
       "      <td>female</td>\n",
       "      <td>21.5</td>\n",
       "      <td>1</td>\n",
       "      <td>2</td>\n",
       "      <td>W./C. 6607</td>\n",
       "      <td>23.4500</td>\n",
       "      <td>NaN</td>\n",
       "      <td>S</td>\n",
       "      <td>U</td>\n",
       "      <td>Miss</td>\n",
       "    </tr>\n",
       "    <tr>\n",
       "      <th>889</th>\n",
       "      <td>890</td>\n",
       "      <td>1</td>\n",
       "      <td>1</td>\n",
       "      <td>Behr, Mr. Karl Howell</td>\n",
       "      <td>male</td>\n",
       "      <td>26.0</td>\n",
       "      <td>0</td>\n",
       "      <td>0</td>\n",
       "      <td>111369</td>\n",
       "      <td>30.0000</td>\n",
       "      <td>C148</td>\n",
       "      <td>C</td>\n",
       "      <td>C</td>\n",
       "      <td>Mr</td>\n",
       "    </tr>\n",
       "    <tr>\n",
       "      <th>890</th>\n",
       "      <td>891</td>\n",
       "      <td>0</td>\n",
       "      <td>3</td>\n",
       "      <td>Dooley, Mr. Patrick</td>\n",
       "      <td>male</td>\n",
       "      <td>32.0</td>\n",
       "      <td>0</td>\n",
       "      <td>0</td>\n",
       "      <td>370376</td>\n",
       "      <td>7.7500</td>\n",
       "      <td>NaN</td>\n",
       "      <td>Q</td>\n",
       "      <td>U</td>\n",
       "      <td>Mr</td>\n",
       "    </tr>\n",
       "  </tbody>\n",
       "</table>\n",
       "<p>891 rows × 14 columns</p>\n",
       "</div>"
      ],
      "text/plain": [
       "     PassengerId  Survived  Pclass  \\\n",
       "0              1         0       3   \n",
       "1              2         1       1   \n",
       "2              3         1       3   \n",
       "3              4         1       1   \n",
       "4              5         0       3   \n",
       "..           ...       ...     ...   \n",
       "886          887         0       2   \n",
       "887          888         1       1   \n",
       "888          889         0       3   \n",
       "889          890         1       1   \n",
       "890          891         0       3   \n",
       "\n",
       "                                                  Name     Sex   Age  SibSp  \\\n",
       "0                              Braund, Mr. Owen Harris    male  22.0      1   \n",
       "1    Cumings, Mrs. John Bradley (Florence Briggs Th...  female  38.0      1   \n",
       "2                               Heikkinen, Miss. Laina  female  26.0      0   \n",
       "3         Futrelle, Mrs. Jacques Heath (Lily May Peel)  female  35.0      1   \n",
       "4                             Allen, Mr. William Henry    male  35.0      0   \n",
       "..                                                 ...     ...   ...    ...   \n",
       "886                              Montvila, Rev. Juozas    male  27.0      0   \n",
       "887                       Graham, Miss. Margaret Edith  female  19.0      0   \n",
       "888           Johnston, Miss. Catherine Helen \"Carrie\"  female  21.5      1   \n",
       "889                              Behr, Mr. Karl Howell    male  26.0      0   \n",
       "890                                Dooley, Mr. Patrick    male  32.0      0   \n",
       "\n",
       "     Parch            Ticket     Fare Cabin Embarked deck  Title  \n",
       "0        0         A/5 21171   7.2500   NaN        S    U     Mr  \n",
       "1        0          PC 17599  71.2833   C85        C    C    Mrs  \n",
       "2        0  STON/O2. 3101282   7.9250   NaN        S    U   Miss  \n",
       "3        0            113803  53.1000  C123        S    C    Mrs  \n",
       "4        0            373450   8.0500   NaN        S    U     Mr  \n",
       "..     ...               ...      ...   ...      ...  ...    ...  \n",
       "886      0            211536  13.0000   NaN        S    U  Other  \n",
       "887      0            112053  30.0000   B42        S    B   Miss  \n",
       "888      2        W./C. 6607  23.4500   NaN        S    U   Miss  \n",
       "889      0            111369  30.0000  C148        C    C     Mr  \n",
       "890      0            370376   7.7500   NaN        Q    U     Mr  \n",
       "\n",
       "[891 rows x 14 columns]"
      ]
     },
     "execution_count": 207,
     "metadata": {},
     "output_type": "execute_result"
    }
   ],
   "source": [
    "train"
   ]
  },
  {
   "cell_type": "code",
   "execution_count": 208,
   "id": "c26b2567-c0da-49a6-9f08-3a03c61d5637",
   "metadata": {},
   "outputs": [
    {
     "data": {
      "text/plain": [
       "<AxesSubplot:xlabel='Title', ylabel='count'>"
      ]
     },
     "execution_count": 208,
     "metadata": {},
     "output_type": "execute_result"
    },
    {
     "data": {
      "image/png": "[encoded data removed]",
      "text/plain": [
       "<Figure size 720x360 with 1 Axes>"
      ]
     },
     "metadata": {
      "needs_background": "light"
     },
     "output_type": "display_data"
    }
   ],
   "source": [
    "plt.figure(figsize=(10,5))\n",
    "sns.countplot(x='Title',data=train,hue='Survived')\n",
    "\n"
   ]
  },
  {
   "cell_type": "markdown",
   "id": "5dd60a10-eb16-4b5c-ab84-da7a7ecfcafd",
   "metadata": {},
   "source": [
    "### Ticket\n",
    "\n",
    "Some tickects contain letters and numerical values.The plan is to remove all the letters form the string, then group the tickets based on the first leading digit.\n"
   ]
  },
  {
   "cell_type": "code",
   "execution_count": 209,
   "id": "d7978cca-1816-43a5-8c44-e07b785da361",
   "metadata": {},
   "outputs": [
    {
     "data": {
      "text/html": [
       "<div>\n",
       "<style scoped>\n",
       "    .dataframe tbody tr th:only-of-type {\n",
       "        vertical-align: middle;\n",
       "    }\n",
       "\n",
       "    .dataframe tbody tr th {\n",
       "        vertical-align: top;\n",
       "    }\n",
       "\n",
       "    .dataframe thead th {\n",
       "        text-align: right;\n",
       "    }\n",
       "</style>\n",
       "<table border=\"1\" class=\"dataframe\">\n",
       "  <thead>\n",
       "    <tr style=\"text-align: right;\">\n",
       "      <th></th>\n",
       "      <th>PassengerId</th>\n",
       "      <th>Survived</th>\n",
       "      <th>Pclass</th>\n",
       "      <th>Name</th>\n",
       "      <th>Sex</th>\n",
       "      <th>Age</th>\n",
       "      <th>SibSp</th>\n",
       "      <th>Parch</th>\n",
       "      <th>Fare</th>\n",
       "      <th>Cabin</th>\n",
       "      <th>Embarked</th>\n",
       "      <th>deck</th>\n",
       "      <th>Title</th>\n",
       "      <th>Ticket_LeadingDigit</th>\n",
       "    </tr>\n",
       "  </thead>\n",
       "  <tbody>\n",
       "    <tr>\n",
       "      <th>0</th>\n",
       "      <td>1</td>\n",
       "      <td>0</td>\n",
       "      <td>3</td>\n",
       "      <td>Braund, Mr. Owen Harris</td>\n",
       "      <td>male</td>\n",
       "      <td>22.0</td>\n",
       "      <td>1</td>\n",
       "      <td>0</td>\n",
       "      <td>7.25</td>\n",
       "      <td>NaN</td>\n",
       "      <td>S</td>\n",
       "      <td>U</td>\n",
       "      <td>Mr</td>\n",
       "      <td>2</td>\n",
       "    </tr>\n",
       "  </tbody>\n",
       "</table>\n",
       "</div>"
      ],
      "text/plain": [
       "   PassengerId  Survived  Pclass                     Name   Sex   Age  SibSp  \\\n",
       "0            1         0       3  Braund, Mr. Owen Harris  male  22.0      1   \n",
       "\n",
       "   Parch  Fare Cabin Embarked deck Title  Ticket_LeadingDigit  \n",
       "0      0  7.25   NaN        S    U    Mr                    2  "
      ]
     },
     "execution_count": 209,
     "metadata": {},
     "output_type": "execute_result"
    }
   ],
   "source": [
    "#check if there a letters or not\n",
    "def prefix(ticket):\n",
    "    \n",
    "    check = ticket.split(' ')[0][0]\n",
    "    if check.isalpha():\n",
    "        return ticket.split(' ')[0]\n",
    "    else:\n",
    "        return 'No prefix'\n",
    "\n",
    "def ticket_features(df):\n",
    "    \n",
    "    df['Ticket'] = df['Ticket'].replace('LINE','LINE 0')\n",
    "    df['Ticket'] = df['Ticket'].apply(lambda x: x.replace('.','').replace('/','').lower())\n",
    "    df['Prefix'] = df['Ticket'].apply(lambda x: prefix(x))\n",
    "    df['TNumeric'] = df['Ticket'].apply(lambda x: int(x.split(' ')[-1]))\n",
    "    df['TNlen'] = df['TNumeric'].apply(lambda x : len(str(x)))\n",
    "    df['Ticket_LeadingDigit'] = df['TNumeric'].apply(lambda x : int(str(x)[0]))\n",
    "    df['TGroup'] = df['TNumeric'].apply(lambda x: str(x//10))\n",
    "\n",
    "    df = df.drop(columns=['Ticket','TNumeric','Prefix','TNlen','TGroup'])\n",
    "\n",
    "    return df\n",
    "\n",
    "train = ticket_features(train)\n",
    "test = ticket_features(test)\n",
    "train.head(1)\n",
    "\n"
   ]
  },
  {
   "cell_type": "code",
   "execution_count": null,
   "id": "761ee8b0",
   "metadata": {},
   "outputs": [],
   "source": []
  },
  {
   "cell_type": "code",
   "execution_count": 210,
   "id": "c871046d",
   "metadata": {},
   "outputs": [
    {
     "data": {
      "text/plain": [
       "array(['U', 'C', 'E', 'G', 'D', 'A', 'B', 'F'], dtype=object)"
      ]
     },
     "execution_count": 210,
     "metadata": {},
     "output_type": "execute_result"
    }
   ],
   "source": [
    "train['deck'].unique()\n",
    "\n"
   ]
  },
  {
   "cell_type": "markdown",
   "id": "cbce8c41-c796-451a-9076-d16378aac6fe",
   "metadata": {},
   "source": [
    "### Encoding Categorical features"
   ]
  },
  {
   "cell_type": "code",
   "execution_count": 211,
   "id": "aff3673a",
   "metadata": {},
   "outputs": [],
   "source": [
    "# encoding sex column\n",
    "train.replace({'Sex':{'male':0,'female':1}}, inplace=True)\n",
    "test.replace({'Sex':{'male':0,'female':1}}, inplace=True)\n",
    "\n",
    " # encoding 'embarked' column\n",
    "train.replace({'Embarked':{'C':0,'S':1, 'Q':2}}, inplace=True)\n",
    "test.replace({'Embarked':{'C':0,'S':1, 'Q':2}}, inplace=True)\n",
    "\n",
    "#encoding title column\n",
    "train.replace({'Title':{'Mr':0,'Mrs':1, 'Master':2, 'Miss':3, 'Other':4}}, inplace=True)\n",
    "test.replace({'Title':{'Mr':0,'Mrs':1, 'Master':2, 'Miss':3, 'Other':4}}, inplace=True)\n",
    "\n",
    "deck = pd.get_dummies(train['deck'],prefix='Cabin')\n",
    "train = train.drop(columns= ['Cabin', 'Name', 'deck'], axis=1)\n",
    "train= pd.concat([train,deck],axis=1)\n",
    "\n",
    "deck1 = pd.get_dummies(test['deck'],prefix='Cabin')\n",
    "test = test.drop(columns= ['Cabin', 'Name' , 'deck'], axis=1)\n",
    "test= pd.concat([test,deck1],axis=1)\n"
   ]
  },
  {
   "cell_type": "code",
   "execution_count": 212,
   "id": "1e4fb7e3",
   "metadata": {},
   "outputs": [
    {
     "data": {
      "image/png": "[encoded data removed]",
      "text/plain": [
       "<Figure size 432x288 with 1 Axes>"
      ]
     },
     "metadata": {},
     "output_type": "display_data"
    }
   ],
   "source": [
    "num_survived = sum(train['Survived'] == 1)\n",
    "num_not_survived = sum(train['Survived'] == 0)\n",
    "\n",
    "labels = [\"Survived\", \"Didn't survive\"]\n",
    "sizes = [num_survived, num_not_survived]\n",
    "\n",
    "# Plot\n",
    "plt.pie(sizes, labels=labels, autopct='%1.1f%%',  startangle=120)\n",
    "plt.axis('equal')\n",
    "plt.suptitle(\"Distribution of original dataset with respect to the class label\", y=1, fontsize=18)\n",
    "plt.title(\"This pie chart shows how many people from the initial dataset survive the titanic, and how many do not.\")\n",
    "plt.tight_layout()\n",
    "plt.show()"
   ]
  },
  {
   "cell_type": "code",
   "execution_count": 213,
   "id": "e442061f",
   "metadata": {},
   "outputs": [],
   "source": [
    "y = train['Survived']\n",
    "x = train.drop(['Survived', 'PassengerId'], axis=1)"
   ]
  },
  {
   "cell_type": "code",
   "execution_count": 214,
   "id": "0c95150d",
   "metadata": {},
   "outputs": [
    {
     "data": {
      "text/plain": [
       "(418, 19)"
      ]
     },
     "execution_count": 214,
     "metadata": {},
     "output_type": "execute_result"
    }
   ],
   "source": [
    "std_scaler = StandardScaler()\n",
    "x = std_scaler.fit_transform(x)\n",
    "test = std_scaler.fit_transform(test)\n",
    "test.shape\n"
   ]
  },
  {
   "cell_type": "code",
   "execution_count": 215,
   "id": "8f33a51b",
   "metadata": {},
   "outputs": [],
   "source": [
    "from sklearn.model_selection import train_test_split\n",
    "X_train,X_test,y_train,y_test = train_test_split(x,y, test_size=0.2,random_state=0)"
   ]
  },
  {
   "cell_type": "code",
   "execution_count": 216,
   "id": "255ae0b0",
   "metadata": {},
   "outputs": [
    {
     "data": {
      "text/plain": [
       "((712, 17), (179, 17), (712,), (179,))"
      ]
     },
     "execution_count": 216,
     "metadata": {},
     "output_type": "execute_result"
    }
   ],
   "source": [
    "X_train.shape,X_test.shape,y_train.shape,y_test.shape"
   ]
  },
  {
   "cell_type": "code",
   "execution_count": 220,
   "id": "23ff7ace",
   "metadata": {},
   "outputs": [
    {
     "name": "stdout",
     "output_type": "stream",
     "text": [
      "Logistic Regression Metrics:\n",
      "\n",
      "Training Accuracy: 0.8216292134831461\n",
      "Testing Accuracy: 0.7932960893854749\n",
      "Precision: 0.7352941176470589\n",
      "Recall: 0.7246376811594203\n",
      "F1 Score: 0.7299270072992701\n",
      "Matthew's Correlation Coefficient: 0.5625599667750646\n"
     ]
    }
   ],
   "source": [
    "from sklearn.metrics import precision_score, recall_score, f1_score, matthews_corrcoef, confusion_matrix,ConfusionMatrixDisplay\n",
    "\n",
    "logreg = LogisticRegression(tol=0.005, C=1, max_iter= 1000)\n",
    "logreg.fit(X_train, y_train)\n",
    "y_pred = logreg.predict(X_test)\n",
    "#print(getAccuracy(y_test, y_pred))\n",
    "\n",
    "print(\"Logistic Regression Metrics:\\n\")\n",
    "print(f\"Training Accuracy: {logreg.score(X_train,y_train)}\")\n",
    "print(f\"Testing Accuracy: {logreg.score(X_test,y_test)}\")\n",
    "print(f\"Precision: {precision_score(y_test, logreg.predict(X_test),average='binary')}\")\n",
    "print(f\"Recall: {recall_score(y_test, logreg.predict(X_test),average='binary')}\")\n",
    "print(f\"F1 Score: {f1_score(y_test, logreg.predict(X_test),average='binary')}\")\n",
    "print(f\"Matthew's Correlation Coefficient: {matthews_corrcoef(y_test, logreg.predict(X_test))}\")"
   ]
  },
  {
   "cell_type": "code",
   "execution_count": 222,
   "id": "42737434",
   "metadata": {},
   "outputs": [
    {
     "data": {
      "text/plain": [
       "<sklearn.metrics._plot.confusion_matrix.ConfusionMatrixDisplay at 0x7fb32057eb90>"
      ]
     },
     "execution_count": 222,
     "metadata": {},
     "output_type": "execute_result"
    },
    {
     "data": {
      "image/png": "[encoded data removed]",
      "text/plain": [
       "<Figure size 432x288 with 2 Axes>"
      ]
     },
     "metadata": {
      "needs_background": "light"
     },
     "output_type": "display_data"
    }
   ],
   "source": [
    "c_matrix = confusion_matrix(y_test, logreg.predict(X_test))\n",
    "d=ConfusionMatrixDisplay(c_matrix)\n",
    "d.plot()"
   ]
  },
  {
   "cell_type": "code",
   "execution_count": 264,
   "id": "db9c56b9",
   "metadata": {},
   "outputs": [
    {
     "name": "stdout",
     "output_type": "stream",
     "text": [
      "Fitting 4 folds for each of 120 candidates, totalling 480 fits\n",
      "Best Accuracy: 80.9%\n",
      "Best Parameters: {'C': 0.2682695795279725, 'max_iter': 100, 'penalty': 'l1', 'solver': 'liblinear'}\n",
      "Accuracy of Logistic Regression In Test-set :79.89%\n"
     ]
    }
   ],
   "source": [
    "#optimization of Logistic Regression hyperparameters\n",
    "lr = LogisticRegression()\n",
    "param_grid = {'max_iter' : [100,200,2000,5000],\n",
    "              'penalty' : ['l1', 'l2'],\n",
    "              'C' : np.logspace(-4, 8, 15),\n",
    "              'solver' : ['liblinear']}\n",
    "\n",
    "clf_lr = GridSearchCV(lr, param_grid = param_grid, cv = 4, verbose = True, n_jobs = -1)\n",
    "best_clf_lr = clf_lr.fit(X_train,y_train)\n",
    "print('Best Accuracy: ' + str(np.round(best_clf_lr.best_score_*100,2))+'%')\n",
    "print('Best Parameters: ' + str(best_clf_lr.best_params_))\n",
    "print('Accuracy of Logistic Regression In Test-set :'+str(np.round(best_clf_lr.score(X_test,y_test)*100,2))+'%')"
   ]
  },
  {
   "cell_type": "markdown",
   "id": "060362ec",
   "metadata": {},
   "source": [
    "## Stochastic Gradient Descent (Logistic Regression with Gradient Descent)"
   ]
  },
  {
   "cell_type": "code",
   "execution_count": 246,
   "id": "6482bde8",
   "metadata": {},
   "outputs": [
    {
     "name": "stdout",
     "output_type": "stream",
     "text": [
      "Stochastic Gradient Descent Metrics:\n",
      "\n",
      "Training Accuracy: 0.7851123595505618\n",
      "Testing Accuracy: 0.7988826815642458\n",
      "Precision: 0.6987951807228916\n",
      "Recall: 0.8405797101449275\n",
      "F1 Score: 0.763157894736842\n",
      "Matthew's Correlation Coefficient: 0.5985826638658058\n"
     ]
    }
   ],
   "source": [
    "stochGD = SGDClassifier(max_iter=1000, tol=1e-3)\n",
    "second = stochGD.fit(X_train, y_train) #coef_init not working\n",
    "print(\"Stochastic Gradient Descent Metrics:\\n\")\n",
    "print(f\"Training Accuracy: {stochGD.score(X_train,y_train)}\")\n",
    "print(f\"Testing Accuracy: {stochGD.score(X_test,y_test)}\")\n",
    "print(f\"Precision: {precision_score(y_test, stochGD.predict(X_test),average='binary')}\")\n",
    "print(f\"Recall: {recall_score(y_test, stochGD.predict(X_test),average='binary')}\")\n",
    "print(f\"F1 Score: {f1_score(y_test, stochGD.predict(X_test),average='binary')}\")\n",
    "print(f\"Matthew's Correlation Coefficient: {matthews_corrcoef(y_test, stochGD.predict(X_test))}\")\n"
   ]
  },
  {
   "cell_type": "code",
   "execution_count": 247,
   "id": "a98cf5cf",
   "metadata": {},
   "outputs": [
    {
     "data": {
      "text/plain": [
       "<sklearn.metrics._plot.confusion_matrix.ConfusionMatrixDisplay at 0x7fb320505390>"
      ]
     },
     "execution_count": 247,
     "metadata": {},
     "output_type": "execute_result"
    },
    {
     "data": {
      "image/png": "[encoded data removed]",
      "text/plain": [
       "<Figure size 432x288 with 2 Axes>"
      ]
     },
     "metadata": {
      "needs_background": "light"
     },
     "output_type": "display_data"
    }
   ],
   "source": [
    "c_matrix = confusion_matrix(y_test, stochGD.predict(X_test))\n",
    "d=ConfusionMatrixDisplay(c_matrix)\n",
    "d.plot()"
   ]
  },
  {
   "cell_type": "code",
   "execution_count": 257,
   "id": "6a1ce9b9",
   "metadata": {},
   "outputs": [
    {
     "name": "stdout",
     "output_type": "stream",
     "text": [
      "Fitting 4 folds for each of 480 candidates, totalling 1920 fits\n"
     ]
    },
    {
     "name": "stderr",
     "output_type": "stream",
     "text": [
      "/home/kgethi/.pyenv/versions/3.10.4/envs/school/lib/python3.10/site-packages/sklearn/linear_model/_stochastic_gradient.py:705: ConvergenceWarning: Maximum number of iteration reached before convergence. Consider increasing max_iter to improve the fit.\n",
      "  warnings.warn(\n",
      "/home/kgethi/.pyenv/versions/3.10.4/envs/school/lib/python3.10/site-packages/sklearn/linear_model/_stochastic_gradient.py:705: ConvergenceWarning: Maximum number of iteration reached before convergence. Consider increasing max_iter to improve the fit.\n",
      "  warnings.warn(\n",
      "/home/kgethi/.pyenv/versions/3.10.4/envs/school/lib/python3.10/site-packages/sklearn/linear_model/_stochastic_gradient.py:705: ConvergenceWarning: Maximum number of iteration reached before convergence. Consider increasing max_iter to improve the fit.\n",
      "  warnings.warn(\n",
      "/home/kgethi/.pyenv/versions/3.10.4/envs/school/lib/python3.10/site-packages/sklearn/linear_model/_stochastic_gradient.py:705: ConvergenceWarning: Maximum number of iteration reached before convergence. Consider increasing max_iter to improve the fit.\n",
      "  warnings.warn(\n",
      "/home/kgethi/.pyenv/versions/3.10.4/envs/school/lib/python3.10/site-packages/sklearn/linear_model/_stochastic_gradient.py:705: ConvergenceWarning: Maximum number of iteration reached before convergence. Consider increasing max_iter to improve the fit.\n",
      "  warnings.warn(\n",
      "/home/kgethi/.pyenv/versions/3.10.4/envs/school/lib/python3.10/site-packages/sklearn/linear_model/_stochastic_gradient.py:705: ConvergenceWarning: Maximum number of iteration reached before convergence. Consider increasing max_iter to improve the fit.\n",
      "  warnings.warn(\n",
      "/home/kgethi/.pyenv/versions/3.10.4/envs/school/lib/python3.10/site-packages/sklearn/linear_model/_stochastic_gradient.py:705: ConvergenceWarning: Maximum number of iteration reached before convergence. Consider increasing max_iter to improve the fit.\n",
      "  warnings.warn(\n",
      "/home/kgethi/.pyenv/versions/3.10.4/envs/school/lib/python3.10/site-packages/sklearn/linear_model/_stochastic_gradient.py:705: ConvergenceWarning: Maximum number of iteration reached before convergence. Consider increasing max_iter to improve the fit.\n",
      "  warnings.warn(\n",
      "/home/kgethi/.pyenv/versions/3.10.4/envs/school/lib/python3.10/site-packages/sklearn/linear_model/_stochastic_gradient.py:705: ConvergenceWarning: Maximum number of iteration reached before convergence. Consider increasing max_iter to improve the fit.\n",
      "  warnings.warn(\n",
      "/home/kgethi/.pyenv/versions/3.10.4/envs/school/lib/python3.10/site-packages/sklearn/linear_model/_stochastic_gradient.py:705: ConvergenceWarning: Maximum number of iteration reached before convergence. Consider increasing max_iter to improve the fit.\n",
      "  warnings.warn(\n",
      "/home/kgethi/.pyenv/versions/3.10.4/envs/school/lib/python3.10/site-packages/sklearn/linear_model/_stochastic_gradient.py:705: ConvergenceWarning: Maximum number of iteration reached before convergence. Consider increasing max_iter to improve the fit.\n",
      "  warnings.warn(\n",
      "/home/kgethi/.pyenv/versions/3.10.4/envs/school/lib/python3.10/site-packages/sklearn/linear_model/_stochastic_gradient.py:705: ConvergenceWarning: Maximum number of iteration reached before convergence. Consider increasing max_iter to improve the fit.\n",
      "  warnings.warn(\n",
      "/home/kgethi/.pyenv/versions/3.10.4/envs/school/lib/python3.10/site-packages/sklearn/linear_model/_stochastic_gradient.py:705: ConvergenceWarning: Maximum number of iteration reached before convergence. Consider increasing max_iter to improve the fit.\n",
      "  warnings.warn(\n",
      "/home/kgethi/.pyenv/versions/3.10.4/envs/school/lib/python3.10/site-packages/sklearn/linear_model/_stochastic_gradient.py:705: ConvergenceWarning: Maximum number of iteration reached before convergence. Consider increasing max_iter to improve the fit.\n",
      "  warnings.warn(\n",
      "/home/kgethi/.pyenv/versions/3.10.4/envs/school/lib/python3.10/site-packages/sklearn/linear_model/_stochastic_gradient.py:705: ConvergenceWarning: Maximum number of iteration reached before convergence. Consider increasing max_iter to improve the fit.\n",
      "  warnings.warn(\n",
      "/home/kgethi/.pyenv/versions/3.10.4/envs/school/lib/python3.10/site-packages/sklearn/linear_model/_stochastic_gradient.py:705: ConvergenceWarning: Maximum number of iteration reached before convergence. Consider increasing max_iter to improve the fit.\n",
      "  warnings.warn(\n",
      "/home/kgethi/.pyenv/versions/3.10.4/envs/school/lib/python3.10/site-packages/sklearn/linear_model/_stochastic_gradient.py:705: ConvergenceWarning: Maximum number of iteration reached before convergence. Consider increasing max_iter to improve the fit.\n",
      "  warnings.warn(\n",
      "/home/kgethi/.pyenv/versions/3.10.4/envs/school/lib/python3.10/site-packages/sklearn/linear_model/_stochastic_gradient.py:705: ConvergenceWarning: Maximum number of iteration reached before convergence. Consider increasing max_iter to improve the fit.\n",
      "  warnings.warn(\n",
      "/home/kgethi/.pyenv/versions/3.10.4/envs/school/lib/python3.10/site-packages/sklearn/linear_model/_stochastic_gradient.py:705: ConvergenceWarning: Maximum number of iteration reached before convergence. Consider increasing max_iter to improve the fit.\n",
      "  warnings.warn(\n",
      "/home/kgethi/.pyenv/versions/3.10.4/envs/school/lib/python3.10/site-packages/sklearn/linear_model/_stochastic_gradient.py:705: ConvergenceWarning: Maximum number of iteration reached before convergence. Consider increasing max_iter to improve the fit.\n",
      "  warnings.warn(\n",
      "/home/kgethi/.pyenv/versions/3.10.4/envs/school/lib/python3.10/site-packages/sklearn/linear_model/_stochastic_gradient.py:705: ConvergenceWarning: Maximum number of iteration reached before convergence. Consider increasing max_iter to improve the fit.\n",
      "  warnings.warn(\n",
      "/home/kgethi/.pyenv/versions/3.10.4/envs/school/lib/python3.10/site-packages/sklearn/linear_model/_stochastic_gradient.py:705: ConvergenceWarning: Maximum number of iteration reached before convergence. Consider increasing max_iter to improve the fit.\n",
      "  warnings.warn(\n",
      "/home/kgethi/.pyenv/versions/3.10.4/envs/school/lib/python3.10/site-packages/sklearn/linear_model/_stochastic_gradient.py:705: ConvergenceWarning: Maximum number of iteration reached before convergence. Consider increasing max_iter to improve the fit.\n",
      "  warnings.warn(\n",
      "/home/kgethi/.pyenv/versions/3.10.4/envs/school/lib/python3.10/site-packages/sklearn/linear_model/_stochastic_gradient.py:705: ConvergenceWarning: Maximum number of iteration reached before convergence. Consider increasing max_iter to improve the fit.\n",
      "  warnings.warn(\n",
      "/home/kgethi/.pyenv/versions/3.10.4/envs/school/lib/python3.10/site-packages/sklearn/linear_model/_stochastic_gradient.py:705: ConvergenceWarning: Maximum number of iteration reached before convergence. Consider increasing max_iter to improve the fit.\n",
      "  warnings.warn(\n",
      "/home/kgethi/.pyenv/versions/3.10.4/envs/school/lib/python3.10/site-packages/sklearn/linear_model/_stochastic_gradient.py:705: ConvergenceWarning: Maximum number of iteration reached before convergence. Consider increasing max_iter to improve the fit.\n",
      "  warnings.warn(\n",
      "/home/kgethi/.pyenv/versions/3.10.4/envs/school/lib/python3.10/site-packages/sklearn/linear_model/_stochastic_gradient.py:705: ConvergenceWarning: Maximum number of iteration reached before convergence. Consider increasing max_iter to improve the fit.\n",
      "  warnings.warn(\n",
      "/home/kgethi/.pyenv/versions/3.10.4/envs/school/lib/python3.10/site-packages/sklearn/linear_model/_stochastic_gradient.py:705: ConvergenceWarning: Maximum number of iteration reached before convergence. Consider increasing max_iter to improve the fit.\n",
      "  warnings.warn(\n",
      "/home/kgethi/.pyenv/versions/3.10.4/envs/school/lib/python3.10/site-packages/sklearn/linear_model/_stochastic_gradient.py:705: ConvergenceWarning: Maximum number of iteration reached before convergence. Consider increasing max_iter to improve the fit.\n",
      "  warnings.warn(\n",
      "/home/kgethi/.pyenv/versions/3.10.4/envs/school/lib/python3.10/site-packages/sklearn/linear_model/_stochastic_gradient.py:705: ConvergenceWarning: Maximum number of iteration reached before convergence. Consider increasing max_iter to improve the fit.\n",
      "  warnings.warn(\n",
      "/home/kgethi/.pyenv/versions/3.10.4/envs/school/lib/python3.10/site-packages/sklearn/linear_model/_stochastic_gradient.py:705: ConvergenceWarning: Maximum number of iteration reached before convergence. Consider increasing max_iter to improve the fit.\n",
      "  warnings.warn(\n",
      "/home/kgethi/.pyenv/versions/3.10.4/envs/school/lib/python3.10/site-packages/sklearn/linear_model/_stochastic_gradient.py:705: ConvergenceWarning: Maximum number of iteration reached before convergence. Consider increasing max_iter to improve the fit.\n",
      "  warnings.warn(\n",
      "/home/kgethi/.pyenv/versions/3.10.4/envs/school/lib/python3.10/site-packages/sklearn/linear_model/_stochastic_gradient.py:705: ConvergenceWarning: Maximum number of iteration reached before convergence. Consider increasing max_iter to improve the fit.\n",
      "  warnings.warn(\n",
      "/home/kgethi/.pyenv/versions/3.10.4/envs/school/lib/python3.10/site-packages/sklearn/linear_model/_stochastic_gradient.py:705: ConvergenceWarning: Maximum number of iteration reached before convergence. Consider increasing max_iter to improve the fit.\n",
      "  warnings.warn(\n",
      "/home/kgethi/.pyenv/versions/3.10.4/envs/school/lib/python3.10/site-packages/sklearn/linear_model/_stochastic_gradient.py:705: ConvergenceWarning: Maximum number of iteration reached before convergence. Consider increasing max_iter to improve the fit.\n",
      "  warnings.warn(\n",
      "/home/kgethi/.pyenv/versions/3.10.4/envs/school/lib/python3.10/site-packages/sklearn/linear_model/_stochastic_gradient.py:705: ConvergenceWarning: Maximum number of iteration reached before convergence. Consider increasing max_iter to improve the fit.\n",
      "  warnings.warn(\n",
      "/home/kgethi/.pyenv/versions/3.10.4/envs/school/lib/python3.10/site-packages/sklearn/linear_model/_stochastic_gradient.py:705: ConvergenceWarning: Maximum number of iteration reached before convergence. Consider increasing max_iter to improve the fit.\n",
      "  warnings.warn(\n"
     ]
    },
    {
     "name": "stderr",
     "output_type": "stream",
     "text": [
      "/home/kgethi/.pyenv/versions/3.10.4/envs/school/lib/python3.10/site-packages/sklearn/linear_model/_stochastic_gradient.py:705: ConvergenceWarning: Maximum number of iteration reached before convergence. Consider increasing max_iter to improve the fit.\n",
      "  warnings.warn(\n",
      "/home/kgethi/.pyenv/versions/3.10.4/envs/school/lib/python3.10/site-packages/sklearn/linear_model/_stochastic_gradient.py:705: ConvergenceWarning: Maximum number of iteration reached before convergence. Consider increasing max_iter to improve the fit.\n",
      "  warnings.warn(\n",
      "/home/kgethi/.pyenv/versions/3.10.4/envs/school/lib/python3.10/site-packages/sklearn/linear_model/_stochastic_gradient.py:705: ConvergenceWarning: Maximum number of iteration reached before convergence. Consider increasing max_iter to improve the fit.\n",
      "  warnings.warn(\n",
      "/home/kgethi/.pyenv/versions/3.10.4/envs/school/lib/python3.10/site-packages/sklearn/linear_model/_stochastic_gradient.py:705: ConvergenceWarning: Maximum number of iteration reached before convergence. Consider increasing max_iter to improve the fit.\n",
      "  warnings.warn(\n",
      "/home/kgethi/.pyenv/versions/3.10.4/envs/school/lib/python3.10/site-packages/sklearn/linear_model/_stochastic_gradient.py:705: ConvergenceWarning: Maximum number of iteration reached before convergence. Consider increasing max_iter to improve the fit.\n",
      "  warnings.warn(\n",
      "/home/kgethi/.pyenv/versions/3.10.4/envs/school/lib/python3.10/site-packages/sklearn/linear_model/_stochastic_gradient.py:705: ConvergenceWarning: Maximum number of iteration reached before convergence. Consider increasing max_iter to improve the fit.\n",
      "  warnings.warn(\n",
      "/home/kgethi/.pyenv/versions/3.10.4/envs/school/lib/python3.10/site-packages/sklearn/linear_model/_stochastic_gradient.py:705: ConvergenceWarning: Maximum number of iteration reached before convergence. Consider increasing max_iter to improve the fit.\n",
      "  warnings.warn(\n",
      "/home/kgethi/.pyenv/versions/3.10.4/envs/school/lib/python3.10/site-packages/sklearn/linear_model/_stochastic_gradient.py:705: ConvergenceWarning: Maximum number of iteration reached before convergence. Consider increasing max_iter to improve the fit.\n",
      "  warnings.warn(\n",
      "/home/kgethi/.pyenv/versions/3.10.4/envs/school/lib/python3.10/site-packages/sklearn/linear_model/_stochastic_gradient.py:705: ConvergenceWarning: Maximum number of iteration reached before convergence. Consider increasing max_iter to improve the fit.\n",
      "  warnings.warn(\n",
      "/home/kgethi/.pyenv/versions/3.10.4/envs/school/lib/python3.10/site-packages/sklearn/linear_model/_stochastic_gradient.py:705: ConvergenceWarning: Maximum number of iteration reached before convergence. Consider increasing max_iter to improve the fit.\n",
      "  warnings.warn(\n",
      "/home/kgethi/.pyenv/versions/3.10.4/envs/school/lib/python3.10/site-packages/sklearn/linear_model/_stochastic_gradient.py:705: ConvergenceWarning: Maximum number of iteration reached before convergence. Consider increasing max_iter to improve the fit.\n",
      "  warnings.warn(\n",
      "/home/kgethi/.pyenv/versions/3.10.4/envs/school/lib/python3.10/site-packages/sklearn/linear_model/_stochastic_gradient.py:705: ConvergenceWarning: Maximum number of iteration reached before convergence. Consider increasing max_iter to improve the fit.\n",
      "  warnings.warn(\n",
      "/home/kgethi/.pyenv/versions/3.10.4/envs/school/lib/python3.10/site-packages/sklearn/linear_model/_stochastic_gradient.py:705: ConvergenceWarning: Maximum number of iteration reached before convergence. Consider increasing max_iter to improve the fit.\n",
      "  warnings.warn(\n",
      "/home/kgethi/.pyenv/versions/3.10.4/envs/school/lib/python3.10/site-packages/sklearn/linear_model/_stochastic_gradient.py:705: ConvergenceWarning: Maximum number of iteration reached before convergence. Consider increasing max_iter to improve the fit.\n",
      "  warnings.warn(\n",
      "/home/kgethi/.pyenv/versions/3.10.4/envs/school/lib/python3.10/site-packages/sklearn/linear_model/_stochastic_gradient.py:705: ConvergenceWarning: Maximum number of iteration reached before convergence. Consider increasing max_iter to improve the fit.\n",
      "  warnings.warn(\n",
      "/home/kgethi/.pyenv/versions/3.10.4/envs/school/lib/python3.10/site-packages/sklearn/linear_model/_stochastic_gradient.py:705: ConvergenceWarning: Maximum number of iteration reached before convergence. Consider increasing max_iter to improve the fit.\n",
      "  warnings.warn(\n",
      "/home/kgethi/.pyenv/versions/3.10.4/envs/school/lib/python3.10/site-packages/sklearn/linear_model/_stochastic_gradient.py:705: ConvergenceWarning: Maximum number of iteration reached before convergence. Consider increasing max_iter to improve the fit.\n",
      "  warnings.warn(\n",
      "/home/kgethi/.pyenv/versions/3.10.4/envs/school/lib/python3.10/site-packages/sklearn/linear_model/_stochastic_gradient.py:705: ConvergenceWarning: Maximum number of iteration reached before convergence. Consider increasing max_iter to improve the fit.\n",
      "  warnings.warn(\n",
      "/home/kgethi/.pyenv/versions/3.10.4/envs/school/lib/python3.10/site-packages/sklearn/linear_model/_stochastic_gradient.py:705: ConvergenceWarning: Maximum number of iteration reached before convergence. Consider increasing max_iter to improve the fit.\n",
      "  warnings.warn(\n",
      "/home/kgethi/.pyenv/versions/3.10.4/envs/school/lib/python3.10/site-packages/sklearn/linear_model/_stochastic_gradient.py:705: ConvergenceWarning: Maximum number of iteration reached before convergence. Consider increasing max_iter to improve the fit.\n",
      "  warnings.warn(\n",
      "/home/kgethi/.pyenv/versions/3.10.4/envs/school/lib/python3.10/site-packages/sklearn/linear_model/_stochastic_gradient.py:705: ConvergenceWarning: Maximum number of iteration reached before convergence. Consider increasing max_iter to improve the fit.\n",
      "  warnings.warn(\n",
      "/home/kgethi/.pyenv/versions/3.10.4/envs/school/lib/python3.10/site-packages/sklearn/linear_model/_stochastic_gradient.py:705: ConvergenceWarning: Maximum number of iteration reached before convergence. Consider increasing max_iter to improve the fit.\n",
      "  warnings.warn(\n",
      "/home/kgethi/.pyenv/versions/3.10.4/envs/school/lib/python3.10/site-packages/sklearn/linear_model/_stochastic_gradient.py:705: ConvergenceWarning: Maximum number of iteration reached before convergence. Consider increasing max_iter to improve the fit.\n",
      "  warnings.warn(\n",
      "/home/kgethi/.pyenv/versions/3.10.4/envs/school/lib/python3.10/site-packages/sklearn/linear_model/_stochastic_gradient.py:705: ConvergenceWarning: Maximum number of iteration reached before convergence. Consider increasing max_iter to improve the fit.\n",
      "  warnings.warn(\n",
      "/home/kgethi/.pyenv/versions/3.10.4/envs/school/lib/python3.10/site-packages/sklearn/linear_model/_stochastic_gradient.py:705: ConvergenceWarning: Maximum number of iteration reached before convergence. Consider increasing max_iter to improve the fit.\n",
      "  warnings.warn(\n",
      "/home/kgethi/.pyenv/versions/3.10.4/envs/school/lib/python3.10/site-packages/sklearn/linear_model/_stochastic_gradient.py:705: ConvergenceWarning: Maximum number of iteration reached before convergence. Consider increasing max_iter to improve the fit.\n",
      "  warnings.warn(\n",
      "/home/kgethi/.pyenv/versions/3.10.4/envs/school/lib/python3.10/site-packages/sklearn/linear_model/_stochastic_gradient.py:705: ConvergenceWarning: Maximum number of iteration reached before convergence. Consider increasing max_iter to improve the fit.\n",
      "  warnings.warn(\n",
      "/home/kgethi/.pyenv/versions/3.10.4/envs/school/lib/python3.10/site-packages/sklearn/linear_model/_stochastic_gradient.py:705: ConvergenceWarning: Maximum number of iteration reached before convergence. Consider increasing max_iter to improve the fit.\n",
      "  warnings.warn(\n",
      "/home/kgethi/.pyenv/versions/3.10.4/envs/school/lib/python3.10/site-packages/sklearn/linear_model/_stochastic_gradient.py:705: ConvergenceWarning: Maximum number of iteration reached before convergence. Consider increasing max_iter to improve the fit.\n",
      "  warnings.warn(\n",
      "/home/kgethi/.pyenv/versions/3.10.4/envs/school/lib/python3.10/site-packages/sklearn/linear_model/_stochastic_gradient.py:705: ConvergenceWarning: Maximum number of iteration reached before convergence. Consider increasing max_iter to improve the fit.\n",
      "  warnings.warn(\n"
     ]
    },
    {
     "name": "stdout",
     "output_type": "stream",
     "text": [
      "Best Score: 81.46%\n",
      "Best Parameters: {'alpha': 0.1, 'eta0': 1e-05, 'loss': 'log_loss', 'penalty': 'none'}\n",
      "Accuracy of Stochastic Gradient Descent Classifier In Test-set :77.65%\n"
     ]
    },
    {
     "name": "stderr",
     "output_type": "stream",
     "text": [
      "/home/kgethi/.pyenv/versions/3.10.4/envs/school/lib/python3.10/site-packages/sklearn/linear_model/_stochastic_gradient.py:705: ConvergenceWarning: Maximum number of iteration reached before convergence. Consider increasing max_iter to improve the fit.\n",
      "  warnings.warn(\n",
      "/home/kgethi/.pyenv/versions/3.10.4/envs/school/lib/python3.10/site-packages/sklearn/linear_model/_stochastic_gradient.py:705: ConvergenceWarning: Maximum number of iteration reached before convergence. Consider increasing max_iter to improve the fit.\n",
      "  warnings.warn(\n"
     ]
    }
   ],
   "source": [
    "#hyper parameter optimisation\n",
    "sgd=SGDClassifier()\n",
    "param_grid = {\n",
    "    \"loss\" : [\"hinge\", \"log_loss\", \"modified_huber\", \"perceptron\", \"squared_hinge\"],\n",
    "    \"alpha\" : [0.0001, 0.001, 0.01, 0.1],\n",
    "    'eta0': [0.00001, 0.0001, 0.001, 0.01, 0.1, 1],\n",
    "    \"penalty\" : [\"l2\", \"l1\", \"elasticnet\", \"none\"],\n",
    "    'max_iter': []\n",
    "\n",
    "}\n",
    "              \n",
    "    \n",
    "\n",
    "clf_sgd = GridSearchCV(sgd, param_grid = param_grid, cv = 4, verbose = True, n_jobs = -1)\n",
    "best_clf_sgd = clf_sgd.fit(X_train,y_train)\n",
    "print('Best Score: ' + str(np.round(best_clf_sgd.best_score_*100,2))+'%')\n",
    "print('Best Parameters: ' + str(best_clf_sgd.best_params_))\n",
    "print('Accuracy of Stochastic Gradient Descent Classifier In Test-set :'+str(np.round(best_clf_sgd.score(X_test,y_test)*100,2))+'%')"
   ]
  },
  {
   "cell_type": "markdown",
   "id": "36572e5b",
   "metadata": {},
   "source": [
    "## Decision Tree"
   ]
  },
  {
   "cell_type": "code",
   "execution_count": 261,
   "id": "d558e04b",
   "metadata": {},
   "outputs": [
    {
     "name": "stdout",
     "output_type": "stream",
     "text": [
      "Decision Trees Metrics:\n",
      "\n",
      "Training Accuracy: 0.9901685393258427\n",
      "Testing Accuracy: 0.7653631284916201\n",
      "Precision: 0.7142857142857143\n",
      "Recall: 0.6521739130434783\n",
      "F1 Score: 0.6818181818181819\n",
      "Matthew's Correlation Coefficient: 0.49787413878766656\n"
     ]
    }
   ],
   "source": [
    "dec_tree = tree.DecisionTreeClassifier()\n",
    "dec_tree = dec_tree.fit(X_train, y_train)\n",
    "#tree.plot_tree(dec_tree)\n",
    "print(\"Decision Trees Metrics:\\n\")\n",
    "print(f\"Training Accuracy: {dec_tree.score(X_train,y_train)}\")\n",
    "print(f\"Testing Accuracy: {dec_tree.score(X_test,y_test)}\")\n",
    "print(f\"Precision: {precision_score(y_test, dec_tree.predict(X_test),average='binary')}\")\n",
    "print(f\"Recall: {recall_score(y_test, dec_tree.predict(X_test),average='binary')}\")\n",
    "print(f\"F1 Score: {f1_score(y_test, dec_tree.predict(X_test),average='binary')}\")\n",
    "print(f\"Matthew's Correlation Coefficient: {matthews_corrcoef(y_test, dec_tree.predict(X_test))}\")"
   ]
  },
  {
   "cell_type": "code",
   "execution_count": 144,
   "id": "3a4cce81",
   "metadata": {},
   "outputs": [
    {
     "name": "stdout",
     "output_type": "stream",
     "text": [
      "Model 1 : LogisticRegression()\n",
      "Training accuracy: 79.36%\n",
      "Model 2 : RandomForestClassifier()\n",
      "Training accuracy: 80.76%\n",
      "Model 3 : SGDClassifier()\n",
      "Training accuracy: 75.7%\n",
      "Model 4 : Perceptron()\n",
      "Training accuracy: 64.47%\n"
     ]
    }
   ],
   "source": [
    "model1 = LogisticRegression()\n",
    "model2 = RandomForestClassifier()\n",
    "model3 = SGDClassifier()\n",
    "model4 = Perceptron(tol=1e-3, random_state=0)\n",
    "\n",
    "models = [model1, model2, model3, model4]\n",
    "i = 0\n",
    "for model in models:\n",
    "    i +=1\n",
    "    cv= cross_val_score(model,X_train,y_train,cv=5)\n",
    "    cv1= cross_val_score(model,X_test,y_test,cv=5)\n",
    "    print(\"Model\", i,\":\", model)\n",
    "    print(\"Training accuracy: \"+str(np.round(cv.mean()*100,2))+'%')\n",
    "    #print(\"Testing accuracy: \"+str(np.round(cv1.mean()*100,2))+'%')"
   ]
  },
  {
   "cell_type": "code",
   "execution_count": 145,
   "id": "27680cbf",
   "metadata": {},
   "outputs": [
    {
     "name": "stdout",
     "output_type": "stream",
     "text": [
      "Testing accuracy: 81.59%\n",
      "              precision    recall  f1-score   support\n",
      "\n",
      "           0       0.83      0.84      0.83       110\n",
      "           1       0.74      0.72      0.73        69\n",
      "\n",
      "    accuracy                           0.79       179\n",
      "   macro avg       0.78      0.78      0.78       179\n",
      "weighted avg       0.79      0.79      0.79       179\n",
      "\n"
     ]
    }
   ],
   "source": [
    "#Linear regression\n",
    "lr=LogisticRegression()\n",
    "lr.fit(X_train,y_train)\n",
    "cv = cross_val_score(lr,X_test,y_test,cv=5)\n",
    "print(\"Testing accuracy: \"+str(np.round(cv.mean()*100,2))+'%')\n",
    "print(classification_report(y_test,lr.predict(X_test)))"
   ]
  },
  {
   "cell_type": "code",
   "execution_count": 177,
   "id": "6c216857",
   "metadata": {},
   "outputs": [
    {
     "name": "stdout",
     "output_type": "stream",
     "text": [
      "Fitting 5 folds for each of 160 candidates, totalling 800 fits\n",
      "Best Score: 0.7977642076233625\n",
      "Best Parameters: {'C': 0.03359818286283781, 'max_iter': 100, 'penalty': 'l2', 'solver': 'liblinear'}\n",
      "Accuracy of Logistic Regression In Test-set :77.65%\n"
     ]
    }
   ],
   "source": [
    "lr = LogisticRegression()\n",
    "param_grid = {'max_iter' : [100,200,2000,5000],\n",
    "              'penalty' : ['l1', 'l2'],\n",
    "              'C' : np.logspace(-4, 4, 20),\n",
    "              'solver' : ['liblinear']}\n",
    "\n",
    "clf_lr = GridSearchCV(lr, param_grid = param_grid, cv = 5, verbose = True, n_jobs = -1)\n",
    "best_clf_lr = clf_lr.fit(X_train,y_train)\n",
    "print('Best Score: ' + str(best_clf_lr.best_score_))\n",
    "print('Best Parameters: ' + str(best_clf_lr.best_params_))\n",
    "predictions = best_clf_lr.predict(X_test)\n",
    "accuracy = accuracy_score(y_test , predictions)\n",
    "print('Accuracy of Logistic Regression In Test-set :'+str(np.round(accuracy*100,2))+'%')"
   ]
  },
  {
   "cell_type": "code",
   "execution_count": 147,
   "id": "ecfcd640",
   "metadata": {},
   "outputs": [
    {
     "name": "stdout",
     "output_type": "stream",
     "text": [
      "Testing accuracy: 84.37%\n",
      "              precision    recall  f1-score   support\n",
      "\n",
      "           0       0.85      0.90      0.87       110\n",
      "           1       0.82      0.74      0.78        69\n",
      "\n",
      "    accuracy                           0.84       179\n",
      "   macro avg       0.83      0.82      0.83       179\n",
      "weighted avg       0.84      0.84      0.84       179\n",
      "\n"
     ]
    }
   ],
   "source": [
    "#Rand Forest\n",
    "rf=RandomForestClassifier()\n",
    "rf.fit(X_train,y_train)\n",
    "cv = cv= cross_val_score(rf,X_test,y_test,cv=5)\n",
    "print(\"Testing accuracy: \"+str(np.round(cv.mean()*100,2))+'%')\n",
    "print(classification_report(y_test,rf.predict(X_test)))"
   ]
  },
  {
   "cell_type": "code",
   "execution_count": 178,
   "id": "8756d9a1",
   "metadata": {},
   "outputs": [
    {
     "name": "stdout",
     "output_type": "stream",
     "text": [
      "Fitting 5 folds for each of 192 candidates, totalling 960 fits\n"
     ]
    },
    {
     "ename": "KeyboardInterrupt",
     "evalue": "",
     "output_type": "error",
     "traceback": [
      "\u001b[0;31m---------------------------------------------------------------------------\u001b[0m",
      "\u001b[0;31mKeyboardInterrupt\u001b[0m                         Traceback (most recent call last)",
      "Input \u001b[0;32mIn [178]\u001b[0m, in \u001b[0;36m<cell line: 11>\u001b[0;34m()\u001b[0m\n\u001b[1;32m      2\u001b[0m param_grid \u001b[38;5;241m=\u001b[39m  {\u001b[38;5;124m'\u001b[39m\u001b[38;5;124mn_estimators\u001b[39m\u001b[38;5;124m'\u001b[39m: [\u001b[38;5;241m400\u001b[39m,\u001b[38;5;241m450\u001b[39m,\u001b[38;5;241m500\u001b[39m,\u001b[38;5;241m550\u001b[39m],\n\u001b[1;32m      3\u001b[0m                \u001b[38;5;124m'\u001b[39m\u001b[38;5;124mcriterion\u001b[39m\u001b[38;5;124m'\u001b[39m:[\u001b[38;5;124m'\u001b[39m\u001b[38;5;124mgini\u001b[39m\u001b[38;5;124m'\u001b[39m,\u001b[38;5;124m'\u001b[39m\u001b[38;5;124mentropy\u001b[39m\u001b[38;5;124m'\u001b[39m],\n\u001b[1;32m      4\u001b[0m                                   \u001b[38;5;124m'\u001b[39m\u001b[38;5;124mbootstrap\u001b[39m\u001b[38;5;124m'\u001b[39m: [\u001b[38;5;28;01mTrue\u001b[39;00m],\n\u001b[0;32m   (...)\u001b[0m\n\u001b[1;32m      7\u001b[0m                                   \u001b[38;5;124m'\u001b[39m\u001b[38;5;124mmin_samples_leaf\u001b[39m\u001b[38;5;124m'\u001b[39m: [\u001b[38;5;241m2\u001b[39m,\u001b[38;5;241m3\u001b[39m],\n\u001b[1;32m      8\u001b[0m                                   \u001b[38;5;124m'\u001b[39m\u001b[38;5;124mmin_samples_split\u001b[39m\u001b[38;5;124m'\u001b[39m: [\u001b[38;5;241m2\u001b[39m,\u001b[38;5;241m3\u001b[39m]}\n\u001b[1;32m     10\u001b[0m clf_rf \u001b[38;5;241m=\u001b[39m GridSearchCV(rf, param_grid \u001b[38;5;241m=\u001b[39m param_grid, cv \u001b[38;5;241m=\u001b[39m \u001b[38;5;241m5\u001b[39m, verbose \u001b[38;5;241m=\u001b[39m \u001b[38;5;28;01mTrue\u001b[39;00m, n_jobs \u001b[38;5;241m=\u001b[39m \u001b[38;5;241m-\u001b[39m\u001b[38;5;241m1\u001b[39m)\n\u001b[0;32m---> 11\u001b[0m best_clf_rf \u001b[38;5;241m=\u001b[39m \u001b[43mclf_rf\u001b[49m\u001b[38;5;241;43m.\u001b[39;49m\u001b[43mfit\u001b[49m\u001b[43m(\u001b[49m\u001b[43mX_train\u001b[49m\u001b[43m,\u001b[49m\u001b[43my_train\u001b[49m\u001b[43m)\u001b[49m\n\u001b[1;32m     12\u001b[0m \u001b[38;5;28mprint\u001b[39m(\u001b[38;5;124m'\u001b[39m\u001b[38;5;124mBest Score: \u001b[39m\u001b[38;5;124m'\u001b[39m \u001b[38;5;241m+\u001b[39m \u001b[38;5;28mstr\u001b[39m(best_clf_rf\u001b[38;5;241m.\u001b[39mbest_score_))\n\u001b[1;32m     13\u001b[0m \u001b[38;5;28mprint\u001b[39m(\u001b[38;5;124m'\u001b[39m\u001b[38;5;124mBest Parameters: \u001b[39m\u001b[38;5;124m'\u001b[39m \u001b[38;5;241m+\u001b[39m \u001b[38;5;28mstr\u001b[39m(best_clf_rf\u001b[38;5;241m.\u001b[39mbest_params_))\n",
      "File \u001b[0;32m~/.pyenv/versions/3.10.4/envs/school/lib/python3.10/site-packages/sklearn/model_selection/_search.py:875\u001b[0m, in \u001b[0;36mBaseSearchCV.fit\u001b[0;34m(self, X, y, groups, **fit_params)\u001b[0m\n\u001b[1;32m    869\u001b[0m     results \u001b[38;5;241m=\u001b[39m \u001b[38;5;28mself\u001b[39m\u001b[38;5;241m.\u001b[39m_format_results(\n\u001b[1;32m    870\u001b[0m         all_candidate_params, n_splits, all_out, all_more_results\n\u001b[1;32m    871\u001b[0m     )\n\u001b[1;32m    873\u001b[0m     \u001b[38;5;28;01mreturn\u001b[39;00m results\n\u001b[0;32m--> 875\u001b[0m \u001b[38;5;28;43mself\u001b[39;49m\u001b[38;5;241;43m.\u001b[39;49m\u001b[43m_run_search\u001b[49m\u001b[43m(\u001b[49m\u001b[43mevaluate_candidates\u001b[49m\u001b[43m)\u001b[49m\n\u001b[1;32m    877\u001b[0m \u001b[38;5;66;03m# multimetric is determined here because in the case of a callable\u001b[39;00m\n\u001b[1;32m    878\u001b[0m \u001b[38;5;66;03m# self.scoring the return type is only known after calling\u001b[39;00m\n\u001b[1;32m    879\u001b[0m first_test_score \u001b[38;5;241m=\u001b[39m all_out[\u001b[38;5;241m0\u001b[39m][\u001b[38;5;124m\"\u001b[39m\u001b[38;5;124mtest_scores\u001b[39m\u001b[38;5;124m\"\u001b[39m]\n",
      "File \u001b[0;32m~/.pyenv/versions/3.10.4/envs/school/lib/python3.10/site-packages/sklearn/model_selection/_search.py:1375\u001b[0m, in \u001b[0;36mGridSearchCV._run_search\u001b[0;34m(self, evaluate_candidates)\u001b[0m\n\u001b[1;32m   1373\u001b[0m \u001b[38;5;28;01mdef\u001b[39;00m \u001b[38;5;21m_run_search\u001b[39m(\u001b[38;5;28mself\u001b[39m, evaluate_candidates):\n\u001b[1;32m   1374\u001b[0m     \u001b[38;5;124;03m\"\"\"Search all candidates in param_grid\"\"\"\u001b[39;00m\n\u001b[0;32m-> 1375\u001b[0m     \u001b[43mevaluate_candidates\u001b[49m\u001b[43m(\u001b[49m\u001b[43mParameterGrid\u001b[49m\u001b[43m(\u001b[49m\u001b[38;5;28;43mself\u001b[39;49m\u001b[38;5;241;43m.\u001b[39;49m\u001b[43mparam_grid\u001b[49m\u001b[43m)\u001b[49m\u001b[43m)\u001b[49m\n",
      "File \u001b[0;32m~/.pyenv/versions/3.10.4/envs/school/lib/python3.10/site-packages/sklearn/model_selection/_search.py:822\u001b[0m, in \u001b[0;36mBaseSearchCV.fit.<locals>.evaluate_candidates\u001b[0;34m(candidate_params, cv, more_results)\u001b[0m\n\u001b[1;32m    814\u001b[0m \u001b[38;5;28;01mif\u001b[39;00m \u001b[38;5;28mself\u001b[39m\u001b[38;5;241m.\u001b[39mverbose \u001b[38;5;241m>\u001b[39m \u001b[38;5;241m0\u001b[39m:\n\u001b[1;32m    815\u001b[0m     \u001b[38;5;28mprint\u001b[39m(\n\u001b[1;32m    816\u001b[0m         \u001b[38;5;124m\"\u001b[39m\u001b[38;5;124mFitting \u001b[39m\u001b[38;5;132;01m{0}\u001b[39;00m\u001b[38;5;124m folds for each of \u001b[39m\u001b[38;5;132;01m{1}\u001b[39;00m\u001b[38;5;124m candidates,\u001b[39m\u001b[38;5;124m\"\u001b[39m\n\u001b[1;32m    817\u001b[0m         \u001b[38;5;124m\"\u001b[39m\u001b[38;5;124m totalling \u001b[39m\u001b[38;5;132;01m{2}\u001b[39;00m\u001b[38;5;124m fits\u001b[39m\u001b[38;5;124m\"\u001b[39m\u001b[38;5;241m.\u001b[39mformat(\n\u001b[1;32m    818\u001b[0m             n_splits, n_candidates, n_candidates \u001b[38;5;241m*\u001b[39m n_splits\n\u001b[1;32m    819\u001b[0m         )\n\u001b[1;32m    820\u001b[0m     )\n\u001b[0;32m--> 822\u001b[0m out \u001b[38;5;241m=\u001b[39m \u001b[43mparallel\u001b[49m\u001b[43m(\u001b[49m\n\u001b[1;32m    823\u001b[0m \u001b[43m    \u001b[49m\u001b[43mdelayed\u001b[49m\u001b[43m(\u001b[49m\u001b[43m_fit_and_score\u001b[49m\u001b[43m)\u001b[49m\u001b[43m(\u001b[49m\n\u001b[1;32m    824\u001b[0m \u001b[43m        \u001b[49m\u001b[43mclone\u001b[49m\u001b[43m(\u001b[49m\u001b[43mbase_estimator\u001b[49m\u001b[43m)\u001b[49m\u001b[43m,\u001b[49m\n\u001b[1;32m    825\u001b[0m \u001b[43m        \u001b[49m\u001b[43mX\u001b[49m\u001b[43m,\u001b[49m\n\u001b[1;32m    826\u001b[0m \u001b[43m        \u001b[49m\u001b[43my\u001b[49m\u001b[43m,\u001b[49m\n\u001b[1;32m    827\u001b[0m \u001b[43m        \u001b[49m\u001b[43mtrain\u001b[49m\u001b[38;5;241;43m=\u001b[39;49m\u001b[43mtrain\u001b[49m\u001b[43m,\u001b[49m\n\u001b[1;32m    828\u001b[0m \u001b[43m        \u001b[49m\u001b[43mtest\u001b[49m\u001b[38;5;241;43m=\u001b[39;49m\u001b[43mtest\u001b[49m\u001b[43m,\u001b[49m\n\u001b[1;32m    829\u001b[0m \u001b[43m        \u001b[49m\u001b[43mparameters\u001b[49m\u001b[38;5;241;43m=\u001b[39;49m\u001b[43mparameters\u001b[49m\u001b[43m,\u001b[49m\n\u001b[1;32m    830\u001b[0m \u001b[43m        \u001b[49m\u001b[43msplit_progress\u001b[49m\u001b[38;5;241;43m=\u001b[39;49m\u001b[43m(\u001b[49m\u001b[43msplit_idx\u001b[49m\u001b[43m,\u001b[49m\u001b[43m \u001b[49m\u001b[43mn_splits\u001b[49m\u001b[43m)\u001b[49m\u001b[43m,\u001b[49m\n\u001b[1;32m    831\u001b[0m \u001b[43m        \u001b[49m\u001b[43mcandidate_progress\u001b[49m\u001b[38;5;241;43m=\u001b[39;49m\u001b[43m(\u001b[49m\u001b[43mcand_idx\u001b[49m\u001b[43m,\u001b[49m\u001b[43m \u001b[49m\u001b[43mn_candidates\u001b[49m\u001b[43m)\u001b[49m\u001b[43m,\u001b[49m\n\u001b[1;32m    832\u001b[0m \u001b[43m        \u001b[49m\u001b[38;5;241;43m*\u001b[39;49m\u001b[38;5;241;43m*\u001b[39;49m\u001b[43mfit_and_score_kwargs\u001b[49m\u001b[43m,\u001b[49m\n\u001b[1;32m    833\u001b[0m \u001b[43m    \u001b[49m\u001b[43m)\u001b[49m\n\u001b[1;32m    834\u001b[0m \u001b[43m    \u001b[49m\u001b[38;5;28;43;01mfor\u001b[39;49;00m\u001b[43m \u001b[49m\u001b[43m(\u001b[49m\u001b[43mcand_idx\u001b[49m\u001b[43m,\u001b[49m\u001b[43m \u001b[49m\u001b[43mparameters\u001b[49m\u001b[43m)\u001b[49m\u001b[43m,\u001b[49m\u001b[43m \u001b[49m\u001b[43m(\u001b[49m\u001b[43msplit_idx\u001b[49m\u001b[43m,\u001b[49m\u001b[43m \u001b[49m\u001b[43m(\u001b[49m\u001b[43mtrain\u001b[49m\u001b[43m,\u001b[49m\u001b[43m \u001b[49m\u001b[43mtest\u001b[49m\u001b[43m)\u001b[49m\u001b[43m)\u001b[49m\u001b[43m \u001b[49m\u001b[38;5;129;43;01min\u001b[39;49;00m\u001b[43m \u001b[49m\u001b[43mproduct\u001b[49m\u001b[43m(\u001b[49m\n\u001b[1;32m    835\u001b[0m \u001b[43m        \u001b[49m\u001b[38;5;28;43menumerate\u001b[39;49m\u001b[43m(\u001b[49m\u001b[43mcandidate_params\u001b[49m\u001b[43m)\u001b[49m\u001b[43m,\u001b[49m\u001b[43m \u001b[49m\u001b[38;5;28;43menumerate\u001b[39;49m\u001b[43m(\u001b[49m\u001b[43mcv\u001b[49m\u001b[38;5;241;43m.\u001b[39;49m\u001b[43msplit\u001b[49m\u001b[43m(\u001b[49m\u001b[43mX\u001b[49m\u001b[43m,\u001b[49m\u001b[43m \u001b[49m\u001b[43my\u001b[49m\u001b[43m,\u001b[49m\u001b[43m \u001b[49m\u001b[43mgroups\u001b[49m\u001b[43m)\u001b[49m\u001b[43m)\u001b[49m\n\u001b[1;32m    836\u001b[0m \u001b[43m    \u001b[49m\u001b[43m)\u001b[49m\n\u001b[1;32m    837\u001b[0m \u001b[43m\u001b[49m\u001b[43m)\u001b[49m\n\u001b[1;32m    839\u001b[0m \u001b[38;5;28;01mif\u001b[39;00m \u001b[38;5;28mlen\u001b[39m(out) \u001b[38;5;241m<\u001b[39m \u001b[38;5;241m1\u001b[39m:\n\u001b[1;32m    840\u001b[0m     \u001b[38;5;28;01mraise\u001b[39;00m \u001b[38;5;167;01mValueError\u001b[39;00m(\n\u001b[1;32m    841\u001b[0m         \u001b[38;5;124m\"\u001b[39m\u001b[38;5;124mNo fits were performed. \u001b[39m\u001b[38;5;124m\"\u001b[39m\n\u001b[1;32m    842\u001b[0m         \u001b[38;5;124m\"\u001b[39m\u001b[38;5;124mWas the CV iterator empty? \u001b[39m\u001b[38;5;124m\"\u001b[39m\n\u001b[1;32m    843\u001b[0m         \u001b[38;5;124m\"\u001b[39m\u001b[38;5;124mWere there no candidates?\u001b[39m\u001b[38;5;124m\"\u001b[39m\n\u001b[1;32m    844\u001b[0m     )\n",
      "File \u001b[0;32m~/.pyenv/versions/3.10.4/envs/school/lib/python3.10/site-packages/joblib/parallel.py:1056\u001b[0m, in \u001b[0;36mParallel.__call__\u001b[0;34m(self, iterable)\u001b[0m\n\u001b[1;32m   1053\u001b[0m     \u001b[38;5;28mself\u001b[39m\u001b[38;5;241m.\u001b[39m_iterating \u001b[38;5;241m=\u001b[39m \u001b[38;5;28;01mFalse\u001b[39;00m\n\u001b[1;32m   1055\u001b[0m \u001b[38;5;28;01mwith\u001b[39;00m \u001b[38;5;28mself\u001b[39m\u001b[38;5;241m.\u001b[39m_backend\u001b[38;5;241m.\u001b[39mretrieval_context():\n\u001b[0;32m-> 1056\u001b[0m     \u001b[38;5;28;43mself\u001b[39;49m\u001b[38;5;241;43m.\u001b[39;49m\u001b[43mretrieve\u001b[49m\u001b[43m(\u001b[49m\u001b[43m)\u001b[49m\n\u001b[1;32m   1057\u001b[0m \u001b[38;5;66;03m# Make sure that we get a last message telling us we are done\u001b[39;00m\n\u001b[1;32m   1058\u001b[0m elapsed_time \u001b[38;5;241m=\u001b[39m time\u001b[38;5;241m.\u001b[39mtime() \u001b[38;5;241m-\u001b[39m \u001b[38;5;28mself\u001b[39m\u001b[38;5;241m.\u001b[39m_start_time\n",
      "File \u001b[0;32m~/.pyenv/versions/3.10.4/envs/school/lib/python3.10/site-packages/joblib/parallel.py:935\u001b[0m, in \u001b[0;36mParallel.retrieve\u001b[0;34m(self)\u001b[0m\n\u001b[1;32m    933\u001b[0m \u001b[38;5;28;01mtry\u001b[39;00m:\n\u001b[1;32m    934\u001b[0m     \u001b[38;5;28;01mif\u001b[39;00m \u001b[38;5;28mgetattr\u001b[39m(\u001b[38;5;28mself\u001b[39m\u001b[38;5;241m.\u001b[39m_backend, \u001b[38;5;124m'\u001b[39m\u001b[38;5;124msupports_timeout\u001b[39m\u001b[38;5;124m'\u001b[39m, \u001b[38;5;28;01mFalse\u001b[39;00m):\n\u001b[0;32m--> 935\u001b[0m         \u001b[38;5;28mself\u001b[39m\u001b[38;5;241m.\u001b[39m_output\u001b[38;5;241m.\u001b[39mextend(\u001b[43mjob\u001b[49m\u001b[38;5;241;43m.\u001b[39;49m\u001b[43mget\u001b[49m\u001b[43m(\u001b[49m\u001b[43mtimeout\u001b[49m\u001b[38;5;241;43m=\u001b[39;49m\u001b[38;5;28;43mself\u001b[39;49m\u001b[38;5;241;43m.\u001b[39;49m\u001b[43mtimeout\u001b[49m\u001b[43m)\u001b[49m)\n\u001b[1;32m    936\u001b[0m     \u001b[38;5;28;01melse\u001b[39;00m:\n\u001b[1;32m    937\u001b[0m         \u001b[38;5;28mself\u001b[39m\u001b[38;5;241m.\u001b[39m_output\u001b[38;5;241m.\u001b[39mextend(job\u001b[38;5;241m.\u001b[39mget())\n",
      "File \u001b[0;32m~/.pyenv/versions/3.10.4/envs/school/lib/python3.10/site-packages/joblib/_parallel_backends.py:542\u001b[0m, in \u001b[0;36mLokyBackend.wrap_future_result\u001b[0;34m(future, timeout)\u001b[0m\n\u001b[1;32m    539\u001b[0m \u001b[38;5;124;03m\"\"\"Wrapper for Future.result to implement the same behaviour as\u001b[39;00m\n\u001b[1;32m    540\u001b[0m \u001b[38;5;124;03mAsyncResults.get from multiprocessing.\"\"\"\u001b[39;00m\n\u001b[1;32m    541\u001b[0m \u001b[38;5;28;01mtry\u001b[39;00m:\n\u001b[0;32m--> 542\u001b[0m     \u001b[38;5;28;01mreturn\u001b[39;00m \u001b[43mfuture\u001b[49m\u001b[38;5;241;43m.\u001b[39;49m\u001b[43mresult\u001b[49m\u001b[43m(\u001b[49m\u001b[43mtimeout\u001b[49m\u001b[38;5;241;43m=\u001b[39;49m\u001b[43mtimeout\u001b[49m\u001b[43m)\u001b[49m\n\u001b[1;32m    543\u001b[0m \u001b[38;5;28;01mexcept\u001b[39;00m CfTimeoutError \u001b[38;5;28;01mas\u001b[39;00m e:\n\u001b[1;32m    544\u001b[0m     \u001b[38;5;28;01mraise\u001b[39;00m \u001b[38;5;167;01mTimeoutError\u001b[39;00m \u001b[38;5;28;01mfrom\u001b[39;00m \u001b[38;5;21;01me\u001b[39;00m\n",
      "File \u001b[0;32m~/.pyenv/versions/3.10.4/lib/python3.10/concurrent/futures/_base.py:441\u001b[0m, in \u001b[0;36mFuture.result\u001b[0;34m(self, timeout)\u001b[0m\n\u001b[1;32m    438\u001b[0m \u001b[38;5;28;01melif\u001b[39;00m \u001b[38;5;28mself\u001b[39m\u001b[38;5;241m.\u001b[39m_state \u001b[38;5;241m==\u001b[39m FINISHED:\n\u001b[1;32m    439\u001b[0m     \u001b[38;5;28;01mreturn\u001b[39;00m \u001b[38;5;28mself\u001b[39m\u001b[38;5;241m.\u001b[39m__get_result()\n\u001b[0;32m--> 441\u001b[0m \u001b[38;5;28;43mself\u001b[39;49m\u001b[38;5;241;43m.\u001b[39;49m\u001b[43m_condition\u001b[49m\u001b[38;5;241;43m.\u001b[39;49m\u001b[43mwait\u001b[49m\u001b[43m(\u001b[49m\u001b[43mtimeout\u001b[49m\u001b[43m)\u001b[49m\n\u001b[1;32m    443\u001b[0m \u001b[38;5;28;01mif\u001b[39;00m \u001b[38;5;28mself\u001b[39m\u001b[38;5;241m.\u001b[39m_state \u001b[38;5;129;01min\u001b[39;00m [CANCELLED, CANCELLED_AND_NOTIFIED]:\n\u001b[1;32m    444\u001b[0m     \u001b[38;5;28;01mraise\u001b[39;00m CancelledError()\n",
      "File \u001b[0;32m~/.pyenv/versions/3.10.4/lib/python3.10/threading.py:320\u001b[0m, in \u001b[0;36mCondition.wait\u001b[0;34m(self, timeout)\u001b[0m\n\u001b[1;32m    318\u001b[0m \u001b[38;5;28;01mtry\u001b[39;00m:    \u001b[38;5;66;03m# restore state no matter what (e.g., KeyboardInterrupt)\u001b[39;00m\n\u001b[1;32m    319\u001b[0m     \u001b[38;5;28;01mif\u001b[39;00m timeout \u001b[38;5;129;01mis\u001b[39;00m \u001b[38;5;28;01mNone\u001b[39;00m:\n\u001b[0;32m--> 320\u001b[0m         \u001b[43mwaiter\u001b[49m\u001b[38;5;241;43m.\u001b[39;49m\u001b[43macquire\u001b[49m\u001b[43m(\u001b[49m\u001b[43m)\u001b[49m\n\u001b[1;32m    321\u001b[0m         gotit \u001b[38;5;241m=\u001b[39m \u001b[38;5;28;01mTrue\u001b[39;00m\n\u001b[1;32m    322\u001b[0m     \u001b[38;5;28;01melse\u001b[39;00m:\n",
      "\u001b[0;31mKeyboardInterrupt\u001b[0m: "
     ]
    }
   ],
   "source": [
    "rf = RandomForestClassifier(random_state = 1)\n",
    "param_grid =  {'n_estimators': [400,450,500,550],\n",
    "               'criterion':['gini','entropy'],\n",
    "                                  'bootstrap': [True],\n",
    "                                  'max_depth': [15, 20, 25],\n",
    "                                  'max_features': ['sqrt', 10],\n",
    "                                  'min_samples_leaf': [2,3],\n",
    "                                  'min_samples_split': [2,3]}\n",
    "                                  \n",
    "clf_rf = GridSearchCV(rf, param_grid = param_grid, cv = 5, verbose = True, n_jobs = -1)\n",
    "best_clf_rf = clf_rf.fit(X_train,y_train)\n",
    "print('Best Score: ' + str(best_clf_rf.best_score_))\n",
    "print('Best Parameters: ' + str(best_clf_rf.best_params_))\n",
    "predictions = best_clf_rf.predict(X_test)\n",
    "accuracy = accuracy_score(y_test , predictions)\n",
    "print('Accuracy of Random Forest Classifier In Test-set :'+str(np.round(accuracy*100,2))+'%')"
   ]
  },
  {
   "cell_type": "code",
   "execution_count": 151,
   "id": "2a029c97",
   "metadata": {},
   "outputs": [
    {
     "name": "stdout",
     "output_type": "stream",
     "text": [
      "Testing accuracy: 81.59%\n",
      "              precision    recall  f1-score   support\n",
      "\n",
      "           0       0.84      0.77      0.81       110\n",
      "           1       0.68      0.77      0.72        69\n",
      "\n",
      "    accuracy                           0.77       179\n",
      "   macro avg       0.76      0.77      0.76       179\n",
      "weighted avg       0.78      0.77      0.77       179\n",
      "\n"
     ]
    }
   ],
   "source": [
    "#SGD classifier\n",
    "sgd=SGDClassifier()\n",
    "sgd.fit(X_train,y_train)\n",
    "cv = cv= cross_val_score(lr,X_test,y_test,cv=5)\n",
    "print(\"Testing accuracy: \"+str(np.round(cv.mean()*100,2))+'%')\n",
    "print(classification_report(y_test,sgd.predict(X_test)))"
   ]
  },
  {
   "cell_type": "code",
   "execution_count": 171,
   "id": "23060676",
   "metadata": {},
   "outputs": [
    {
     "name": "stdout",
     "output_type": "stream",
     "text": [
      "Fitting 5 folds for each of 80 candidates, totalling 400 fits\n"
     ]
    },
    {
     "ename": "KeyboardInterrupt",
     "evalue": "",
     "output_type": "error",
     "traceback": [
      "\u001b[0;31m---------------------------------------------------------------------------\u001b[0m",
      "\u001b[0;31mKeyboardInterrupt\u001b[0m                         Traceback (most recent call last)",
      "Input \u001b[0;32mIn [171]\u001b[0m, in \u001b[0;36m<cell line: 14>\u001b[0;34m()\u001b[0m\n\u001b[1;32m      3\u001b[0m param_grid \u001b[38;5;241m=\u001b[39m {\n\u001b[1;32m      4\u001b[0m     \u001b[38;5;124m\"\u001b[39m\u001b[38;5;124mloss\u001b[39m\u001b[38;5;124m\"\u001b[39m : [\u001b[38;5;124m\"\u001b[39m\u001b[38;5;124mhinge\u001b[39m\u001b[38;5;124m\"\u001b[39m, \u001b[38;5;124m\"\u001b[39m\u001b[38;5;124mlog_loss\u001b[39m\u001b[38;5;124m\"\u001b[39m, \u001b[38;5;124m\"\u001b[39m\u001b[38;5;124mmodified_huber\u001b[39m\u001b[38;5;124m\"\u001b[39m, \u001b[38;5;124m\"\u001b[39m\u001b[38;5;124mperceptron\u001b[39m\u001b[38;5;124m\"\u001b[39m, \u001b[38;5;124m\"\u001b[39m\u001b[38;5;124msquared_hinge\u001b[39m\u001b[38;5;124m\"\u001b[39m],\n\u001b[1;32m      5\u001b[0m     \u001b[38;5;124m\"\u001b[39m\u001b[38;5;124malpha\u001b[39m\u001b[38;5;124m\"\u001b[39m : [\u001b[38;5;241m0.0001\u001b[39m, \u001b[38;5;241m0.001\u001b[39m, \u001b[38;5;241m0.01\u001b[39m, \u001b[38;5;241m0.1\u001b[39m],\n\u001b[0;32m   (...)\u001b[0m\n\u001b[1;32m      8\u001b[0m \n\u001b[1;32m      9\u001b[0m }\n\u001b[1;32m     13\u001b[0m clf_sgd \u001b[38;5;241m=\u001b[39m GridSearchCV(sgd, param_grid \u001b[38;5;241m=\u001b[39m param_grid, cv \u001b[38;5;241m=\u001b[39m \u001b[38;5;241m5\u001b[39m, verbose \u001b[38;5;241m=\u001b[39m \u001b[38;5;28;01mTrue\u001b[39;00m, n_jobs \u001b[38;5;241m=\u001b[39m \u001b[38;5;241m-\u001b[39m\u001b[38;5;241m1\u001b[39m)\n\u001b[0;32m---> 14\u001b[0m best_clf_sgd \u001b[38;5;241m=\u001b[39m \u001b[43mclf_sgd\u001b[49m\u001b[38;5;241;43m.\u001b[39;49m\u001b[43mfit\u001b[49m\u001b[43m(\u001b[49m\u001b[43mX_train\u001b[49m\u001b[43m,\u001b[49m\u001b[43my_train\u001b[49m\u001b[43m)\u001b[49m\n\u001b[1;32m     15\u001b[0m \u001b[38;5;28mprint\u001b[39m(\u001b[38;5;124m'\u001b[39m\u001b[38;5;124mBest Score: \u001b[39m\u001b[38;5;124m'\u001b[39m \u001b[38;5;241m+\u001b[39m \u001b[38;5;28mstr\u001b[39m(best_clf_sgd\u001b[38;5;241m.\u001b[39mbest_score_))\n\u001b[1;32m     16\u001b[0m \u001b[38;5;28mprint\u001b[39m(\u001b[38;5;124m'\u001b[39m\u001b[38;5;124mBest Parameters: \u001b[39m\u001b[38;5;124m'\u001b[39m \u001b[38;5;241m+\u001b[39m \u001b[38;5;28mstr\u001b[39m(best_clf_sgd\u001b[38;5;241m.\u001b[39mbest_params_))\n",
      "File \u001b[0;32m~/.pyenv/versions/3.10.4/envs/school/lib/python3.10/site-packages/sklearn/model_selection/_search.py:875\u001b[0m, in \u001b[0;36mBaseSearchCV.fit\u001b[0;34m(self, X, y, groups, **fit_params)\u001b[0m\n\u001b[1;32m    869\u001b[0m     results \u001b[38;5;241m=\u001b[39m \u001b[38;5;28mself\u001b[39m\u001b[38;5;241m.\u001b[39m_format_results(\n\u001b[1;32m    870\u001b[0m         all_candidate_params, n_splits, all_out, all_more_results\n\u001b[1;32m    871\u001b[0m     )\n\u001b[1;32m    873\u001b[0m     \u001b[38;5;28;01mreturn\u001b[39;00m results\n\u001b[0;32m--> 875\u001b[0m \u001b[38;5;28;43mself\u001b[39;49m\u001b[38;5;241;43m.\u001b[39;49m\u001b[43m_run_search\u001b[49m\u001b[43m(\u001b[49m\u001b[43mevaluate_candidates\u001b[49m\u001b[43m)\u001b[49m\n\u001b[1;32m    877\u001b[0m \u001b[38;5;66;03m# multimetric is determined here because in the case of a callable\u001b[39;00m\n\u001b[1;32m    878\u001b[0m \u001b[38;5;66;03m# self.scoring the return type is only known after calling\u001b[39;00m\n\u001b[1;32m    879\u001b[0m first_test_score \u001b[38;5;241m=\u001b[39m all_out[\u001b[38;5;241m0\u001b[39m][\u001b[38;5;124m\"\u001b[39m\u001b[38;5;124mtest_scores\u001b[39m\u001b[38;5;124m\"\u001b[39m]\n",
      "File \u001b[0;32m~/.pyenv/versions/3.10.4/envs/school/lib/python3.10/site-packages/sklearn/model_selection/_search.py:1375\u001b[0m, in \u001b[0;36mGridSearchCV._run_search\u001b[0;34m(self, evaluate_candidates)\u001b[0m\n\u001b[1;32m   1373\u001b[0m \u001b[38;5;28;01mdef\u001b[39;00m \u001b[38;5;21m_run_search\u001b[39m(\u001b[38;5;28mself\u001b[39m, evaluate_candidates):\n\u001b[1;32m   1374\u001b[0m     \u001b[38;5;124;03m\"\"\"Search all candidates in param_grid\"\"\"\u001b[39;00m\n\u001b[0;32m-> 1375\u001b[0m     \u001b[43mevaluate_candidates\u001b[49m\u001b[43m(\u001b[49m\u001b[43mParameterGrid\u001b[49m\u001b[43m(\u001b[49m\u001b[38;5;28;43mself\u001b[39;49m\u001b[38;5;241;43m.\u001b[39;49m\u001b[43mparam_grid\u001b[49m\u001b[43m)\u001b[49m\u001b[43m)\u001b[49m\n",
      "File \u001b[0;32m~/.pyenv/versions/3.10.4/envs/school/lib/python3.10/site-packages/sklearn/model_selection/_search.py:822\u001b[0m, in \u001b[0;36mBaseSearchCV.fit.<locals>.evaluate_candidates\u001b[0;34m(candidate_params, cv, more_results)\u001b[0m\n\u001b[1;32m    814\u001b[0m \u001b[38;5;28;01mif\u001b[39;00m \u001b[38;5;28mself\u001b[39m\u001b[38;5;241m.\u001b[39mverbose \u001b[38;5;241m>\u001b[39m \u001b[38;5;241m0\u001b[39m:\n\u001b[1;32m    815\u001b[0m     \u001b[38;5;28mprint\u001b[39m(\n\u001b[1;32m    816\u001b[0m         \u001b[38;5;124m\"\u001b[39m\u001b[38;5;124mFitting \u001b[39m\u001b[38;5;132;01m{0}\u001b[39;00m\u001b[38;5;124m folds for each of \u001b[39m\u001b[38;5;132;01m{1}\u001b[39;00m\u001b[38;5;124m candidates,\u001b[39m\u001b[38;5;124m\"\u001b[39m\n\u001b[1;32m    817\u001b[0m         \u001b[38;5;124m\"\u001b[39m\u001b[38;5;124m totalling \u001b[39m\u001b[38;5;132;01m{2}\u001b[39;00m\u001b[38;5;124m fits\u001b[39m\u001b[38;5;124m\"\u001b[39m\u001b[38;5;241m.\u001b[39mformat(\n\u001b[1;32m    818\u001b[0m             n_splits, n_candidates, n_candidates \u001b[38;5;241m*\u001b[39m n_splits\n\u001b[1;32m    819\u001b[0m         )\n\u001b[1;32m    820\u001b[0m     )\n\u001b[0;32m--> 822\u001b[0m out \u001b[38;5;241m=\u001b[39m \u001b[43mparallel\u001b[49m\u001b[43m(\u001b[49m\n\u001b[1;32m    823\u001b[0m \u001b[43m    \u001b[49m\u001b[43mdelayed\u001b[49m\u001b[43m(\u001b[49m\u001b[43m_fit_and_score\u001b[49m\u001b[43m)\u001b[49m\u001b[43m(\u001b[49m\n\u001b[1;32m    824\u001b[0m \u001b[43m        \u001b[49m\u001b[43mclone\u001b[49m\u001b[43m(\u001b[49m\u001b[43mbase_estimator\u001b[49m\u001b[43m)\u001b[49m\u001b[43m,\u001b[49m\n\u001b[1;32m    825\u001b[0m \u001b[43m        \u001b[49m\u001b[43mX\u001b[49m\u001b[43m,\u001b[49m\n\u001b[1;32m    826\u001b[0m \u001b[43m        \u001b[49m\u001b[43my\u001b[49m\u001b[43m,\u001b[49m\n\u001b[1;32m    827\u001b[0m \u001b[43m        \u001b[49m\u001b[43mtrain\u001b[49m\u001b[38;5;241;43m=\u001b[39;49m\u001b[43mtrain\u001b[49m\u001b[43m,\u001b[49m\n\u001b[1;32m    828\u001b[0m \u001b[43m        \u001b[49m\u001b[43mtest\u001b[49m\u001b[38;5;241;43m=\u001b[39;49m\u001b[43mtest\u001b[49m\u001b[43m,\u001b[49m\n\u001b[1;32m    829\u001b[0m \u001b[43m        \u001b[49m\u001b[43mparameters\u001b[49m\u001b[38;5;241;43m=\u001b[39;49m\u001b[43mparameters\u001b[49m\u001b[43m,\u001b[49m\n\u001b[1;32m    830\u001b[0m \u001b[43m        \u001b[49m\u001b[43msplit_progress\u001b[49m\u001b[38;5;241;43m=\u001b[39;49m\u001b[43m(\u001b[49m\u001b[43msplit_idx\u001b[49m\u001b[43m,\u001b[49m\u001b[43m \u001b[49m\u001b[43mn_splits\u001b[49m\u001b[43m)\u001b[49m\u001b[43m,\u001b[49m\n\u001b[1;32m    831\u001b[0m \u001b[43m        \u001b[49m\u001b[43mcandidate_progress\u001b[49m\u001b[38;5;241;43m=\u001b[39;49m\u001b[43m(\u001b[49m\u001b[43mcand_idx\u001b[49m\u001b[43m,\u001b[49m\u001b[43m \u001b[49m\u001b[43mn_candidates\u001b[49m\u001b[43m)\u001b[49m\u001b[43m,\u001b[49m\n\u001b[1;32m    832\u001b[0m \u001b[43m        \u001b[49m\u001b[38;5;241;43m*\u001b[39;49m\u001b[38;5;241;43m*\u001b[39;49m\u001b[43mfit_and_score_kwargs\u001b[49m\u001b[43m,\u001b[49m\n\u001b[1;32m    833\u001b[0m \u001b[43m    \u001b[49m\u001b[43m)\u001b[49m\n\u001b[1;32m    834\u001b[0m \u001b[43m    \u001b[49m\u001b[38;5;28;43;01mfor\u001b[39;49;00m\u001b[43m \u001b[49m\u001b[43m(\u001b[49m\u001b[43mcand_idx\u001b[49m\u001b[43m,\u001b[49m\u001b[43m \u001b[49m\u001b[43mparameters\u001b[49m\u001b[43m)\u001b[49m\u001b[43m,\u001b[49m\u001b[43m \u001b[49m\u001b[43m(\u001b[49m\u001b[43msplit_idx\u001b[49m\u001b[43m,\u001b[49m\u001b[43m \u001b[49m\u001b[43m(\u001b[49m\u001b[43mtrain\u001b[49m\u001b[43m,\u001b[49m\u001b[43m \u001b[49m\u001b[43mtest\u001b[49m\u001b[43m)\u001b[49m\u001b[43m)\u001b[49m\u001b[43m \u001b[49m\u001b[38;5;129;43;01min\u001b[39;49;00m\u001b[43m \u001b[49m\u001b[43mproduct\u001b[49m\u001b[43m(\u001b[49m\n\u001b[1;32m    835\u001b[0m \u001b[43m        \u001b[49m\u001b[38;5;28;43menumerate\u001b[39;49m\u001b[43m(\u001b[49m\u001b[43mcandidate_params\u001b[49m\u001b[43m)\u001b[49m\u001b[43m,\u001b[49m\u001b[43m \u001b[49m\u001b[38;5;28;43menumerate\u001b[39;49m\u001b[43m(\u001b[49m\u001b[43mcv\u001b[49m\u001b[38;5;241;43m.\u001b[39;49m\u001b[43msplit\u001b[49m\u001b[43m(\u001b[49m\u001b[43mX\u001b[49m\u001b[43m,\u001b[49m\u001b[43m \u001b[49m\u001b[43my\u001b[49m\u001b[43m,\u001b[49m\u001b[43m \u001b[49m\u001b[43mgroups\u001b[49m\u001b[43m)\u001b[49m\u001b[43m)\u001b[49m\n\u001b[1;32m    836\u001b[0m \u001b[43m    \u001b[49m\u001b[43m)\u001b[49m\n\u001b[1;32m    837\u001b[0m \u001b[43m\u001b[49m\u001b[43m)\u001b[49m\n\u001b[1;32m    839\u001b[0m \u001b[38;5;28;01mif\u001b[39;00m \u001b[38;5;28mlen\u001b[39m(out) \u001b[38;5;241m<\u001b[39m \u001b[38;5;241m1\u001b[39m:\n\u001b[1;32m    840\u001b[0m     \u001b[38;5;28;01mraise\u001b[39;00m \u001b[38;5;167;01mValueError\u001b[39;00m(\n\u001b[1;32m    841\u001b[0m         \u001b[38;5;124m\"\u001b[39m\u001b[38;5;124mNo fits were performed. \u001b[39m\u001b[38;5;124m\"\u001b[39m\n\u001b[1;32m    842\u001b[0m         \u001b[38;5;124m\"\u001b[39m\u001b[38;5;124mWas the CV iterator empty? \u001b[39m\u001b[38;5;124m\"\u001b[39m\n\u001b[1;32m    843\u001b[0m         \u001b[38;5;124m\"\u001b[39m\u001b[38;5;124mWere there no candidates?\u001b[39m\u001b[38;5;124m\"\u001b[39m\n\u001b[1;32m    844\u001b[0m     )\n",
      "File \u001b[0;32m~/.pyenv/versions/3.10.4/envs/school/lib/python3.10/site-packages/joblib/parallel.py:1056\u001b[0m, in \u001b[0;36mParallel.__call__\u001b[0;34m(self, iterable)\u001b[0m\n\u001b[1;32m   1053\u001b[0m     \u001b[38;5;28mself\u001b[39m\u001b[38;5;241m.\u001b[39m_iterating \u001b[38;5;241m=\u001b[39m \u001b[38;5;28;01mFalse\u001b[39;00m\n\u001b[1;32m   1055\u001b[0m \u001b[38;5;28;01mwith\u001b[39;00m \u001b[38;5;28mself\u001b[39m\u001b[38;5;241m.\u001b[39m_backend\u001b[38;5;241m.\u001b[39mretrieval_context():\n\u001b[0;32m-> 1056\u001b[0m     \u001b[38;5;28;43mself\u001b[39;49m\u001b[38;5;241;43m.\u001b[39;49m\u001b[43mretrieve\u001b[49m\u001b[43m(\u001b[49m\u001b[43m)\u001b[49m\n\u001b[1;32m   1057\u001b[0m \u001b[38;5;66;03m# Make sure that we get a last message telling us we are done\u001b[39;00m\n\u001b[1;32m   1058\u001b[0m elapsed_time \u001b[38;5;241m=\u001b[39m time\u001b[38;5;241m.\u001b[39mtime() \u001b[38;5;241m-\u001b[39m \u001b[38;5;28mself\u001b[39m\u001b[38;5;241m.\u001b[39m_start_time\n",
      "File \u001b[0;32m~/.pyenv/versions/3.10.4/envs/school/lib/python3.10/site-packages/joblib/parallel.py:935\u001b[0m, in \u001b[0;36mParallel.retrieve\u001b[0;34m(self)\u001b[0m\n\u001b[1;32m    933\u001b[0m \u001b[38;5;28;01mtry\u001b[39;00m:\n\u001b[1;32m    934\u001b[0m     \u001b[38;5;28;01mif\u001b[39;00m \u001b[38;5;28mgetattr\u001b[39m(\u001b[38;5;28mself\u001b[39m\u001b[38;5;241m.\u001b[39m_backend, \u001b[38;5;124m'\u001b[39m\u001b[38;5;124msupports_timeout\u001b[39m\u001b[38;5;124m'\u001b[39m, \u001b[38;5;28;01mFalse\u001b[39;00m):\n\u001b[0;32m--> 935\u001b[0m         \u001b[38;5;28mself\u001b[39m\u001b[38;5;241m.\u001b[39m_output\u001b[38;5;241m.\u001b[39mextend(\u001b[43mjob\u001b[49m\u001b[38;5;241;43m.\u001b[39;49m\u001b[43mget\u001b[49m\u001b[43m(\u001b[49m\u001b[43mtimeout\u001b[49m\u001b[38;5;241;43m=\u001b[39;49m\u001b[38;5;28;43mself\u001b[39;49m\u001b[38;5;241;43m.\u001b[39;49m\u001b[43mtimeout\u001b[49m\u001b[43m)\u001b[49m)\n\u001b[1;32m    936\u001b[0m     \u001b[38;5;28;01melse\u001b[39;00m:\n\u001b[1;32m    937\u001b[0m         \u001b[38;5;28mself\u001b[39m\u001b[38;5;241m.\u001b[39m_output\u001b[38;5;241m.\u001b[39mextend(job\u001b[38;5;241m.\u001b[39mget())\n",
      "File \u001b[0;32m~/.pyenv/versions/3.10.4/envs/school/lib/python3.10/site-packages/joblib/_parallel_backends.py:542\u001b[0m, in \u001b[0;36mLokyBackend.wrap_future_result\u001b[0;34m(future, timeout)\u001b[0m\n\u001b[1;32m    539\u001b[0m \u001b[38;5;124;03m\"\"\"Wrapper for Future.result to implement the same behaviour as\u001b[39;00m\n\u001b[1;32m    540\u001b[0m \u001b[38;5;124;03mAsyncResults.get from multiprocessing.\"\"\"\u001b[39;00m\n\u001b[1;32m    541\u001b[0m \u001b[38;5;28;01mtry\u001b[39;00m:\n\u001b[0;32m--> 542\u001b[0m     \u001b[38;5;28;01mreturn\u001b[39;00m \u001b[43mfuture\u001b[49m\u001b[38;5;241;43m.\u001b[39;49m\u001b[43mresult\u001b[49m\u001b[43m(\u001b[49m\u001b[43mtimeout\u001b[49m\u001b[38;5;241;43m=\u001b[39;49m\u001b[43mtimeout\u001b[49m\u001b[43m)\u001b[49m\n\u001b[1;32m    543\u001b[0m \u001b[38;5;28;01mexcept\u001b[39;00m CfTimeoutError \u001b[38;5;28;01mas\u001b[39;00m e:\n\u001b[1;32m    544\u001b[0m     \u001b[38;5;28;01mraise\u001b[39;00m \u001b[38;5;167;01mTimeoutError\u001b[39;00m \u001b[38;5;28;01mfrom\u001b[39;00m \u001b[38;5;21;01me\u001b[39;00m\n",
      "File \u001b[0;32m~/.pyenv/versions/3.10.4/lib/python3.10/concurrent/futures/_base.py:441\u001b[0m, in \u001b[0;36mFuture.result\u001b[0;34m(self, timeout)\u001b[0m\n\u001b[1;32m    438\u001b[0m \u001b[38;5;28;01melif\u001b[39;00m \u001b[38;5;28mself\u001b[39m\u001b[38;5;241m.\u001b[39m_state \u001b[38;5;241m==\u001b[39m FINISHED:\n\u001b[1;32m    439\u001b[0m     \u001b[38;5;28;01mreturn\u001b[39;00m \u001b[38;5;28mself\u001b[39m\u001b[38;5;241m.\u001b[39m__get_result()\n\u001b[0;32m--> 441\u001b[0m \u001b[38;5;28;43mself\u001b[39;49m\u001b[38;5;241;43m.\u001b[39;49m\u001b[43m_condition\u001b[49m\u001b[38;5;241;43m.\u001b[39;49m\u001b[43mwait\u001b[49m\u001b[43m(\u001b[49m\u001b[43mtimeout\u001b[49m\u001b[43m)\u001b[49m\n\u001b[1;32m    443\u001b[0m \u001b[38;5;28;01mif\u001b[39;00m \u001b[38;5;28mself\u001b[39m\u001b[38;5;241m.\u001b[39m_state \u001b[38;5;129;01min\u001b[39;00m [CANCELLED, CANCELLED_AND_NOTIFIED]:\n\u001b[1;32m    444\u001b[0m     \u001b[38;5;28;01mraise\u001b[39;00m CancelledError()\n",
      "File \u001b[0;32m~/.pyenv/versions/3.10.4/lib/python3.10/threading.py:320\u001b[0m, in \u001b[0;36mCondition.wait\u001b[0;34m(self, timeout)\u001b[0m\n\u001b[1;32m    318\u001b[0m \u001b[38;5;28;01mtry\u001b[39;00m:    \u001b[38;5;66;03m# restore state no matter what (e.g., KeyboardInterrupt)\u001b[39;00m\n\u001b[1;32m    319\u001b[0m     \u001b[38;5;28;01mif\u001b[39;00m timeout \u001b[38;5;129;01mis\u001b[39;00m \u001b[38;5;28;01mNone\u001b[39;00m:\n\u001b[0;32m--> 320\u001b[0m         \u001b[43mwaiter\u001b[49m\u001b[38;5;241;43m.\u001b[39;49m\u001b[43macquire\u001b[49m\u001b[43m(\u001b[49m\u001b[43m)\u001b[49m\n\u001b[1;32m    321\u001b[0m         gotit \u001b[38;5;241m=\u001b[39m \u001b[38;5;28;01mTrue\u001b[39;00m\n\u001b[1;32m    322\u001b[0m     \u001b[38;5;28;01melse\u001b[39;00m:\n",
      "\u001b[0;31mKeyboardInterrupt\u001b[0m: "
     ]
    }
   ],
   "source": [
    "#hyper parameter optimisation\n",
    "sgd=SGDClassifier()\n",
    "param_grid = {\n",
    "    \"loss\" : [\"hinge\", \"log_loss\", \"modified_huber\", \"perceptron\", \"squared_hinge\"],\n",
    "    \"alpha\" : [0.0001, 0.001, 0.01, 0.1],\n",
    "    \"penalty\" : [\"l2\", \"l1\", \"elasticnet\", \"none\"],\n",
    "    \"max_iter\" : [5000000]\n",
    "\n",
    "}\n",
    "              \n",
    "    \n",
    "\n",
    "clf_sgd = GridSearchCV(sgd, param_grid = param_grid, cv = 5, verbose = True, n_jobs = -1)\n",
    "best_clf_sgd = clf_sgd.fit(X_train,y_train)\n",
    "print('Best Score: ' + str(best_clf_sgd.best_score_))\n",
    "print('Best Parameters: ' + str(best_clf_sgd.best_params_))"
   ]
  },
  {
   "cell_type": "code",
   "execution_count": null,
   "id": "292c4ffe",
   "metadata": {},
   "outputs": [],
   "source": [
    "#Linear regression\n",
    "precep=Perceptron()\n",
    "precep.fit(X_train,y_train)\n",
    "cv = cv= cross_val_score(lr,X_test,y_test,cv=5)\n",
    "print(\"Testing accuracy: \"+str(np.round(cv.mean()*100,2))+'%')\n",
    "print(classification_report(y_test,precep.predict(X_test)))"
   ]
  },
  {
   "cell_type": "code",
   "execution_count": null,
   "id": "9106ba6f",
   "metadata": {},
   "outputs": [],
   "source": []
  },
  {
   "cell_type": "code",
   "execution_count": null,
   "id": "a7a19bc2",
   "metadata": {},
   "outputs": [],
   "source": [
    "dpredictions = best_dclf.predict(X_test)\n",
    "accuracy = accuracy_score(y_test , dpredictions)"
   ]
  },
  {
   "cell_type": "markdown",
   "id": "31afbf63",
   "metadata": {},
   "source": [
    "Convert Dataframe to Matrix"
   ]
  },
  {
   "cell_type": "code",
   "execution_count": 237,
   "id": "ae82255b",
   "metadata": {},
   "outputs": [
    {
     "name": "stdout",
     "output_type": "stream",
     "text": [
      "[[1. 3. 0. ... 0. 0. 1.]\n",
      " [1. 1. 1. ... 0. 0. 0.]\n",
      " [1. 3. 1. ... 0. 0. 1.]\n",
      " ...\n",
      " [1. 3. 1. ... 0. 0. 1.]\n",
      " [1. 1. 0. ... 0. 0. 0.]\n",
      " [1. 3. 0. ... 0. 0. 1.]]\n"
     ]
    }
   ],
   "source": [
    "x_train = x_train.to_numpy()\n",
    "y_train = y_train.to_numpy()\n",
    "\n",
    "x_train = np.insert(x_train, 0, 1, axis=1) #insert a first column of 1's as x0 \n",
    "print(x_train)"
   ]
  },
  {
   "cell_type": "markdown",
   "id": "f8afaccb",
   "metadata": {},
   "source": [
    "Initialise B: set of training parameters"
   ]
  },
  {
   "cell_type": "code",
   "execution_count": 238,
   "id": "85d1e552",
   "metadata": {},
   "outputs": [
    {
     "name": "stdout",
     "output_type": "stream",
     "text": [
      "[ 0.41104331 -0.57114616  1.31036214 -0.98092781  0.65443605  0.30465095\n",
      " -0.71840546 -0.26774778 -1.85898789 -1.50163389 -0.13732422 -0.67690997\n",
      " -0.39419961 -1.23267024  0.26282889  0.77477468  0.81960321  1.90575686]\n"
     ]
    }
   ],
   "source": [
    "B = np.random.normal(size = x_train.shape[1]) #x_train.shape[1] = number of features including x0\n",
    "print(B)"
   ]
  },
  {
   "cell_type": "markdown",
   "id": "202cf11a",
   "metadata": {},
   "source": [
    "Sigmoid function"
   ]
  },
  {
   "cell_type": "code",
   "execution_count": 239,
   "id": "6f29ae11",
   "metadata": {},
   "outputs": [],
   "source": [
    "def sigmoid(x):\n",
    "    if x > 700:      #avoid math overflow error\n",
    "        sig = 1.0\n",
    "\n",
    "    elif x <= -700: #avoid math overflow error\n",
    "        sig = 0\n",
    "\n",
    "    else:\n",
    "        sig = 1 / (1 + math.exp(-x))\n",
    "        \n",
    "    return sig"
   ]
  },
  {
   "cell_type": "markdown",
   "id": "c33094d8",
   "metadata": {},
   "source": [
    "get H_x from function below"
   ]
  },
  {
   "cell_type": "code",
   "execution_count": 240,
   "id": "7e02ba89",
   "metadata": {},
   "outputs": [],
   "source": [
    "def g_z(X, B):\n",
    "    Y = []\n",
    "    for i in range(X.shape[0]):\n",
    "        z = np.dot(X[i], B) #multiply B times X\n",
    "        Y.append(sigmoid(z))\n",
    "    \n",
    "    return np.asarray(Y) #convert list to array"
   ]
  },
  {
   "cell_type": "markdown",
   "id": "ca6e2a0b",
   "metadata": {},
   "source": [
    "Error Function"
   ]
  },
  {
   "cell_type": "code",
   "execution_count": 241,
   "id": "ce6208e1",
   "metadata": {},
   "outputs": [],
   "source": [
    "def J_B(true_y, pred_y, B, regPara):\n",
    "    epsilon = 1e-5 # to prevent 0 values in log\n",
    "\n",
    "    a  = (true_y * np.log(pred_y + epsilon)) + ((1-true_y) * np.log((1 - pred_y) +epsilon))\n",
    "    b = regPara * (np.sum(np.square(B[1:]))) \n",
    "    return (-1 * np.sum(a)) + b"
   ]
  },
  {
   "cell_type": "markdown",
   "id": "cc0950dc",
   "metadata": {},
   "source": [
    "Get Prediction Function"
   ]
  },
  {
   "cell_type": "code",
   "execution_count": 242,
   "id": "adde8e42",
   "metadata": {},
   "outputs": [],
   "source": [
    "def getPredictions(H_x):\n",
    "    Y = []\n",
    "    for i in range(H_x.size):\n",
    "        if(H_x[i] >= 0.5):\n",
    "            Y.append(1)\n",
    "        else:\n",
    "            Y.append(0)\n",
    "    return np.asarray(Y)"
   ]
  },
  {
   "cell_type": "markdown",
   "id": "85a346bf",
   "metadata": {},
   "source": [
    "Get Accuracy function"
   ]
  },
  {
   "cell_type": "code",
   "execution_count": 243,
   "id": "4b2310c9",
   "metadata": {},
   "outputs": [],
   "source": [
    "def getAccuracy(y_true, y_pred):\n",
    "    sum = 0\n",
    "    for i in range(y_true.size):\n",
    "        if y_true[i] == y_pred[i]:\n",
    "            sum = sum + 1\n",
    "            \n",
    "    return np.round(sum/y_true.size,4)"
   ]
  },
  {
   "cell_type": "markdown",
   "id": "8b8e3a4c",
   "metadata": {},
   "source": [
    "Gradient Descent with regularization Function"
   ]
  },
  {
   "cell_type": "code",
   "execution_count": 244,
   "id": "badfec2d",
   "metadata": {},
   "outputs": [],
   "source": [
    " #Y(actual values),X(features), B(training parameters), reg_para(regularisation parameter), l_rate(learning rate), epsilon(stop GD when norm < epsilon)\n",
    "def Grad_Desc(Y, X, B, reg_para, l_rate, epsilon):\n",
    "    norm = epsilon + 1\n",
    "    H_x = g_z(X, B)\n",
    "    B_old = B.copy()\n",
    "    while norm > epsilon:\n",
    "        for i in range(B.size):\n",
    "            if i == 0: # no regularization\n",
    "                B[i] = B[i] - (l_rate * np.sum(H_x - Y))\n",
    "            else:\n",
    "                B[i] = B[i] - (l_rate * (np.sum((H_x - Y) * X[:,i]) - (reg_para * B[i] / X.shape[0])))\n",
    "        norm = np.linalg.norm(np.subtract(B,B_old), 2)\n",
    "        H_x = g_z(X, B)\n",
    "        B_old = B.copy()\n",
    "        \n",
    "    return B"
   ]
  },
  {
   "cell_type": "code",
   "execution_count": 245,
   "id": "b86c2e14",
   "metadata": {},
   "outputs": [
    {
     "name": "stdout",
     "output_type": "stream",
     "text": [
      "Original Parameters\n",
      "[ 0.41104331 -0.57114616  1.31036214 -0.98092781  0.65443605  0.30465095\n",
      " -0.71840546 -0.26774778 -1.85898789 -1.50163389 -0.13732422 -0.67690997\n",
      " -0.39419961 -1.23267024  0.26282889  0.77477468  0.81960321  1.90575686]\n",
      "Original Error: 3945.505558131784\n",
      "Accuracy: 61.62%\n"
     ]
    }
   ],
   "source": [
    "print(\"Original Parameters\")\n",
    "print(B)\n",
    "\n",
    "h_x = g_z(x_train, B)\n",
    "print(\"Original Error: \" + str(J_B(y_train, h_x, B, regPara=0.5)) )\n",
    "\n",
    "print(\"Accuracy: \" + str(getAccuracy(y_train, getPredictions(h_x)) * 100) + \"%\")"
   ]
  },
  {
   "cell_type": "markdown",
   "id": "6d1a4413",
   "metadata": {},
   "source": [
    "Perform Gradient Descent"
   ]
  },
  {
   "cell_type": "code",
   "execution_count": 246,
   "id": "edc836d6",
   "metadata": {},
   "outputs": [
    {
     "name": "stdout",
     "output_type": "stream",
     "text": [
      "[[1. 3. 0. ... 0. 0. 1.]\n",
      " [1. 3. 1. ... 0. 0. 1.]\n",
      " [1. 2. 0. ... 0. 0. 1.]\n",
      " ...\n",
      " [1. 3. 0. ... 0. 0. 1.]\n",
      " [1. 3. 0. ... 0. 0. 1.]\n",
      " [1. 3. 0. ... 0. 0. 1.]]\n"
     ]
    }
   ],
   "source": [
    "#Testing Data\n",
    "y_test = test['Survived']\n",
    "x_test = test.drop(['Survived', 'PassengerId'], axis=1)\n",
    "\n",
    "y_test = y_test.to_numpy()\n",
    "x_test = x_test.to_numpy()\n",
    "\n",
    "\n",
    "x_test = np.insert(x_test, 0, 1, axis=1) #insert a first column of 1's as x0 \n",
    "print(x_test)"
   ]
  },
  {
   "cell_type": "code",
   "execution_count": 247,
   "id": "fa2d4097",
   "metadata": {},
   "outputs": [
    {
     "name": "stdout",
     "output_type": "stream",
     "text": [
      "(418, 18)\n",
      "(891, 18)\n",
      "[ 1.    3.    0.   22.    1.    0.    7.25  1.    0.    2.    0.    0.\n",
      "  0.    0.    0.    0.    0.    1.  ]\n",
      "[ 1.      3.      0.     34.5     0.      0.      7.8292  2.      0.\n",
      "  3.      0.      0.      0.      0.      0.      0.      0.      1.    ]\n"
     ]
    }
   ],
   "source": [
    "print(np.shape(x_test))\n",
    "print(np.shape(x_train))\n",
    "print(x_train[0])\n",
    "print(x_test[0])"
   ]
  },
  {
   "cell_type": "code",
   "execution_count": 248,
   "id": "bdc6b31a",
   "metadata": {},
   "outputs": [],
   "source": [
    "import time\n",
    "\n",
    "def Logistic_Regression(new_reg_para,new_l_rate,new_epsilon):\n",
    "    start_time = time.time()\n",
    "    B_new = Grad_Desc(y_train, x_train, B.copy(), reg_para=new_reg_para, l_rate=new_l_rate, epsilon=new_epsilon)\n",
    "    #print(\"New Parameters\")\n",
    "    #print(B_new)\n",
    "\n",
    "    h_x_new = g_z(x_train, B_new)\n",
    "    print(\"Error after Gradient Descent: \" + str(J_B(y_train, h_x_new, B_new, regPara=new_reg_para)) )\n",
    "    end_time = time.time()\n",
    "    \n",
    "    y_pred = getPredictions(h_x_new)\n",
    "    training_accuracy = getAccuracy(y_train, y_pred)\n",
    "    #print(f\"Learning Rate: {new_l_rate}\")\n",
    "    print(f\"Time taken to train model: {end_time-start_time}s\")\n",
    "    print(\"Training Accuracy: \" + str(training_accuracy*100) + \" %\")\n",
    "    \n",
    "    #Testing Data shape not the same as Training Data\n",
    "    #Testing Accuracy\n",
    "    h_x_testing = g_z(x_test,B_new)\n",
    "    y_pred_test = getPredictions(h_x_testing)\n",
    "    testing_accuracy = getAccuracy(y_test, y_pred_test)\n",
    "    print(\"Testing Accuracy: \" + str(testing_accuracy*100) + \" %\\n\\n\")\n",
    "    #testing_accuracy = training_accuracy # Delete this when testing data is fixed\n",
    "    \n",
    "    return training_accuracy, testing_accuracy"
   ]
  },
  {
   "cell_type": "code",
   "execution_count": 249,
   "id": "ab6fce6d",
   "metadata": {},
   "outputs": [
    {
     "name": "stdout",
     "output_type": "stream",
     "text": [
      "Error after Gradient Descent: 392.80087191679877\n",
      "Time taken to train model: 111.740882396698s\n",
      "Training Accuracy: 81.58999999999999 %\n",
      "Testing Accuracy: 63.63999999999999 %\n",
      "\n",
      "\n"
     ]
    }
   ],
   "source": [
    "#Logistic Regression with Regression\n",
    "training_accuracy, testing_accuracy = Logistic_Regression(0.5,0.000005,0.00005)"
   ]
  },
  {
   "cell_type": "code",
   "execution_count": 250,
   "id": "36cdca2b",
   "metadata": {},
   "outputs": [
    {
     "name": "stdout",
     "output_type": "stream",
     "text": [
      "Learning Rate: 0.0\n",
      "Error after Gradient Descent: 3945.505558131784\n",
      "Time taken to train model: 0.04672360420227051s\n",
      "Training Accuracy: 61.62 %\n",
      "Testing Accuracy: 100.0 %\n",
      "\n",
      "\n",
      "Learning Rate: 5e-07\n",
      "Error after Gradient Descent: 474.2579083162884\n",
      "Time taken to train model: 87.37949228286743s\n",
      "Training Accuracy: 76.09 %\n",
      "Testing Accuracy: 60.050000000000004 %\n",
      "\n",
      "\n",
      "Learning Rate: 1e-06\n",
      "Error after Gradient Descent: 436.62653393295636\n",
      "Time taken to train model: 80.66643524169922s\n",
      "Training Accuracy: 77.55 %\n",
      "Testing Accuracy: 60.77 %\n",
      "\n",
      "\n",
      "Learning Rate: 1.5e-06\n",
      "Error after Gradient Descent: 421.92014788691455\n",
      "Time taken to train model: 85.09532046318054s\n",
      "Training Accuracy: 78.56 %\n",
      "Testing Accuracy: 61.72 %\n",
      "\n",
      "\n",
      "Learning Rate: 2e-06\n",
      "Error after Gradient Descent: 413.4978307982893\n",
      "Time taken to train model: 91.65195035934448s\n",
      "Training Accuracy: 79.24 %\n",
      "Testing Accuracy: 63.160000000000004 %\n",
      "\n",
      "\n",
      "Learning Rate: 2.4999999999999998e-06\n",
      "Error after Gradient Descent: 406.84141853038716\n",
      "Time taken to train model: 109.55581259727478s\n",
      "Training Accuracy: 79.57 %\n",
      "Testing Accuracy: 63.63999999999999 %\n",
      "\n",
      "\n",
      "Learning Rate: 3e-06\n",
      "Error after Gradient Descent: 401.69986411643293\n",
      "Time taken to train model: 101.6097674369812s\n",
      "Training Accuracy: 79.91 %\n",
      "Testing Accuracy: 63.160000000000004 %\n",
      "\n",
      "\n",
      "Learning Rate: 3.5e-06\n",
      "Error after Gradient Descent: 398.18564784608094\n",
      "Time taken to train model: 106.87849617004395s\n",
      "Training Accuracy: 81.14 %\n",
      "Testing Accuracy: 63.63999999999999 %\n",
      "\n",
      "\n",
      "Learning Rate: 4e-06\n",
      "Error after Gradient Descent: 395.7809551305445\n",
      "Time taken to train model: 111.16222047805786s\n",
      "Training Accuracy: 81.47999999999999 %\n",
      "Testing Accuracy: 63.63999999999999 %\n",
      "\n",
      "\n",
      "Learning Rate: 4.5e-06\n",
      "Error after Gradient Descent: 394.0680824169547\n",
      "Time taken to train model: 113.77877807617188s\n",
      "Training Accuracy: 81.47999999999999 %\n",
      "Testing Accuracy: 63.88 %\n",
      "\n",
      "\n"
     ]
    }
   ],
   "source": [
    "#Investigate Effect of Different Learning Rates\n",
    "\n",
    "#Pick 10 learning rates\n",
    "learning_rates = [0.0000005 * i for i in range(10)]\n",
    "\n",
    "#Lists to store training and testing accuracies for each learning rate\n",
    "training_accuracy_list = []\n",
    "testing_accuracy_list = [] \n",
    "\n",
    "#For each learning rate\n",
    "for i in range(0,len(learning_rates)):\n",
    "    print(f\"Learning Rate: {learning_rates[i]}\")\n",
    "    training_accuracy, testing_accuracy = Logistic_Regression(0.5, learning_rates[i],0.00005)\n",
    "    training_accuracy_list.append(training_accuracy)\n",
    "    testing_accuracy_list.append(testing_accuracy)\n"
   ]
  },
  {
   "cell_type": "code",
   "execution_count": 251,
   "id": "ed6f4e6c",
   "metadata": {},
   "outputs": [
    {
     "data": {
      "image/png": "[encoded data removed]",
      "text/plain": [
       "<Figure size 432x288 with 1 Axes>"
      ]
     },
     "metadata": {
      "needs_background": "light"
     },
     "output_type": "display_data"
    }
   ],
   "source": [
    "#Plot Training Accuracy\n",
    "plt.plot(learning_rates, training_accuracy_list, label=\"Training Accuracy\")\n",
    "\n",
    "#Plot Testing Accuracy\n",
    "plt.plot(learning_rates, testing_accuracy_list, label=\"Testing Accuracy\")\n",
    "    \n",
    "plt.xlabel('Learning Rates')\n",
    "plt.ylabel('Accuracy')\n",
    "\n",
    "plt.legend()\n",
    "\n",
    "plt.title('Effect of Different Learning Rates on Accuracy')\n",
    "plt.show()"
   ]
  },
  {
   "cell_type": "code",
   "execution_count": 252,
   "id": "47b40065",
   "metadata": {},
   "outputs": [
    {
     "name": "stdout",
     "output_type": "stream",
     "text": [
      "[0.0, 0.1, 0.2, 0.30000000000000004, 0.4]\n",
      "Regularisation Parameter: 0.0\n",
      "Error after Gradient Descent: 388.31452738586125\n",
      "Time taken to train model: 119.98989200592041s\n",
      "Training Accuracy: 81.58999999999999 %\n",
      "Testing Accuracy: 63.63999999999999 %\n",
      "\n",
      "\n",
      "Regularisation Parameter: 0.1\n",
      "Error after Gradient Descent: 389.21174505476966\n",
      "Time taken to train model: 111.77110028266907s\n",
      "Training Accuracy: 81.58999999999999 %\n",
      "Testing Accuracy: 63.63999999999999 %\n",
      "\n",
      "\n",
      "Regularisation Parameter: 0.2\n",
      "Error after Gradient Descent: 390.1089883414941\n",
      "Time taken to train model: 109.22635316848755s\n",
      "Training Accuracy: 81.58999999999999 %\n",
      "Testing Accuracy: 63.63999999999999 %\n",
      "\n",
      "\n",
      "Regularisation Parameter: 0.30000000000000004\n",
      "Error after Gradient Descent: 391.00625724685807\n",
      "Time taken to train model: 109.17794442176819s\n",
      "Training Accuracy: 81.58999999999999 %\n",
      "Testing Accuracy: 63.63999999999999 %\n",
      "\n",
      "\n",
      "Regularisation Parameter: 0.4\n",
      "Error after Gradient Descent: 391.90355177168504\n",
      "Time taken to train model: 114.95632028579712s\n",
      "Training Accuracy: 81.58999999999999 %\n",
      "Testing Accuracy: 63.63999999999999 %\n",
      "\n",
      "\n"
     ]
    }
   ],
   "source": [
    "#Investigate Effect of Different Regularisation Parameters\n",
    "\n",
    "#Pick 5 regularisation parameters\n",
    "reg_params = [0.1 * i for i in range(5)]\n",
    "print(reg_params)\n",
    "\n",
    "#Lists to store training and testing accuracies for each learning rate\n",
    "training_accuracy_list = []\n",
    "testing_accuracy_list = [] \n",
    "\n",
    "#For each Regularisation Parameter\n",
    "for i in range(0,len(reg_params)):\n",
    "    print(f\"Regularisation Parameter: {reg_params[i]}\")\n",
    "    training_accuracy, testing_accuracy = Logistic_Regression(reg_params[i], 0.000005,0.00005)\n",
    "    training_accuracy_list.append(training_accuracy)\n",
    "    testing_accuracy_list.append(testing_accuracy)"
   ]
  },
  {
   "cell_type": "code",
   "execution_count": 54,
   "id": "a4903624",
   "metadata": {},
   "outputs": [
    {
     "data": {
      "image/png": "[encoded data removed]",
      "text/plain": [
       "<Figure size 432x288 with 1 Axes>"
      ]
     },
     "metadata": {
      "needs_background": "light"
     },
     "output_type": "display_data"
    }
   ],
   "source": [
    "#Plot Training Accuracy\n",
    "plt.plot(reg_params, training_accuracy_list, label=\"Training Accuracy\")\n",
    "\n",
    "#Plot Testing Accuracy\n",
    "plt.plot(reg_params, testing_accuracy_list, label=\"Testing Accuracy\")\n",
    "    \n",
    "plt.xlabel('Regularisation Parameters')\n",
    "plt.ylabel('Accuracy')\n",
    "\n",
    "plt.legend()\n",
    "\n",
    "plt.title('Effect of Different Regularisation Parameters on Accuracy')\n",
    "plt.show()"
   ]
  },
  {
   "cell_type": "code",
   "execution_count": 55,
   "id": "973a5f68",
   "metadata": {},
   "outputs": [
    {
     "name": "stdout",
     "output_type": "stream",
     "text": [
      "[0.0, 1e-05, 2e-05, 3.0000000000000004e-05, 4e-05]\n",
      "Epsilon Parameter: 0.0\n",
      "Error after Gradient Descent: 392.81951649390453\n",
      "Time taken to train model: 65.88241219520569s\n",
      "Training Accuracy: 80.58 %\n",
      "Epsilon Parameter: 1e-05\n",
      "Error after Gradient Descent: 392.81961400626324\n",
      "Time taken to train model: 64.39119791984558s\n",
      "Training Accuracy: 80.58 %\n",
      "Epsilon Parameter: 2e-05\n",
      "Error after Gradient Descent: 392.8197115186223\n",
      "Time taken to train model: 65.23132300376892s\n",
      "Training Accuracy: 80.58 %\n",
      "Epsilon Parameter: 3.0000000000000004e-05\n"
     ]
    },
    {
     "ename": "KeyboardInterrupt",
     "evalue": "",
     "output_type": "error",
     "traceback": [
      "\u001b[0;31m---------------------------------------------------------------------------\u001b[0m",
      "\u001b[0;31mKeyboardInterrupt\u001b[0m                         Traceback (most recent call last)",
      "Input \u001b[0;32mIn [55]\u001b[0m, in \u001b[0;36m<cell line: 12>\u001b[0;34m()\u001b[0m\n\u001b[1;32m     12\u001b[0m \u001b[38;5;28;01mfor\u001b[39;00m i \u001b[38;5;129;01min\u001b[39;00m \u001b[38;5;28mrange\u001b[39m(\u001b[38;5;241m0\u001b[39m,\u001b[38;5;28mlen\u001b[39m(epsilon_params)):\n\u001b[1;32m     13\u001b[0m     \u001b[38;5;28mprint\u001b[39m(\u001b[38;5;124mf\u001b[39m\u001b[38;5;124m\"\u001b[39m\u001b[38;5;124mEpsilon Parameter: \u001b[39m\u001b[38;5;132;01m{\u001b[39;00mepsilon_params[i]\u001b[38;5;132;01m}\u001b[39;00m\u001b[38;5;124m\"\u001b[39m)\n\u001b[0;32m---> 14\u001b[0m     training_accuracy, testing_accuracy \u001b[38;5;241m=\u001b[39m \u001b[43mLogistic_Regression\u001b[49m\u001b[43m(\u001b[49m\u001b[43mepsilon_params\u001b[49m\u001b[43m[\u001b[49m\u001b[43mi\u001b[49m\u001b[43m]\u001b[49m\u001b[43m,\u001b[49m\u001b[43m \u001b[49m\u001b[38;5;241;43m0.000005\u001b[39;49m\u001b[43m,\u001b[49m\u001b[38;5;241;43m0.00005\u001b[39;49m\u001b[43m)\u001b[49m\n\u001b[1;32m     15\u001b[0m     training_accuracy_list\u001b[38;5;241m.\u001b[39mappend(training_accuracy)\n\u001b[1;32m     16\u001b[0m     testing_accuracy_list\u001b[38;5;241m.\u001b[39mappend(testing_accuracy)\n",
      "Input \u001b[0;32mIn [49]\u001b[0m, in \u001b[0;36mLogistic_Regression\u001b[0;34m(new_reg_para, new_l_rate, new_epsilon)\u001b[0m\n\u001b[1;32m      3\u001b[0m \u001b[38;5;28;01mdef\u001b[39;00m \u001b[38;5;21mLogistic_Regression\u001b[39m(new_reg_para,new_l_rate,new_epsilon):\n\u001b[1;32m      4\u001b[0m     start_time \u001b[38;5;241m=\u001b[39m time\u001b[38;5;241m.\u001b[39mtime()\n\u001b[0;32m----> 5\u001b[0m     B_new \u001b[38;5;241m=\u001b[39m \u001b[43mGrad_Desc\u001b[49m\u001b[43m(\u001b[49m\u001b[43my_train\u001b[49m\u001b[43m,\u001b[49m\u001b[43m \u001b[49m\u001b[43mx_train\u001b[49m\u001b[43m,\u001b[49m\u001b[43m \u001b[49m\u001b[43mB\u001b[49m\u001b[38;5;241;43m.\u001b[39;49m\u001b[43mcopy\u001b[49m\u001b[43m(\u001b[49m\u001b[43m)\u001b[49m\u001b[43m,\u001b[49m\u001b[43m \u001b[49m\u001b[43mreg_para\u001b[49m\u001b[38;5;241;43m=\u001b[39;49m\u001b[43mnew_reg_para\u001b[49m\u001b[43m,\u001b[49m\u001b[43m \u001b[49m\u001b[43ml_rate\u001b[49m\u001b[38;5;241;43m=\u001b[39;49m\u001b[43mnew_l_rate\u001b[49m\u001b[43m,\u001b[49m\u001b[43m \u001b[49m\u001b[43mepsilon\u001b[49m\u001b[38;5;241;43m=\u001b[39;49m\u001b[43mnew_epsilon\u001b[49m\u001b[43m)\u001b[49m\n\u001b[1;32m      6\u001b[0m     \u001b[38;5;66;03m#print(\"New Parameters\")\u001b[39;00m\n\u001b[1;32m      7\u001b[0m     \u001b[38;5;66;03m#print(B_new)\u001b[39;00m\n\u001b[1;32m      9\u001b[0m     h_x_new \u001b[38;5;241m=\u001b[39m g_z(x_train, B_new)\n",
      "Input \u001b[0;32mIn [45]\u001b[0m, in \u001b[0;36mGrad_Desc\u001b[0;34m(Y, X, B, reg_para, l_rate, epsilon)\u001b[0m\n\u001b[1;32m     11\u001b[0m             B[i] \u001b[38;5;241m=\u001b[39m B[i] \u001b[38;5;241m-\u001b[39m (l_rate \u001b[38;5;241m*\u001b[39m (np\u001b[38;5;241m.\u001b[39msum((H_x \u001b[38;5;241m-\u001b[39m Y) \u001b[38;5;241m*\u001b[39m X[:,i]) \u001b[38;5;241m-\u001b[39m (reg_para \u001b[38;5;241m*\u001b[39m B[i] \u001b[38;5;241m/\u001b[39m X\u001b[38;5;241m.\u001b[39mshape[\u001b[38;5;241m0\u001b[39m])))\n\u001b[1;32m     12\u001b[0m     norm \u001b[38;5;241m=\u001b[39m np\u001b[38;5;241m.\u001b[39mlinalg\u001b[38;5;241m.\u001b[39mnorm(np\u001b[38;5;241m.\u001b[39msubtract(B,B_old), \u001b[38;5;241m2\u001b[39m)\n\u001b[0;32m---> 13\u001b[0m     H_x \u001b[38;5;241m=\u001b[39m \u001b[43mg_z\u001b[49m\u001b[43m(\u001b[49m\u001b[43mX\u001b[49m\u001b[43m,\u001b[49m\u001b[43m \u001b[49m\u001b[43mB\u001b[49m\u001b[43m)\u001b[49m\n\u001b[1;32m     14\u001b[0m     B_old \u001b[38;5;241m=\u001b[39m B\u001b[38;5;241m.\u001b[39mcopy()\n\u001b[1;32m     16\u001b[0m \u001b[38;5;28;01mreturn\u001b[39;00m B\n",
      "Input \u001b[0;32mIn [41]\u001b[0m, in \u001b[0;36mg_z\u001b[0;34m(X, B)\u001b[0m\n\u001b[1;32m      2\u001b[0m Y \u001b[38;5;241m=\u001b[39m []\n\u001b[1;32m      3\u001b[0m \u001b[38;5;28;01mfor\u001b[39;00m i \u001b[38;5;129;01min\u001b[39;00m \u001b[38;5;28mrange\u001b[39m(X\u001b[38;5;241m.\u001b[39mshape[\u001b[38;5;241m0\u001b[39m]):\n\u001b[0;32m----> 4\u001b[0m     z \u001b[38;5;241m=\u001b[39m \u001b[43mnp\u001b[49m\u001b[38;5;241;43m.\u001b[39;49m\u001b[43mdot\u001b[49m\u001b[43m(\u001b[49m\u001b[43mX\u001b[49m\u001b[43m[\u001b[49m\u001b[43mi\u001b[49m\u001b[43m]\u001b[49m\u001b[43m,\u001b[49m\u001b[43m \u001b[49m\u001b[43mB\u001b[49m\u001b[43m)\u001b[49m \u001b[38;5;66;03m#multiply B times X\u001b[39;00m\n\u001b[1;32m      5\u001b[0m     Y\u001b[38;5;241m.\u001b[39mappend(sigmoid(z))\n\u001b[1;32m      7\u001b[0m \u001b[38;5;28;01mreturn\u001b[39;00m np\u001b[38;5;241m.\u001b[39masarray(Y)\n",
      "File \u001b[0;32m<__array_function__ internals>:180\u001b[0m, in \u001b[0;36mdot\u001b[0;34m(*args, **kwargs)\u001b[0m\n",
      "\u001b[0;31mKeyboardInterrupt\u001b[0m: "
     ]
    }
   ],
   "source": [
    "#Investigate Effect of Different Epsilon Parameters\n",
    "\n",
    "#Pick 5 epsilon parameters\n",
    "epsilon_params = [0.00001 * i for i in range(5)]\n",
    "print(epsilon_params)\n",
    "\n",
    "#Lists to store training and testing accuracies for each learning rate\n",
    "training_accuracy_list = []\n",
    "testing_accuracy_list = [] \n",
    "\n",
    "#For each Regularisation Parameter\n",
    "for i in range(0,len(epsilon_params)):\n",
    "    print(f\"Epsilon Parameter: {epsilon_params[i]}\")\n",
    "    training_accuracy, testing_accuracy = Logistic_Regression(epsilon_params[i], 0.000005,0.00005)\n",
    "    training_accuracy_list.append(training_accuracy)\n",
    "    testing_accuracy_list.append(testing_accuracy)"
   ]
  },
  {
   "cell_type": "code",
   "execution_count": 516,
   "id": "fe56c8c7",
   "metadata": {},
   "outputs": [
    {
     "data": {
      "image/png": "[encoded data removed]",
      "text/plain": [
       "<Figure size 432x288 with 1 Axes>"
      ]
     },
     "metadata": {
      "needs_background": "light"
     },
     "output_type": "display_data"
    }
   ],
   "source": [
    "#Plot Training Accuracy\n",
    "plt.plot(epsilon_params, training_accuracy_list, label=\"Training Accuracy\")\n",
    "\n",
    "#Plot Testing Accuracy\n",
    "plt.plot(epsilon_params, testing_accuracy_list, label=\"Testing Accuracy\")\n",
    "    \n",
    "plt.xlabel('Epsilon Parameters')\n",
    "plt.ylabel('Accuracy')\n",
    "\n",
    "plt.legend()\n",
    "\n",
    "plt.title('Effect of Different Epsilon Parameters on Accuracy')\n",
    "plt.show()"
   ]
  },
  {
   "cell_type": "code",
   "execution_count": 517,
   "id": "ac52d25d",
   "metadata": {},
   "outputs": [],
   "source": [
    "#Logistic_Regression(0.5,0.0000005,0.00005)"
   ]
  }
 ],
 "metadata": {
  "interpreter": {
   "hash": "8cc8c771acdc9ec3b6292c565489e70e793dc6f9263ab8c2b10339369a9b22c2"
  },
  "kernelspec": {
   "display_name": "Python 3 (ipykernel)",
   "language": "python",
   "name": "python3"
  },
  "language_info": {
   "codemirror_mode": {
    "name": "ipython",
    "version": 3
   },
   "file_extension": ".py",
   "mimetype": "text/x-python",
   "name": "python",
   "nbconvert_exporter": "python",
   "pygments_lexer": "ipython3",
   "version": "3.10.4"
  }
 },
 "nbformat": 4,
 "nbformat_minor": 5
}
